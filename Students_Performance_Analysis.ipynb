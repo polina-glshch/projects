{
 "cells": [
  {
   "cell_type": "code",
   "execution_count": 80,
   "id": "9b913db7",
   "metadata": {},
   "outputs": [],
   "source": [
    "#импорт необходимых библиотек\n",
    "import pandas as pd\n",
    "import matplotlib.pyplot as plt\n",
    "import seaborn as sns\n",
    "import numpy as np\n",
    "\n",
    "%matplotlib inline"
   ]
  },
  {
   "cell_type": "code",
   "execution_count": 3,
   "id": "9d351a73",
   "metadata": {},
   "outputs": [],
   "source": [
    "#загрузка csv-файла (датасет 'Students Performance in Exams' с kaggle.com)\n",
    "students_df = pd.read_csv('StudentsPerformance.csv')"
   ]
  },
  {
   "cell_type": "code",
   "execution_count": 4,
   "id": "eb78c774",
   "metadata": {},
   "outputs": [
    {
     "data": {
      "text/html": [
       "<div>\n",
       "<style scoped>\n",
       "    .dataframe tbody tr th:only-of-type {\n",
       "        vertical-align: middle;\n",
       "    }\n",
       "\n",
       "    .dataframe tbody tr th {\n",
       "        vertical-align: top;\n",
       "    }\n",
       "\n",
       "    .dataframe thead th {\n",
       "        text-align: right;\n",
       "    }\n",
       "</style>\n",
       "<table border=\"1\" class=\"dataframe\">\n",
       "  <thead>\n",
       "    <tr style=\"text-align: right;\">\n",
       "      <th></th>\n",
       "      <th>gender</th>\n",
       "      <th>race/ethnicity</th>\n",
       "      <th>parental level of education</th>\n",
       "      <th>lunch</th>\n",
       "      <th>test preparation course</th>\n",
       "      <th>math score</th>\n",
       "      <th>reading score</th>\n",
       "      <th>writing score</th>\n",
       "    </tr>\n",
       "  </thead>\n",
       "  <tbody>\n",
       "    <tr>\n",
       "      <th>0</th>\n",
       "      <td>female</td>\n",
       "      <td>group B</td>\n",
       "      <td>bachelor's degree</td>\n",
       "      <td>standard</td>\n",
       "      <td>none</td>\n",
       "      <td>72</td>\n",
       "      <td>72</td>\n",
       "      <td>74</td>\n",
       "    </tr>\n",
       "    <tr>\n",
       "      <th>1</th>\n",
       "      <td>female</td>\n",
       "      <td>group C</td>\n",
       "      <td>some college</td>\n",
       "      <td>standard</td>\n",
       "      <td>completed</td>\n",
       "      <td>69</td>\n",
       "      <td>90</td>\n",
       "      <td>88</td>\n",
       "    </tr>\n",
       "    <tr>\n",
       "      <th>2</th>\n",
       "      <td>female</td>\n",
       "      <td>group B</td>\n",
       "      <td>master's degree</td>\n",
       "      <td>standard</td>\n",
       "      <td>none</td>\n",
       "      <td>90</td>\n",
       "      <td>95</td>\n",
       "      <td>93</td>\n",
       "    </tr>\n",
       "    <tr>\n",
       "      <th>3</th>\n",
       "      <td>male</td>\n",
       "      <td>group A</td>\n",
       "      <td>associate's degree</td>\n",
       "      <td>free/reduced</td>\n",
       "      <td>none</td>\n",
       "      <td>47</td>\n",
       "      <td>57</td>\n",
       "      <td>44</td>\n",
       "    </tr>\n",
       "    <tr>\n",
       "      <th>4</th>\n",
       "      <td>male</td>\n",
       "      <td>group C</td>\n",
       "      <td>some college</td>\n",
       "      <td>standard</td>\n",
       "      <td>none</td>\n",
       "      <td>76</td>\n",
       "      <td>78</td>\n",
       "      <td>75</td>\n",
       "    </tr>\n",
       "  </tbody>\n",
       "</table>\n",
       "</div>"
      ],
      "text/plain": [
       "   gender race/ethnicity parental level of education         lunch  \\\n",
       "0  female        group B           bachelor's degree      standard   \n",
       "1  female        group C                some college      standard   \n",
       "2  female        group B             master's degree      standard   \n",
       "3    male        group A          associate's degree  free/reduced   \n",
       "4    male        group C                some college      standard   \n",
       "\n",
       "  test preparation course  math score  reading score  writing score  \n",
       "0                    none          72             72             74  \n",
       "1               completed          69             90             88  \n",
       "2                    none          90             95             93  \n",
       "3                    none          47             57             44  \n",
       "4                    none          76             78             75  "
      ]
     },
     "execution_count": 4,
     "metadata": {},
     "output_type": "execute_result"
    }
   ],
   "source": [
    "#просмотр первых 5 строк DataFrame\n",
    "students_df.head(5)"
   ]
  },
  {
   "cell_type": "markdown",
   "id": "66747df6",
   "metadata": {},
   "source": [
    "## Задания:"
   ]
  },
  {
   "cell_type": "markdown",
   "id": "b7d44996",
   "metadata": {},
   "source": [
    "    1. Предобработать данные\n",
    "     - оценить валидность и корректность данных\n",
    "     - оценить данные на наличие пропущенных значений, дубликатов и выбросов, обработать их\n",
    "     - посчитать описательные статистики \n",
    "    2. Отобрать из исходных данных только тех учеников, которые успешно сдали все экзамены\n",
    "    Значение общей суммы баллов и необходимого балла по каждому предмету определяется исходя из статистик данных\n",
    "    3. Коррелируют ли баллы по разным предметам между собой?\n",
    "    4. Влияет ли пол, этническая принадлежность и уровень образования родителей на баллы, полученные учеником на экзаменах?\n",
    "    5. Эффективны ли подготовительные курсы?\n"
   ]
  },
  {
   "cell_type": "markdown",
   "id": "c19afbb5",
   "metadata": {},
   "source": [
    "# Предобработка данных "
   ]
  },
  {
   "cell_type": "code",
   "execution_count": 5,
   "id": "04a781a5",
   "metadata": {},
   "outputs": [
    {
     "data": {
      "text/html": [
       "<div>\n",
       "<style scoped>\n",
       "    .dataframe tbody tr th:only-of-type {\n",
       "        vertical-align: middle;\n",
       "    }\n",
       "\n",
       "    .dataframe tbody tr th {\n",
       "        vertical-align: top;\n",
       "    }\n",
       "\n",
       "    .dataframe thead th {\n",
       "        text-align: right;\n",
       "    }\n",
       "</style>\n",
       "<table border=\"1\" class=\"dataframe\">\n",
       "  <thead>\n",
       "    <tr style=\"text-align: right;\">\n",
       "      <th></th>\n",
       "      <th>gender</th>\n",
       "      <th>race/ethnicity</th>\n",
       "      <th>parental level of education</th>\n",
       "      <th>lunch</th>\n",
       "      <th>test preparation course</th>\n",
       "      <th>math score</th>\n",
       "      <th>reading score</th>\n",
       "      <th>writing score</th>\n",
       "    </tr>\n",
       "  </thead>\n",
       "  <tbody>\n",
       "    <tr>\n",
       "      <th>0</th>\n",
       "      <td>female</td>\n",
       "      <td>group B</td>\n",
       "      <td>bachelor's degree</td>\n",
       "      <td>standard</td>\n",
       "      <td>none</td>\n",
       "      <td>72</td>\n",
       "      <td>72</td>\n",
       "      <td>74</td>\n",
       "    </tr>\n",
       "    <tr>\n",
       "      <th>1</th>\n",
       "      <td>female</td>\n",
       "      <td>group C</td>\n",
       "      <td>some college</td>\n",
       "      <td>standard</td>\n",
       "      <td>completed</td>\n",
       "      <td>69</td>\n",
       "      <td>90</td>\n",
       "      <td>88</td>\n",
       "    </tr>\n",
       "    <tr>\n",
       "      <th>2</th>\n",
       "      <td>female</td>\n",
       "      <td>group B</td>\n",
       "      <td>master's degree</td>\n",
       "      <td>standard</td>\n",
       "      <td>none</td>\n",
       "      <td>90</td>\n",
       "      <td>95</td>\n",
       "      <td>93</td>\n",
       "    </tr>\n",
       "    <tr>\n",
       "      <th>3</th>\n",
       "      <td>male</td>\n",
       "      <td>group A</td>\n",
       "      <td>associate's degree</td>\n",
       "      <td>free/reduced</td>\n",
       "      <td>none</td>\n",
       "      <td>47</td>\n",
       "      <td>57</td>\n",
       "      <td>44</td>\n",
       "    </tr>\n",
       "    <tr>\n",
       "      <th>4</th>\n",
       "      <td>male</td>\n",
       "      <td>group C</td>\n",
       "      <td>some college</td>\n",
       "      <td>standard</td>\n",
       "      <td>none</td>\n",
       "      <td>76</td>\n",
       "      <td>78</td>\n",
       "      <td>75</td>\n",
       "    </tr>\n",
       "    <tr>\n",
       "      <th>...</th>\n",
       "      <td>...</td>\n",
       "      <td>...</td>\n",
       "      <td>...</td>\n",
       "      <td>...</td>\n",
       "      <td>...</td>\n",
       "      <td>...</td>\n",
       "      <td>...</td>\n",
       "      <td>...</td>\n",
       "    </tr>\n",
       "    <tr>\n",
       "      <th>995</th>\n",
       "      <td>female</td>\n",
       "      <td>group E</td>\n",
       "      <td>master's degree</td>\n",
       "      <td>standard</td>\n",
       "      <td>completed</td>\n",
       "      <td>88</td>\n",
       "      <td>99</td>\n",
       "      <td>95</td>\n",
       "    </tr>\n",
       "    <tr>\n",
       "      <th>996</th>\n",
       "      <td>male</td>\n",
       "      <td>group C</td>\n",
       "      <td>high school</td>\n",
       "      <td>free/reduced</td>\n",
       "      <td>none</td>\n",
       "      <td>62</td>\n",
       "      <td>55</td>\n",
       "      <td>55</td>\n",
       "    </tr>\n",
       "    <tr>\n",
       "      <th>997</th>\n",
       "      <td>female</td>\n",
       "      <td>group C</td>\n",
       "      <td>high school</td>\n",
       "      <td>free/reduced</td>\n",
       "      <td>completed</td>\n",
       "      <td>59</td>\n",
       "      <td>71</td>\n",
       "      <td>65</td>\n",
       "    </tr>\n",
       "    <tr>\n",
       "      <th>998</th>\n",
       "      <td>female</td>\n",
       "      <td>group D</td>\n",
       "      <td>some college</td>\n",
       "      <td>standard</td>\n",
       "      <td>completed</td>\n",
       "      <td>68</td>\n",
       "      <td>78</td>\n",
       "      <td>77</td>\n",
       "    </tr>\n",
       "    <tr>\n",
       "      <th>999</th>\n",
       "      <td>female</td>\n",
       "      <td>group D</td>\n",
       "      <td>some college</td>\n",
       "      <td>free/reduced</td>\n",
       "      <td>none</td>\n",
       "      <td>77</td>\n",
       "      <td>86</td>\n",
       "      <td>86</td>\n",
       "    </tr>\n",
       "  </tbody>\n",
       "</table>\n",
       "<p>1000 rows × 8 columns</p>\n",
       "</div>"
      ],
      "text/plain": [
       "     gender race/ethnicity parental level of education         lunch  \\\n",
       "0    female        group B           bachelor's degree      standard   \n",
       "1    female        group C                some college      standard   \n",
       "2    female        group B             master's degree      standard   \n",
       "3      male        group A          associate's degree  free/reduced   \n",
       "4      male        group C                some college      standard   \n",
       "..      ...            ...                         ...           ...   \n",
       "995  female        group E             master's degree      standard   \n",
       "996    male        group C                 high school  free/reduced   \n",
       "997  female        group C                 high school  free/reduced   \n",
       "998  female        group D                some college      standard   \n",
       "999  female        group D                some college  free/reduced   \n",
       "\n",
       "    test preparation course  math score  reading score  writing score  \n",
       "0                      none          72             72             74  \n",
       "1                 completed          69             90             88  \n",
       "2                      none          90             95             93  \n",
       "3                      none          47             57             44  \n",
       "4                      none          76             78             75  \n",
       "..                      ...         ...            ...            ...  \n",
       "995               completed          88             99             95  \n",
       "996                    none          62             55             55  \n",
       "997               completed          59             71             65  \n",
       "998               completed          68             78             77  \n",
       "999                    none          77             86             86  \n",
       "\n",
       "[1000 rows x 8 columns]"
      ]
     },
     "execution_count": 5,
     "metadata": {},
     "output_type": "execute_result"
    }
   ],
   "source": [
    "students_df"
   ]
  },
  {
   "cell_type": "code",
   "execution_count": 6,
   "id": "9ae3f01f",
   "metadata": {},
   "outputs": [
    {
     "data": {
      "text/plain": [
       "(1000, 8)"
      ]
     },
     "execution_count": 6,
     "metadata": {},
     "output_type": "execute_result"
    }
   ],
   "source": [
    "students_df.shape"
   ]
  },
  {
   "cell_type": "code",
   "execution_count": 7,
   "id": "d6c54013",
   "metadata": {},
   "outputs": [
    {
     "data": {
      "text/plain": [
       "gender                         object\n",
       "race/ethnicity                 object\n",
       "parental level of education    object\n",
       "lunch                          object\n",
       "test preparation course        object\n",
       "math score                      int64\n",
       "reading score                   int64\n",
       "writing score                   int64\n",
       "dtype: object"
      ]
     },
     "execution_count": 7,
     "metadata": {},
     "output_type": "execute_result"
    }
   ],
   "source": [
    "students_df.dtypes"
   ]
  },
  {
   "cell_type": "code",
   "execution_count": 8,
   "id": "b79cce72",
   "metadata": {},
   "outputs": [
    {
     "data": {
      "text/plain": [
       "gender                         0\n",
       "race/ethnicity                 0\n",
       "parental level of education    0\n",
       "lunch                          0\n",
       "test preparation course        0\n",
       "math score                     0\n",
       "reading score                  0\n",
       "writing score                  0\n",
       "dtype: int64"
      ]
     },
     "execution_count": 8,
     "metadata": {},
     "output_type": "execute_result"
    }
   ],
   "source": [
    "students_df.isnull().sum()\n",
    "# пропущенных значений нет"
   ]
  },
  {
   "cell_type": "code",
   "execution_count": 9,
   "id": "e915e8ec",
   "metadata": {},
   "outputs": [
    {
     "data": {
      "text/plain": [
       "gender                         0\n",
       "race/ethnicity                 0\n",
       "parental level of education    0\n",
       "lunch                          0\n",
       "test preparation course        0\n",
       "math score                     0\n",
       "reading score                  0\n",
       "writing score                  0\n",
       "dtype: int64"
      ]
     },
     "execution_count": 9,
     "metadata": {},
     "output_type": "execute_result"
    }
   ],
   "source": [
    "students_df.isna().sum()\n",
    "# пропущенных значений нет"
   ]
  },
  {
   "cell_type": "code",
   "execution_count": 10,
   "id": "7c2bf4ce",
   "metadata": {},
   "outputs": [
    {
     "data": {
      "text/plain": [
       "0"
      ]
     },
     "execution_count": 10,
     "metadata": {},
     "output_type": "execute_result"
    }
   ],
   "source": [
    "students_df.duplicated().sum()\n",
    "# дубликатов нет"
   ]
  },
  {
   "cell_type": "code",
   "execution_count": 11,
   "id": "0f3c8694",
   "metadata": {},
   "outputs": [
    {
     "data": {
      "text/html": [
       "<div>\n",
       "<style scoped>\n",
       "    .dataframe tbody tr th:only-of-type {\n",
       "        vertical-align: middle;\n",
       "    }\n",
       "\n",
       "    .dataframe tbody tr th {\n",
       "        vertical-align: top;\n",
       "    }\n",
       "\n",
       "    .dataframe thead th {\n",
       "        text-align: right;\n",
       "    }\n",
       "</style>\n",
       "<table border=\"1\" class=\"dataframe\">\n",
       "  <thead>\n",
       "    <tr style=\"text-align: right;\">\n",
       "      <th></th>\n",
       "      <th>math score</th>\n",
       "      <th>reading score</th>\n",
       "      <th>writing score</th>\n",
       "    </tr>\n",
       "  </thead>\n",
       "  <tbody>\n",
       "    <tr>\n",
       "      <th>count</th>\n",
       "      <td>1000.00000</td>\n",
       "      <td>1000.000000</td>\n",
       "      <td>1000.000000</td>\n",
       "    </tr>\n",
       "    <tr>\n",
       "      <th>mean</th>\n",
       "      <td>66.08900</td>\n",
       "      <td>69.169000</td>\n",
       "      <td>68.054000</td>\n",
       "    </tr>\n",
       "    <tr>\n",
       "      <th>std</th>\n",
       "      <td>15.16308</td>\n",
       "      <td>14.600192</td>\n",
       "      <td>15.195657</td>\n",
       "    </tr>\n",
       "    <tr>\n",
       "      <th>min</th>\n",
       "      <td>0.00000</td>\n",
       "      <td>17.000000</td>\n",
       "      <td>10.000000</td>\n",
       "    </tr>\n",
       "    <tr>\n",
       "      <th>25%</th>\n",
       "      <td>57.00000</td>\n",
       "      <td>59.000000</td>\n",
       "      <td>57.750000</td>\n",
       "    </tr>\n",
       "    <tr>\n",
       "      <th>50%</th>\n",
       "      <td>66.00000</td>\n",
       "      <td>70.000000</td>\n",
       "      <td>69.000000</td>\n",
       "    </tr>\n",
       "    <tr>\n",
       "      <th>75%</th>\n",
       "      <td>77.00000</td>\n",
       "      <td>79.000000</td>\n",
       "      <td>79.000000</td>\n",
       "    </tr>\n",
       "    <tr>\n",
       "      <th>max</th>\n",
       "      <td>100.00000</td>\n",
       "      <td>100.000000</td>\n",
       "      <td>100.000000</td>\n",
       "    </tr>\n",
       "  </tbody>\n",
       "</table>\n",
       "</div>"
      ],
      "text/plain": [
       "       math score  reading score  writing score\n",
       "count  1000.00000    1000.000000    1000.000000\n",
       "mean     66.08900      69.169000      68.054000\n",
       "std      15.16308      14.600192      15.195657\n",
       "min       0.00000      17.000000      10.000000\n",
       "25%      57.00000      59.000000      57.750000\n",
       "50%      66.00000      70.000000      69.000000\n",
       "75%      77.00000      79.000000      79.000000\n",
       "max     100.00000     100.000000     100.000000"
      ]
     },
     "execution_count": 11,
     "metadata": {},
     "output_type": "execute_result"
    }
   ],
   "source": [
    "students_df.describe()\n",
    "# выбросов нет (нет отрицательных значений баллов)"
   ]
  },
  {
   "cell_type": "code",
   "execution_count": 12,
   "id": "acbb1014",
   "metadata": {},
   "outputs": [
    {
     "name": "stdout",
     "output_type": "stream",
     "text": [
      "['female' 'male']\n",
      "['group B' 'group C' 'group A' 'group D' 'group E']\n",
      "[\"bachelor's degree\" 'some college' \"master's degree\" \"associate's degree\"\n",
      " 'high school' 'some high school']\n",
      "['standard' 'free/reduced']\n",
      "['none' 'completed']\n",
      "[ 72  69  90  47  76  71  88  40  64  38  58  65  78  50  18  46  54  66\n",
      "  44  74  73  67  70  62  63  56  97  81  75  57  55  53  59  82  77  33\n",
      "  52   0  79  39  45  60  61  41  49  30  80  42  27  43  68  85  98  87\n",
      "  51  99  84  91  83  89  22 100  96  94  48  35  34  86  92  37  28  24\n",
      "  26  95  36  29  32  93  19  23   8]\n",
      "[ 72  90  95  57  78  83  43  64  60  54  52  81  53  75  89  32  42  58\n",
      "  69  73  71  74  70  65  87  56  61  84  55  44  41  85  59  17  39  80\n",
      "  37  63  51  49  26  68  45  47  86  34  79  66  67  91 100  76  77  82\n",
      "  92  93  62  88  50  28  48  46  23  38  94  97  99  31  96  24  29  40]\n",
      "[ 74  88  93  44  75  78  92  39  67  50  52  43  73  70  58  86  28  46\n",
      "  61  63  53  80  72  55  65  38  82  79  83  59  57  54  68  66  62  76\n",
      "  48  42  87  49  10  34  71  37  56  41  22  81  45  36  89  47  90 100\n",
      "  64  98  51  40  84  69  33  60  85  91  77  27  94  95  19  35  32  96\n",
      "  97  99  15  30  23]\n"
     ]
    }
   ],
   "source": [
    "for column in students_df:\n",
    "    print(students_df[column].unique())\n",
    "# просмотр уникальных значений в каждой колонке для визуальной оценки данных"
   ]
  },
  {
   "cell_type": "code",
   "execution_count": 13,
   "id": "ce01f7b9",
   "metadata": {},
   "outputs": [],
   "source": [
    "#переименование столбцов (для того, чтобы к ним можно было обращаться через students_df.reading_score)\n",
    "students_df = students_df.rename(columns = {'race/ethnicity':'race_ethnicity', \n",
    "                                           'parental level of education':'parental_level_of_education',\n",
    "                                           'test preparation course':'test_preparation_course', \n",
    "                                           'math score':'math_score',\n",
    "                                           'reading score':'reading_score', \n",
    "                                           'writing score':'writing_score'})"
   ]
  },
  {
   "cell_type": "code",
   "execution_count": 14,
   "id": "6b9d712f",
   "metadata": {},
   "outputs": [
    {
     "data": {
      "text/html": [
       "<div>\n",
       "<style scoped>\n",
       "    .dataframe tbody tr th:only-of-type {\n",
       "        vertical-align: middle;\n",
       "    }\n",
       "\n",
       "    .dataframe tbody tr th {\n",
       "        vertical-align: top;\n",
       "    }\n",
       "\n",
       "    .dataframe thead th {\n",
       "        text-align: right;\n",
       "    }\n",
       "</style>\n",
       "<table border=\"1\" class=\"dataframe\">\n",
       "  <thead>\n",
       "    <tr style=\"text-align: right;\">\n",
       "      <th></th>\n",
       "      <th>gender</th>\n",
       "      <th>race_ethnicity</th>\n",
       "      <th>parental_level_of_education</th>\n",
       "      <th>lunch</th>\n",
       "      <th>test_preparation_course</th>\n",
       "      <th>math_score</th>\n",
       "      <th>reading_score</th>\n",
       "      <th>writing_score</th>\n",
       "    </tr>\n",
       "  </thead>\n",
       "  <tbody>\n",
       "    <tr>\n",
       "      <th>0</th>\n",
       "      <td>female</td>\n",
       "      <td>group B</td>\n",
       "      <td>bachelor's degree</td>\n",
       "      <td>standard</td>\n",
       "      <td>none</td>\n",
       "      <td>72</td>\n",
       "      <td>72</td>\n",
       "      <td>74</td>\n",
       "    </tr>\n",
       "    <tr>\n",
       "      <th>1</th>\n",
       "      <td>female</td>\n",
       "      <td>group C</td>\n",
       "      <td>some college</td>\n",
       "      <td>standard</td>\n",
       "      <td>completed</td>\n",
       "      <td>69</td>\n",
       "      <td>90</td>\n",
       "      <td>88</td>\n",
       "    </tr>\n",
       "    <tr>\n",
       "      <th>2</th>\n",
       "      <td>female</td>\n",
       "      <td>group B</td>\n",
       "      <td>master's degree</td>\n",
       "      <td>standard</td>\n",
       "      <td>none</td>\n",
       "      <td>90</td>\n",
       "      <td>95</td>\n",
       "      <td>93</td>\n",
       "    </tr>\n",
       "    <tr>\n",
       "      <th>3</th>\n",
       "      <td>male</td>\n",
       "      <td>group A</td>\n",
       "      <td>associate's degree</td>\n",
       "      <td>free/reduced</td>\n",
       "      <td>none</td>\n",
       "      <td>47</td>\n",
       "      <td>57</td>\n",
       "      <td>44</td>\n",
       "    </tr>\n",
       "    <tr>\n",
       "      <th>4</th>\n",
       "      <td>male</td>\n",
       "      <td>group C</td>\n",
       "      <td>some college</td>\n",
       "      <td>standard</td>\n",
       "      <td>none</td>\n",
       "      <td>76</td>\n",
       "      <td>78</td>\n",
       "      <td>75</td>\n",
       "    </tr>\n",
       "    <tr>\n",
       "      <th>...</th>\n",
       "      <td>...</td>\n",
       "      <td>...</td>\n",
       "      <td>...</td>\n",
       "      <td>...</td>\n",
       "      <td>...</td>\n",
       "      <td>...</td>\n",
       "      <td>...</td>\n",
       "      <td>...</td>\n",
       "    </tr>\n",
       "    <tr>\n",
       "      <th>995</th>\n",
       "      <td>female</td>\n",
       "      <td>group E</td>\n",
       "      <td>master's degree</td>\n",
       "      <td>standard</td>\n",
       "      <td>completed</td>\n",
       "      <td>88</td>\n",
       "      <td>99</td>\n",
       "      <td>95</td>\n",
       "    </tr>\n",
       "    <tr>\n",
       "      <th>996</th>\n",
       "      <td>male</td>\n",
       "      <td>group C</td>\n",
       "      <td>high school</td>\n",
       "      <td>free/reduced</td>\n",
       "      <td>none</td>\n",
       "      <td>62</td>\n",
       "      <td>55</td>\n",
       "      <td>55</td>\n",
       "    </tr>\n",
       "    <tr>\n",
       "      <th>997</th>\n",
       "      <td>female</td>\n",
       "      <td>group C</td>\n",
       "      <td>high school</td>\n",
       "      <td>free/reduced</td>\n",
       "      <td>completed</td>\n",
       "      <td>59</td>\n",
       "      <td>71</td>\n",
       "      <td>65</td>\n",
       "    </tr>\n",
       "    <tr>\n",
       "      <th>998</th>\n",
       "      <td>female</td>\n",
       "      <td>group D</td>\n",
       "      <td>some college</td>\n",
       "      <td>standard</td>\n",
       "      <td>completed</td>\n",
       "      <td>68</td>\n",
       "      <td>78</td>\n",
       "      <td>77</td>\n",
       "    </tr>\n",
       "    <tr>\n",
       "      <th>999</th>\n",
       "      <td>female</td>\n",
       "      <td>group D</td>\n",
       "      <td>some college</td>\n",
       "      <td>free/reduced</td>\n",
       "      <td>none</td>\n",
       "      <td>77</td>\n",
       "      <td>86</td>\n",
       "      <td>86</td>\n",
       "    </tr>\n",
       "  </tbody>\n",
       "</table>\n",
       "<p>1000 rows × 8 columns</p>\n",
       "</div>"
      ],
      "text/plain": [
       "     gender race_ethnicity parental_level_of_education         lunch  \\\n",
       "0    female        group B           bachelor's degree      standard   \n",
       "1    female        group C                some college      standard   \n",
       "2    female        group B             master's degree      standard   \n",
       "3      male        group A          associate's degree  free/reduced   \n",
       "4      male        group C                some college      standard   \n",
       "..      ...            ...                         ...           ...   \n",
       "995  female        group E             master's degree      standard   \n",
       "996    male        group C                 high school  free/reduced   \n",
       "997  female        group C                 high school  free/reduced   \n",
       "998  female        group D                some college      standard   \n",
       "999  female        group D                some college  free/reduced   \n",
       "\n",
       "    test_preparation_course  math_score  reading_score  writing_score  \n",
       "0                      none          72             72             74  \n",
       "1                 completed          69             90             88  \n",
       "2                      none          90             95             93  \n",
       "3                      none          47             57             44  \n",
       "4                      none          76             78             75  \n",
       "..                      ...         ...            ...            ...  \n",
       "995               completed          88             99             95  \n",
       "996                    none          62             55             55  \n",
       "997               completed          59             71             65  \n",
       "998               completed          68             78             77  \n",
       "999                    none          77             86             86  \n",
       "\n",
       "[1000 rows x 8 columns]"
      ]
     },
     "execution_count": 14,
     "metadata": {},
     "output_type": "execute_result"
    }
   ],
   "source": [
    "students_df\n",
    "# переименование столбцов прошло успешно"
   ]
  },
  {
   "cell_type": "markdown",
   "id": "d6e9552b",
   "metadata": {},
   "source": [
    "Выводы:\n",
    "- данные были предобработаны, теперь они могут использоваться для анализа\n",
    "- сырые данные были достаточно высокого качества (без пропусков, дубликатов, с правильно установленными типами данных), единственная проблема возникла с заголовками столбцов; проблема была успешно решена, заголовки столбцов были переименованы в соответствии с необходимым форматом"
   ]
  },
  {
   "cell_type": "markdown",
   "id": "892051d8",
   "metadata": {},
   "source": [
    "# Отбор учеников, успешно сдавших экзамены"
   ]
  },
  {
   "cell_type": "code",
   "execution_count": 15,
   "id": "5d4efb45",
   "metadata": {},
   "outputs": [],
   "source": [
    "# создание столбца total_score, который содержит в себе сумму баллов по трем дисциплинам\n",
    "scores_columns = ['math_score', 'reading_score', 'writing_score']\n",
    "total = students_df.get(scores_columns).agg(['sum'], axis=1)\n",
    "total.rename(columns={'sum':'total_score'})\n",
    "students_df['total_score'] = total"
   ]
  },
  {
   "cell_type": "code",
   "execution_count": 16,
   "id": "61330a5b",
   "metadata": {},
   "outputs": [
    {
     "data": {
      "text/html": [
       "<div>\n",
       "<style scoped>\n",
       "    .dataframe tbody tr th:only-of-type {\n",
       "        vertical-align: middle;\n",
       "    }\n",
       "\n",
       "    .dataframe tbody tr th {\n",
       "        vertical-align: top;\n",
       "    }\n",
       "\n",
       "    .dataframe thead th {\n",
       "        text-align: right;\n",
       "    }\n",
       "</style>\n",
       "<table border=\"1\" class=\"dataframe\">\n",
       "  <thead>\n",
       "    <tr style=\"text-align: right;\">\n",
       "      <th></th>\n",
       "      <th>math_score</th>\n",
       "      <th>reading_score</th>\n",
       "      <th>writing_score</th>\n",
       "      <th>total_score</th>\n",
       "    </tr>\n",
       "  </thead>\n",
       "  <tbody>\n",
       "    <tr>\n",
       "      <th>count</th>\n",
       "      <td>1000.00000</td>\n",
       "      <td>1000.000000</td>\n",
       "      <td>1000.000000</td>\n",
       "      <td>1000.000000</td>\n",
       "    </tr>\n",
       "    <tr>\n",
       "      <th>mean</th>\n",
       "      <td>66.08900</td>\n",
       "      <td>69.169000</td>\n",
       "      <td>68.054000</td>\n",
       "      <td>203.312000</td>\n",
       "    </tr>\n",
       "    <tr>\n",
       "      <th>std</th>\n",
       "      <td>15.16308</td>\n",
       "      <td>14.600192</td>\n",
       "      <td>15.195657</td>\n",
       "      <td>42.771978</td>\n",
       "    </tr>\n",
       "    <tr>\n",
       "      <th>min</th>\n",
       "      <td>0.00000</td>\n",
       "      <td>17.000000</td>\n",
       "      <td>10.000000</td>\n",
       "      <td>27.000000</td>\n",
       "    </tr>\n",
       "    <tr>\n",
       "      <th>25%</th>\n",
       "      <td>57.00000</td>\n",
       "      <td>59.000000</td>\n",
       "      <td>57.750000</td>\n",
       "      <td>175.000000</td>\n",
       "    </tr>\n",
       "    <tr>\n",
       "      <th>50%</th>\n",
       "      <td>66.00000</td>\n",
       "      <td>70.000000</td>\n",
       "      <td>69.000000</td>\n",
       "      <td>205.000000</td>\n",
       "    </tr>\n",
       "    <tr>\n",
       "      <th>75%</th>\n",
       "      <td>77.00000</td>\n",
       "      <td>79.000000</td>\n",
       "      <td>79.000000</td>\n",
       "      <td>233.000000</td>\n",
       "    </tr>\n",
       "    <tr>\n",
       "      <th>max</th>\n",
       "      <td>100.00000</td>\n",
       "      <td>100.000000</td>\n",
       "      <td>100.000000</td>\n",
       "      <td>300.000000</td>\n",
       "    </tr>\n",
       "  </tbody>\n",
       "</table>\n",
       "</div>"
      ],
      "text/plain": [
       "       math_score  reading_score  writing_score  total_score\n",
       "count  1000.00000    1000.000000    1000.000000  1000.000000\n",
       "mean     66.08900      69.169000      68.054000   203.312000\n",
       "std      15.16308      14.600192      15.195657    42.771978\n",
       "min       0.00000      17.000000      10.000000    27.000000\n",
       "25%      57.00000      59.000000      57.750000   175.000000\n",
       "50%      66.00000      70.000000      69.000000   205.000000\n",
       "75%      77.00000      79.000000      79.000000   233.000000\n",
       "max     100.00000     100.000000     100.000000   300.000000"
      ]
     },
     "execution_count": 16,
     "metadata": {},
     "output_type": "execute_result"
    }
   ],
   "source": [
    "# описательные статистики данных\n",
    "students_df.describe()"
   ]
  },
  {
   "cell_type": "code",
   "execution_count": 17,
   "id": "d6a954c2",
   "metadata": {},
   "outputs": [
    {
     "data": {
      "text/plain": [
       "Text(0.5, 0.98, 'Распределение баллов по математике')"
      ]
     },
     "execution_count": 17,
     "metadata": {},
     "output_type": "execute_result"
    },
    {
     "data": {
      "image/png": "[encoded data removed]",
      "text/plain": [
       "<Figure size 432x288 with 1 Axes>"
      ]
     },
     "metadata": {
      "needs_background": "light"
     },
     "output_type": "display_data"
    }
   ],
   "source": [
    "sns.histplot(students_df.math_score, kde=True)\n",
    "plt.suptitle('Распределение баллов по математике')"
   ]
  },
  {
   "cell_type": "code",
   "execution_count": 18,
   "id": "d6c07ccf",
   "metadata": {},
   "outputs": [
    {
     "data": {
      "text/plain": [
       "Text(0.5, 0.98, 'Распределение баллов по чтению')"
      ]
     },
     "execution_count": 18,
     "metadata": {},
     "output_type": "execute_result"
    },
    {
     "data": {
      "image/png": "[encoded data removed]",
      "text/plain": [
       "<Figure size 432x288 with 1 Axes>"
      ]
     },
     "metadata": {
      "needs_background": "light"
     },
     "output_type": "display_data"
    }
   ],
   "source": [
    "sns.histplot(students_df.reading_score, kde=True)\n",
    "plt.suptitle('Распределение баллов по чтению')"
   ]
  },
  {
   "cell_type": "code",
   "execution_count": 19,
   "id": "0917fddf",
   "metadata": {},
   "outputs": [
    {
     "data": {
      "text/plain": [
       "Text(0.5, 0.98, 'Распределение баллов по письму')"
      ]
     },
     "execution_count": 19,
     "metadata": {},
     "output_type": "execute_result"
    },
    {
     "data": {
      "image/png": "[encoded data removed]",
      "text/plain": [
       "<Figure size 432x288 with 1 Axes>"
      ]
     },
     "metadata": {
      "needs_background": "light"
     },
     "output_type": "display_data"
    }
   ],
   "source": [
    "sns.histplot(students_df.writing_score, kde=True)\n",
    "plt.suptitle('Распределение баллов по письму')"
   ]
  },
  {
   "cell_type": "code",
   "execution_count": 20,
   "id": "66ba9a40",
   "metadata": {},
   "outputs": [
    {
     "data": {
      "text/plain": [
       "Text(0.5, 0.98, 'Распределение общей суммы баллов')"
      ]
     },
     "execution_count": 20,
     "metadata": {},
     "output_type": "execute_result"
    },
    {
     "data": {
      "image/png": "[encoded data removed]",
      "text/plain": [
       "<Figure size 432x288 with 1 Axes>"
      ]
     },
     "metadata": {
      "needs_background": "light"
     },
     "output_type": "display_data"
    }
   ],
   "source": [
    "sns.histplot(students_df.total_score, kde=True)\n",
    "plt.suptitle('Распределение общей суммы баллов')"
   ]
  },
  {
   "cell_type": "markdown",
   "id": "0ed6b480",
   "metadata": {},
   "source": [
    "Распределения отличаются от нормального: средние значения смещены вправо, т.е. больше учеников набирало в среднем от 50 до 100 баллов. Это подтверждается и таблицей с описательными статистиками, где приведены более точные данные"
   ]
  },
  {
   "cell_type": "code",
   "execution_count": 21,
   "id": "af42d506",
   "metadata": {},
   "outputs": [
    {
     "data": {
      "text/html": [
       "<div>\n",
       "<style scoped>\n",
       "    .dataframe tbody tr th:only-of-type {\n",
       "        vertical-align: middle;\n",
       "    }\n",
       "\n",
       "    .dataframe tbody tr th {\n",
       "        vertical-align: top;\n",
       "    }\n",
       "\n",
       "    .dataframe thead th {\n",
       "        text-align: right;\n",
       "    }\n",
       "</style>\n",
       "<table border=\"1\" class=\"dataframe\">\n",
       "  <thead>\n",
       "    <tr style=\"text-align: right;\">\n",
       "      <th></th>\n",
       "      <th>math_score</th>\n",
       "      <th>reading_score</th>\n",
       "      <th>writing_score</th>\n",
       "      <th>total_score</th>\n",
       "    </tr>\n",
       "  </thead>\n",
       "  <tbody>\n",
       "    <tr>\n",
       "      <th>count</th>\n",
       "      <td>1000.00000</td>\n",
       "      <td>1000.000000</td>\n",
       "      <td>1000.000000</td>\n",
       "      <td>1000.000000</td>\n",
       "    </tr>\n",
       "    <tr>\n",
       "      <th>mean</th>\n",
       "      <td>66.08900</td>\n",
       "      <td>69.169000</td>\n",
       "      <td>68.054000</td>\n",
       "      <td>203.312000</td>\n",
       "    </tr>\n",
       "    <tr>\n",
       "      <th>std</th>\n",
       "      <td>15.16308</td>\n",
       "      <td>14.600192</td>\n",
       "      <td>15.195657</td>\n",
       "      <td>42.771978</td>\n",
       "    </tr>\n",
       "    <tr>\n",
       "      <th>min</th>\n",
       "      <td>0.00000</td>\n",
       "      <td>17.000000</td>\n",
       "      <td>10.000000</td>\n",
       "      <td>27.000000</td>\n",
       "    </tr>\n",
       "    <tr>\n",
       "      <th>25%</th>\n",
       "      <td>57.00000</td>\n",
       "      <td>59.000000</td>\n",
       "      <td>57.750000</td>\n",
       "      <td>175.000000</td>\n",
       "    </tr>\n",
       "    <tr>\n",
       "      <th>50%</th>\n",
       "      <td>66.00000</td>\n",
       "      <td>70.000000</td>\n",
       "      <td>69.000000</td>\n",
       "      <td>205.000000</td>\n",
       "    </tr>\n",
       "    <tr>\n",
       "      <th>75%</th>\n",
       "      <td>77.00000</td>\n",
       "      <td>79.000000</td>\n",
       "      <td>79.000000</td>\n",
       "      <td>233.000000</td>\n",
       "    </tr>\n",
       "    <tr>\n",
       "      <th>max</th>\n",
       "      <td>100.00000</td>\n",
       "      <td>100.000000</td>\n",
       "      <td>100.000000</td>\n",
       "      <td>300.000000</td>\n",
       "    </tr>\n",
       "  </tbody>\n",
       "</table>\n",
       "</div>"
      ],
      "text/plain": [
       "       math_score  reading_score  writing_score  total_score\n",
       "count  1000.00000    1000.000000    1000.000000  1000.000000\n",
       "mean     66.08900      69.169000      68.054000   203.312000\n",
       "std      15.16308      14.600192      15.195657    42.771978\n",
       "min       0.00000      17.000000      10.000000    27.000000\n",
       "25%      57.00000      59.000000      57.750000   175.000000\n",
       "50%      66.00000      70.000000      69.000000   205.000000\n",
       "75%      77.00000      79.000000      79.000000   233.000000\n",
       "max     100.00000     100.000000     100.000000   300.000000"
      ]
     },
     "execution_count": 21,
     "metadata": {},
     "output_type": "execute_result"
    }
   ],
   "source": [
    "students_df.describe()"
   ]
  },
  {
   "cell_type": "markdown",
   "id": "5e5f704f",
   "metadata": {},
   "source": [
    "Значения общей суммы баллов ('total_score') и необходимых баллов по каждому предмету определяются 25-м процентилем. Такой выбор был сделан, поскольку значения 25-го процентиля сопоставимы со значениями баллов, используемых в реальных ситуациях для оценки сдачи/несдачи экзамена. Кроме того, стоит отметить, что это лишь разведывательный анализ данных; впоследствии пороговые значения могут быть изменены."
   ]
  },
  {
   "cell_type": "code",
   "execution_count": 22,
   "id": "001ff8a8",
   "metadata": {},
   "outputs": [],
   "source": [
    "needed_math_score = students_df.math_score.quantile(0.25)\n",
    "needed_reading_score = students_df.reading_score.quantile(0.25)\n",
    "needed_writing_score = students_df.writing_score.quantile(0.25)\n",
    "needed_total_score = students_df.total_score.quantile(0.25)\n",
    "# сохранение пороговых значений баллов в специализированные переменные"
   ]
  },
  {
   "cell_type": "code",
   "execution_count": 23,
   "id": "8cab8ad5",
   "metadata": {},
   "outputs": [],
   "source": [
    "# создание колонок math_passed, reading_passed, writing_passed и exam_passed, принимающих значения True/False \n",
    "# в зависимости от того сдал студент экзамен или нет (превышает ли набранное им количество баллов 25-й процентиль)\n",
    "math_passed = students_df.get(['math_score'])\n",
    "math_passed = math_passed.gt(needed_math_score)\n",
    "math_passed.rename(columns={'math_score':'math_passed'})\n",
    "students_df['math_passed'] = math_passed\n",
    "\n",
    "reading_passed = students_df.get(['reading_score'])\n",
    "reading_passed = reading_passed.gt(needed_reading_score)\n",
    "reading_passed.rename(columns={'reading_score':'reading_passed'})\n",
    "students_df['reading_passed'] = reading_passed\n",
    "\n",
    "writing_passed = students_df.get(['writing_score'])\n",
    "writing_passed = writing_passed.gt(needed_writing_score)\n",
    "writing_passed.rename(columns={'writing_score':'writing_passed'})\n",
    "students_df['writing_passed'] = writing_passed\n",
    "\n",
    "total_passed = students_df.get(['total_score'])\n",
    "total_passed = total_passed.gt(needed_total_score)\n",
    "total_passed.rename(columns={'total_score':'exam_passed'})\n",
    "students_df['exam_passed'] = total_passed"
   ]
  },
  {
   "cell_type": "code",
   "execution_count": 24,
   "id": "12907f53",
   "metadata": {},
   "outputs": [
    {
     "data": {
      "text/html": [
       "<div>\n",
       "<style scoped>\n",
       "    .dataframe tbody tr th:only-of-type {\n",
       "        vertical-align: middle;\n",
       "    }\n",
       "\n",
       "    .dataframe tbody tr th {\n",
       "        vertical-align: top;\n",
       "    }\n",
       "\n",
       "    .dataframe thead th {\n",
       "        text-align: right;\n",
       "    }\n",
       "</style>\n",
       "<table border=\"1\" class=\"dataframe\">\n",
       "  <thead>\n",
       "    <tr style=\"text-align: right;\">\n",
       "      <th></th>\n",
       "      <th>gender</th>\n",
       "      <th>race_ethnicity</th>\n",
       "      <th>parental_level_of_education</th>\n",
       "      <th>lunch</th>\n",
       "      <th>test_preparation_course</th>\n",
       "      <th>math_score</th>\n",
       "      <th>reading_score</th>\n",
       "      <th>writing_score</th>\n",
       "      <th>total_score</th>\n",
       "      <th>math_passed</th>\n",
       "      <th>reading_passed</th>\n",
       "      <th>writing_passed</th>\n",
       "      <th>exam_passed</th>\n",
       "    </tr>\n",
       "  </thead>\n",
       "  <tbody>\n",
       "    <tr>\n",
       "      <th>0</th>\n",
       "      <td>female</td>\n",
       "      <td>group B</td>\n",
       "      <td>bachelor's degree</td>\n",
       "      <td>standard</td>\n",
       "      <td>none</td>\n",
       "      <td>72</td>\n",
       "      <td>72</td>\n",
       "      <td>74</td>\n",
       "      <td>218</td>\n",
       "      <td>True</td>\n",
       "      <td>True</td>\n",
       "      <td>True</td>\n",
       "      <td>True</td>\n",
       "    </tr>\n",
       "    <tr>\n",
       "      <th>1</th>\n",
       "      <td>female</td>\n",
       "      <td>group C</td>\n",
       "      <td>some college</td>\n",
       "      <td>standard</td>\n",
       "      <td>completed</td>\n",
       "      <td>69</td>\n",
       "      <td>90</td>\n",
       "      <td>88</td>\n",
       "      <td>247</td>\n",
       "      <td>True</td>\n",
       "      <td>True</td>\n",
       "      <td>True</td>\n",
       "      <td>True</td>\n",
       "    </tr>\n",
       "    <tr>\n",
       "      <th>2</th>\n",
       "      <td>female</td>\n",
       "      <td>group B</td>\n",
       "      <td>master's degree</td>\n",
       "      <td>standard</td>\n",
       "      <td>none</td>\n",
       "      <td>90</td>\n",
       "      <td>95</td>\n",
       "      <td>93</td>\n",
       "      <td>278</td>\n",
       "      <td>True</td>\n",
       "      <td>True</td>\n",
       "      <td>True</td>\n",
       "      <td>True</td>\n",
       "    </tr>\n",
       "    <tr>\n",
       "      <th>3</th>\n",
       "      <td>male</td>\n",
       "      <td>group A</td>\n",
       "      <td>associate's degree</td>\n",
       "      <td>free/reduced</td>\n",
       "      <td>none</td>\n",
       "      <td>47</td>\n",
       "      <td>57</td>\n",
       "      <td>44</td>\n",
       "      <td>148</td>\n",
       "      <td>False</td>\n",
       "      <td>False</td>\n",
       "      <td>False</td>\n",
       "      <td>False</td>\n",
       "    </tr>\n",
       "    <tr>\n",
       "      <th>4</th>\n",
       "      <td>male</td>\n",
       "      <td>group C</td>\n",
       "      <td>some college</td>\n",
       "      <td>standard</td>\n",
       "      <td>none</td>\n",
       "      <td>76</td>\n",
       "      <td>78</td>\n",
       "      <td>75</td>\n",
       "      <td>229</td>\n",
       "      <td>True</td>\n",
       "      <td>True</td>\n",
       "      <td>True</td>\n",
       "      <td>True</td>\n",
       "    </tr>\n",
       "    <tr>\n",
       "      <th>...</th>\n",
       "      <td>...</td>\n",
       "      <td>...</td>\n",
       "      <td>...</td>\n",
       "      <td>...</td>\n",
       "      <td>...</td>\n",
       "      <td>...</td>\n",
       "      <td>...</td>\n",
       "      <td>...</td>\n",
       "      <td>...</td>\n",
       "      <td>...</td>\n",
       "      <td>...</td>\n",
       "      <td>...</td>\n",
       "      <td>...</td>\n",
       "    </tr>\n",
       "    <tr>\n",
       "      <th>995</th>\n",
       "      <td>female</td>\n",
       "      <td>group E</td>\n",
       "      <td>master's degree</td>\n",
       "      <td>standard</td>\n",
       "      <td>completed</td>\n",
       "      <td>88</td>\n",
       "      <td>99</td>\n",
       "      <td>95</td>\n",
       "      <td>282</td>\n",
       "      <td>True</td>\n",
       "      <td>True</td>\n",
       "      <td>True</td>\n",
       "      <td>True</td>\n",
       "    </tr>\n",
       "    <tr>\n",
       "      <th>996</th>\n",
       "      <td>male</td>\n",
       "      <td>group C</td>\n",
       "      <td>high school</td>\n",
       "      <td>free/reduced</td>\n",
       "      <td>none</td>\n",
       "      <td>62</td>\n",
       "      <td>55</td>\n",
       "      <td>55</td>\n",
       "      <td>172</td>\n",
       "      <td>True</td>\n",
       "      <td>False</td>\n",
       "      <td>False</td>\n",
       "      <td>False</td>\n",
       "    </tr>\n",
       "    <tr>\n",
       "      <th>997</th>\n",
       "      <td>female</td>\n",
       "      <td>group C</td>\n",
       "      <td>high school</td>\n",
       "      <td>free/reduced</td>\n",
       "      <td>completed</td>\n",
       "      <td>59</td>\n",
       "      <td>71</td>\n",
       "      <td>65</td>\n",
       "      <td>195</td>\n",
       "      <td>True</td>\n",
       "      <td>True</td>\n",
       "      <td>True</td>\n",
       "      <td>True</td>\n",
       "    </tr>\n",
       "    <tr>\n",
       "      <th>998</th>\n",
       "      <td>female</td>\n",
       "      <td>group D</td>\n",
       "      <td>some college</td>\n",
       "      <td>standard</td>\n",
       "      <td>completed</td>\n",
       "      <td>68</td>\n",
       "      <td>78</td>\n",
       "      <td>77</td>\n",
       "      <td>223</td>\n",
       "      <td>True</td>\n",
       "      <td>True</td>\n",
       "      <td>True</td>\n",
       "      <td>True</td>\n",
       "    </tr>\n",
       "    <tr>\n",
       "      <th>999</th>\n",
       "      <td>female</td>\n",
       "      <td>group D</td>\n",
       "      <td>some college</td>\n",
       "      <td>free/reduced</td>\n",
       "      <td>none</td>\n",
       "      <td>77</td>\n",
       "      <td>86</td>\n",
       "      <td>86</td>\n",
       "      <td>249</td>\n",
       "      <td>True</td>\n",
       "      <td>True</td>\n",
       "      <td>True</td>\n",
       "      <td>True</td>\n",
       "    </tr>\n",
       "  </tbody>\n",
       "</table>\n",
       "<p>1000 rows × 13 columns</p>\n",
       "</div>"
      ],
      "text/plain": [
       "     gender race_ethnicity parental_level_of_education         lunch  \\\n",
       "0    female        group B           bachelor's degree      standard   \n",
       "1    female        group C                some college      standard   \n",
       "2    female        group B             master's degree      standard   \n",
       "3      male        group A          associate's degree  free/reduced   \n",
       "4      male        group C                some college      standard   \n",
       "..      ...            ...                         ...           ...   \n",
       "995  female        group E             master's degree      standard   \n",
       "996    male        group C                 high school  free/reduced   \n",
       "997  female        group C                 high school  free/reduced   \n",
       "998  female        group D                some college      standard   \n",
       "999  female        group D                some college  free/reduced   \n",
       "\n",
       "    test_preparation_course  math_score  reading_score  writing_score  \\\n",
       "0                      none          72             72             74   \n",
       "1                 completed          69             90             88   \n",
       "2                      none          90             95             93   \n",
       "3                      none          47             57             44   \n",
       "4                      none          76             78             75   \n",
       "..                      ...         ...            ...            ...   \n",
       "995               completed          88             99             95   \n",
       "996                    none          62             55             55   \n",
       "997               completed          59             71             65   \n",
       "998               completed          68             78             77   \n",
       "999                    none          77             86             86   \n",
       "\n",
       "     total_score  math_passed  reading_passed  writing_passed  exam_passed  \n",
       "0            218         True            True            True         True  \n",
       "1            247         True            True            True         True  \n",
       "2            278         True            True            True         True  \n",
       "3            148        False           False           False        False  \n",
       "4            229         True            True            True         True  \n",
       "..           ...          ...             ...             ...          ...  \n",
       "995          282         True            True            True         True  \n",
       "996          172         True           False           False        False  \n",
       "997          195         True            True            True         True  \n",
       "998          223         True            True            True         True  \n",
       "999          249         True            True            True         True  \n",
       "\n",
       "[1000 rows x 13 columns]"
      ]
     },
     "execution_count": 24,
     "metadata": {},
     "output_type": "execute_result"
    }
   ],
   "source": [
    "students_df"
   ]
  },
  {
   "cell_type": "code",
   "execution_count": 25,
   "id": "332d6fc7",
   "metadata": {},
   "outputs": [],
   "source": [
    "# cоздание DataFrame с учениками, успешно сдавшими все экзамены\n",
    "passed_students_df = students_df.query('(math_passed == True) & (reading_passed == True) & (writing_passed == True) & (exam_passed == True)')"
   ]
  },
  {
   "cell_type": "code",
   "execution_count": 26,
   "id": "6289fbe1",
   "metadata": {},
   "outputs": [
    {
     "data": {
      "text/html": [
       "<div>\n",
       "<style scoped>\n",
       "    .dataframe tbody tr th:only-of-type {\n",
       "        vertical-align: middle;\n",
       "    }\n",
       "\n",
       "    .dataframe tbody tr th {\n",
       "        vertical-align: top;\n",
       "    }\n",
       "\n",
       "    .dataframe thead th {\n",
       "        text-align: right;\n",
       "    }\n",
       "</style>\n",
       "<table border=\"1\" class=\"dataframe\">\n",
       "  <thead>\n",
       "    <tr style=\"text-align: right;\">\n",
       "      <th></th>\n",
       "      <th>gender</th>\n",
       "      <th>race_ethnicity</th>\n",
       "      <th>parental_level_of_education</th>\n",
       "      <th>lunch</th>\n",
       "      <th>test_preparation_course</th>\n",
       "      <th>math_score</th>\n",
       "      <th>reading_score</th>\n",
       "      <th>writing_score</th>\n",
       "      <th>total_score</th>\n",
       "      <th>math_passed</th>\n",
       "      <th>reading_passed</th>\n",
       "      <th>writing_passed</th>\n",
       "      <th>exam_passed</th>\n",
       "    </tr>\n",
       "  </thead>\n",
       "  <tbody>\n",
       "    <tr>\n",
       "      <th>0</th>\n",
       "      <td>female</td>\n",
       "      <td>group B</td>\n",
       "      <td>bachelor's degree</td>\n",
       "      <td>standard</td>\n",
       "      <td>none</td>\n",
       "      <td>72</td>\n",
       "      <td>72</td>\n",
       "      <td>74</td>\n",
       "      <td>218</td>\n",
       "      <td>True</td>\n",
       "      <td>True</td>\n",
       "      <td>True</td>\n",
       "      <td>True</td>\n",
       "    </tr>\n",
       "    <tr>\n",
       "      <th>1</th>\n",
       "      <td>female</td>\n",
       "      <td>group C</td>\n",
       "      <td>some college</td>\n",
       "      <td>standard</td>\n",
       "      <td>completed</td>\n",
       "      <td>69</td>\n",
       "      <td>90</td>\n",
       "      <td>88</td>\n",
       "      <td>247</td>\n",
       "      <td>True</td>\n",
       "      <td>True</td>\n",
       "      <td>True</td>\n",
       "      <td>True</td>\n",
       "    </tr>\n",
       "    <tr>\n",
       "      <th>2</th>\n",
       "      <td>female</td>\n",
       "      <td>group B</td>\n",
       "      <td>master's degree</td>\n",
       "      <td>standard</td>\n",
       "      <td>none</td>\n",
       "      <td>90</td>\n",
       "      <td>95</td>\n",
       "      <td>93</td>\n",
       "      <td>278</td>\n",
       "      <td>True</td>\n",
       "      <td>True</td>\n",
       "      <td>True</td>\n",
       "      <td>True</td>\n",
       "    </tr>\n",
       "    <tr>\n",
       "      <th>4</th>\n",
       "      <td>male</td>\n",
       "      <td>group C</td>\n",
       "      <td>some college</td>\n",
       "      <td>standard</td>\n",
       "      <td>none</td>\n",
       "      <td>76</td>\n",
       "      <td>78</td>\n",
       "      <td>75</td>\n",
       "      <td>229</td>\n",
       "      <td>True</td>\n",
       "      <td>True</td>\n",
       "      <td>True</td>\n",
       "      <td>True</td>\n",
       "    </tr>\n",
       "    <tr>\n",
       "      <th>5</th>\n",
       "      <td>female</td>\n",
       "      <td>group B</td>\n",
       "      <td>associate's degree</td>\n",
       "      <td>standard</td>\n",
       "      <td>none</td>\n",
       "      <td>71</td>\n",
       "      <td>83</td>\n",
       "      <td>78</td>\n",
       "      <td>232</td>\n",
       "      <td>True</td>\n",
       "      <td>True</td>\n",
       "      <td>True</td>\n",
       "      <td>True</td>\n",
       "    </tr>\n",
       "    <tr>\n",
       "      <th>...</th>\n",
       "      <td>...</td>\n",
       "      <td>...</td>\n",
       "      <td>...</td>\n",
       "      <td>...</td>\n",
       "      <td>...</td>\n",
       "      <td>...</td>\n",
       "      <td>...</td>\n",
       "      <td>...</td>\n",
       "      <td>...</td>\n",
       "      <td>...</td>\n",
       "      <td>...</td>\n",
       "      <td>...</td>\n",
       "      <td>...</td>\n",
       "    </tr>\n",
       "    <tr>\n",
       "      <th>994</th>\n",
       "      <td>male</td>\n",
       "      <td>group A</td>\n",
       "      <td>high school</td>\n",
       "      <td>standard</td>\n",
       "      <td>none</td>\n",
       "      <td>63</td>\n",
       "      <td>63</td>\n",
       "      <td>62</td>\n",
       "      <td>188</td>\n",
       "      <td>True</td>\n",
       "      <td>True</td>\n",
       "      <td>True</td>\n",
       "      <td>True</td>\n",
       "    </tr>\n",
       "    <tr>\n",
       "      <th>995</th>\n",
       "      <td>female</td>\n",
       "      <td>group E</td>\n",
       "      <td>master's degree</td>\n",
       "      <td>standard</td>\n",
       "      <td>completed</td>\n",
       "      <td>88</td>\n",
       "      <td>99</td>\n",
       "      <td>95</td>\n",
       "      <td>282</td>\n",
       "      <td>True</td>\n",
       "      <td>True</td>\n",
       "      <td>True</td>\n",
       "      <td>True</td>\n",
       "    </tr>\n",
       "    <tr>\n",
       "      <th>997</th>\n",
       "      <td>female</td>\n",
       "      <td>group C</td>\n",
       "      <td>high school</td>\n",
       "      <td>free/reduced</td>\n",
       "      <td>completed</td>\n",
       "      <td>59</td>\n",
       "      <td>71</td>\n",
       "      <td>65</td>\n",
       "      <td>195</td>\n",
       "      <td>True</td>\n",
       "      <td>True</td>\n",
       "      <td>True</td>\n",
       "      <td>True</td>\n",
       "    </tr>\n",
       "    <tr>\n",
       "      <th>998</th>\n",
       "      <td>female</td>\n",
       "      <td>group D</td>\n",
       "      <td>some college</td>\n",
       "      <td>standard</td>\n",
       "      <td>completed</td>\n",
       "      <td>68</td>\n",
       "      <td>78</td>\n",
       "      <td>77</td>\n",
       "      <td>223</td>\n",
       "      <td>True</td>\n",
       "      <td>True</td>\n",
       "      <td>True</td>\n",
       "      <td>True</td>\n",
       "    </tr>\n",
       "    <tr>\n",
       "      <th>999</th>\n",
       "      <td>female</td>\n",
       "      <td>group D</td>\n",
       "      <td>some college</td>\n",
       "      <td>free/reduced</td>\n",
       "      <td>none</td>\n",
       "      <td>77</td>\n",
       "      <td>86</td>\n",
       "      <td>86</td>\n",
       "      <td>249</td>\n",
       "      <td>True</td>\n",
       "      <td>True</td>\n",
       "      <td>True</td>\n",
       "      <td>True</td>\n",
       "    </tr>\n",
       "  </tbody>\n",
       "</table>\n",
       "<p>648 rows × 13 columns</p>\n",
       "</div>"
      ],
      "text/plain": [
       "     gender race_ethnicity parental_level_of_education         lunch  \\\n",
       "0    female        group B           bachelor's degree      standard   \n",
       "1    female        group C                some college      standard   \n",
       "2    female        group B             master's degree      standard   \n",
       "4      male        group C                some college      standard   \n",
       "5    female        group B          associate's degree      standard   \n",
       "..      ...            ...                         ...           ...   \n",
       "994    male        group A                 high school      standard   \n",
       "995  female        group E             master's degree      standard   \n",
       "997  female        group C                 high school  free/reduced   \n",
       "998  female        group D                some college      standard   \n",
       "999  female        group D                some college  free/reduced   \n",
       "\n",
       "    test_preparation_course  math_score  reading_score  writing_score  \\\n",
       "0                      none          72             72             74   \n",
       "1                 completed          69             90             88   \n",
       "2                      none          90             95             93   \n",
       "4                      none          76             78             75   \n",
       "5                      none          71             83             78   \n",
       "..                      ...         ...            ...            ...   \n",
       "994                    none          63             63             62   \n",
       "995               completed          88             99             95   \n",
       "997               completed          59             71             65   \n",
       "998               completed          68             78             77   \n",
       "999                    none          77             86             86   \n",
       "\n",
       "     total_score  math_passed  reading_passed  writing_passed  exam_passed  \n",
       "0            218         True            True            True         True  \n",
       "1            247         True            True            True         True  \n",
       "2            278         True            True            True         True  \n",
       "4            229         True            True            True         True  \n",
       "5            232         True            True            True         True  \n",
       "..           ...          ...             ...             ...          ...  \n",
       "994          188         True            True            True         True  \n",
       "995          282         True            True            True         True  \n",
       "997          195         True            True            True         True  \n",
       "998          223         True            True            True         True  \n",
       "999          249         True            True            True         True  \n",
       "\n",
       "[648 rows x 13 columns]"
      ]
     },
     "execution_count": 26,
     "metadata": {},
     "output_type": "execute_result"
    }
   ],
   "source": [
    "passed_students_df"
   ]
  },
  {
   "cell_type": "code",
   "execution_count": 27,
   "id": "2ddd1d25",
   "metadata": {},
   "outputs": [],
   "source": [
    "# вычисление доли учеников, успешно сдавших экзамены\n",
    "all_students = students_df.shape[0]\n",
    "count_passed_students = passed_students_df.shape[0]\n",
    "part_passed_students = count_passed_students / all_students * 100"
   ]
  },
  {
   "cell_type": "code",
   "execution_count": 28,
   "id": "d7e962b5",
   "metadata": {},
   "outputs": [
    {
     "data": {
      "text/plain": [
       "64.8"
      ]
     },
     "execution_count": 28,
     "metadata": {},
     "output_type": "execute_result"
    }
   ],
   "source": [
    "part_passed_students"
   ]
  },
  {
   "cell_type": "code",
   "execution_count": 29,
   "id": "bc52c3c0",
   "metadata": {},
   "outputs": [],
   "source": [
    "# загрузка данных о учениках, успешно сдавших экзамены, в csv-файл\n",
    "passed_students_df.to_csv('passed_students.csv')"
   ]
  },
  {
   "cell_type": "markdown",
   "id": "cb2957b8",
   "metadata": {},
   "source": [
    "Выводы:\n",
    "- были отобраны и сохранены в csv-файл ученики, успешно сдавшие экзамены по всем предметам\n",
    "- успешно справились с экзаменами 648 учеников, что составляет 64.8% от общего количества экзаменуемых учеников"
   ]
  },
  {
   "cell_type": "markdown",
   "id": "1835579b",
   "metadata": {},
   "source": [
    "# Корреляция баллов по различным дисциплинам"
   ]
  },
  {
   "cell_type": "code",
   "execution_count": 30,
   "id": "f380972c",
   "metadata": {},
   "outputs": [],
   "source": [
    "students_df_subjects = students_df[['math_score', 'reading_score', 'writing_score']]"
   ]
  },
  {
   "cell_type": "code",
   "execution_count": 31,
   "id": "98c8b205",
   "metadata": {},
   "outputs": [
    {
     "data": {
      "text/plain": [
       "<AxesSubplot:>"
      ]
     },
     "execution_count": 31,
     "metadata": {},
     "output_type": "execute_result"
    },
    {
     "data": {
      "image/png": "[encoded data removed]",
      "text/plain": [
       "<Figure size 576x432 with 2 Axes>"
      ]
     },
     "metadata": {
      "needs_background": "light"
     },
     "output_type": "display_data"
    }
   ],
   "source": [
    "plt.figure(figsize=(8, 6))\n",
    "sns.heatmap(students_df_subjects.corr(), cmap='Blues', annot=True)"
   ]
  },
  {
   "cell_type": "markdown",
   "id": "da5e09b9",
   "metadata": {},
   "source": [
    "Выводы:\n",
    "- баллы студентов по всем дисциплинам сильно коррелируют между собой. Корреляция положительная (значения коэффициента корреляции > 1), что свидетельствует о том, что чем больше баллов студент набирает по одному из предметов, тем больше баллов он наберет и по остальным. \n",
    "- наиболее сильно коррелируют баллы по чтению и письму, что вполне логично, ведь в основе обеих дисциплин лежит работа с текстом. "
   ]
  },
  {
   "cell_type": "markdown",
   "id": "fc690385",
   "metadata": {},
   "source": [
    "# Влияние пола, этнической принадлежности и уровня образования родителей на баллы, полученные учеником на экзаменах"
   ]
  },
  {
   "cell_type": "markdown",
   "id": "4da01663",
   "metadata": {},
   "source": [
    "## Пол"
   ]
  },
  {
   "cell_type": "code",
   "execution_count": 83,
   "id": "b701c8a6",
   "metadata": {},
   "outputs": [
    {
     "data": {
      "text/plain": [
       "Text(0.5, 0.98, 'Распределение студентов по полу')"
      ]
     },
     "execution_count": 83,
     "metadata": {},
     "output_type": "execute_result"
    },
    {
     "data": {
      "image/png": "[encoded data removed]",
      "text/plain": [
       "<Figure size 432x288 with 1 Axes>"
      ]
     },
     "metadata": {
      "needs_background": "light"
     },
     "output_type": "display_data"
    }
   ],
   "source": [
    "# построение столбчатой диаграммы, отражающей количество юношей и девушек в исходных данных\n",
    "sns.countplot(data=students_df, x=\"gender\", palette='Blues')\n",
    "plt.suptitle('Распределение студентов по полу')"
   ]
  },
  {
   "cell_type": "markdown",
   "id": "30daccf0",
   "metadata": {},
   "source": [
    "Количество юношей и девушек в исходных данных неодинаково; девушки преобладают (512 девушек, 482 юноши)."
   ]
  },
  {
   "cell_type": "code",
   "execution_count": 86,
   "id": "0795438f",
   "metadata": {},
   "outputs": [],
   "source": [
    "# создание DataFrame, содержащего обобщенные данные о баллах по различным предметам для юношей и девушек\n",
    "gender_scores = students_df.groupby('gender', as_index=False) \\\n",
    "    .agg({'race_ethnicity':'count','math_score':'median', 'reading_score':'median', 'writing_score':'median', 'total_score':'median'}) \\\n",
    "    .round(1) \\\n",
    "    .rename(columns={'race_ethnicity':'number_of_people'})"
   ]
  },
  {
   "cell_type": "code",
   "execution_count": 87,
   "id": "37939cbc",
   "metadata": {},
   "outputs": [
    {
     "data": {
      "text/html": [
       "<div>\n",
       "<style scoped>\n",
       "    .dataframe tbody tr th:only-of-type {\n",
       "        vertical-align: middle;\n",
       "    }\n",
       "\n",
       "    .dataframe tbody tr th {\n",
       "        vertical-align: top;\n",
       "    }\n",
       "\n",
       "    .dataframe thead th {\n",
       "        text-align: right;\n",
       "    }\n",
       "</style>\n",
       "<table border=\"1\" class=\"dataframe\">\n",
       "  <thead>\n",
       "    <tr style=\"text-align: right;\">\n",
       "      <th></th>\n",
       "      <th>gender</th>\n",
       "      <th>number_of_people</th>\n",
       "      <th>math_score</th>\n",
       "      <th>reading_score</th>\n",
       "      <th>writing_score</th>\n",
       "      <th>total_score</th>\n",
       "    </tr>\n",
       "  </thead>\n",
       "  <tbody>\n",
       "    <tr>\n",
       "      <th>0</th>\n",
       "      <td>female</td>\n",
       "      <td>518</td>\n",
       "      <td>65.0</td>\n",
       "      <td>73.0</td>\n",
       "      <td>74.0</td>\n",
       "      <td>211.0</td>\n",
       "    </tr>\n",
       "    <tr>\n",
       "      <th>1</th>\n",
       "      <td>male</td>\n",
       "      <td>482</td>\n",
       "      <td>69.0</td>\n",
       "      <td>66.0</td>\n",
       "      <td>64.0</td>\n",
       "      <td>199.0</td>\n",
       "    </tr>\n",
       "  </tbody>\n",
       "</table>\n",
       "</div>"
      ],
      "text/plain": [
       "   gender  number_of_people  math_score  reading_score  writing_score  \\\n",
       "0  female               518        65.0           73.0           74.0   \n",
       "1    male               482        69.0           66.0           64.0   \n",
       "\n",
       "   total_score  \n",
       "0        211.0  \n",
       "1        199.0  "
      ]
     },
     "execution_count": 87,
     "metadata": {},
     "output_type": "execute_result"
    }
   ],
   "source": [
    "gender_scores"
   ]
  },
  {
   "cell_type": "code",
   "execution_count": 35,
   "id": "b10c81eb",
   "metadata": {},
   "outputs": [
    {
     "data": {
      "text/plain": [
       "Text(0.5, 0.98, 'Распределение баллов по математике в зависимости от пола')"
      ]
     },
     "execution_count": 35,
     "metadata": {},
     "output_type": "execute_result"
    },
    {
     "data": {
      "image/png": "[encoded data removed]",
      "text/plain": [
       "<Figure size 432x288 with 1 Axes>"
      ]
     },
     "metadata": {
      "needs_background": "light"
     },
     "output_type": "display_data"
    }
   ],
   "source": [
    "sns.boxplot(x=\"gender\", y=\"math_score\", data=students_df, palette='Blues')\n",
    "plt.suptitle('Распределение баллов по математике в зависимости от пола')"
   ]
  },
  {
   "cell_type": "markdown",
   "id": "64b74151",
   "metadata": {},
   "source": [
    "Юноши имеют более высокую успеваемость по математике, баллы девушек несколько ниже. Кроме того, у девушек наблюдается несколько экстремально низких значений баллов (ниже 20). "
   ]
  },
  {
   "cell_type": "code",
   "execution_count": 36,
   "id": "1fd718e1",
   "metadata": {},
   "outputs": [
    {
     "data": {
      "text/plain": [
       "Text(0.5, 0.98, 'Распределение баллов по чтению в зависимости от пола')"
      ]
     },
     "execution_count": 36,
     "metadata": {},
     "output_type": "execute_result"
    },
    {
     "data": {
      "image/png": "[encoded data removed]",
      "text/plain": [
       "<Figure size 432x288 with 1 Axes>"
      ]
     },
     "metadata": {
      "needs_background": "light"
     },
     "output_type": "display_data"
    }
   ],
   "source": [
    "sns.boxplot(x=\"gender\", y=\"reading_score\", data=students_df, palette='Blues')\n",
    "plt.suptitle('Распределение баллов по чтению в зависимости от пола')"
   ]
  },
  {
   "cell_type": "markdown",
   "id": "3dce5198",
   "metadata": {},
   "source": [
    "По чтению девушки показывают более высокие результаты, чем юноши. Так, медианное значение баллов для девушек сопоставимо с 75-м процентилем баллов для юношей, однако у девушек наблюдается и больше экстремально низких значений баллов (выбросов). "
   ]
  },
  {
   "cell_type": "code",
   "execution_count": 37,
   "id": "0d2c2e64",
   "metadata": {},
   "outputs": [
    {
     "data": {
      "text/plain": [
       "Text(0.5, 0.98, 'Распределение баллов по письму в зависимости от пола')"
      ]
     },
     "execution_count": 37,
     "metadata": {},
     "output_type": "execute_result"
    },
    {
     "data": {
      "image/png": "[encoded data removed]",
      "text/plain": [
       "<Figure size 432x288 with 1 Axes>"
      ]
     },
     "metadata": {
      "needs_background": "light"
     },
     "output_type": "display_data"
    }
   ],
   "source": [
    "sns.boxplot(x=\"gender\", y=\"writing_score\", data=students_df, palette='Blues')\n",
    "plt.suptitle('Распределение баллов по письму в зависимости от пола')"
   ]
  },
  {
   "cell_type": "markdown",
   "id": "b453d70d",
   "metadata": {},
   "source": [
    "Аналогичная ситуация и с письмом: баллы девушек выше баллов юношей, медианное значение баллов девушек сопоставимо с 75-м процентилем баллов юношей. Вновь у девушек наблюдается большее количество выбросов."
   ]
  },
  {
   "cell_type": "code",
   "execution_count": 38,
   "id": "2ee588c1",
   "metadata": {},
   "outputs": [
    {
     "data": {
      "text/plain": [
       "Text(0.5, 0.98, 'Распределение общей суммы баллов в зависимости от пола')"
      ]
     },
     "execution_count": 38,
     "metadata": {},
     "output_type": "execute_result"
    },
    {
     "data": {
      "image/png": "[encoded data removed]",
      "text/plain": [
       "<Figure size 432x288 with 1 Axes>"
      ]
     },
     "metadata": {
      "needs_background": "light"
     },
     "output_type": "display_data"
    }
   ],
   "source": [
    "sns.boxplot(x=\"gender\", y=\"total_score\", data=students_df, palette='Blues')\n",
    "plt.suptitle('Распределение общей суммы баллов в зависимости от пола')"
   ]
  },
  {
   "cell_type": "markdown",
   "id": "eb9412b9",
   "metadata": {},
   "source": [
    "Общая сумма баллов девушек незначительно превышает общую сумму баллов юношей. Тенденция к наличию большого количества выбросов у девушек продолжает прослеживаться."
   ]
  },
  {
   "cell_type": "markdown",
   "id": "8e1306e3",
   "metadata": {},
   "source": [
    "Выводы:\n",
    "- успеваемость учеников варьирует в зависимости от их пола\n",
    "- девушки имеют более высокую успеваемость по всем дисциплинам, кроме математики\n",
    "- баллы, набранные студентами по математике, ниже баллов, набранных по чтению и письму\n",
    "- девушки чаще проваливают экзамены"
   ]
  },
  {
   "cell_type": "markdown",
   "id": "564feaca",
   "metadata": {},
   "source": [
    "## Этническая принадлежность"
   ]
  },
  {
   "cell_type": "code",
   "execution_count": 116,
   "id": "dddba3b7",
   "metadata": {},
   "outputs": [
    {
     "data": {
      "text/plain": [
       "Text(0.5, 0.98, 'Распределение студентов по этнической принадлежности')"
      ]
     },
     "execution_count": 116,
     "metadata": {},
     "output_type": "execute_result"
    },
    {
     "data": {
      "image/png": "[encoded data removed]",
      "text/plain": [
       "<Figure size 432x288 with 1 Axes>"
      ]
     },
     "metadata": {
      "needs_background": "light"
     },
     "output_type": "display_data"
    }
   ],
   "source": [
    "# построение столбчатой диаграммы, отражающей количество представителей различных этнических групп в исходных данных\n",
    "sns.countplot(data=students_df, x=\"race_ethnicity\", palette='Greens', order=['group A', 'group B', 'group C', 'group D', 'group E'])\n",
    "plt.suptitle('Распределение студентов по этнической принадлежности')"
   ]
  },
  {
   "cell_type": "markdown",
   "id": "2de2c87e",
   "metadata": {},
   "source": [
    "В распределении учеников по этническим группам наблюдается дисбаланс. Максимальное количество студентов относится к группам C и D, минимальное количество - к группам A и E. Наиболее близко к \"эталонному\" количеству человек находится группа B (чуть менее 200 при \"эталонном\" количестве 200)."
   ]
  },
  {
   "cell_type": "code",
   "execution_count": 88,
   "id": "9c34383d",
   "metadata": {},
   "outputs": [],
   "source": [
    "# создание DataFrame, содержащего обобщенные данные о баллах по различным предметам для представителей различных этнических групп\n",
    "ethnicity_scores = students_df.groupby('race_ethnicity', as_index=False) \\\n",
    "    .agg({'gender':'count', 'math_score':'mean', 'reading_score':'mean', 'writing_score':'mean', 'total_score':'mean'}) \\\n",
    "    .round(1) \\\n",
    "    .rename(columns={'gender':'number_of_people'})"
   ]
  },
  {
   "cell_type": "code",
   "execution_count": 89,
   "id": "780d5d0d",
   "metadata": {},
   "outputs": [
    {
     "data": {
      "text/html": [
       "<div>\n",
       "<style scoped>\n",
       "    .dataframe tbody tr th:only-of-type {\n",
       "        vertical-align: middle;\n",
       "    }\n",
       "\n",
       "    .dataframe tbody tr th {\n",
       "        vertical-align: top;\n",
       "    }\n",
       "\n",
       "    .dataframe thead th {\n",
       "        text-align: right;\n",
       "    }\n",
       "</style>\n",
       "<table border=\"1\" class=\"dataframe\">\n",
       "  <thead>\n",
       "    <tr style=\"text-align: right;\">\n",
       "      <th></th>\n",
       "      <th>race_ethnicity</th>\n",
       "      <th>number_of_people</th>\n",
       "      <th>math_score</th>\n",
       "      <th>reading_score</th>\n",
       "      <th>writing_score</th>\n",
       "      <th>total_score</th>\n",
       "    </tr>\n",
       "  </thead>\n",
       "  <tbody>\n",
       "    <tr>\n",
       "      <th>0</th>\n",
       "      <td>group A</td>\n",
       "      <td>89</td>\n",
       "      <td>61.6</td>\n",
       "      <td>64.7</td>\n",
       "      <td>62.7</td>\n",
       "      <td>189.0</td>\n",
       "    </tr>\n",
       "    <tr>\n",
       "      <th>1</th>\n",
       "      <td>group B</td>\n",
       "      <td>190</td>\n",
       "      <td>63.5</td>\n",
       "      <td>67.4</td>\n",
       "      <td>65.6</td>\n",
       "      <td>196.4</td>\n",
       "    </tr>\n",
       "    <tr>\n",
       "      <th>2</th>\n",
       "      <td>group C</td>\n",
       "      <td>319</td>\n",
       "      <td>64.5</td>\n",
       "      <td>69.1</td>\n",
       "      <td>67.8</td>\n",
       "      <td>201.4</td>\n",
       "    </tr>\n",
       "    <tr>\n",
       "      <th>3</th>\n",
       "      <td>group D</td>\n",
       "      <td>262</td>\n",
       "      <td>67.4</td>\n",
       "      <td>70.0</td>\n",
       "      <td>70.1</td>\n",
       "      <td>207.5</td>\n",
       "    </tr>\n",
       "    <tr>\n",
       "      <th>4</th>\n",
       "      <td>group E</td>\n",
       "      <td>140</td>\n",
       "      <td>73.8</td>\n",
       "      <td>73.0</td>\n",
       "      <td>71.4</td>\n",
       "      <td>218.3</td>\n",
       "    </tr>\n",
       "  </tbody>\n",
       "</table>\n",
       "</div>"
      ],
      "text/plain": [
       "  race_ethnicity  number_of_people  math_score  reading_score  writing_score  \\\n",
       "0        group A                89        61.6           64.7           62.7   \n",
       "1        group B               190        63.5           67.4           65.6   \n",
       "2        group C               319        64.5           69.1           67.8   \n",
       "3        group D               262        67.4           70.0           70.1   \n",
       "4        group E               140        73.8           73.0           71.4   \n",
       "\n",
       "   total_score  \n",
       "0        189.0  \n",
       "1        196.4  \n",
       "2        201.4  \n",
       "3        207.5  \n",
       "4        218.3  "
      ]
     },
     "execution_count": 89,
     "metadata": {},
     "output_type": "execute_result"
    }
   ],
   "source": [
    "ethnicity_scores"
   ]
  },
  {
   "cell_type": "code",
   "execution_count": 124,
   "id": "88ddb470",
   "metadata": {},
   "outputs": [],
   "source": [
    "# написание функции для добавления подписей к графикам\n",
    "def add_labels(graph_name):\n",
    "    for p in graph_name.patches:\n",
    "        graph_name.annotate('{:.0f}'.format(p.get_height()), (p.get_x()+0.2, p.get_height()),\n",
    "                   ha='center', va='bottom', color= 'black', fontsize=12)"
   ]
  },
  {
   "cell_type": "code",
   "execution_count": 127,
   "id": "a833356f",
   "metadata": {},
   "outputs": [
    {
     "data": {
      "image/png": "[encoded data removed]",
      "text/plain": [
       "<Figure size 432x288 with 1 Axes>"
      ]
     },
     "metadata": {
      "needs_background": "light"
     },
     "output_type": "display_data"
    }
   ],
   "source": [
    "graph_ethnicity_math = sns.barplot(x=\"race_ethnicity\", y=\"math_score\", data=students_df, palette='Greens', order=['group A', 'group B', 'group C', 'group D', 'group E'])\n",
    "plt.suptitle('Распределение баллов по математике в зависимости от этнической принадлежности')\n",
    "\n",
    "add_labels(graph_ethnicity_math)"
   ]
  },
  {
   "cell_type": "markdown",
   "id": "4b9ce81a",
   "metadata": {},
   "source": [
    "От группы A к группе E успеваемость студентов увеличивается (на 12 баллов)."
   ]
  },
  {
   "cell_type": "code",
   "execution_count": 128,
   "id": "a87f39e3",
   "metadata": {},
   "outputs": [
    {
     "data": {
      "image/png": "[encoded data removed]",
      "text/plain": [
       "<Figure size 432x288 with 1 Axes>"
      ]
     },
     "metadata": {
      "needs_background": "light"
     },
     "output_type": "display_data"
    }
   ],
   "source": [
    "graph_ethnicity_reading = sns.barplot(x=\"race_ethnicity\", y=\"reading_score\", data=students_df, palette='Greens', order=['group A', 'group B', 'group C', 'group D', 'group E'])\n",
    "plt.suptitle('Распределение баллов по чтению в зависимости от этнической принадлежности')\n",
    "\n",
    "add_labels(graph_ethnicity_reading)"
   ]
  },
  {
   "cell_type": "markdown",
   "id": "6b4593d0",
   "metadata": {},
   "source": [
    "Тенденция к увеличению баллов от группы A к группе E сохраняется (на 8 баллов)."
   ]
  },
  {
   "cell_type": "code",
   "execution_count": 129,
   "id": "560ee9cc",
   "metadata": {},
   "outputs": [
    {
     "data": {
      "image/png": "[encoded data removed]",
      "text/plain": [
       "<Figure size 432x288 with 1 Axes>"
      ]
     },
     "metadata": {
      "needs_background": "light"
     },
     "output_type": "display_data"
    }
   ],
   "source": [
    "graph_ethnicity_writing = sns.barplot(x=\"race_ethnicity\", y=\"writing_score\", data=students_df, palette='Greens', order=['group A', 'group B', 'group C', 'group D', 'group E'])\n",
    "plt.suptitle('Распределение баллов по письму в зависимости от этнической принадлежности')\n",
    "\n",
    "add_labels(graph_ethnicity_writing)"
   ]
  },
  {
   "cell_type": "markdown",
   "id": "9a72f910",
   "metadata": {},
   "source": [
    "И вновь самая низкая успеваемость характерна для группы А, самая высокая - для группы Е (разность баллов между группами составляет 8)."
   ]
  },
  {
   "cell_type": "code",
   "execution_count": 130,
   "id": "679520fa",
   "metadata": {},
   "outputs": [
    {
     "data": {
      "image/png": "[encoded data removed]",
      "text/plain": [
       "<Figure size 432x288 with 1 Axes>"
      ]
     },
     "metadata": {
      "needs_background": "light"
     },
     "output_type": "display_data"
    }
   ],
   "source": [
    "graph_ethnicity_total = sns.barplot(x=\"race_ethnicity\", y=\"total_score\", data=students_df, palette='Greens', order=['group A', 'group B', 'group C', 'group D', 'group E'])\n",
    "plt.suptitle('Распределение общего количества баллов в зависимости от этнической принадлежности')\n",
    "\n",
    "add_labels(graph_ethnicity_total)"
   ]
  },
  {
   "cell_type": "markdown",
   "id": "c6932d21",
   "metadata": {},
   "source": [
    "Минимальное суммарное количество баллов у группы А, максимальное - у группы Е. Разность между максимальным и минимальным результатом составляет 29 баллов"
   ]
  },
  {
   "cell_type": "markdown",
   "id": "60663841",
   "metadata": {},
   "source": [
    "Выводы:\n",
    "- количество баллов, полученное на экзаменах студентами различных этнических групп, различается\n",
    "- максимальное количество баллов по всем дисциплинам, а также максимальная общая сумма баллов были получены студентами группы Е\n",
    "- затем баллы между группами распределялись следующим образом (от максимальных значений к минимальным): D -> C -> B -> A\n",
    "- максимальная разность баллов между группами А и Е - по математике (12 баллов); по чтению и письму разность баллов одинакова (8 баллов)"
   ]
  },
  {
   "cell_type": "markdown",
   "id": "37797b21",
   "metadata": {},
   "source": [
    "## Уровень образования родителей"
   ]
  },
  {
   "cell_type": "code",
   "execution_count": 136,
   "id": "5fbafb3b",
   "metadata": {},
   "outputs": [
    {
     "data": {
      "text/plain": [
       "(array([0, 1, 2, 3, 4, 5]),\n",
       " [Text(0, 0, \"bachelor's degree\"),\n",
       "  Text(1, 0, 'some college'),\n",
       "  Text(2, 0, \"master's degree\"),\n",
       "  Text(3, 0, \"associate's degree\"),\n",
       "  Text(4, 0, 'high school'),\n",
       "  Text(5, 0, 'some high school')])"
      ]
     },
     "execution_count": 136,
     "metadata": {},
     "output_type": "execute_result"
    },
    {
     "data": {
      "image/png": "[encoded data removed]",
      "text/plain": [
       "<Figure size 432x288 with 1 Axes>"
      ]
     },
     "metadata": {
      "needs_background": "light"
     },
     "output_type": "display_data"
    }
   ],
   "source": [
    "# построение столбчатой диаграммы, отражающей количество студентов, родители которых имеют определенный уровень образования \n",
    "parental_graph = sns.countplot(data=students_df, x=\"parental_level_of_education\", palette='Purples')\n",
    "plt.suptitle('Распределение студентов по уровню образования родителей')\n",
    "plt.xticks(rotation=45, horizontalalignment='right')"
   ]
  },
  {
   "cell_type": "markdown",
   "id": "ac6ce7ed",
   "metadata": {},
   "source": [
    "Группы, сформированные в ходе распределения студентов по уровню образования родителей, имеют разный размер. Так, наибольшее количество студентов было определено в группы some college и associate degree, наименьшее - в группы master's degree и bachelor's degree. Другими словами, родители большей части студентов имеют среднее или неполное высшее образование, родители значительной части обучающихся - школьное образование, родители самой малозначительной группы студентов - степень бакалавра или магистра."
   ]
  },
  {
   "cell_type": "code",
   "execution_count": 122,
   "id": "10ceae3b",
   "metadata": {},
   "outputs": [],
   "source": [
    "# создание DataFrame, содержащего обобщенные данные о баллах по различным предметам для представителей различных этнических групп\n",
    "parents_education_scores = students_df.groupby('parental_level_of_education', as_index=False) \\\n",
    "    .agg({'gender':'count', 'math_score':'mean', 'reading_score':'mean', 'writing_score':'mean', 'total_score':'mean'}) \\\n",
    "    .round(1) \\\n",
    "    .rename(columns={'gender':'number_of_people'})"
   ]
  },
  {
   "cell_type": "code",
   "execution_count": 123,
   "id": "ed31a415",
   "metadata": {},
   "outputs": [
    {
     "data": {
      "text/html": [
       "<div>\n",
       "<style scoped>\n",
       "    .dataframe tbody tr th:only-of-type {\n",
       "        vertical-align: middle;\n",
       "    }\n",
       "\n",
       "    .dataframe tbody tr th {\n",
       "        vertical-align: top;\n",
       "    }\n",
       "\n",
       "    .dataframe thead th {\n",
       "        text-align: right;\n",
       "    }\n",
       "</style>\n",
       "<table border=\"1\" class=\"dataframe\">\n",
       "  <thead>\n",
       "    <tr style=\"text-align: right;\">\n",
       "      <th></th>\n",
       "      <th>parental_level_of_education</th>\n",
       "      <th>number_of_people</th>\n",
       "      <th>math_score</th>\n",
       "      <th>reading_score</th>\n",
       "      <th>writing_score</th>\n",
       "      <th>total_score</th>\n",
       "    </tr>\n",
       "  </thead>\n",
       "  <tbody>\n",
       "    <tr>\n",
       "      <th>0</th>\n",
       "      <td>associate's degree</td>\n",
       "      <td>222</td>\n",
       "      <td>67.9</td>\n",
       "      <td>70.9</td>\n",
       "      <td>69.9</td>\n",
       "      <td>208.7</td>\n",
       "    </tr>\n",
       "    <tr>\n",
       "      <th>1</th>\n",
       "      <td>bachelor's degree</td>\n",
       "      <td>118</td>\n",
       "      <td>69.4</td>\n",
       "      <td>73.0</td>\n",
       "      <td>73.4</td>\n",
       "      <td>215.8</td>\n",
       "    </tr>\n",
       "    <tr>\n",
       "      <th>2</th>\n",
       "      <td>high school</td>\n",
       "      <td>196</td>\n",
       "      <td>62.1</td>\n",
       "      <td>64.7</td>\n",
       "      <td>62.4</td>\n",
       "      <td>189.3</td>\n",
       "    </tr>\n",
       "    <tr>\n",
       "      <th>3</th>\n",
       "      <td>master's degree</td>\n",
       "      <td>59</td>\n",
       "      <td>69.7</td>\n",
       "      <td>75.4</td>\n",
       "      <td>75.7</td>\n",
       "      <td>220.8</td>\n",
       "    </tr>\n",
       "    <tr>\n",
       "      <th>4</th>\n",
       "      <td>some college</td>\n",
       "      <td>226</td>\n",
       "      <td>67.1</td>\n",
       "      <td>69.5</td>\n",
       "      <td>68.8</td>\n",
       "      <td>205.4</td>\n",
       "    </tr>\n",
       "    <tr>\n",
       "      <th>5</th>\n",
       "      <td>some high school</td>\n",
       "      <td>179</td>\n",
       "      <td>63.5</td>\n",
       "      <td>66.9</td>\n",
       "      <td>64.9</td>\n",
       "      <td>195.3</td>\n",
       "    </tr>\n",
       "  </tbody>\n",
       "</table>\n",
       "</div>"
      ],
      "text/plain": [
       "  parental_level_of_education  number_of_people  math_score  reading_score  \\\n",
       "0          associate's degree               222        67.9           70.9   \n",
       "1           bachelor's degree               118        69.4           73.0   \n",
       "2                 high school               196        62.1           64.7   \n",
       "3             master's degree                59        69.7           75.4   \n",
       "4                some college               226        67.1           69.5   \n",
       "5            some high school               179        63.5           66.9   \n",
       "\n",
       "   writing_score  total_score  \n",
       "0           69.9        208.7  \n",
       "1           73.4        215.8  \n",
       "2           62.4        189.3  \n",
       "3           75.7        220.8  \n",
       "4           68.8        205.4  \n",
       "5           64.9        195.3  "
      ]
     },
     "execution_count": 123,
     "metadata": {},
     "output_type": "execute_result"
    }
   ],
   "source": [
    "parents_education_scores"
   ]
  },
  {
   "cell_type": "code",
   "execution_count": 146,
   "id": "376c5be0",
   "metadata": {},
   "outputs": [
    {
     "data": {
      "image/png": "[encoded data removed]",
      "text/plain": [
       "<Figure size 432x288 with 1 Axes>"
      ]
     },
     "metadata": {
      "needs_background": "light"
     },
     "output_type": "display_data"
    }
   ],
   "source": [
    "graph_parental_math = sns.barplot(x=\"parental_level_of_education\", y=\"math_score\", data=students_df, palette='Purples', \n",
    "                                  order=parents_education_scores.sort_values('math_score')['parental_level_of_education'])\n",
    "plt.suptitle('Распределение баллов по математике в зависимости от уровня образования родителей')\n",
    "plt.xticks(rotation=45, horizontalalignment='right')\n",
    "\n",
    "add_labels(graph_parental_math)"
   ]
  },
  {
   "cell_type": "markdown",
   "id": "77069336",
   "metadata": {},
   "source": [
    "Максимальные результаты по математике получили студенты, родители которых имеют степень бакалавра или магистра, минимальные - родители которых имеют школьное образование. Разница между результатами студентов составляет 8 баллов. "
   ]
  },
  {
   "cell_type": "code",
   "execution_count": 148,
   "id": "a48b1d7d",
   "metadata": {},
   "outputs": [
    {
     "data": {
      "image/png": "[encoded data removed]",
      "text/plain": [
       "<Figure size 432x288 with 1 Axes>"
      ]
     },
     "metadata": {
      "needs_background": "light"
     },
     "output_type": "display_data"
    }
   ],
   "source": [
    "graph_parental_reading = sns.barplot(x=\"parental_level_of_education\", y=\"reading_score\", data=students_df, palette='Purples',\n",
    "                                     order=parents_education_scores.sort_values('reading_score')['parental_level_of_education'])\n",
    "plt.suptitle('Распределение баллов по чтению в зависимости от уровня образования родителей')\n",
    "plt.xticks(rotation=45, horizontalalignment='right')\n",
    "\n",
    "add_labels(graph_parental_reading)"
   ]
  },
  {
   "cell_type": "markdown",
   "id": "b271ea32",
   "metadata": {},
   "source": [
    "Распределение баллов по чтению аналогично: наиболее высокая успеваемость наблюдается у студентов, родители которых имеют степень бакалавра/магистра, наиболее низкая - у студентов, родители которых имеют образование старшей школы. Размах составляет 10 баллов. "
   ]
  },
  {
   "cell_type": "code",
   "execution_count": 151,
   "id": "56b58341",
   "metadata": {},
   "outputs": [
    {
     "data": {
      "image/png": "[encoded data removed]",
      "text/plain": [
       "<Figure size 432x288 with 1 Axes>"
      ]
     },
     "metadata": {
      "needs_background": "light"
     },
     "output_type": "display_data"
    }
   ],
   "source": [
    "graph_parental_writing = sns.barplot(x=\"parental_level_of_education\", y=\"writing_score\", data=students_df, palette='Purples',\n",
    "                                    order=parents_education_scores.sort_values('writing_score')['parental_level_of_education'])\n",
    "plt.suptitle('Распределение баллов по письму в зависимости от уровня образования родителей')\n",
    "plt.xticks(rotation=45, horizontalalignment='right')\n",
    "\n",
    "add_labels(graph_parental_writing)"
   ]
  },
  {
   "cell_type": "markdown",
   "id": "a55e6eca",
   "metadata": {},
   "source": [
    "Вновь прослеживается тенденция, описанная выше: студенты, чьи родители окончили бакалавриат или магистратуру, справились с экзаменом успешнее, чем студенты, чьи родители окончили старшую школу. Разность между минимальным и максимальным результатом составляет 14 баллов. "
   ]
  },
  {
   "cell_type": "code",
   "execution_count": 156,
   "id": "dfaaf073",
   "metadata": {},
   "outputs": [
    {
     "data": {
      "image/png": "[encoded data removed]",
      "text/plain": [
       "<Figure size 432x288 with 1 Axes>"
      ]
     },
     "metadata": {
      "needs_background": "light"
     },
     "output_type": "display_data"
    }
   ],
   "source": [
    "graph_parental_total = sns.barplot(x=\"parental_level_of_education\", y=\"total_score\", data=students_df, palette='Purples',\n",
    "                                  order=parents_education_scores.sort_values('total_score')['parental_level_of_education'])\n",
    "plt.suptitle('Распределение общего количества баллов в зависимости от уровня образования родителей')\n",
    "plt.xticks(rotation=45, horizontalalignment='right')\n",
    "\n",
    "for p in graph_parental_total.patches:\n",
    "    graph_parental_total.annotate('{:.0f}'.format(p.get_height()), (p.get_x()+0.15, p.get_height()),\n",
    "                        ha='center', va='bottom', color= 'black', fontsize=11)"
   ]
  },
  {
   "cell_type": "markdown",
   "id": "100dd01c",
   "metadata": {},
   "source": [
    "Закономерность остаётся прежней: максимальные суммы баллов у студентов, родители которых имеют степень бакалавра/магистра, минимальные - у студентов, родители которых имеют школьное образование. Размах составляет 32 балла. "
   ]
  },
  {
   "cell_type": "markdown",
   "id": "8417f27b",
   "metadata": {},
   "source": [
    "Выводы:\n",
    "- студенты, родители которых имеют разный уровень образования, получили на экзаменах разное количество баллов\n",
    "- студенты, родители которых имеют степень бакалавра или магистра, показали на экзаменах лучшие результаты, чем студенты, родители которых имеют школьное образование; эта тенденция прослеживается для всех предметов\n",
    "- разность баллов, полученных студентами, родители которых окончили магистратуру, и студентами, родители которых окончили старушю школу, распределяется следующим образом (от большего к меньшему): письмо -> чтение -> математика "
   ]
  },
  {
   "cell_type": "markdown",
   "id": "04c886e7",
   "metadata": {},
   "source": [
    "# Эффективность подготовительных курсов"
   ]
  },
  {
   "cell_type": "code",
   "execution_count": 163,
   "id": "99ee1183",
   "metadata": {},
   "outputs": [
    {
     "data": {
      "text/plain": [
       "Text(0.5, 0.98, 'Разделение студентов на группы в зависимости от посещения подготовительных курсов')"
      ]
     },
     "execution_count": 163,
     "metadata": {},
     "output_type": "execute_result"
    },
    {
     "data": {
      "image/png": "[encoded data removed]",
      "text/plain": [
       "<Figure size 432x288 with 1 Axes>"
      ]
     },
     "metadata": {
      "needs_background": "light"
     },
     "output_type": "display_data"
    }
   ],
   "source": [
    "# построение столбчатой диаграммы, отражающей количество студентов, посещавших подготовительные курсы\n",
    "sns.countplot(data=students_df, x=\"test_preparation_course\", palette='Pastel1_r')\n",
    "plt.suptitle('Разделение студентов на группы в зависимости от посещения подготовительных курсов')"
   ]
  },
  {
   "cell_type": "code",
   "execution_count": 168,
   "id": "6b88deea",
   "metadata": {},
   "outputs": [],
   "source": [
    "# создание DataFrame, содержащего информацию о количестве студентов (не)прошедших курсы\n",
    "students_courses = students_df.groupby('test_preparation_course', as_index=False).agg({'total_score':'count'})"
   ]
  },
  {
   "cell_type": "code",
   "execution_count": 177,
   "id": "fc97df51",
   "metadata": {},
   "outputs": [
    {
     "data": {
      "text/html": [
       "<div>\n",
       "<style scoped>\n",
       "    .dataframe tbody tr th:only-of-type {\n",
       "        vertical-align: middle;\n",
       "    }\n",
       "\n",
       "    .dataframe tbody tr th {\n",
       "        vertical-align: top;\n",
       "    }\n",
       "\n",
       "    .dataframe thead th {\n",
       "        text-align: right;\n",
       "    }\n",
       "</style>\n",
       "<table border=\"1\" class=\"dataframe\">\n",
       "  <thead>\n",
       "    <tr style=\"text-align: right;\">\n",
       "      <th></th>\n",
       "      <th>test_preparation_course</th>\n",
       "      <th>total_score</th>\n",
       "    </tr>\n",
       "  </thead>\n",
       "  <tbody>\n",
       "    <tr>\n",
       "      <th>0</th>\n",
       "      <td>completed</td>\n",
       "      <td>358</td>\n",
       "    </tr>\n",
       "    <tr>\n",
       "      <th>1</th>\n",
       "      <td>none</td>\n",
       "      <td>642</td>\n",
       "    </tr>\n",
       "  </tbody>\n",
       "</table>\n",
       "</div>"
      ],
      "text/plain": [
       "  test_preparation_course  total_score\n",
       "0               completed          358\n",
       "1                    none          642"
      ]
     },
     "execution_count": 177,
     "metadata": {},
     "output_type": "execute_result"
    }
   ],
   "source": [
    "students_courses"
   ]
  },
  {
   "cell_type": "code",
   "execution_count": 175,
   "id": "01afe822",
   "metadata": {},
   "outputs": [],
   "source": [
    "# расчёт доли студентов, прошедших подготовительные курсы\n",
    "students_complete_course = students_courses.query('test_preparation_course == \"completed\"').total_score\n",
    "students_complete_course_part = students_complete_course / all_students * 100"
   ]
  },
  {
   "cell_type": "code",
   "execution_count": 176,
   "id": "d171535a",
   "metadata": {},
   "outputs": [
    {
     "data": {
      "text/plain": [
       "0    35.8\n",
       "Name: total_score, dtype: float64"
      ]
     },
     "execution_count": 176,
     "metadata": {},
     "output_type": "execute_result"
    }
   ],
   "source": [
    "students_complete_course_part"
   ]
  },
  {
   "cell_type": "markdown",
   "id": "e0e1894c",
   "metadata": {},
   "source": [
    "Из 1000 студентов подготовительные курсы посещало 358 человек (35.8%)"
   ]
  },
  {
   "cell_type": "code",
   "execution_count": 74,
   "id": "1e7ecaf8",
   "metadata": {},
   "outputs": [],
   "source": [
    "# создание DataFrame, содержащего обобщенные данные о баллах по различным предметам для студентов (не)посещавших курсы\n",
    "course_df = students_df.groupby('test_preparation_course', as_index=False) \\\n",
    "    .agg({'math_score':'mean', 'reading_score':'mean', 'writing_score':'mean', 'total_score':'mean'}).round(2)"
   ]
  },
  {
   "cell_type": "code",
   "execution_count": 75,
   "id": "f10e18bf",
   "metadata": {},
   "outputs": [
    {
     "data": {
      "text/html": [
       "<div>\n",
       "<style scoped>\n",
       "    .dataframe tbody tr th:only-of-type {\n",
       "        vertical-align: middle;\n",
       "    }\n",
       "\n",
       "    .dataframe tbody tr th {\n",
       "        vertical-align: top;\n",
       "    }\n",
       "\n",
       "    .dataframe thead th {\n",
       "        text-align: right;\n",
       "    }\n",
       "</style>\n",
       "<table border=\"1\" class=\"dataframe\">\n",
       "  <thead>\n",
       "    <tr style=\"text-align: right;\">\n",
       "      <th></th>\n",
       "      <th>test_preparation_course</th>\n",
       "      <th>math_score</th>\n",
       "      <th>reading_score</th>\n",
       "      <th>writing_score</th>\n",
       "      <th>total_score</th>\n",
       "    </tr>\n",
       "  </thead>\n",
       "  <tbody>\n",
       "    <tr>\n",
       "      <th>0</th>\n",
       "      <td>completed</td>\n",
       "      <td>69.70</td>\n",
       "      <td>73.89</td>\n",
       "      <td>74.42</td>\n",
       "      <td>218.01</td>\n",
       "    </tr>\n",
       "    <tr>\n",
       "      <th>1</th>\n",
       "      <td>none</td>\n",
       "      <td>64.08</td>\n",
       "      <td>66.53</td>\n",
       "      <td>64.50</td>\n",
       "      <td>195.12</td>\n",
       "    </tr>\n",
       "  </tbody>\n",
       "</table>\n",
       "</div>"
      ],
      "text/plain": [
       "  test_preparation_course  math_score  reading_score  writing_score  \\\n",
       "0               completed       69.70          73.89          74.42   \n",
       "1                    none       64.08          66.53          64.50   \n",
       "\n",
       "   total_score  \n",
       "0       218.01  \n",
       "1       195.12  "
      ]
     },
     "execution_count": 75,
     "metadata": {},
     "output_type": "execute_result"
    }
   ],
   "source": [
    "course_df"
   ]
  },
  {
   "cell_type": "code",
   "execution_count": 180,
   "id": "e1880d49",
   "metadata": {
    "pycharm": {
     "is_executing": true
    }
   },
   "outputs": [
    {
     "data": {
      "text/plain": [
       "Text(0.5, 0.98, 'Распределение баллов по математике в зависимости от посещения подготовительных курсов')"
      ]
     },
     "execution_count": 180,
     "metadata": {},
     "output_type": "execute_result"
    },
    {
     "data": {
      "image/png": "[encoded data removed]",
      "text/plain": [
       "<Figure size 432x288 with 1 Axes>"
      ]
     },
     "metadata": {
      "needs_background": "light"
     },
     "output_type": "display_data"
    }
   ],
   "source": [
    "sns.boxplot(x='test_preparation_course', y='math_score', data=students_df, palette='Pastel1_r')\n",
    "plt.suptitle('Распределение баллов по математике в зависимости от посещения подготовительных курсов')"
   ]
  },
  {
   "cell_type": "markdown",
   "id": "71551da7",
   "metadata": {
    "pycharm": {
     "is_executing": true
    }
   },
   "source": [
    "Студенты, посещавшие подготовительные курсы, получили больше баллов на экзамене по математике. Кроме того, данные студенты значительно реже показывали экстремально низкие результаты (выбросы). \n",
    "Исходя из вышенаписанного можно сделать вывод о эффективности подготовительных курсов по математике."
   ]
  },
  {
   "cell_type": "code",
   "execution_count": 165,
   "id": "b3860544",
   "metadata": {},
   "outputs": [
    {
     "data": {
      "text/plain": [
       "Text(0.5, 0.98, 'Распределение баллов по чтению в зависимости от посещения подготовительных курсов')"
      ]
     },
     "execution_count": 165,
     "metadata": {},
     "output_type": "execute_result"
    },
    {
     "data": {
      "image/png": "[encoded data removed]",
      "text/plain": [
       "<Figure size 432x288 with 1 Axes>"
      ]
     },
     "metadata": {
      "needs_background": "light"
     },
     "output_type": "display_data"
    }
   ],
   "source": [
    "sns.boxplot(x='test_preparation_course', y='reading_score', data=students_df, palette='Pastel1_r')\n",
    "plt.suptitle('Распределение баллов по чтению в зависимости от посещения подготовительных курсов')"
   ]
  },
  {
   "cell_type": "markdown",
   "id": "270d0153",
   "metadata": {},
   "source": [
    "Подготовительные курсы по чтению оказались еще более эффективными, чем курсы по математике, поскольку медианные значения баллов студентов, посещавших курсы, существенно выше медианных значений баллов не посещавших курсы студентов. Более того, студенты, посещавшие курсы, не получили экстремально низких баллов на экзамене (нет выбросов)."
   ]
  },
  {
   "cell_type": "code",
   "execution_count": 166,
   "id": "eb41d96c",
   "metadata": {},
   "outputs": [
    {
     "data": {
      "text/plain": [
       "Text(0.5, 0.98, 'Распределение баллов по письму в зависимости от посещения подготовительных курсов')"
      ]
     },
     "execution_count": 166,
     "metadata": {},
     "output_type": "execute_result"
    },
    {
     "data": {
      "image/png": "[encoded data removed]",
      "text/plain": [
       "<Figure size 432x288 with 1 Axes>"
      ]
     },
     "metadata": {
      "needs_background": "light"
     },
     "output_type": "display_data"
    }
   ],
   "source": [
    "sns.boxplot(x='test_preparation_course', y='writing_score', data=students_df, palette='Pastel1_r')\n",
    "plt.suptitle('Распределение баллов по письму в зависимости от посещения подготовительных курсов')"
   ]
  },
  {
   "cell_type": "markdown",
   "id": "4e49b9e1",
   "metadata": {},
   "source": [
    "Аналогичная ситуация наблюдается и с экзаменом по письму: студенты, посещавшие курсы, показали гораздо более высокие результаты, чем студенты, их не посещавшие. Кроме того, даже студенты, которые посещали подготовительные курсы и получили экстремально низкие баллы (выбросы), показали гораздо более высокие результаты (около 40 баллов) по сравнению со студентами, не посещавшими курсы (около 30 баллов и меньше)."
   ]
  },
  {
   "cell_type": "code",
   "execution_count": 167,
   "id": "d9baca63",
   "metadata": {},
   "outputs": [
    {
     "data": {
      "text/plain": [
       "Text(0.5, 0.98, 'Распределение общего количества баллов в зависимости от посещения подготовительных курсов')"
      ]
     },
     "execution_count": 167,
     "metadata": {},
     "output_type": "execute_result"
    },
    {
     "data": {
      "image/png": "[encoded data removed]",
      "text/plain": [
       "<Figure size 432x288 with 1 Axes>"
      ]
     },
     "metadata": {
      "needs_background": "light"
     },
     "output_type": "display_data"
    }
   ],
   "source": [
    "sns.boxplot(x='test_preparation_course', y='total_score', data=students_df, palette='Pastel1_r')\n",
    "plt.suptitle('Распределение общего количества баллов в зависимости от посещения подготовительных курсов')"
   ]
  },
  {
   "cell_type": "markdown",
   "id": "ab9bae26",
   "metadata": {},
   "source": [
    "Общее количество баллов сильно варьирует: у студентов, посещавших подготовительные курсы, это значение заметно выше. Кроме того, студенты, посещавшие курсы, практически не показали экстремально низких результатов (выбросов). "
   ]
  },
  {
   "cell_type": "code",
   "execution_count": 76,
   "id": "d83dd25c",
   "metadata": {},
   "outputs": [],
   "source": [
    "compare_course = course_df.iloc[0, 1:] - course_df.iloc[1, 1:]"
   ]
  },
  {
   "cell_type": "code",
   "execution_count": 77,
   "id": "78da07b8",
   "metadata": {},
   "outputs": [
    {
     "data": {
      "text/plain": [
       "math_score        5.62\n",
       "reading_score     7.36\n",
       "writing_score     9.92\n",
       "total_score      22.89\n",
       "dtype: object"
      ]
     },
     "execution_count": 77,
     "metadata": {},
     "output_type": "execute_result"
    }
   ],
   "source": [
    "compare_course"
   ]
  },
  {
   "cell_type": "markdown",
   "id": "730feac4",
   "metadata": {},
   "source": [
    "Выводы:\n",
    "- подготовительные курсы оказались эффективны\n",
    "- средние значения баллов по математике у посещавших курс студентов оказались выше на 5.62 балла\n",
    "- по чтению - на 7.36 балла\n",
    "- по письму - на 9.92 балла\n",
    "- среднее значение общей суммы баллов студентов, посещавших подготовительные курсы, оказалось выше на 22.89 балла"
   ]
  }
 ],
 "metadata": {
  "kernelspec": {
   "display_name": "Python 3 (ipykernel)",
   "language": "python",
   "name": "python3"
  },
  "language_info": {
   "codemirror_mode": {
    "name": "ipython",
    "version": 3
   },
   "file_extension": ".py",
   "mimetype": "text/x-python",
   "name": "python",
   "nbconvert_exporter": "python",
   "pygments_lexer": "ipython3",
   "version": "3.8.2"
  }
 },
 "nbformat": 4,
 "nbformat_minor": 5
}
