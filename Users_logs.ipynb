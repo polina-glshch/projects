{
 "cells": [
  {
   "cell_type": "code",
   "execution_count": 1,
   "id": "bbb9bd85",
   "metadata": {},
   "outputs": [],
   "source": [
    "#импорт необходимых библиотек\n",
    "import pandas as pd\n",
    "import matplotlib.pyplot as plt\n",
    "import seaborn as sns\n",
    "import datetime\n",
    "\n",
    "%matplotlib inline"
   ]
  },
  {
   "cell_type": "code",
   "execution_count": 2,
   "id": "8dded032",
   "metadata": {},
   "outputs": [],
   "source": [
    "#загрузка csv-файлов (датасеты 'user_data' и 'logs' со stepik.org)\n",
    "user_df = pd.read_csv('user_data.csv')\n",
    "logs_df = pd.read_csv('logs.csv')"
   ]
  },
  {
   "cell_type": "markdown",
   "id": "b46b792f",
   "metadata": {},
   "source": [
    "# Описание данных"
   ]
  },
  {
   "cell_type": "markdown",
   "id": "badd7967",
   "metadata": {},
   "source": [
    "1) user_data\n",
    "- client – идентификатор пользователя\n",
    "- premium – является ли клиент премиальным\n",
    "- age – возраст\n",
    "\n",
    "\n",
    "2) logs\n",
    "- client – идентификатор пользователя\n",
    "- success – результат (успех – 1, нет – 0)\n",
    "- platform – платформа\n",
    "- time – время в формате Unix"
   ]
  },
  {
   "cell_type": "code",
   "execution_count": 3,
   "id": "2b7ec67b",
   "metadata": {},
   "outputs": [
    {
     "data": {
      "text/html": [
       "<div>\n",
       "<style scoped>\n",
       "    .dataframe tbody tr th:only-of-type {\n",
       "        vertical-align: middle;\n",
       "    }\n",
       "\n",
       "    .dataframe tbody tr th {\n",
       "        vertical-align: top;\n",
       "    }\n",
       "\n",
       "    .dataframe thead th {\n",
       "        text-align: right;\n",
       "    }\n",
       "</style>\n",
       "<table border=\"1\" class=\"dataframe\">\n",
       "  <thead>\n",
       "    <tr style=\"text-align: right;\">\n",
       "      <th></th>\n",
       "      <th>client</th>\n",
       "      <th>premium</th>\n",
       "      <th>age</th>\n",
       "    </tr>\n",
       "  </thead>\n",
       "  <tbody>\n",
       "    <tr>\n",
       "      <th>0</th>\n",
       "      <td>46346</td>\n",
       "      <td>False</td>\n",
       "      <td>58</td>\n",
       "    </tr>\n",
       "    <tr>\n",
       "      <th>1</th>\n",
       "      <td>4391</td>\n",
       "      <td>False</td>\n",
       "      <td>55</td>\n",
       "    </tr>\n",
       "    <tr>\n",
       "      <th>2</th>\n",
       "      <td>27372</td>\n",
       "      <td>False</td>\n",
       "      <td>64</td>\n",
       "    </tr>\n",
       "    <tr>\n",
       "      <th>3</th>\n",
       "      <td>11989</td>\n",
       "      <td>False</td>\n",
       "      <td>44</td>\n",
       "    </tr>\n",
       "    <tr>\n",
       "      <th>4</th>\n",
       "      <td>60664</td>\n",
       "      <td>False</td>\n",
       "      <td>49</td>\n",
       "    </tr>\n",
       "  </tbody>\n",
       "</table>\n",
       "</div>"
      ],
      "text/plain": [
       "   client  premium  age\n",
       "0   46346    False   58\n",
       "1    4391    False   55\n",
       "2   27372    False   64\n",
       "3   11989    False   44\n",
       "4   60664    False   49"
      ]
     },
     "execution_count": 3,
     "metadata": {},
     "output_type": "execute_result"
    }
   ],
   "source": [
    "# просмотр первых пяти строк DataFrame пользователей\n",
    "user_df.head(5)"
   ]
  },
  {
   "cell_type": "code",
   "execution_count": 4,
   "id": "25ec9004",
   "metadata": {},
   "outputs": [
    {
     "data": {
      "text/html": [
       "<div>\n",
       "<style scoped>\n",
       "    .dataframe tbody tr th:only-of-type {\n",
       "        vertical-align: middle;\n",
       "    }\n",
       "\n",
       "    .dataframe tbody tr th {\n",
       "        vertical-align: top;\n",
       "    }\n",
       "\n",
       "    .dataframe thead th {\n",
       "        text-align: right;\n",
       "    }\n",
       "</style>\n",
       "<table border=\"1\" class=\"dataframe\">\n",
       "  <thead>\n",
       "    <tr style=\"text-align: right;\">\n",
       "      <th></th>\n",
       "      <th>client</th>\n",
       "      <th>success</th>\n",
       "      <th>platform</th>\n",
       "      <th>time</th>\n",
       "    </tr>\n",
       "  </thead>\n",
       "  <tbody>\n",
       "    <tr>\n",
       "      <th>0</th>\n",
       "      <td>40177</td>\n",
       "      <td>True</td>\n",
       "      <td>phone</td>\n",
       "      <td>1585412212</td>\n",
       "    </tr>\n",
       "    <tr>\n",
       "      <th>1</th>\n",
       "      <td>61468</td>\n",
       "      <td>True</td>\n",
       "      <td>phone</td>\n",
       "      <td>1585425658</td>\n",
       "    </tr>\n",
       "    <tr>\n",
       "      <th>2</th>\n",
       "      <td>35604</td>\n",
       "      <td>False</td>\n",
       "      <td>phone</td>\n",
       "      <td>1585459894</td>\n",
       "    </tr>\n",
       "    <tr>\n",
       "      <th>3</th>\n",
       "      <td>9961</td>\n",
       "      <td>True</td>\n",
       "      <td>phone</td>\n",
       "      <td>1585400189</td>\n",
       "    </tr>\n",
       "    <tr>\n",
       "      <th>4</th>\n",
       "      <td>10931</td>\n",
       "      <td>True</td>\n",
       "      <td>computer</td>\n",
       "      <td>1585468629</td>\n",
       "    </tr>\n",
       "  </tbody>\n",
       "</table>\n",
       "</div>"
      ],
      "text/plain": [
       "   client  success  platform        time\n",
       "0   40177     True     phone  1585412212\n",
       "1   61468     True     phone  1585425658\n",
       "2   35604    False     phone  1585459894\n",
       "3    9961     True     phone  1585400189\n",
       "4   10931     True  computer  1585468629"
      ]
     },
     "execution_count": 4,
     "metadata": {},
     "output_type": "execute_result"
    }
   ],
   "source": [
    "# просмотр первых пяти строк DataFrame логов\n",
    "logs_df.head(5)"
   ]
  },
  {
   "cell_type": "markdown",
   "id": "2a12a048",
   "metadata": {},
   "source": [
    "## Задания:"
   ]
  },
  {
   "cell_type": "markdown",
   "id": "b46a42ce",
   "metadata": {},
   "source": [
    "1. Предобработать данные\n",
    "     - оценить валидность и корректность данных\n",
    "     - оценить данные на наличие пропущенных значений, дубликатов и выбросов, обработать их\n",
    "     - посчитать описательные статистики \n",
    "2. Какой клиент совершил больше всего успешных операций?\n",
    "3. С какой платформы было совершено наибольшее количество успешных операций?\n",
    "4. Какую платформу предпочитают премиальные клиенты?\n",
    "5. Клиенты каких возрастных групп чаще имеют премиальный статус?\n",
    "6. В какой день недели клиенты совершают максимальное число операций? \n",
    "7. В какой час суток максимальное число операций оказывается неудачным?\n",
    "8. Прослеживается ли годовая сезонность в числе совершаемых операций?\n",
    "9. Клиенты какого возраста совершили наибольшее количество успешных операций (для каждого вида платформ)?"
   ]
  },
  {
   "cell_type": "markdown",
   "id": "aa461ff3",
   "metadata": {},
   "source": [
    "# Предобработка данных "
   ]
  },
  {
   "cell_type": "markdown",
   "id": "fa470d23",
   "metadata": {},
   "source": [
    "## User_df"
   ]
  },
  {
   "cell_type": "code",
   "execution_count": 5,
   "id": "985b2e30",
   "metadata": {},
   "outputs": [
    {
     "data": {
      "text/plain": [
       "(2954, 3)"
      ]
     },
     "execution_count": 5,
     "metadata": {},
     "output_type": "execute_result"
    }
   ],
   "source": [
    "user_df.shape\n",
    "# просмотр размера DataFrame"
   ]
  },
  {
   "cell_type": "code",
   "execution_count": 6,
   "id": "180fefc2",
   "metadata": {},
   "outputs": [
    {
     "data": {
      "text/plain": [
       "client     int64\n",
       "premium     bool\n",
       "age        int64\n",
       "dtype: object"
      ]
     },
     "execution_count": 6,
     "metadata": {},
     "output_type": "execute_result"
    }
   ],
   "source": [
    "user_df.dtypes\n",
    "# типы данных установлены корректно"
   ]
  },
  {
   "cell_type": "code",
   "execution_count": 7,
   "id": "7d1c9e2a",
   "metadata": {},
   "outputs": [
    {
     "data": {
      "text/plain": [
       "client     0\n",
       "premium    0\n",
       "age        0\n",
       "dtype: int64"
      ]
     },
     "execution_count": 7,
     "metadata": {},
     "output_type": "execute_result"
    }
   ],
   "source": [
    "user_df.isnull().sum()\n",
    "# пропущенных значений нет"
   ]
  },
  {
   "cell_type": "code",
   "execution_count": 8,
   "id": "9cf0f6ff",
   "metadata": {},
   "outputs": [
    {
     "data": {
      "text/plain": [
       "client     0\n",
       "premium    0\n",
       "age        0\n",
       "dtype: int64"
      ]
     },
     "execution_count": 8,
     "metadata": {},
     "output_type": "execute_result"
    }
   ],
   "source": [
    "user_df.isna().sum()\n",
    "# пропущенных значений нет"
   ]
  },
  {
   "cell_type": "code",
   "execution_count": 9,
   "id": "bdc7b1e1",
   "metadata": {},
   "outputs": [
    {
     "data": {
      "text/plain": [
       "0"
      ]
     },
     "execution_count": 9,
     "metadata": {},
     "output_type": "execute_result"
    }
   ],
   "source": [
    "user_df.duplicated().sum()\n",
    "# дубликатов нет"
   ]
  },
  {
   "cell_type": "code",
   "execution_count": 10,
   "id": "b91bb4cd",
   "metadata": {},
   "outputs": [
    {
     "data": {
      "text/html": [
       "<div>\n",
       "<style scoped>\n",
       "    .dataframe tbody tr th:only-of-type {\n",
       "        vertical-align: middle;\n",
       "    }\n",
       "\n",
       "    .dataframe tbody tr th {\n",
       "        vertical-align: top;\n",
       "    }\n",
       "\n",
       "    .dataframe thead th {\n",
       "        text-align: right;\n",
       "    }\n",
       "</style>\n",
       "<table border=\"1\" class=\"dataframe\">\n",
       "  <thead>\n",
       "    <tr style=\"text-align: right;\">\n",
       "      <th></th>\n",
       "      <th>client</th>\n",
       "      <th>age</th>\n",
       "    </tr>\n",
       "  </thead>\n",
       "  <tbody>\n",
       "    <tr>\n",
       "      <th>count</th>\n",
       "      <td>2954.000000</td>\n",
       "      <td>2954.000000</td>\n",
       "    </tr>\n",
       "    <tr>\n",
       "      <th>mean</th>\n",
       "      <td>50767.886594</td>\n",
       "      <td>44.196005</td>\n",
       "    </tr>\n",
       "    <tr>\n",
       "      <th>std</th>\n",
       "      <td>28800.505847</td>\n",
       "      <td>14.248336</td>\n",
       "    </tr>\n",
       "    <tr>\n",
       "      <th>min</th>\n",
       "      <td>40.000000</td>\n",
       "      <td>20.000000</td>\n",
       "    </tr>\n",
       "    <tr>\n",
       "      <th>25%</th>\n",
       "      <td>25639.500000</td>\n",
       "      <td>32.000000</td>\n",
       "    </tr>\n",
       "    <tr>\n",
       "      <th>50%</th>\n",
       "      <td>51569.500000</td>\n",
       "      <td>44.000000</td>\n",
       "    </tr>\n",
       "    <tr>\n",
       "      <th>75%</th>\n",
       "      <td>75963.250000</td>\n",
       "      <td>56.000000</td>\n",
       "    </tr>\n",
       "    <tr>\n",
       "      <th>max</th>\n",
       "      <td>99973.000000</td>\n",
       "      <td>69.000000</td>\n",
       "    </tr>\n",
       "  </tbody>\n",
       "</table>\n",
       "</div>"
      ],
      "text/plain": [
       "             client          age\n",
       "count   2954.000000  2954.000000\n",
       "mean   50767.886594    44.196005\n",
       "std    28800.505847    14.248336\n",
       "min       40.000000    20.000000\n",
       "25%    25639.500000    32.000000\n",
       "50%    51569.500000    44.000000\n",
       "75%    75963.250000    56.000000\n",
       "max    99973.000000    69.000000"
      ]
     },
     "execution_count": 10,
     "metadata": {},
     "output_type": "execute_result"
    }
   ],
   "source": [
    "user_df.describe()\n",
    "# описательные статистики\n",
    "# использование описательной статистики по столбцу client некорректно, поскольку это идентификатор пользователя"
   ]
  },
  {
   "cell_type": "code",
   "execution_count": 11,
   "id": "de72f902",
   "metadata": {},
   "outputs": [
    {
     "name": "stdout",
     "output_type": "stream",
     "text": [
      "[46346  4391 27372 ... 61221 29863 78499]\n",
      "[False  True]\n",
      "[58 55 64 44 49 36 34 48 42 59 24 40 25 21 31 69 53 35 38 52 27 50 20 63\n",
      " 39 26 37 62 43 46 41 23 28 29 68 51 30 61 22 65 47 66 57 32 60 45 67 56\n",
      " 54 33]\n"
     ]
    }
   ],
   "source": [
    "for column in user_df:\n",
    "    print(user_df[column].unique())\n",
    "# просмотр уникальных значений в каждой колонке для визуальной оценки данных"
   ]
  },
  {
   "cell_type": "code",
   "execution_count": 12,
   "id": "793ce649",
   "metadata": {},
   "outputs": [
    {
     "data": {
      "text/plain": [
       "Index(['client', 'premium', 'age'], dtype='object')"
      ]
     },
     "execution_count": 12,
     "metadata": {},
     "output_type": "execute_result"
    }
   ],
   "source": [
    "user_df.columns\n",
    "# просмотр названий столбцов\n",
    "# названия столбцов корректны, переименовывать их не нужно"
   ]
  },
  {
   "cell_type": "markdown",
   "id": "02625c91",
   "metadata": {},
   "source": [
    "## logs_df"
   ]
  },
  {
   "cell_type": "code",
   "execution_count": 13,
   "id": "c9e7d3af",
   "metadata": {},
   "outputs": [
    {
     "data": {
      "text/plain": [
       "(4500, 4)"
      ]
     },
     "execution_count": 13,
     "metadata": {},
     "output_type": "execute_result"
    }
   ],
   "source": [
    "logs_df.shape\n",
    "# просмотр размера DataFrame"
   ]
  },
  {
   "cell_type": "code",
   "execution_count": 14,
   "id": "61290f86",
   "metadata": {},
   "outputs": [
    {
     "data": {
      "text/plain": [
       "client       int64\n",
       "success       bool\n",
       "platform    object\n",
       "time         int64\n",
       "dtype: object"
      ]
     },
     "execution_count": 14,
     "metadata": {},
     "output_type": "execute_result"
    }
   ],
   "source": [
    "logs_df.dtypes\n",
    "# типы данных всех столбцов установлены корректно, за исключением столбца time\n",
    "# тип данных данного столбца не int64 (целое число), а  datetime"
   ]
  },
  {
   "cell_type": "code",
   "execution_count": 15,
   "id": "642dcdf1",
   "metadata": {},
   "outputs": [],
   "source": [
    "# создание столбца date на основе преобразования типа данных столбца time\n",
    "logs_df['date'] = pd.to_datetime(logs_df.time, unit='s')"
   ]
  },
  {
   "cell_type": "code",
   "execution_count": 16,
   "id": "dce424dc",
   "metadata": {},
   "outputs": [
    {
     "data": {
      "text/plain": [
       "client               int64\n",
       "success               bool\n",
       "platform            object\n",
       "time                 int64\n",
       "date        datetime64[ns]\n",
       "dtype: object"
      ]
     },
     "execution_count": 16,
     "metadata": {},
     "output_type": "execute_result"
    }
   ],
   "source": [
    "# создание столбца date прошло успепшно\n",
    "# столбец date содержит дату и время\n",
    "logs_df.dtypes"
   ]
  },
  {
   "cell_type": "code",
   "execution_count": 17,
   "id": "38d23908",
   "metadata": {},
   "outputs": [
    {
     "data": {
      "text/html": [
       "<div>\n",
       "<style scoped>\n",
       "    .dataframe tbody tr th:only-of-type {\n",
       "        vertical-align: middle;\n",
       "    }\n",
       "\n",
       "    .dataframe tbody tr th {\n",
       "        vertical-align: top;\n",
       "    }\n",
       "\n",
       "    .dataframe thead th {\n",
       "        text-align: right;\n",
       "    }\n",
       "</style>\n",
       "<table border=\"1\" class=\"dataframe\">\n",
       "  <thead>\n",
       "    <tr style=\"text-align: right;\">\n",
       "      <th></th>\n",
       "      <th>client</th>\n",
       "      <th>success</th>\n",
       "      <th>platform</th>\n",
       "      <th>time</th>\n",
       "      <th>date</th>\n",
       "    </tr>\n",
       "  </thead>\n",
       "  <tbody>\n",
       "    <tr>\n",
       "      <th>0</th>\n",
       "      <td>40177</td>\n",
       "      <td>True</td>\n",
       "      <td>phone</td>\n",
       "      <td>1585412212</td>\n",
       "      <td>2020-03-28 16:16:52</td>\n",
       "    </tr>\n",
       "    <tr>\n",
       "      <th>1</th>\n",
       "      <td>61468</td>\n",
       "      <td>True</td>\n",
       "      <td>phone</td>\n",
       "      <td>1585425658</td>\n",
       "      <td>2020-03-28 20:00:58</td>\n",
       "    </tr>\n",
       "    <tr>\n",
       "      <th>2</th>\n",
       "      <td>35604</td>\n",
       "      <td>False</td>\n",
       "      <td>phone</td>\n",
       "      <td>1585459894</td>\n",
       "      <td>2020-03-29 05:31:34</td>\n",
       "    </tr>\n",
       "    <tr>\n",
       "      <th>3</th>\n",
       "      <td>9961</td>\n",
       "      <td>True</td>\n",
       "      <td>phone</td>\n",
       "      <td>1585400189</td>\n",
       "      <td>2020-03-28 12:56:29</td>\n",
       "    </tr>\n",
       "    <tr>\n",
       "      <th>4</th>\n",
       "      <td>10931</td>\n",
       "      <td>True</td>\n",
       "      <td>computer</td>\n",
       "      <td>1585468629</td>\n",
       "      <td>2020-03-29 07:57:09</td>\n",
       "    </tr>\n",
       "    <tr>\n",
       "      <th>...</th>\n",
       "      <td>...</td>\n",
       "      <td>...</td>\n",
       "      <td>...</td>\n",
       "      <td>...</td>\n",
       "      <td>...</td>\n",
       "    </tr>\n",
       "    <tr>\n",
       "      <th>4495</th>\n",
       "      <td>64496</td>\n",
       "      <td>False</td>\n",
       "      <td>computer</td>\n",
       "      <td>1585459072</td>\n",
       "      <td>2020-03-29 05:17:52</td>\n",
       "    </tr>\n",
       "    <tr>\n",
       "      <th>4496</th>\n",
       "      <td>73299</td>\n",
       "      <td>True</td>\n",
       "      <td>phone</td>\n",
       "      <td>1585458370</td>\n",
       "      <td>2020-03-29 05:06:10</td>\n",
       "    </tr>\n",
       "    <tr>\n",
       "      <th>4497</th>\n",
       "      <td>8967</td>\n",
       "      <td>True</td>\n",
       "      <td>phone</td>\n",
       "      <td>1585465121</td>\n",
       "      <td>2020-03-29 06:58:41</td>\n",
       "    </tr>\n",
       "    <tr>\n",
       "      <th>4498</th>\n",
       "      <td>52880</td>\n",
       "      <td>False</td>\n",
       "      <td>phone</td>\n",
       "      <td>1585455362</td>\n",
       "      <td>2020-03-29 04:16:02</td>\n",
       "    </tr>\n",
       "    <tr>\n",
       "      <th>4499</th>\n",
       "      <td>40921</td>\n",
       "      <td>True</td>\n",
       "      <td>phone</td>\n",
       "      <td>1585437692</td>\n",
       "      <td>2020-03-28 23:21:32</td>\n",
       "    </tr>\n",
       "  </tbody>\n",
       "</table>\n",
       "<p>4500 rows × 5 columns</p>\n",
       "</div>"
      ],
      "text/plain": [
       "      client  success  platform        time                date\n",
       "0      40177     True     phone  1585412212 2020-03-28 16:16:52\n",
       "1      61468     True     phone  1585425658 2020-03-28 20:00:58\n",
       "2      35604    False     phone  1585459894 2020-03-29 05:31:34\n",
       "3       9961     True     phone  1585400189 2020-03-28 12:56:29\n",
       "4      10931     True  computer  1585468629 2020-03-29 07:57:09\n",
       "...      ...      ...       ...         ...                 ...\n",
       "4495   64496    False  computer  1585459072 2020-03-29 05:17:52\n",
       "4496   73299     True     phone  1585458370 2020-03-29 05:06:10\n",
       "4497    8967     True     phone  1585465121 2020-03-29 06:58:41\n",
       "4498   52880    False     phone  1585455362 2020-03-29 04:16:02\n",
       "4499   40921     True     phone  1585437692 2020-03-28 23:21:32\n",
       "\n",
       "[4500 rows x 5 columns]"
      ]
     },
     "execution_count": 17,
     "metadata": {},
     "output_type": "execute_result"
    }
   ],
   "source": [
    "logs_df"
   ]
  },
  {
   "cell_type": "code",
   "execution_count": 18,
   "id": "ac6c5544",
   "metadata": {},
   "outputs": [
    {
     "data": {
      "text/plain": [
       "client      0\n",
       "success     0\n",
       "platform    0\n",
       "time        0\n",
       "date        0\n",
       "dtype: int64"
      ]
     },
     "execution_count": 18,
     "metadata": {},
     "output_type": "execute_result"
    }
   ],
   "source": [
    "logs_df.isnull().sum()\n",
    "# пропущенных значений нет"
   ]
  },
  {
   "cell_type": "code",
   "execution_count": 19,
   "id": "ed653688",
   "metadata": {},
   "outputs": [
    {
     "data": {
      "text/plain": [
       "client      0\n",
       "success     0\n",
       "platform    0\n",
       "time        0\n",
       "date        0\n",
       "dtype: int64"
      ]
     },
     "execution_count": 19,
     "metadata": {},
     "output_type": "execute_result"
    }
   ],
   "source": [
    "logs_df.isna().sum()\n",
    "# пропущенных значений нет"
   ]
  },
  {
   "cell_type": "code",
   "execution_count": 20,
   "id": "5e9c08d4",
   "metadata": {},
   "outputs": [
    {
     "data": {
      "text/plain": [
       "0"
      ]
     },
     "execution_count": 20,
     "metadata": {},
     "output_type": "execute_result"
    }
   ],
   "source": [
    "logs_df.duplicated().sum()\n",
    "# дубликатов нет"
   ]
  },
  {
   "cell_type": "code",
   "execution_count": 21,
   "id": "33d04d6d",
   "metadata": {},
   "outputs": [
    {
     "data": {
      "text/html": [
       "<div>\n",
       "<style scoped>\n",
       "    .dataframe tbody tr th:only-of-type {\n",
       "        vertical-align: middle;\n",
       "    }\n",
       "\n",
       "    .dataframe tbody tr th {\n",
       "        vertical-align: top;\n",
       "    }\n",
       "\n",
       "    .dataframe thead th {\n",
       "        text-align: right;\n",
       "    }\n",
       "</style>\n",
       "<table border=\"1\" class=\"dataframe\">\n",
       "  <thead>\n",
       "    <tr style=\"text-align: right;\">\n",
       "      <th></th>\n",
       "      <th>client</th>\n",
       "      <th>time</th>\n",
       "    </tr>\n",
       "  </thead>\n",
       "  <tbody>\n",
       "    <tr>\n",
       "      <th>count</th>\n",
       "      <td>4500.000000</td>\n",
       "      <td>4.500000e+03</td>\n",
       "    </tr>\n",
       "    <tr>\n",
       "      <th>mean</th>\n",
       "      <td>50998.758000</td>\n",
       "      <td>1.585440e+09</td>\n",
       "    </tr>\n",
       "    <tr>\n",
       "      <th>std</th>\n",
       "      <td>28374.472495</td>\n",
       "      <td>2.314866e+04</td>\n",
       "    </tr>\n",
       "    <tr>\n",
       "      <th>min</th>\n",
       "      <td>40.000000</td>\n",
       "      <td>1.585400e+09</td>\n",
       "    </tr>\n",
       "    <tr>\n",
       "      <th>25%</th>\n",
       "      <td>27056.500000</td>\n",
       "      <td>1.585420e+09</td>\n",
       "    </tr>\n",
       "    <tr>\n",
       "      <th>50%</th>\n",
       "      <td>52659.000000</td>\n",
       "      <td>1.585440e+09</td>\n",
       "    </tr>\n",
       "    <tr>\n",
       "      <th>75%</th>\n",
       "      <td>76001.250000</td>\n",
       "      <td>1.585461e+09</td>\n",
       "    </tr>\n",
       "    <tr>\n",
       "      <th>max</th>\n",
       "      <td>99993.000000</td>\n",
       "      <td>1.585480e+09</td>\n",
       "    </tr>\n",
       "  </tbody>\n",
       "</table>\n",
       "</div>"
      ],
      "text/plain": [
       "             client          time\n",
       "count   4500.000000  4.500000e+03\n",
       "mean   50998.758000  1.585440e+09\n",
       "std    28374.472495  2.314866e+04\n",
       "min       40.000000  1.585400e+09\n",
       "25%    27056.500000  1.585420e+09\n",
       "50%    52659.000000  1.585440e+09\n",
       "75%    76001.250000  1.585461e+09\n",
       "max    99993.000000  1.585480e+09"
      ]
     },
     "execution_count": 21,
     "metadata": {},
     "output_type": "execute_result"
    }
   ],
   "source": [
    "logs_df.describe()\n",
    "# описательные статистики\n",
    "# использование описательной статистики по столбцу client некорректно, поскольку это идентификатор пользователя\n",
    "# описательная статистика по столбцу time нуждается в преобразовании, поскольку время в данном столбце представлено в Unix-формате"
   ]
  },
  {
   "cell_type": "code",
   "execution_count": 22,
   "id": "6848ee39",
   "metadata": {},
   "outputs": [
    {
     "name": "stdout",
     "output_type": "stream",
     "text": [
      "[40177 61468 35604 ...  8967 52880 40921]\n",
      "[ True False]\n",
      "['phone' 'computer' 'tablet']\n",
      "[1585412212 1585425658 1585459894 ... 1585465121 1585455362 1585437692]\n",
      "['2020-03-28T16:16:52.000000000' '2020-03-28T20:00:58.000000000'\n",
      " '2020-03-29T05:31:34.000000000' ... '2020-03-29T06:58:41.000000000'\n",
      " '2020-03-29T04:16:02.000000000' '2020-03-28T23:21:32.000000000']\n"
     ]
    }
   ],
   "source": [
    "for column in logs_df:\n",
    "    print(logs_df[column].unique())\n",
    "# просмотр уникальных значений в каждой колонке для визуальной оценки данных"
   ]
  },
  {
   "cell_type": "code",
   "execution_count": 23,
   "id": "81693f18",
   "metadata": {},
   "outputs": [
    {
     "data": {
      "text/plain": [
       "Index(['client', 'success', 'platform', 'time', 'date'], dtype='object')"
      ]
     },
     "execution_count": 23,
     "metadata": {},
     "output_type": "execute_result"
    }
   ],
   "source": [
    "logs_df.columns\n",
    "# просмотр названий столбцов\n",
    "# названия столбцов корректны, переименовывать их не нужно"
   ]
  },
  {
   "cell_type": "markdown",
   "id": "390832fa",
   "metadata": {},
   "source": [
    "Выводы:\n",
    "- данные были предобработаны и подготовлены к последующему анализу\n",
    "- сырые данные были высокого качества (без пропусков, дубликатов, с корректными заголовками), сложности возникли лишь с форматом столбца, содержащего Unix-время. Проблема была решена посредством создания нового столбца date и преобразования времени как в более привычный формат, так и в соответствующий тип данных."
   ]
  },
  {
   "cell_type": "markdown",
   "id": "32cb6a1e",
   "metadata": {},
   "source": [
    "## Какой клиент совершил больше всего успешных операций?"
   ]
  },
  {
   "cell_type": "code",
   "execution_count": 24,
   "id": "3c2b0046",
   "metadata": {},
   "outputs": [],
   "source": [
    "# поиск клиента, совершившего больше всего успешных операций\n",
    "successfull_clients = logs_df.query('success == True') \\\n",
    "    .groupby('client', as_index=False) \\\n",
    "    .aggregate({'platform':'count'}) \\\n",
    "    .sort_values(by='platform', ascending=False) \\\n",
    "    .rename(columns={'platform':'successful_operations'})"
   ]
  },
  {
   "cell_type": "code",
   "execution_count": 25,
   "id": "57ef2102",
   "metadata": {},
   "outputs": [
    {
     "data": {
      "text/html": [
       "<div>\n",
       "<style scoped>\n",
       "    .dataframe tbody tr th:only-of-type {\n",
       "        vertical-align: middle;\n",
       "    }\n",
       "\n",
       "    .dataframe tbody tr th {\n",
       "        vertical-align: top;\n",
       "    }\n",
       "\n",
       "    .dataframe thead th {\n",
       "        text-align: right;\n",
       "    }\n",
       "</style>\n",
       "<table border=\"1\" class=\"dataframe\">\n",
       "  <thead>\n",
       "    <tr style=\"text-align: right;\">\n",
       "      <th></th>\n",
       "      <th>client</th>\n",
       "      <th>successful_operations</th>\n",
       "    </tr>\n",
       "  </thead>\n",
       "  <tbody>\n",
       "    <tr>\n",
       "      <th>332</th>\n",
       "      <td>12179</td>\n",
       "      <td>41</td>\n",
       "    </tr>\n",
       "    <tr>\n",
       "      <th>1758</th>\n",
       "      <td>61468</td>\n",
       "      <td>41</td>\n",
       "    </tr>\n",
       "    <tr>\n",
       "      <th>1487</th>\n",
       "      <td>52870</td>\n",
       "      <td>41</td>\n",
       "    </tr>\n",
       "    <tr>\n",
       "      <th>1759</th>\n",
       "      <td>61473</td>\n",
       "      <td>41</td>\n",
       "    </tr>\n",
       "    <tr>\n",
       "      <th>2626</th>\n",
       "      <td>92584</td>\n",
       "      <td>41</td>\n",
       "    </tr>\n",
       "    <tr>\n",
       "      <th>...</th>\n",
       "      <td>...</td>\n",
       "      <td>...</td>\n",
       "    </tr>\n",
       "    <tr>\n",
       "      <th>956</th>\n",
       "      <td>34121</td>\n",
       "      <td>1</td>\n",
       "    </tr>\n",
       "    <tr>\n",
       "      <th>957</th>\n",
       "      <td>34191</td>\n",
       "      <td>1</td>\n",
       "    </tr>\n",
       "    <tr>\n",
       "      <th>958</th>\n",
       "      <td>34198</td>\n",
       "      <td>1</td>\n",
       "    </tr>\n",
       "    <tr>\n",
       "      <th>959</th>\n",
       "      <td>34277</td>\n",
       "      <td>1</td>\n",
       "    </tr>\n",
       "    <tr>\n",
       "      <th>2844</th>\n",
       "      <td>99993</td>\n",
       "      <td>1</td>\n",
       "    </tr>\n",
       "  </tbody>\n",
       "</table>\n",
       "<p>2845 rows × 2 columns</p>\n",
       "</div>"
      ],
      "text/plain": [
       "      client  successful_operations\n",
       "332    12179                     41\n",
       "1758   61468                     41\n",
       "1487   52870                     41\n",
       "1759   61473                     41\n",
       "2626   92584                     41\n",
       "...      ...                    ...\n",
       "956    34121                      1\n",
       "957    34191                      1\n",
       "958    34198                      1\n",
       "959    34277                      1\n",
       "2844   99993                      1\n",
       "\n",
       "[2845 rows x 2 columns]"
      ]
     },
     "execution_count": 25,
     "metadata": {},
     "output_type": "execute_result"
    }
   ],
   "source": [
    "successfull_clients\n",
    "# таких клиентов оказалось несколько"
   ]
  },
  {
   "cell_type": "code",
   "execution_count": 26,
   "id": "1ec15b86",
   "metadata": {},
   "outputs": [
    {
     "data": {
      "text/plain": [
       "[12179, 28719, 36165, 52870, 61468, 61473, 78349, 82563, 92584]"
      ]
     },
     "execution_count": 26,
     "metadata": {},
     "output_type": "execute_result"
    }
   ],
   "source": [
    "# отбор всех клиентов, совершивших максимальное число успешных операций\n",
    "# список клиентов выведен по возрастанию и представлен в виде списка\n",
    "successfull_clients.query('successful_operations == successful_operations.max()') \\\n",
    "    .sort_values(by='client').client.tolist()"
   ]
  },
  {
   "cell_type": "markdown",
   "id": "d7132af1",
   "metadata": {},
   "source": [
    "Выводы:\n",
    "- клиенты 12179, 28719, 36165, 52870, 61468, 61473, 78349, 82563, 92584 совершили максимальное количество успешных операций"
   ]
  },
  {
   "cell_type": "markdown",
   "id": "67c2348f",
   "metadata": {},
   "source": [
    "## С какой платформы было совершено наибольшее количество успешных операций?"
   ]
  },
  {
   "cell_type": "code",
   "execution_count": 27,
   "id": "7fbc9a4d",
   "metadata": {},
   "outputs": [
    {
     "data": {
      "text/html": [
       "<div>\n",
       "<style scoped>\n",
       "    .dataframe tbody tr th:only-of-type {\n",
       "        vertical-align: middle;\n",
       "    }\n",
       "\n",
       "    .dataframe tbody tr th {\n",
       "        vertical-align: top;\n",
       "    }\n",
       "\n",
       "    .dataframe thead th {\n",
       "        text-align: right;\n",
       "    }\n",
       "</style>\n",
       "<table border=\"1\" class=\"dataframe\">\n",
       "  <thead>\n",
       "    <tr style=\"text-align: right;\">\n",
       "      <th></th>\n",
       "      <th>platform</th>\n",
       "      <th>number_of_clients</th>\n",
       "    </tr>\n",
       "  </thead>\n",
       "  <tbody>\n",
       "    <tr>\n",
       "      <th>1</th>\n",
       "      <td>phone</td>\n",
       "      <td>2019</td>\n",
       "    </tr>\n",
       "    <tr>\n",
       "      <th>0</th>\n",
       "      <td>computer</td>\n",
       "      <td>1090</td>\n",
       "    </tr>\n",
       "    <tr>\n",
       "      <th>2</th>\n",
       "      <td>tablet</td>\n",
       "      <td>180</td>\n",
       "    </tr>\n",
       "  </tbody>\n",
       "</table>\n",
       "</div>"
      ],
      "text/plain": [
       "   platform  number_of_clients\n",
       "1     phone               2019\n",
       "0  computer               1090\n",
       "2    tablet                180"
      ]
     },
     "execution_count": 27,
     "metadata": {},
     "output_type": "execute_result"
    }
   ],
   "source": [
    "# отбор успешных операций, подсчет их количества для каждой платформы,\n",
    "# сортировка данных по убыванию и переименовывание столбца client\n",
    "logs_df.query('success == True') \\\n",
    "    .groupby('platform', as_index=False) \\\n",
    "    .agg({'client':'count'}) \\\n",
    "    .sort_values(by='client', ascending=False) \\\n",
    "    .rename(columns={'client':'number_of_clients'})"
   ]
  },
  {
   "cell_type": "markdown",
   "id": "5ea13585",
   "metadata": {},
   "source": [
    "Выводы:\n",
    "- наибольшее количество успешных операций было совершено с телефона"
   ]
  },
  {
   "cell_type": "markdown",
   "id": "9b61dc4a",
   "metadata": {},
   "source": [
    "## Какую платформу предпочитают премиальные клиенты?"
   ]
  },
  {
   "cell_type": "code",
   "execution_count": 28,
   "id": "27d3e415",
   "metadata": {},
   "outputs": [],
   "source": [
    "# создание объединенного DataFrame, содержащего всю информацию о клиентах\n",
    "# выбрано внешнее соединение таблиц, поскольку при внутреннем соединении в случае отсутствия записи о клиенте в одной из таблиц\n",
    "# этот клиент будет удалён из DataFrame\n",
    "# это недопустимо, поскольку нельзя терять информацию в ходе анализа\n",
    "clients_logs_df = user_df.merge(logs_df, on='client', how='outer')"
   ]
  },
  {
   "cell_type": "code",
   "execution_count": 29,
   "id": "a0aef3a4",
   "metadata": {},
   "outputs": [
    {
     "data": {
      "text/html": [
       "<div>\n",
       "<style scoped>\n",
       "    .dataframe tbody tr th:only-of-type {\n",
       "        vertical-align: middle;\n",
       "    }\n",
       "\n",
       "    .dataframe tbody tr th {\n",
       "        vertical-align: top;\n",
       "    }\n",
       "\n",
       "    .dataframe thead th {\n",
       "        text-align: right;\n",
       "    }\n",
       "</style>\n",
       "<table border=\"1\" class=\"dataframe\">\n",
       "  <thead>\n",
       "    <tr style=\"text-align: right;\">\n",
       "      <th></th>\n",
       "      <th>client</th>\n",
       "      <th>premium</th>\n",
       "      <th>age</th>\n",
       "      <th>success</th>\n",
       "      <th>platform</th>\n",
       "      <th>time</th>\n",
       "      <th>date</th>\n",
       "    </tr>\n",
       "  </thead>\n",
       "  <tbody>\n",
       "    <tr>\n",
       "      <th>0</th>\n",
       "      <td>46346</td>\n",
       "      <td>False</td>\n",
       "      <td>58.0</td>\n",
       "      <td>True</td>\n",
       "      <td>phone</td>\n",
       "      <td>1585452839</td>\n",
       "      <td>2020-03-29 03:33:59</td>\n",
       "    </tr>\n",
       "    <tr>\n",
       "      <th>1</th>\n",
       "      <td>4391</td>\n",
       "      <td>False</td>\n",
       "      <td>55.0</td>\n",
       "      <td>False</td>\n",
       "      <td>phone</td>\n",
       "      <td>1585409861</td>\n",
       "      <td>2020-03-28 15:37:41</td>\n",
       "    </tr>\n",
       "    <tr>\n",
       "      <th>2</th>\n",
       "      <td>27372</td>\n",
       "      <td>False</td>\n",
       "      <td>64.0</td>\n",
       "      <td>False</td>\n",
       "      <td>phone</td>\n",
       "      <td>1585446018</td>\n",
       "      <td>2020-03-29 01:40:18</td>\n",
       "    </tr>\n",
       "    <tr>\n",
       "      <th>3</th>\n",
       "      <td>11989</td>\n",
       "      <td>False</td>\n",
       "      <td>44.0</td>\n",
       "      <td>True</td>\n",
       "      <td>computer</td>\n",
       "      <td>1585403698</td>\n",
       "      <td>2020-03-28 13:54:58</td>\n",
       "    </tr>\n",
       "    <tr>\n",
       "      <th>4</th>\n",
       "      <td>60664</td>\n",
       "      <td>False</td>\n",
       "      <td>49.0</td>\n",
       "      <td>True</td>\n",
       "      <td>phone</td>\n",
       "      <td>1585406918</td>\n",
       "      <td>2020-03-28 14:48:38</td>\n",
       "    </tr>\n",
       "    <tr>\n",
       "      <th>...</th>\n",
       "      <td>...</td>\n",
       "      <td>...</td>\n",
       "      <td>...</td>\n",
       "      <td>...</td>\n",
       "      <td>...</td>\n",
       "      <td>...</td>\n",
       "      <td>...</td>\n",
       "    </tr>\n",
       "    <tr>\n",
       "      <th>4495</th>\n",
       "      <td>50</td>\n",
       "      <td>NaN</td>\n",
       "      <td>NaN</td>\n",
       "      <td>True</td>\n",
       "      <td>tablet</td>\n",
       "      <td>1585412688</td>\n",
       "      <td>2020-03-28 16:24:48</td>\n",
       "    </tr>\n",
       "    <tr>\n",
       "      <th>4496</th>\n",
       "      <td>68031</td>\n",
       "      <td>NaN</td>\n",
       "      <td>NaN</td>\n",
       "      <td>True</td>\n",
       "      <td>computer</td>\n",
       "      <td>1585464203</td>\n",
       "      <td>2020-03-29 06:43:23</td>\n",
       "    </tr>\n",
       "    <tr>\n",
       "      <th>4497</th>\n",
       "      <td>39878</td>\n",
       "      <td>NaN</td>\n",
       "      <td>NaN</td>\n",
       "      <td>False</td>\n",
       "      <td>phone</td>\n",
       "      <td>1585412838</td>\n",
       "      <td>2020-03-28 16:27:18</td>\n",
       "    </tr>\n",
       "    <tr>\n",
       "      <th>4498</th>\n",
       "      <td>73299</td>\n",
       "      <td>NaN</td>\n",
       "      <td>NaN</td>\n",
       "      <td>True</td>\n",
       "      <td>phone</td>\n",
       "      <td>1585458370</td>\n",
       "      <td>2020-03-29 05:06:10</td>\n",
       "    </tr>\n",
       "    <tr>\n",
       "      <th>4499</th>\n",
       "      <td>52880</td>\n",
       "      <td>NaN</td>\n",
       "      <td>NaN</td>\n",
       "      <td>False</td>\n",
       "      <td>phone</td>\n",
       "      <td>1585455362</td>\n",
       "      <td>2020-03-29 04:16:02</td>\n",
       "    </tr>\n",
       "  </tbody>\n",
       "</table>\n",
       "<p>4500 rows × 7 columns</p>\n",
       "</div>"
      ],
      "text/plain": [
       "      client premium   age  success  platform        time                date\n",
       "0      46346   False  58.0     True     phone  1585452839 2020-03-29 03:33:59\n",
       "1       4391   False  55.0    False     phone  1585409861 2020-03-28 15:37:41\n",
       "2      27372   False  64.0    False     phone  1585446018 2020-03-29 01:40:18\n",
       "3      11989   False  44.0     True  computer  1585403698 2020-03-28 13:54:58\n",
       "4      60664   False  49.0     True     phone  1585406918 2020-03-28 14:48:38\n",
       "...      ...     ...   ...      ...       ...         ...                 ...\n",
       "4495      50     NaN   NaN     True    tablet  1585412688 2020-03-28 16:24:48\n",
       "4496   68031     NaN   NaN     True  computer  1585464203 2020-03-29 06:43:23\n",
       "4497   39878     NaN   NaN    False     phone  1585412838 2020-03-28 16:27:18\n",
       "4498   73299     NaN   NaN     True     phone  1585458370 2020-03-29 05:06:10\n",
       "4499   52880     NaN   NaN    False     phone  1585455362 2020-03-29 04:16:02\n",
       "\n",
       "[4500 rows x 7 columns]"
      ]
     },
     "execution_count": 29,
     "metadata": {},
     "output_type": "execute_result"
    }
   ],
   "source": [
    "clients_logs_df"
   ]
  },
  {
   "cell_type": "code",
   "execution_count": 30,
   "id": "9965a36a",
   "metadata": {},
   "outputs": [
    {
     "data": {
      "text/html": [
       "<div>\n",
       "<style scoped>\n",
       "    .dataframe tbody tr th:only-of-type {\n",
       "        vertical-align: middle;\n",
       "    }\n",
       "\n",
       "    .dataframe tbody tr th {\n",
       "        vertical-align: top;\n",
       "    }\n",
       "\n",
       "    .dataframe thead th {\n",
       "        text-align: right;\n",
       "    }\n",
       "</style>\n",
       "<table border=\"1\" class=\"dataframe\">\n",
       "  <thead>\n",
       "    <tr style=\"text-align: right;\">\n",
       "      <th></th>\n",
       "      <th>platform</th>\n",
       "      <th>number_of_users</th>\n",
       "    </tr>\n",
       "  </thead>\n",
       "  <tbody>\n",
       "    <tr>\n",
       "      <th>1</th>\n",
       "      <td>phone</td>\n",
       "      <td>246</td>\n",
       "    </tr>\n",
       "    <tr>\n",
       "      <th>0</th>\n",
       "      <td>computer</td>\n",
       "      <td>150</td>\n",
       "    </tr>\n",
       "    <tr>\n",
       "      <th>2</th>\n",
       "      <td>tablet</td>\n",
       "      <td>24</td>\n",
       "    </tr>\n",
       "  </tbody>\n",
       "</table>\n",
       "</div>"
      ],
      "text/plain": [
       "   platform  number_of_users\n",
       "1     phone              246\n",
       "0  computer              150\n",
       "2    tablet               24"
      ]
     },
     "execution_count": 30,
     "metadata": {},
     "output_type": "execute_result"
    }
   ],
   "source": [
    "# отбор только премиальных клиентов, подсчет количества операций клиентов для каждой платформы,\n",
    "# сортировка значений по убыванию и переименовывание столбца client\n",
    "clients_logs_df.query('premium == True') \\\n",
    "    .groupby('platform', as_index=False) \\\n",
    "    .agg({'client':'count'}) \\\n",
    "    .sort_values(by='client', ascending=False) \\\n",
    "    .rename(columns={'client':'number_of_users'})"
   ]
  },
  {
   "cell_type": "markdown",
   "id": "373f9ac3",
   "metadata": {},
   "source": [
    "Выводы:\n",
    "- премиальные клиенты предпочитают использовать телефон"
   ]
  },
  {
   "cell_type": "markdown",
   "id": "9e7fa507",
   "metadata": {},
   "source": [
    "## Клиенты каких возрастных групп чаще имеют премиальный статус?"
   ]
  },
  {
   "cell_type": "code",
   "execution_count": 31,
   "id": "d9c2ae90",
   "metadata": {},
   "outputs": [],
   "source": [
    "# создание DataFrame, содержащего только премиальных клиентов\n",
    "premium_clients = clients_logs_df.query('premium == True')"
   ]
  },
  {
   "cell_type": "code",
   "execution_count": 32,
   "id": "225e7694",
   "metadata": {},
   "outputs": [
    {
     "data": {
      "text/plain": [
       "count    420.00\n",
       "mean      44.53\n",
       "std       14.59\n",
       "min       20.00\n",
       "25%       32.00\n",
       "50%       44.00\n",
       "75%       57.00\n",
       "max       69.00\n",
       "Name: age, dtype: float64"
      ]
     },
     "execution_count": 32,
     "metadata": {},
     "output_type": "execute_result"
    }
   ],
   "source": [
    "# описательные статистики возрастов премиальных клиентов\n",
    "premium_clients.age.describe().round(2)"
   ]
  },
  {
   "cell_type": "code",
   "execution_count": 33,
   "id": "a3926578",
   "metadata": {},
   "outputs": [],
   "source": [
    "# создание DataFrame, содержащего только непремиальных клиентов\n",
    "non_premium_clients = clients_logs_df.query('premium == False')"
   ]
  },
  {
   "cell_type": "code",
   "execution_count": 34,
   "id": "d3f303f9",
   "metadata": {},
   "outputs": [
    {
     "data": {
      "text/plain": [
       "count    3019.00\n",
       "mean       44.18\n",
       "std        14.71\n",
       "min        20.00\n",
       "25%        31.00\n",
       "50%        44.00\n",
       "75%        57.00\n",
       "max        69.00\n",
       "Name: age, dtype: float64"
      ]
     },
     "execution_count": 34,
     "metadata": {},
     "output_type": "execute_result"
    }
   ],
   "source": [
    "# описательные статистики возрастов непремиальных клиентов\n",
    "non_premium_clients.age.describe().round(2)"
   ]
  },
  {
   "cell_type": "code",
   "execution_count": 35,
   "id": "071e8bbe",
   "metadata": {},
   "outputs": [
    {
     "data": {
      "text/plain": [
       "Text(0.6, 1.03, 'Распределение возрастов клиентов с непремиальным статусом')"
      ]
     },
     "execution_count": 35,
     "metadata": {},
     "output_type": "execute_result"
    },
    {
     "data": {
      "image/png": "[encoded data removed]",
      "text/plain": [
       "<Figure size 360x360 with 1 Axes>"
      ]
     },
     "metadata": {
      "needs_background": "light"
     },
     "output_type": "display_data"
    },
    {
     "data": {
      "image/png": "[encoded data removed]",
      "text/plain": [
       "<Figure size 360x360 with 1 Axes>"
      ]
     },
     "metadata": {
      "needs_background": "light"
     },
     "output_type": "display_data"
    }
   ],
   "source": [
    "# построение графика распределения возрастов клиентов с премиальным статусом\n",
    "sns.displot(data=premium_clients, x='age', kde=True, facecolor='xkcd:pale green', color='xkcd:dark green')\n",
    "plt.suptitle('Распределение возрастов клиентов с премиальным статусом', x=0.6, y=1.03)\n",
    "\n",
    "# построение графика распределения возрастов клиентов с непремиальным статусом\n",
    "sns.displot(data=non_premium_clients, x='age', kde=True, facecolor='xkcd:light pink', color='black')\n",
    "plt.suptitle('Распределение возрастов клиентов с непремиальным статусом', x=0.6, y=1.03)"
   ]
  },
  {
   "cell_type": "code",
   "execution_count": 36,
   "id": "3cb8f3c4",
   "metadata": {},
   "outputs": [
    {
     "data": {
      "text/plain": [
       "0    25.0\n",
       "dtype: float64"
      ]
     },
     "execution_count": 36,
     "metadata": {},
     "output_type": "execute_result"
    }
   ],
   "source": [
    "# мода возрастов премиальных клиентов\n",
    "premium_clients.age.mode()"
   ]
  },
  {
   "cell_type": "code",
   "execution_count": 37,
   "id": "08e13a89",
   "metadata": {},
   "outputs": [
    {
     "data": {
      "text/plain": [
       "0    28.0\n",
       "dtype: float64"
      ]
     },
     "execution_count": 37,
     "metadata": {},
     "output_type": "execute_result"
    }
   ],
   "source": [
    "# мода возрастов непремиальных клиентов\n",
    "non_premium_clients.age.mode()"
   ]
  },
  {
   "cell_type": "code",
   "execution_count": 38,
   "id": "5eae52dc",
   "metadata": {},
   "outputs": [
    {
     "data": {
      "text/plain": [
       "Text(0.5, 0.98, 'Совмещение графиков распределений возрастов премиальных и непремиальных клиентов')"
      ]
     },
     "execution_count": 38,
     "metadata": {},
     "output_type": "execute_result"
    },
    {
     "data": {
      "image/png": "[encoded data removed]",
      "text/plain": [
       "<Figure size 432x288 with 1 Axes>"
      ]
     },
     "metadata": {
      "needs_background": "light"
     },
     "output_type": "display_data"
    }
   ],
   "source": [
    "# сведение двух графиков распределений в один (для удобства сравнения данных и для наглядности)\n",
    "sns.kdeplot(data=premium_clients, x='age', color='xkcd:grass green')\n",
    "sns.kdeplot(data=non_premium_clients, x='age', color='xkcd:aquamarine')\n",
    "plt.suptitle('Совмещение графиков распределений возрастов премиальных и непремиальных клиентов')\n",
    "\n",
    "# Зелёная линия - премиальные клиенты, голубая - непремиальные"
   ]
  },
  {
   "cell_type": "markdown",
   "id": "bed87a5a",
   "metadata": {},
   "source": [
    "Выводы:\n",
    "- минимальные, максимальные и средние значения возрастов премиальных и непремиальных клиентов одинаковы\n",
    "- в целом, для премиальных и непремиальных клиентов характерно разное распределение возрастов\n",
    "- мода возрастов клиентов с премиальным статусом - 25 лет, с непремиальным статусом - 28 лет\n",
    "- в распределении возрастов премиальных клиентов наблюдается два максимума - около 40 лет и около 60\n",
    "- в распределении возрастов непремиальных клиентов наблюдается один максимум - около 25 лет\n",
    "- клиенты в возрасте 20-30, 40-55 и 65+ лет чаще имеют непремиальный статус\n",
    "- клиенты в возрасте 30-40 и 55-65 чаще имеют премиальный статус"
   ]
  },
  {
   "cell_type": "markdown",
   "id": "57af6b93",
   "metadata": {},
   "source": [
    "## В какой день недели клиенты совершают максимальное число операций?"
   ]
  },
  {
   "cell_type": "code",
   "execution_count": 39,
   "id": "411fac00",
   "metadata": {},
   "outputs": [],
   "source": [
    "# создание столбца day_of_the_week, содержащего порядковый номер дня недели \n",
    "clients_logs_df['day_of_the_week'] = clients_logs_df['date'].dt.weekday + 1"
   ]
  },
  {
   "cell_type": "code",
   "execution_count": 40,
   "id": "66fa9de0",
   "metadata": {},
   "outputs": [
    {
     "data": {
      "text/html": [
       "<div>\n",
       "<style scoped>\n",
       "    .dataframe tbody tr th:only-of-type {\n",
       "        vertical-align: middle;\n",
       "    }\n",
       "\n",
       "    .dataframe tbody tr th {\n",
       "        vertical-align: top;\n",
       "    }\n",
       "\n",
       "    .dataframe thead th {\n",
       "        text-align: right;\n",
       "    }\n",
       "</style>\n",
       "<table border=\"1\" class=\"dataframe\">\n",
       "  <thead>\n",
       "    <tr style=\"text-align: right;\">\n",
       "      <th></th>\n",
       "      <th>client</th>\n",
       "      <th>premium</th>\n",
       "      <th>age</th>\n",
       "      <th>success</th>\n",
       "      <th>platform</th>\n",
       "      <th>time</th>\n",
       "      <th>date</th>\n",
       "      <th>day_of_the_week</th>\n",
       "    </tr>\n",
       "  </thead>\n",
       "  <tbody>\n",
       "    <tr>\n",
       "      <th>0</th>\n",
       "      <td>46346</td>\n",
       "      <td>False</td>\n",
       "      <td>58.0</td>\n",
       "      <td>True</td>\n",
       "      <td>phone</td>\n",
       "      <td>1585452839</td>\n",
       "      <td>2020-03-29 03:33:59</td>\n",
       "      <td>7</td>\n",
       "    </tr>\n",
       "    <tr>\n",
       "      <th>1</th>\n",
       "      <td>4391</td>\n",
       "      <td>False</td>\n",
       "      <td>55.0</td>\n",
       "      <td>False</td>\n",
       "      <td>phone</td>\n",
       "      <td>1585409861</td>\n",
       "      <td>2020-03-28 15:37:41</td>\n",
       "      <td>6</td>\n",
       "    </tr>\n",
       "    <tr>\n",
       "      <th>2</th>\n",
       "      <td>27372</td>\n",
       "      <td>False</td>\n",
       "      <td>64.0</td>\n",
       "      <td>False</td>\n",
       "      <td>phone</td>\n",
       "      <td>1585446018</td>\n",
       "      <td>2020-03-29 01:40:18</td>\n",
       "      <td>7</td>\n",
       "    </tr>\n",
       "    <tr>\n",
       "      <th>3</th>\n",
       "      <td>11989</td>\n",
       "      <td>False</td>\n",
       "      <td>44.0</td>\n",
       "      <td>True</td>\n",
       "      <td>computer</td>\n",
       "      <td>1585403698</td>\n",
       "      <td>2020-03-28 13:54:58</td>\n",
       "      <td>6</td>\n",
       "    </tr>\n",
       "    <tr>\n",
       "      <th>4</th>\n",
       "      <td>60664</td>\n",
       "      <td>False</td>\n",
       "      <td>49.0</td>\n",
       "      <td>True</td>\n",
       "      <td>phone</td>\n",
       "      <td>1585406918</td>\n",
       "      <td>2020-03-28 14:48:38</td>\n",
       "      <td>6</td>\n",
       "    </tr>\n",
       "    <tr>\n",
       "      <th>...</th>\n",
       "      <td>...</td>\n",
       "      <td>...</td>\n",
       "      <td>...</td>\n",
       "      <td>...</td>\n",
       "      <td>...</td>\n",
       "      <td>...</td>\n",
       "      <td>...</td>\n",
       "      <td>...</td>\n",
       "    </tr>\n",
       "    <tr>\n",
       "      <th>4495</th>\n",
       "      <td>50</td>\n",
       "      <td>NaN</td>\n",
       "      <td>NaN</td>\n",
       "      <td>True</td>\n",
       "      <td>tablet</td>\n",
       "      <td>1585412688</td>\n",
       "      <td>2020-03-28 16:24:48</td>\n",
       "      <td>6</td>\n",
       "    </tr>\n",
       "    <tr>\n",
       "      <th>4496</th>\n",
       "      <td>68031</td>\n",
       "      <td>NaN</td>\n",
       "      <td>NaN</td>\n",
       "      <td>True</td>\n",
       "      <td>computer</td>\n",
       "      <td>1585464203</td>\n",
       "      <td>2020-03-29 06:43:23</td>\n",
       "      <td>7</td>\n",
       "    </tr>\n",
       "    <tr>\n",
       "      <th>4497</th>\n",
       "      <td>39878</td>\n",
       "      <td>NaN</td>\n",
       "      <td>NaN</td>\n",
       "      <td>False</td>\n",
       "      <td>phone</td>\n",
       "      <td>1585412838</td>\n",
       "      <td>2020-03-28 16:27:18</td>\n",
       "      <td>6</td>\n",
       "    </tr>\n",
       "    <tr>\n",
       "      <th>4498</th>\n",
       "      <td>73299</td>\n",
       "      <td>NaN</td>\n",
       "      <td>NaN</td>\n",
       "      <td>True</td>\n",
       "      <td>phone</td>\n",
       "      <td>1585458370</td>\n",
       "      <td>2020-03-29 05:06:10</td>\n",
       "      <td>7</td>\n",
       "    </tr>\n",
       "    <tr>\n",
       "      <th>4499</th>\n",
       "      <td>52880</td>\n",
       "      <td>NaN</td>\n",
       "      <td>NaN</td>\n",
       "      <td>False</td>\n",
       "      <td>phone</td>\n",
       "      <td>1585455362</td>\n",
       "      <td>2020-03-29 04:16:02</td>\n",
       "      <td>7</td>\n",
       "    </tr>\n",
       "  </tbody>\n",
       "</table>\n",
       "<p>4500 rows × 8 columns</p>\n",
       "</div>"
      ],
      "text/plain": [
       "      client premium   age  success  platform        time                date  \\\n",
       "0      46346   False  58.0     True     phone  1585452839 2020-03-29 03:33:59   \n",
       "1       4391   False  55.0    False     phone  1585409861 2020-03-28 15:37:41   \n",
       "2      27372   False  64.0    False     phone  1585446018 2020-03-29 01:40:18   \n",
       "3      11989   False  44.0     True  computer  1585403698 2020-03-28 13:54:58   \n",
       "4      60664   False  49.0     True     phone  1585406918 2020-03-28 14:48:38   \n",
       "...      ...     ...   ...      ...       ...         ...                 ...   \n",
       "4495      50     NaN   NaN     True    tablet  1585412688 2020-03-28 16:24:48   \n",
       "4496   68031     NaN   NaN     True  computer  1585464203 2020-03-29 06:43:23   \n",
       "4497   39878     NaN   NaN    False     phone  1585412838 2020-03-28 16:27:18   \n",
       "4498   73299     NaN   NaN     True     phone  1585458370 2020-03-29 05:06:10   \n",
       "4499   52880     NaN   NaN    False     phone  1585455362 2020-03-29 04:16:02   \n",
       "\n",
       "      day_of_the_week  \n",
       "0                   7  \n",
       "1                   6  \n",
       "2                   7  \n",
       "3                   6  \n",
       "4                   6  \n",
       "...               ...  \n",
       "4495                6  \n",
       "4496                7  \n",
       "4497                6  \n",
       "4498                7  \n",
       "4499                7  \n",
       "\n",
       "[4500 rows x 8 columns]"
      ]
     },
     "execution_count": 40,
     "metadata": {},
     "output_type": "execute_result"
    }
   ],
   "source": [
    "clients_logs_df"
   ]
  },
  {
   "cell_type": "code",
   "execution_count": 41,
   "id": "e709c2ac",
   "metadata": {},
   "outputs": [
    {
     "data": {
      "text/html": [
       "<div>\n",
       "<style scoped>\n",
       "    .dataframe tbody tr th:only-of-type {\n",
       "        vertical-align: middle;\n",
       "    }\n",
       "\n",
       "    .dataframe tbody tr th {\n",
       "        vertical-align: top;\n",
       "    }\n",
       "\n",
       "    .dataframe thead th {\n",
       "        text-align: right;\n",
       "    }\n",
       "</style>\n",
       "<table border=\"1\" class=\"dataframe\">\n",
       "  <thead>\n",
       "    <tr style=\"text-align: right;\">\n",
       "      <th></th>\n",
       "      <th>day_of_the_week</th>\n",
       "      <th>number_of_operations</th>\n",
       "    </tr>\n",
       "  </thead>\n",
       "  <tbody>\n",
       "    <tr>\n",
       "      <th>1</th>\n",
       "      <td>7</td>\n",
       "      <td>2270</td>\n",
       "    </tr>\n",
       "    <tr>\n",
       "      <th>0</th>\n",
       "      <td>6</td>\n",
       "      <td>2230</td>\n",
       "    </tr>\n",
       "  </tbody>\n",
       "</table>\n",
       "</div>"
      ],
      "text/plain": [
       "   day_of_the_week  number_of_operations\n",
       "1                7                  2270\n",
       "0                6                  2230"
      ]
     },
     "execution_count": 41,
     "metadata": {},
     "output_type": "execute_result"
    }
   ],
   "source": [
    "# подсчет количества операций по дням недели,\n",
    "# сортировка по убыванию этого значения, переименовывание колонки platform\n",
    "clients_logs_df.groupby('day_of_the_week', as_index=False) \\\n",
    "    .agg({'platform':'count'}) \\\n",
    "    .sort_values(by='platform', ascending=False) \\\n",
    "    .rename(columns={'platform':'number_of_operations'})"
   ]
  },
  {
   "cell_type": "markdown",
   "id": "e4a51b42",
   "metadata": {},
   "source": [
    "Выводы:\n",
    "- максимальное число успешных операций совершается клиентами в воскресенье"
   ]
  },
  {
   "cell_type": "markdown",
   "id": "c464d601",
   "metadata": {},
   "source": [
    "## В какой час суток максимальное число операций оказывается неудачным?"
   ]
  },
  {
   "cell_type": "code",
   "execution_count": 42,
   "id": "d1933470",
   "metadata": {},
   "outputs": [],
   "source": [
    "# создание столбца hour, содержащего час суток\n",
    "clients_logs_df['hour'] = clients_logs_df['date'].dt.hour"
   ]
  },
  {
   "cell_type": "code",
   "execution_count": 43,
   "id": "c4ebdae2",
   "metadata": {},
   "outputs": [
    {
     "data": {
      "text/html": [
       "<div>\n",
       "<style scoped>\n",
       "    .dataframe tbody tr th:only-of-type {\n",
       "        vertical-align: middle;\n",
       "    }\n",
       "\n",
       "    .dataframe tbody tr th {\n",
       "        vertical-align: top;\n",
       "    }\n",
       "\n",
       "    .dataframe thead th {\n",
       "        text-align: right;\n",
       "    }\n",
       "</style>\n",
       "<table border=\"1\" class=\"dataframe\">\n",
       "  <thead>\n",
       "    <tr style=\"text-align: right;\">\n",
       "      <th></th>\n",
       "      <th>client</th>\n",
       "      <th>premium</th>\n",
       "      <th>age</th>\n",
       "      <th>success</th>\n",
       "      <th>platform</th>\n",
       "      <th>time</th>\n",
       "      <th>date</th>\n",
       "      <th>day_of_the_week</th>\n",
       "      <th>hour</th>\n",
       "    </tr>\n",
       "  </thead>\n",
       "  <tbody>\n",
       "    <tr>\n",
       "      <th>0</th>\n",
       "      <td>46346</td>\n",
       "      <td>False</td>\n",
       "      <td>58.0</td>\n",
       "      <td>True</td>\n",
       "      <td>phone</td>\n",
       "      <td>1585452839</td>\n",
       "      <td>2020-03-29 03:33:59</td>\n",
       "      <td>7</td>\n",
       "      <td>3</td>\n",
       "    </tr>\n",
       "    <tr>\n",
       "      <th>1</th>\n",
       "      <td>4391</td>\n",
       "      <td>False</td>\n",
       "      <td>55.0</td>\n",
       "      <td>False</td>\n",
       "      <td>phone</td>\n",
       "      <td>1585409861</td>\n",
       "      <td>2020-03-28 15:37:41</td>\n",
       "      <td>6</td>\n",
       "      <td>15</td>\n",
       "    </tr>\n",
       "    <tr>\n",
       "      <th>2</th>\n",
       "      <td>27372</td>\n",
       "      <td>False</td>\n",
       "      <td>64.0</td>\n",
       "      <td>False</td>\n",
       "      <td>phone</td>\n",
       "      <td>1585446018</td>\n",
       "      <td>2020-03-29 01:40:18</td>\n",
       "      <td>7</td>\n",
       "      <td>1</td>\n",
       "    </tr>\n",
       "    <tr>\n",
       "      <th>3</th>\n",
       "      <td>11989</td>\n",
       "      <td>False</td>\n",
       "      <td>44.0</td>\n",
       "      <td>True</td>\n",
       "      <td>computer</td>\n",
       "      <td>1585403698</td>\n",
       "      <td>2020-03-28 13:54:58</td>\n",
       "      <td>6</td>\n",
       "      <td>13</td>\n",
       "    </tr>\n",
       "    <tr>\n",
       "      <th>4</th>\n",
       "      <td>60664</td>\n",
       "      <td>False</td>\n",
       "      <td>49.0</td>\n",
       "      <td>True</td>\n",
       "      <td>phone</td>\n",
       "      <td>1585406918</td>\n",
       "      <td>2020-03-28 14:48:38</td>\n",
       "      <td>6</td>\n",
       "      <td>14</td>\n",
       "    </tr>\n",
       "    <tr>\n",
       "      <th>...</th>\n",
       "      <td>...</td>\n",
       "      <td>...</td>\n",
       "      <td>...</td>\n",
       "      <td>...</td>\n",
       "      <td>...</td>\n",
       "      <td>...</td>\n",
       "      <td>...</td>\n",
       "      <td>...</td>\n",
       "      <td>...</td>\n",
       "    </tr>\n",
       "    <tr>\n",
       "      <th>4495</th>\n",
       "      <td>50</td>\n",
       "      <td>NaN</td>\n",
       "      <td>NaN</td>\n",
       "      <td>True</td>\n",
       "      <td>tablet</td>\n",
       "      <td>1585412688</td>\n",
       "      <td>2020-03-28 16:24:48</td>\n",
       "      <td>6</td>\n",
       "      <td>16</td>\n",
       "    </tr>\n",
       "    <tr>\n",
       "      <th>4496</th>\n",
       "      <td>68031</td>\n",
       "      <td>NaN</td>\n",
       "      <td>NaN</td>\n",
       "      <td>True</td>\n",
       "      <td>computer</td>\n",
       "      <td>1585464203</td>\n",
       "      <td>2020-03-29 06:43:23</td>\n",
       "      <td>7</td>\n",
       "      <td>6</td>\n",
       "    </tr>\n",
       "    <tr>\n",
       "      <th>4497</th>\n",
       "      <td>39878</td>\n",
       "      <td>NaN</td>\n",
       "      <td>NaN</td>\n",
       "      <td>False</td>\n",
       "      <td>phone</td>\n",
       "      <td>1585412838</td>\n",
       "      <td>2020-03-28 16:27:18</td>\n",
       "      <td>6</td>\n",
       "      <td>16</td>\n",
       "    </tr>\n",
       "    <tr>\n",
       "      <th>4498</th>\n",
       "      <td>73299</td>\n",
       "      <td>NaN</td>\n",
       "      <td>NaN</td>\n",
       "      <td>True</td>\n",
       "      <td>phone</td>\n",
       "      <td>1585458370</td>\n",
       "      <td>2020-03-29 05:06:10</td>\n",
       "      <td>7</td>\n",
       "      <td>5</td>\n",
       "    </tr>\n",
       "    <tr>\n",
       "      <th>4499</th>\n",
       "      <td>52880</td>\n",
       "      <td>NaN</td>\n",
       "      <td>NaN</td>\n",
       "      <td>False</td>\n",
       "      <td>phone</td>\n",
       "      <td>1585455362</td>\n",
       "      <td>2020-03-29 04:16:02</td>\n",
       "      <td>7</td>\n",
       "      <td>4</td>\n",
       "    </tr>\n",
       "  </tbody>\n",
       "</table>\n",
       "<p>4500 rows × 9 columns</p>\n",
       "</div>"
      ],
      "text/plain": [
       "      client premium   age  success  platform        time                date  \\\n",
       "0      46346   False  58.0     True     phone  1585452839 2020-03-29 03:33:59   \n",
       "1       4391   False  55.0    False     phone  1585409861 2020-03-28 15:37:41   \n",
       "2      27372   False  64.0    False     phone  1585446018 2020-03-29 01:40:18   \n",
       "3      11989   False  44.0     True  computer  1585403698 2020-03-28 13:54:58   \n",
       "4      60664   False  49.0     True     phone  1585406918 2020-03-28 14:48:38   \n",
       "...      ...     ...   ...      ...       ...         ...                 ...   \n",
       "4495      50     NaN   NaN     True    tablet  1585412688 2020-03-28 16:24:48   \n",
       "4496   68031     NaN   NaN     True  computer  1585464203 2020-03-29 06:43:23   \n",
       "4497   39878     NaN   NaN    False     phone  1585412838 2020-03-28 16:27:18   \n",
       "4498   73299     NaN   NaN     True     phone  1585458370 2020-03-29 05:06:10   \n",
       "4499   52880     NaN   NaN    False     phone  1585455362 2020-03-29 04:16:02   \n",
       "\n",
       "      day_of_the_week  hour  \n",
       "0                   7     3  \n",
       "1                   6    15  \n",
       "2                   7     1  \n",
       "3                   6    13  \n",
       "4                   6    14  \n",
       "...               ...   ...  \n",
       "4495                6    16  \n",
       "4496                7     6  \n",
       "4497                6    16  \n",
       "4498                7     5  \n",
       "4499                7     4  \n",
       "\n",
       "[4500 rows x 9 columns]"
      ]
     },
     "execution_count": 43,
     "metadata": {},
     "output_type": "execute_result"
    }
   ],
   "source": [
    "clients_logs_df"
   ]
  },
  {
   "cell_type": "code",
   "execution_count": 44,
   "id": "e38df9ce",
   "metadata": {},
   "outputs": [
    {
     "data": {
      "text/html": [
       "<div>\n",
       "<style scoped>\n",
       "    .dataframe tbody tr th:only-of-type {\n",
       "        vertical-align: middle;\n",
       "    }\n",
       "\n",
       "    .dataframe tbody tr th {\n",
       "        vertical-align: top;\n",
       "    }\n",
       "\n",
       "    .dataframe thead th {\n",
       "        text-align: right;\n",
       "    }\n",
       "</style>\n",
       "<table border=\"1\" class=\"dataframe\">\n",
       "  <thead>\n",
       "    <tr style=\"text-align: right;\">\n",
       "      <th></th>\n",
       "      <th>hour</th>\n",
       "      <th>number_of_failed_operations</th>\n",
       "    </tr>\n",
       "  </thead>\n",
       "  <tbody>\n",
       "    <tr>\n",
       "      <th>6</th>\n",
       "      <td>6</td>\n",
       "      <td>68</td>\n",
       "    </tr>\n",
       "    <tr>\n",
       "      <th>21</th>\n",
       "      <td>21</td>\n",
       "      <td>67</td>\n",
       "    </tr>\n",
       "    <tr>\n",
       "      <th>3</th>\n",
       "      <td>3</td>\n",
       "      <td>62</td>\n",
       "    </tr>\n",
       "    <tr>\n",
       "      <th>16</th>\n",
       "      <td>16</td>\n",
       "      <td>61</td>\n",
       "    </tr>\n",
       "    <tr>\n",
       "      <th>5</th>\n",
       "      <td>5</td>\n",
       "      <td>61</td>\n",
       "    </tr>\n",
       "    <tr>\n",
       "      <th>0</th>\n",
       "      <td>0</td>\n",
       "      <td>59</td>\n",
       "    </tr>\n",
       "    <tr>\n",
       "      <th>23</th>\n",
       "      <td>23</td>\n",
       "      <td>58</td>\n",
       "    </tr>\n",
       "    <tr>\n",
       "      <th>19</th>\n",
       "      <td>19</td>\n",
       "      <td>57</td>\n",
       "    </tr>\n",
       "    <tr>\n",
       "      <th>9</th>\n",
       "      <td>9</td>\n",
       "      <td>55</td>\n",
       "    </tr>\n",
       "    <tr>\n",
       "      <th>15</th>\n",
       "      <td>15</td>\n",
       "      <td>53</td>\n",
       "    </tr>\n",
       "    <tr>\n",
       "      <th>10</th>\n",
       "      <td>10</td>\n",
       "      <td>53</td>\n",
       "    </tr>\n",
       "    <tr>\n",
       "      <th>22</th>\n",
       "      <td>22</td>\n",
       "      <td>53</td>\n",
       "    </tr>\n",
       "    <tr>\n",
       "      <th>14</th>\n",
       "      <td>14</td>\n",
       "      <td>53</td>\n",
       "    </tr>\n",
       "    <tr>\n",
       "      <th>20</th>\n",
       "      <td>20</td>\n",
       "      <td>52</td>\n",
       "    </tr>\n",
       "    <tr>\n",
       "      <th>18</th>\n",
       "      <td>18</td>\n",
       "      <td>52</td>\n",
       "    </tr>\n",
       "    <tr>\n",
       "      <th>2</th>\n",
       "      <td>2</td>\n",
       "      <td>51</td>\n",
       "    </tr>\n",
       "    <tr>\n",
       "      <th>8</th>\n",
       "      <td>8</td>\n",
       "      <td>51</td>\n",
       "    </tr>\n",
       "    <tr>\n",
       "      <th>4</th>\n",
       "      <td>4</td>\n",
       "      <td>50</td>\n",
       "    </tr>\n",
       "    <tr>\n",
       "      <th>17</th>\n",
       "      <td>17</td>\n",
       "      <td>50</td>\n",
       "    </tr>\n",
       "    <tr>\n",
       "      <th>7</th>\n",
       "      <td>7</td>\n",
       "      <td>47</td>\n",
       "    </tr>\n",
       "    <tr>\n",
       "      <th>1</th>\n",
       "      <td>1</td>\n",
       "      <td>47</td>\n",
       "    </tr>\n",
       "    <tr>\n",
       "      <th>13</th>\n",
       "      <td>13</td>\n",
       "      <td>46</td>\n",
       "    </tr>\n",
       "    <tr>\n",
       "      <th>12</th>\n",
       "      <td>12</td>\n",
       "      <td>4</td>\n",
       "    </tr>\n",
       "    <tr>\n",
       "      <th>11</th>\n",
       "      <td>11</td>\n",
       "      <td>1</td>\n",
       "    </tr>\n",
       "  </tbody>\n",
       "</table>\n",
       "</div>"
      ],
      "text/plain": [
       "    hour  number_of_failed_operations\n",
       "6      6                           68\n",
       "21    21                           67\n",
       "3      3                           62\n",
       "16    16                           61\n",
       "5      5                           61\n",
       "0      0                           59\n",
       "23    23                           58\n",
       "19    19                           57\n",
       "9      9                           55\n",
       "15    15                           53\n",
       "10    10                           53\n",
       "22    22                           53\n",
       "14    14                           53\n",
       "20    20                           52\n",
       "18    18                           52\n",
       "2      2                           51\n",
       "8      8                           51\n",
       "4      4                           50\n",
       "17    17                           50\n",
       "7      7                           47\n",
       "1      1                           47\n",
       "13    13                           46\n",
       "12    12                            4\n",
       "11    11                            1"
      ]
     },
     "execution_count": 44,
     "metadata": {},
     "output_type": "execute_result"
    }
   ],
   "source": [
    "# отбор только неудачных операций, подсчет их количества по времени суток, \n",
    "# сортировка по убыванию этого значения, переименование столбца platform\n",
    "clients_logs_df.query('success == False') \\\n",
    "    .groupby('hour', as_index=False) \\\n",
    "    .agg({'platform':'count'}) \\\n",
    "    .sort_values(by='platform', ascending=False) \\\n",
    "    .rename(columns={'platform':'number_of_failed_operations'})"
   ]
  },
  {
   "cell_type": "markdown",
   "id": "c859e224",
   "metadata": {},
   "source": [
    "Выводы:\n",
    "- максимальное количество операций оказывается неудачным в 6 утра"
   ]
  },
  {
   "cell_type": "markdown",
   "id": "ab30fb41",
   "metadata": {},
   "source": [
    "## Прослеживается ли годовая сезонность в числе совершаемых операций?"
   ]
  },
  {
   "cell_type": "code",
   "execution_count": 45,
   "id": "765fc0e3",
   "metadata": {},
   "outputs": [],
   "source": [
    "# создание столбца month, содержащего порядковый номер месяца совершения операции\n",
    "clients_logs_df['month'] = clients_logs_df['date'].dt.month"
   ]
  },
  {
   "cell_type": "code",
   "execution_count": 46,
   "id": "53cc5ce3",
   "metadata": {},
   "outputs": [
    {
     "data": {
      "text/plain": [
       "array([3], dtype=int64)"
      ]
     },
     "execution_count": 46,
     "metadata": {},
     "output_type": "execute_result"
    }
   ],
   "source": [
    "# просмотр уникальных значений столбца month\n",
    "clients_logs_df.month.unique()"
   ]
  },
  {
   "cell_type": "markdown",
   "id": "11a915e9",
   "metadata": {},
   "source": [
    "Исходные логи содержат информацию только за один месяц года (март), поэтому никаких выводов о наличии или отсутствии годовой сезонности сделать нельзя"
   ]
  },
  {
   "cell_type": "markdown",
   "id": "5fd50fab",
   "metadata": {},
   "source": [
    "## 9. Клиенты какого возраста совершили наибольшее количество успешных операций (для каждого вида платформ)?"
   ]
  },
  {
   "cell_type": "code",
   "execution_count": 47,
   "id": "005cb911",
   "metadata": {},
   "outputs": [
    {
     "data": {
      "text/plain": [
       "array(['phone', 'computer', 'tablet'], dtype=object)"
      ]
     },
     "execution_count": 47,
     "metadata": {},
     "output_type": "execute_result"
    }
   ],
   "source": [
    "# просмотр всех возможных видов платформ\n",
    "clients_logs_df.platform.unique()"
   ]
  },
  {
   "cell_type": "code",
   "execution_count": 48,
   "id": "3ceccf5a",
   "metadata": {},
   "outputs": [],
   "source": [
    "# создание DataFrame, содержащего только клиентов, совершивших успешные операции на телефоне\n",
    "# DataFrame отсортирован по количеству клиентов, имеющих определенный возраст \n",
    "successful_phone = clients_logs_df.query('success == True & platform ==\"phone\"') \\\n",
    "    .groupby('age', as_index=False) \\\n",
    "    .agg({'premium':'count'}) \\\n",
    "    .sort_values(by='premium', ascending=False) \\\n",
    "    .rename(columns={'premium':'successful_operations'})"
   ]
  },
  {
   "cell_type": "code",
   "execution_count": 49,
   "id": "a4f3fad0",
   "metadata": {},
   "outputs": [
    {
     "data": {
      "text/html": [
       "<div>\n",
       "<style scoped>\n",
       "    .dataframe tbody tr th:only-of-type {\n",
       "        vertical-align: middle;\n",
       "    }\n",
       "\n",
       "    .dataframe tbody tr th {\n",
       "        vertical-align: top;\n",
       "    }\n",
       "\n",
       "    .dataframe thead th {\n",
       "        text-align: right;\n",
       "    }\n",
       "</style>\n",
       "<table border=\"1\" class=\"dataframe\">\n",
       "  <thead>\n",
       "    <tr style=\"text-align: right;\">\n",
       "      <th></th>\n",
       "      <th>age</th>\n",
       "      <th>successful_operations</th>\n",
       "    </tr>\n",
       "  </thead>\n",
       "  <tbody>\n",
       "    <tr>\n",
       "      <th>8</th>\n",
       "      <td>28.0</td>\n",
       "      <td>67</td>\n",
       "    </tr>\n",
       "    <tr>\n",
       "      <th>48</th>\n",
       "      <td>68.0</td>\n",
       "      <td>64</td>\n",
       "    </tr>\n",
       "    <tr>\n",
       "      <th>32</th>\n",
       "      <td>52.0</td>\n",
       "      <td>57</td>\n",
       "    </tr>\n",
       "    <tr>\n",
       "      <th>45</th>\n",
       "      <td>65.0</td>\n",
       "      <td>55</td>\n",
       "    </tr>\n",
       "    <tr>\n",
       "      <th>5</th>\n",
       "      <td>25.0</td>\n",
       "      <td>55</td>\n",
       "    </tr>\n",
       "  </tbody>\n",
       "</table>\n",
       "</div>"
      ],
      "text/plain": [
       "     age  successful_operations\n",
       "8   28.0                     67\n",
       "48  68.0                     64\n",
       "32  52.0                     57\n",
       "45  65.0                     55\n",
       "5   25.0                     55"
      ]
     },
     "execution_count": 49,
     "metadata": {},
     "output_type": "execute_result"
    }
   ],
   "source": [
    "successful_phone.head()"
   ]
  },
  {
   "cell_type": "code",
   "execution_count": 50,
   "id": "b5f278ee",
   "metadata": {},
   "outputs": [],
   "source": [
    "# создание DataFrame, содержащего только клиентов, совершивших успешные операции на планшете\n",
    "# DataFrame отсортирован по количеству клиентов, имеющих определенный возраст \n",
    "successful_tablet = clients_logs_df.query('success == True & platform ==\"tablet\"') \\\n",
    "    .groupby('age', as_index=False) \\\n",
    "    .agg({'premium':'count'}) \\\n",
    "    .sort_values(by='premium', ascending=False) \\\n",
    "    .rename(columns={'premium':'successful_operations'})"
   ]
  },
  {
   "cell_type": "code",
   "execution_count": 51,
   "id": "22ab9a5b",
   "metadata": {},
   "outputs": [
    {
     "data": {
      "text/html": [
       "<div>\n",
       "<style scoped>\n",
       "    .dataframe tbody tr th:only-of-type {\n",
       "        vertical-align: middle;\n",
       "    }\n",
       "\n",
       "    .dataframe tbody tr th {\n",
       "        vertical-align: top;\n",
       "    }\n",
       "\n",
       "    .dataframe thead th {\n",
       "        text-align: right;\n",
       "    }\n",
       "</style>\n",
       "<table border=\"1\" class=\"dataframe\">\n",
       "  <thead>\n",
       "    <tr style=\"text-align: right;\">\n",
       "      <th></th>\n",
       "      <th>age</th>\n",
       "      <th>successful_operations</th>\n",
       "    </tr>\n",
       "  </thead>\n",
       "  <tbody>\n",
       "    <tr>\n",
       "      <th>29</th>\n",
       "      <td>52.0</td>\n",
       "      <td>11</td>\n",
       "    </tr>\n",
       "    <tr>\n",
       "      <th>11</th>\n",
       "      <td>32.0</td>\n",
       "      <td>5</td>\n",
       "    </tr>\n",
       "    <tr>\n",
       "      <th>22</th>\n",
       "      <td>44.0</td>\n",
       "      <td>5</td>\n",
       "    </tr>\n",
       "    <tr>\n",
       "      <th>3</th>\n",
       "      <td>24.0</td>\n",
       "      <td>5</td>\n",
       "    </tr>\n",
       "    <tr>\n",
       "      <th>4</th>\n",
       "      <td>25.0</td>\n",
       "      <td>5</td>\n",
       "    </tr>\n",
       "  </tbody>\n",
       "</table>\n",
       "</div>"
      ],
      "text/plain": [
       "     age  successful_operations\n",
       "29  52.0                     11\n",
       "11  32.0                      5\n",
       "22  44.0                      5\n",
       "3   24.0                      5\n",
       "4   25.0                      5"
      ]
     },
     "execution_count": 51,
     "metadata": {},
     "output_type": "execute_result"
    }
   ],
   "source": [
    "successful_tablet.head(5)"
   ]
  },
  {
   "cell_type": "code",
   "execution_count": 52,
   "id": "09a14d9f",
   "metadata": {},
   "outputs": [],
   "source": [
    "# создание DataFrame, содержащего только клиентов, совершивших успешные операции на компьютере\n",
    "# DataFrame отсортирован по количеству клиентов, имеющих определенный возраст \n",
    "successful_computer = clients_logs_df.query('success == True & platform ==\"computer\"') \\\n",
    "    .groupby('age', as_index=False) \\\n",
    "    .agg({'premium':'count'}) \\\n",
    "    .sort_values(by='premium', ascending=False) \\\n",
    "    .rename(columns={'premium':'successful_operations'})"
   ]
  },
  {
   "cell_type": "code",
   "execution_count": 53,
   "id": "298eb98a",
   "metadata": {},
   "outputs": [
    {
     "data": {
      "text/html": [
       "<div>\n",
       "<style scoped>\n",
       "    .dataframe tbody tr th:only-of-type {\n",
       "        vertical-align: middle;\n",
       "    }\n",
       "\n",
       "    .dataframe tbody tr th {\n",
       "        vertical-align: top;\n",
       "    }\n",
       "\n",
       "    .dataframe thead th {\n",
       "        text-align: right;\n",
       "    }\n",
       "</style>\n",
       "<table border=\"1\" class=\"dataframe\">\n",
       "  <thead>\n",
       "    <tr style=\"text-align: right;\">\n",
       "      <th></th>\n",
       "      <th>age</th>\n",
       "      <th>successful_operations</th>\n",
       "    </tr>\n",
       "  </thead>\n",
       "  <tbody>\n",
       "    <tr>\n",
       "      <th>8</th>\n",
       "      <td>28.0</td>\n",
       "      <td>49</td>\n",
       "    </tr>\n",
       "    <tr>\n",
       "      <th>29</th>\n",
       "      <td>49.0</td>\n",
       "      <td>33</td>\n",
       "    </tr>\n",
       "    <tr>\n",
       "      <th>5</th>\n",
       "      <td>25.0</td>\n",
       "      <td>33</td>\n",
       "    </tr>\n",
       "    <tr>\n",
       "      <th>12</th>\n",
       "      <td>32.0</td>\n",
       "      <td>27</td>\n",
       "    </tr>\n",
       "    <tr>\n",
       "      <th>48</th>\n",
       "      <td>68.0</td>\n",
       "      <td>26</td>\n",
       "    </tr>\n",
       "  </tbody>\n",
       "</table>\n",
       "</div>"
      ],
      "text/plain": [
       "     age  successful_operations\n",
       "8   28.0                     49\n",
       "29  49.0                     33\n",
       "5   25.0                     33\n",
       "12  32.0                     27\n",
       "48  68.0                     26"
      ]
     },
     "execution_count": 53,
     "metadata": {},
     "output_type": "execute_result"
    }
   ],
   "source": [
    "successful_computer.head(5)"
   ]
  },
  {
   "cell_type": "markdown",
   "id": "ca85a79f",
   "metadata": {},
   "source": [
    "Выводы:\n",
    "- клиенты 28 лет совершили максимальное число успешных операций на телефоне и компьютере\n",
    "- клиенты 52 лет совершили максимальное число успешных операций на планшете\n",
    "- телефон - самая популярная платформа среди клиентов, планшет - наименее популярная\n",
    "- возраст клиентов заметно варьирует среди количества успешных операций на всех платформах"
   ]
  }
 ],
 "metadata": {
  "kernelspec": {
   "display_name": "Python 3 (ipykernel)",
   "language": "python",
   "name": "python3"
  },
  "language_info": {
   "codemirror_mode": {
    "name": "ipython",
    "version": 3
   },
   "file_extension": ".py",
   "mimetype": "text/x-python",
   "name": "python",
   "nbconvert_exporter": "python",
   "pygments_lexer": "ipython3",
   "version": "3.8.2"
  }
 },
 "nbformat": 4,
 "nbformat_minor": 5
}
