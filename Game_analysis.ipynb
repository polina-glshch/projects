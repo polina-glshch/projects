{
 "cells": [
  {
   "cell_type": "code",
   "execution_count": 1,
   "id": "fc7e3454",
   "metadata": {},
   "outputs": [],
   "source": [
    "# импорт необходимых библиотек\n",
    "import pandas as pd\n",
    "import matplotlib.pyplot as plt\n",
    "import seaborn as sns\n",
    "import datetime\n",
    "from ast import literal_eval\n",
    "from pandas.io.json import json_normalize\n",
    "import json\n",
    "\n",
    "%matplotlib inline"
   ]
  },
  {
   "cell_type": "code",
   "execution_count": 2,
   "id": "cc7de468",
   "metadata": {},
   "outputs": [],
   "source": [
    "# загрузка датасета в датафрейм\n",
    "game_df = pd.read_csv('TZ_GP (2).csv')"
   ]
  },
  {
   "cell_type": "code",
   "execution_count": 3,
   "id": "d25dab80",
   "metadata": {},
   "outputs": [
    {
     "data": {
      "text/html": [
       "<div>\n",
       "<style scoped>\n",
       "    .dataframe tbody tr th:only-of-type {\n",
       "        vertical-align: middle;\n",
       "    }\n",
       "\n",
       "    .dataframe tbody tr th {\n",
       "        vertical-align: top;\n",
       "    }\n",
       "\n",
       "    .dataframe thead th {\n",
       "        text-align: right;\n",
       "    }\n",
       "</style>\n",
       "<table border=\"1\" class=\"dataframe\">\n",
       "  <thead>\n",
       "    <tr style=\"text-align: right;\">\n",
       "      <th></th>\n",
       "      <th>user_id</th>\n",
       "      <th>media_source</th>\n",
       "      <th>client_time</th>\n",
       "      <th>session_index</th>\n",
       "      <th>game_status</th>\n",
       "      <th>event_name</th>\n",
       "      <th>event_data</th>\n",
       "    </tr>\n",
       "  </thead>\n",
       "  <tbody>\n",
       "    <tr>\n",
       "      <th>0</th>\n",
       "      <td>60c588d7b4d1b24b40531f29</td>\n",
       "      <td>organic</td>\n",
       "      <td>2021-06-05 07:23:06</td>\n",
       "      <td>1</td>\n",
       "      <td>{\"coins\":0,\"freeRounds\":0,\"freeUndo\":0,\"freeWi...</td>\n",
       "      <td>appInstall</td>\n",
       "      <td>{\"device\":\"Xiaomi POCO M2 Pro\",\"graphicMemory\"...</td>\n",
       "    </tr>\n",
       "    <tr>\n",
       "      <th>1</th>\n",
       "      <td>60d34c7ab4d1b24b405324ac</td>\n",
       "      <td>organic</td>\n",
       "      <td>2021-06-05 16:33:26</td>\n",
       "      <td>1</td>\n",
       "      <td>{\"coins\":0,\"freeRounds\":0,\"freeUndo\":0,\"freeWi...</td>\n",
       "      <td>appInstall</td>\n",
       "      <td>{\"device\":\"samsung SM-J200G\",\"graphicMemory\":2...</td>\n",
       "    </tr>\n",
       "    <tr>\n",
       "      <th>2</th>\n",
       "      <td>60babef87c80da6a9442cb86</td>\n",
       "      <td>ad-traffic</td>\n",
       "      <td>2021-06-05 00:02:07</td>\n",
       "      <td>1</td>\n",
       "      <td>{\"coins\":0,\"freeRounds\":0,\"freeUndo\":0,\"freeWi...</td>\n",
       "      <td>appInstall</td>\n",
       "      <td>{\"device\":\"samsung SM-G781B\",\"graphicMemory\":2...</td>\n",
       "    </tr>\n",
       "    <tr>\n",
       "      <th>3</th>\n",
       "      <td>60bac0e912667e6a8d107731</td>\n",
       "      <td>ad-traffic</td>\n",
       "      <td>2021-06-05 00:04:29</td>\n",
       "      <td>1</td>\n",
       "      <td>{\"coins\":0,\"freeRounds\":0,\"freeUndo\":0,\"freeWi...</td>\n",
       "      <td>appInstall</td>\n",
       "      <td>{\"device\":\"samsung SM-T290\",\"graphicMemory\":51...</td>\n",
       "    </tr>\n",
       "    <tr>\n",
       "      <th>4</th>\n",
       "      <td>60babfb17c80da6a9442cb87</td>\n",
       "      <td>organic</td>\n",
       "      <td>2021-06-05 00:05:16</td>\n",
       "      <td>1</td>\n",
       "      <td>{\"coins\":0,\"freeRounds\":0,\"freeUndo\":0,\"freeWi...</td>\n",
       "      <td>appInstall</td>\n",
       "      <td>{\"device\":\"samsung SM-N960F\",\"graphicMemory\":2...</td>\n",
       "    </tr>\n",
       "  </tbody>\n",
       "</table>\n",
       "</div>"
      ],
      "text/plain": [
       "                    user_id media_source          client_time  session_index  \\\n",
       "0  60c588d7b4d1b24b40531f29      organic  2021-06-05 07:23:06              1   \n",
       "1  60d34c7ab4d1b24b405324ac      organic  2021-06-05 16:33:26              1   \n",
       "2  60babef87c80da6a9442cb86   ad-traffic  2021-06-05 00:02:07              1   \n",
       "3  60bac0e912667e6a8d107731   ad-traffic  2021-06-05 00:04:29              1   \n",
       "4  60babfb17c80da6a9442cb87      organic  2021-06-05 00:05:16              1   \n",
       "\n",
       "                                         game_status  event_name  \\\n",
       "0  {\"coins\":0,\"freeRounds\":0,\"freeUndo\":0,\"freeWi...  appInstall   \n",
       "1  {\"coins\":0,\"freeRounds\":0,\"freeUndo\":0,\"freeWi...  appInstall   \n",
       "2  {\"coins\":0,\"freeRounds\":0,\"freeUndo\":0,\"freeWi...  appInstall   \n",
       "3  {\"coins\":0,\"freeRounds\":0,\"freeUndo\":0,\"freeWi...  appInstall   \n",
       "4  {\"coins\":0,\"freeRounds\":0,\"freeUndo\":0,\"freeWi...  appInstall   \n",
       "\n",
       "                                          event_data  \n",
       "0  {\"device\":\"Xiaomi POCO M2 Pro\",\"graphicMemory\"...  \n",
       "1  {\"device\":\"samsung SM-J200G\",\"graphicMemory\":2...  \n",
       "2  {\"device\":\"samsung SM-G781B\",\"graphicMemory\":2...  \n",
       "3  {\"device\":\"samsung SM-T290\",\"graphicMemory\":51...  \n",
       "4  {\"device\":\"samsung SM-N960F\",\"graphicMemory\":2...  "
      ]
     },
     "execution_count": 3,
     "metadata": {},
     "output_type": "execute_result"
    }
   ],
   "source": [
    "game_df.head()"
   ]
  },
  {
   "cell_type": "code",
   "execution_count": 4,
   "id": "b03e8b17",
   "metadata": {},
   "outputs": [
    {
     "data": {
      "text/plain": [
       "(396099, 7)"
      ]
     },
     "execution_count": 4,
     "metadata": {},
     "output_type": "execute_result"
    }
   ],
   "source": [
    "game_df.shape"
   ]
  },
  {
   "cell_type": "markdown",
   "id": "8b495b5d",
   "metadata": {},
   "source": [
    "Данные были успешно загружены."
   ]
  },
  {
   "cell_type": "markdown",
   "id": "f5d0d725",
   "metadata": {},
   "source": [
    "## Предобработка данных\n",
    "1. Распаковка json-столбцов\n",
    "2. Преобразование типов\n",
    "3. Устранение пропусков\n",
    "4. Устранение дубликатов\n",
    "5. Переименовывание столбцов\n",
    "6. Оценка валидности и корректности\n",
    "7. Просмотр описательных статистик"
   ]
  },
  {
   "cell_type": "markdown",
   "id": "c43c2ec9",
   "metadata": {},
   "source": [
    "### Распаковка json-столбцов"
   ]
  },
  {
   "cell_type": "markdown",
   "id": "e41366b3",
   "metadata": {},
   "source": [
    "Столбцы game_status и event_data содержат данные в json-формате; эти столбцы нужно распаковать в колонки датафрейма. \n",
    "Для столбца game_status преобразование будет осуществляться в блоке предобработки данных, для столбца event_data - по мере работы с событиями."
   ]
  },
  {
   "cell_type": "code",
   "execution_count": 5,
   "id": "159aa2af",
   "metadata": {},
   "outputs": [],
   "source": [
    "game_df['game_status'] = game_df['game_status'].apply(literal_eval)"
   ]
  },
  {
   "cell_type": "code",
   "execution_count": 6,
   "id": "884bb40a",
   "metadata": {},
   "outputs": [],
   "source": [
    "# распаковка столбца game_data_status в отдельный датафрейм\n",
    "data_game_status = pd.json_normalize(data = game_df['game_status'], \n",
    "                            meta =['coins', 'freeRounds', 'freeUndo', 'freeWildCard', 'freeAddCards','level', 'map', 'bet', \n",
    "                                   'gladeId', 'league', 'VIPPointsAmount', 'VIPStatus', 'gameType'])"
   ]
  },
  {
   "cell_type": "code",
   "execution_count": 7,
   "id": "44f4156e",
   "metadata": {},
   "outputs": [
    {
     "data": {
      "text/html": [
       "<div>\n",
       "<style scoped>\n",
       "    .dataframe tbody tr th:only-of-type {\n",
       "        vertical-align: middle;\n",
       "    }\n",
       "\n",
       "    .dataframe tbody tr th {\n",
       "        vertical-align: top;\n",
       "    }\n",
       "\n",
       "    .dataframe thead th {\n",
       "        text-align: right;\n",
       "    }\n",
       "</style>\n",
       "<table border=\"1\" class=\"dataframe\">\n",
       "  <thead>\n",
       "    <tr style=\"text-align: right;\">\n",
       "      <th></th>\n",
       "      <th>coins</th>\n",
       "      <th>freeRounds</th>\n",
       "      <th>freeUndo</th>\n",
       "      <th>freeWildCard</th>\n",
       "      <th>freeAddCards</th>\n",
       "      <th>level</th>\n",
       "      <th>map</th>\n",
       "      <th>bet</th>\n",
       "      <th>gladeId</th>\n",
       "      <th>league</th>\n",
       "      <th>VIPPointsAmount</th>\n",
       "      <th>VIPStatus</th>\n",
       "      <th>gameType</th>\n",
       "    </tr>\n",
       "  </thead>\n",
       "  <tbody>\n",
       "    <tr>\n",
       "      <th>0</th>\n",
       "      <td>0</td>\n",
       "      <td>0</td>\n",
       "      <td>0</td>\n",
       "      <td>0</td>\n",
       "      <td>0</td>\n",
       "      <td>0</td>\n",
       "      <td>1</td>\n",
       "      <td>1.0</td>\n",
       "      <td>1.0</td>\n",
       "      <td>0.0</td>\n",
       "      <td>0.0</td>\n",
       "      <td>0.0</td>\n",
       "      <td>NaN</td>\n",
       "    </tr>\n",
       "    <tr>\n",
       "      <th>1</th>\n",
       "      <td>0</td>\n",
       "      <td>0</td>\n",
       "      <td>0</td>\n",
       "      <td>0</td>\n",
       "      <td>0</td>\n",
       "      <td>0</td>\n",
       "      <td>1</td>\n",
       "      <td>1.0</td>\n",
       "      <td>1.0</td>\n",
       "      <td>0.0</td>\n",
       "      <td>0.0</td>\n",
       "      <td>0.0</td>\n",
       "      <td>NaN</td>\n",
       "    </tr>\n",
       "    <tr>\n",
       "      <th>2</th>\n",
       "      <td>0</td>\n",
       "      <td>0</td>\n",
       "      <td>0</td>\n",
       "      <td>0</td>\n",
       "      <td>0</td>\n",
       "      <td>0</td>\n",
       "      <td>1</td>\n",
       "      <td>1.0</td>\n",
       "      <td>1.0</td>\n",
       "      <td>0.0</td>\n",
       "      <td>0.0</td>\n",
       "      <td>0.0</td>\n",
       "      <td>NaN</td>\n",
       "    </tr>\n",
       "    <tr>\n",
       "      <th>3</th>\n",
       "      <td>0</td>\n",
       "      <td>0</td>\n",
       "      <td>0</td>\n",
       "      <td>0</td>\n",
       "      <td>0</td>\n",
       "      <td>0</td>\n",
       "      <td>1</td>\n",
       "      <td>1.0</td>\n",
       "      <td>1.0</td>\n",
       "      <td>0.0</td>\n",
       "      <td>0.0</td>\n",
       "      <td>0.0</td>\n",
       "      <td>NaN</td>\n",
       "    </tr>\n",
       "    <tr>\n",
       "      <th>4</th>\n",
       "      <td>0</td>\n",
       "      <td>0</td>\n",
       "      <td>0</td>\n",
       "      <td>0</td>\n",
       "      <td>0</td>\n",
       "      <td>0</td>\n",
       "      <td>1</td>\n",
       "      <td>1.0</td>\n",
       "      <td>1.0</td>\n",
       "      <td>0.0</td>\n",
       "      <td>0.0</td>\n",
       "      <td>0.0</td>\n",
       "      <td>NaN</td>\n",
       "    </tr>\n",
       "  </tbody>\n",
       "</table>\n",
       "</div>"
      ],
      "text/plain": [
       "   coins  freeRounds  freeUndo  freeWildCard  freeAddCards  level  map  bet  \\\n",
       "0      0           0         0             0             0      0    1  1.0   \n",
       "1      0           0         0             0             0      0    1  1.0   \n",
       "2      0           0         0             0             0      0    1  1.0   \n",
       "3      0           0         0             0             0      0    1  1.0   \n",
       "4      0           0         0             0             0      0    1  1.0   \n",
       "\n",
       "   gladeId  league  VIPPointsAmount  VIPStatus  gameType  \n",
       "0      1.0     0.0              0.0        0.0       NaN  \n",
       "1      1.0     0.0              0.0        0.0       NaN  \n",
       "2      1.0     0.0              0.0        0.0       NaN  \n",
       "3      1.0     0.0              0.0        0.0       NaN  \n",
       "4      1.0     0.0              0.0        0.0       NaN  "
      ]
     },
     "execution_count": 7,
     "metadata": {},
     "output_type": "execute_result"
    }
   ],
   "source": [
    "data_game_status.head()"
   ]
  },
  {
   "cell_type": "markdown",
   "id": "d8d473f9",
   "metadata": {},
   "source": [
    "Распаковка json-формата из столбца game_status в отдельный датафрейм прошла успешно.\n",
    "Теперь нужно объединить датафреймы game_df и data_game_status."
   ]
  },
  {
   "cell_type": "code",
   "execution_count": 8,
   "id": "a9a4c331",
   "metadata": {},
   "outputs": [],
   "source": [
    "# перевод индексов строк в отдельную колонку (для объединения датафреймов по этому столбцу)\n",
    "data_game_status.reset_index(level=0, inplace=True)\n",
    "game_df.reset_index(level=0, inplace=True)"
   ]
  },
  {
   "cell_type": "code",
   "execution_count": 9,
   "id": "10581288",
   "metadata": {},
   "outputs": [
    {
     "data": {
      "text/html": [
       "<div>\n",
       "<style scoped>\n",
       "    .dataframe tbody tr th:only-of-type {\n",
       "        vertical-align: middle;\n",
       "    }\n",
       "\n",
       "    .dataframe tbody tr th {\n",
       "        vertical-align: top;\n",
       "    }\n",
       "\n",
       "    .dataframe thead th {\n",
       "        text-align: right;\n",
       "    }\n",
       "</style>\n",
       "<table border=\"1\" class=\"dataframe\">\n",
       "  <thead>\n",
       "    <tr style=\"text-align: right;\">\n",
       "      <th></th>\n",
       "      <th>index</th>\n",
       "      <th>coins</th>\n",
       "      <th>freeRounds</th>\n",
       "      <th>freeUndo</th>\n",
       "      <th>freeWildCard</th>\n",
       "      <th>freeAddCards</th>\n",
       "      <th>level</th>\n",
       "      <th>map</th>\n",
       "      <th>bet</th>\n",
       "      <th>gladeId</th>\n",
       "      <th>league</th>\n",
       "      <th>VIPPointsAmount</th>\n",
       "      <th>VIPStatus</th>\n",
       "      <th>gameType</th>\n",
       "    </tr>\n",
       "  </thead>\n",
       "  <tbody>\n",
       "    <tr>\n",
       "      <th>0</th>\n",
       "      <td>0</td>\n",
       "      <td>0</td>\n",
       "      <td>0</td>\n",
       "      <td>0</td>\n",
       "      <td>0</td>\n",
       "      <td>0</td>\n",
       "      <td>0</td>\n",
       "      <td>1</td>\n",
       "      <td>1.0</td>\n",
       "      <td>1.0</td>\n",
       "      <td>0.0</td>\n",
       "      <td>0.0</td>\n",
       "      <td>0.0</td>\n",
       "      <td>NaN</td>\n",
       "    </tr>\n",
       "    <tr>\n",
       "      <th>1</th>\n",
       "      <td>1</td>\n",
       "      <td>0</td>\n",
       "      <td>0</td>\n",
       "      <td>0</td>\n",
       "      <td>0</td>\n",
       "      <td>0</td>\n",
       "      <td>0</td>\n",
       "      <td>1</td>\n",
       "      <td>1.0</td>\n",
       "      <td>1.0</td>\n",
       "      <td>0.0</td>\n",
       "      <td>0.0</td>\n",
       "      <td>0.0</td>\n",
       "      <td>NaN</td>\n",
       "    </tr>\n",
       "    <tr>\n",
       "      <th>2</th>\n",
       "      <td>2</td>\n",
       "      <td>0</td>\n",
       "      <td>0</td>\n",
       "      <td>0</td>\n",
       "      <td>0</td>\n",
       "      <td>0</td>\n",
       "      <td>0</td>\n",
       "      <td>1</td>\n",
       "      <td>1.0</td>\n",
       "      <td>1.0</td>\n",
       "      <td>0.0</td>\n",
       "      <td>0.0</td>\n",
       "      <td>0.0</td>\n",
       "      <td>NaN</td>\n",
       "    </tr>\n",
       "    <tr>\n",
       "      <th>3</th>\n",
       "      <td>3</td>\n",
       "      <td>0</td>\n",
       "      <td>0</td>\n",
       "      <td>0</td>\n",
       "      <td>0</td>\n",
       "      <td>0</td>\n",
       "      <td>0</td>\n",
       "      <td>1</td>\n",
       "      <td>1.0</td>\n",
       "      <td>1.0</td>\n",
       "      <td>0.0</td>\n",
       "      <td>0.0</td>\n",
       "      <td>0.0</td>\n",
       "      <td>NaN</td>\n",
       "    </tr>\n",
       "    <tr>\n",
       "      <th>4</th>\n",
       "      <td>4</td>\n",
       "      <td>0</td>\n",
       "      <td>0</td>\n",
       "      <td>0</td>\n",
       "      <td>0</td>\n",
       "      <td>0</td>\n",
       "      <td>0</td>\n",
       "      <td>1</td>\n",
       "      <td>1.0</td>\n",
       "      <td>1.0</td>\n",
       "      <td>0.0</td>\n",
       "      <td>0.0</td>\n",
       "      <td>0.0</td>\n",
       "      <td>NaN</td>\n",
       "    </tr>\n",
       "    <tr>\n",
       "      <th>...</th>\n",
       "      <td>...</td>\n",
       "      <td>...</td>\n",
       "      <td>...</td>\n",
       "      <td>...</td>\n",
       "      <td>...</td>\n",
       "      <td>...</td>\n",
       "      <td>...</td>\n",
       "      <td>...</td>\n",
       "      <td>...</td>\n",
       "      <td>...</td>\n",
       "      <td>...</td>\n",
       "      <td>...</td>\n",
       "      <td>...</td>\n",
       "      <td>...</td>\n",
       "    </tr>\n",
       "    <tr>\n",
       "      <th>396094</th>\n",
       "      <td>396094</td>\n",
       "      <td>1174190</td>\n",
       "      <td>30</td>\n",
       "      <td>305</td>\n",
       "      <td>30</td>\n",
       "      <td>121</td>\n",
       "      <td>262</td>\n",
       "      <td>2</td>\n",
       "      <td>3.0</td>\n",
       "      <td>13.0</td>\n",
       "      <td>0.0</td>\n",
       "      <td>0.0</td>\n",
       "      <td>0.0</td>\n",
       "      <td>NaN</td>\n",
       "    </tr>\n",
       "    <tr>\n",
       "      <th>396095</th>\n",
       "      <td>396095</td>\n",
       "      <td>7885</td>\n",
       "      <td>0</td>\n",
       "      <td>394</td>\n",
       "      <td>0</td>\n",
       "      <td>162</td>\n",
       "      <td>289</td>\n",
       "      <td>2</td>\n",
       "      <td>3.0</td>\n",
       "      <td>14.0</td>\n",
       "      <td>1.0</td>\n",
       "      <td>0.0</td>\n",
       "      <td>0.0</td>\n",
       "      <td>NaN</td>\n",
       "    </tr>\n",
       "    <tr>\n",
       "      <th>396096</th>\n",
       "      <td>396096</td>\n",
       "      <td>107885</td>\n",
       "      <td>0</td>\n",
       "      <td>394</td>\n",
       "      <td>0</td>\n",
       "      <td>162</td>\n",
       "      <td>289</td>\n",
       "      <td>2</td>\n",
       "      <td>3.0</td>\n",
       "      <td>14.0</td>\n",
       "      <td>1.0</td>\n",
       "      <td>0.0</td>\n",
       "      <td>0.0</td>\n",
       "      <td>NaN</td>\n",
       "    </tr>\n",
       "    <tr>\n",
       "      <th>396097</th>\n",
       "      <td>396097</td>\n",
       "      <td>45274</td>\n",
       "      <td>0</td>\n",
       "      <td>3</td>\n",
       "      <td>2</td>\n",
       "      <td>4</td>\n",
       "      <td>48</td>\n",
       "      <td>1</td>\n",
       "      <td>3.0</td>\n",
       "      <td>3.0</td>\n",
       "      <td>1.0</td>\n",
       "      <td>NaN</td>\n",
       "      <td>NaN</td>\n",
       "      <td>NaN</td>\n",
       "    </tr>\n",
       "    <tr>\n",
       "      <th>396098</th>\n",
       "      <td>396098</td>\n",
       "      <td>8789</td>\n",
       "      <td>0</td>\n",
       "      <td>0</td>\n",
       "      <td>0</td>\n",
       "      <td>0</td>\n",
       "      <td>328</td>\n",
       "      <td>2</td>\n",
       "      <td>3.0</td>\n",
       "      <td>14.0</td>\n",
       "      <td>3.0</td>\n",
       "      <td>0.0</td>\n",
       "      <td>0.0</td>\n",
       "      <td>0.0</td>\n",
       "    </tr>\n",
       "  </tbody>\n",
       "</table>\n",
       "<p>396099 rows × 14 columns</p>\n",
       "</div>"
      ],
      "text/plain": [
       "         index    coins  freeRounds  freeUndo  freeWildCard  freeAddCards  \\\n",
       "0            0        0           0         0             0             0   \n",
       "1            1        0           0         0             0             0   \n",
       "2            2        0           0         0             0             0   \n",
       "3            3        0           0         0             0             0   \n",
       "4            4        0           0         0             0             0   \n",
       "...        ...      ...         ...       ...           ...           ...   \n",
       "396094  396094  1174190          30       305            30           121   \n",
       "396095  396095     7885           0       394             0           162   \n",
       "396096  396096   107885           0       394             0           162   \n",
       "396097  396097    45274           0         3             2             4   \n",
       "396098  396098     8789           0         0             0             0   \n",
       "\n",
       "        level  map  bet  gladeId  league  VIPPointsAmount  VIPStatus  gameType  \n",
       "0           0    1  1.0      1.0     0.0              0.0        0.0       NaN  \n",
       "1           0    1  1.0      1.0     0.0              0.0        0.0       NaN  \n",
       "2           0    1  1.0      1.0     0.0              0.0        0.0       NaN  \n",
       "3           0    1  1.0      1.0     0.0              0.0        0.0       NaN  \n",
       "4           0    1  1.0      1.0     0.0              0.0        0.0       NaN  \n",
       "...       ...  ...  ...      ...     ...              ...        ...       ...  \n",
       "396094    262    2  3.0     13.0     0.0              0.0        0.0       NaN  \n",
       "396095    289    2  3.0     14.0     1.0              0.0        0.0       NaN  \n",
       "396096    289    2  3.0     14.0     1.0              0.0        0.0       NaN  \n",
       "396097     48    1  3.0      3.0     1.0              NaN        NaN       NaN  \n",
       "396098    328    2  3.0     14.0     3.0              0.0        0.0       0.0  \n",
       "\n",
       "[396099 rows x 14 columns]"
      ]
     },
     "execution_count": 9,
     "metadata": {},
     "output_type": "execute_result"
    }
   ],
   "source": [
    "data_game_status"
   ]
  },
  {
   "cell_type": "code",
   "execution_count": 10,
   "id": "be5df298",
   "metadata": {},
   "outputs": [
    {
     "data": {
      "text/html": [
       "<div>\n",
       "<style scoped>\n",
       "    .dataframe tbody tr th:only-of-type {\n",
       "        vertical-align: middle;\n",
       "    }\n",
       "\n",
       "    .dataframe tbody tr th {\n",
       "        vertical-align: top;\n",
       "    }\n",
       "\n",
       "    .dataframe thead th {\n",
       "        text-align: right;\n",
       "    }\n",
       "</style>\n",
       "<table border=\"1\" class=\"dataframe\">\n",
       "  <thead>\n",
       "    <tr style=\"text-align: right;\">\n",
       "      <th></th>\n",
       "      <th>index</th>\n",
       "      <th>user_id</th>\n",
       "      <th>media_source</th>\n",
       "      <th>client_time</th>\n",
       "      <th>session_index</th>\n",
       "      <th>game_status</th>\n",
       "      <th>event_name</th>\n",
       "      <th>event_data</th>\n",
       "    </tr>\n",
       "  </thead>\n",
       "  <tbody>\n",
       "    <tr>\n",
       "      <th>0</th>\n",
       "      <td>0</td>\n",
       "      <td>60c588d7b4d1b24b40531f29</td>\n",
       "      <td>organic</td>\n",
       "      <td>2021-06-05 07:23:06</td>\n",
       "      <td>1</td>\n",
       "      <td>{'coins': 0, 'freeRounds': 0, 'freeUndo': 0, '...</td>\n",
       "      <td>appInstall</td>\n",
       "      <td>{\"device\":\"Xiaomi POCO M2 Pro\",\"graphicMemory\"...</td>\n",
       "    </tr>\n",
       "    <tr>\n",
       "      <th>1</th>\n",
       "      <td>1</td>\n",
       "      <td>60d34c7ab4d1b24b405324ac</td>\n",
       "      <td>organic</td>\n",
       "      <td>2021-06-05 16:33:26</td>\n",
       "      <td>1</td>\n",
       "      <td>{'coins': 0, 'freeRounds': 0, 'freeUndo': 0, '...</td>\n",
       "      <td>appInstall</td>\n",
       "      <td>{\"device\":\"samsung SM-J200G\",\"graphicMemory\":2...</td>\n",
       "    </tr>\n",
       "    <tr>\n",
       "      <th>2</th>\n",
       "      <td>2</td>\n",
       "      <td>60babef87c80da6a9442cb86</td>\n",
       "      <td>ad-traffic</td>\n",
       "      <td>2021-06-05 00:02:07</td>\n",
       "      <td>1</td>\n",
       "      <td>{'coins': 0, 'freeRounds': 0, 'freeUndo': 0, '...</td>\n",
       "      <td>appInstall</td>\n",
       "      <td>{\"device\":\"samsung SM-G781B\",\"graphicMemory\":2...</td>\n",
       "    </tr>\n",
       "    <tr>\n",
       "      <th>3</th>\n",
       "      <td>3</td>\n",
       "      <td>60bac0e912667e6a8d107731</td>\n",
       "      <td>ad-traffic</td>\n",
       "      <td>2021-06-05 00:04:29</td>\n",
       "      <td>1</td>\n",
       "      <td>{'coins': 0, 'freeRounds': 0, 'freeUndo': 0, '...</td>\n",
       "      <td>appInstall</td>\n",
       "      <td>{\"device\":\"samsung SM-T290\",\"graphicMemory\":51...</td>\n",
       "    </tr>\n",
       "    <tr>\n",
       "      <th>4</th>\n",
       "      <td>4</td>\n",
       "      <td>60babfb17c80da6a9442cb87</td>\n",
       "      <td>organic</td>\n",
       "      <td>2021-06-05 00:05:16</td>\n",
       "      <td>1</td>\n",
       "      <td>{'coins': 0, 'freeRounds': 0, 'freeUndo': 0, '...</td>\n",
       "      <td>appInstall</td>\n",
       "      <td>{\"device\":\"samsung SM-N960F\",\"graphicMemory\":2...</td>\n",
       "    </tr>\n",
       "    <tr>\n",
       "      <th>...</th>\n",
       "      <td>...</td>\n",
       "      <td>...</td>\n",
       "      <td>...</td>\n",
       "      <td>...</td>\n",
       "      <td>...</td>\n",
       "      <td>...</td>\n",
       "      <td>...</td>\n",
       "      <td>...</td>\n",
       "    </tr>\n",
       "    <tr>\n",
       "      <th>396094</th>\n",
       "      <td>396094</td>\n",
       "      <td>60bb2f3912667e6a8d107757</td>\n",
       "      <td>organic</td>\n",
       "      <td>2021-06-12 11:52:41</td>\n",
       "      <td>54</td>\n",
       "      <td>{'coins': 1174190, 'freeRounds': 30, 'freeUndo...</td>\n",
       "      <td>transactionComplete</td>\n",
       "      <td>{\"inLevel\":false,\"usdProceed\":68.1768094378241...</td>\n",
       "    </tr>\n",
       "    <tr>\n",
       "      <th>396095</th>\n",
       "      <td>396095</td>\n",
       "      <td>60bb2f3912667e6a8d107757</td>\n",
       "      <td>organic</td>\n",
       "      <td>2021-06-12 15:18:06</td>\n",
       "      <td>57</td>\n",
       "      <td>{'coins': 7885, 'freeRounds': 0, 'freeUndo': 3...</td>\n",
       "      <td>transactionComplete</td>\n",
       "      <td>{\"inLevel\":false,\"usdProceed\":6.81001009386441...</td>\n",
       "    </tr>\n",
       "    <tr>\n",
       "      <th>396096</th>\n",
       "      <td>396096</td>\n",
       "      <td>60bb2f3912667e6a8d107757</td>\n",
       "      <td>organic</td>\n",
       "      <td>2021-06-12 15:18:30</td>\n",
       "      <td>57</td>\n",
       "      <td>{'coins': 107885, 'freeRounds': 0, 'freeUndo':...</td>\n",
       "      <td>transactionComplete</td>\n",
       "      <td>{\"inLevel\":false,\"usdProceed\":13.6285433543043...</td>\n",
       "    </tr>\n",
       "    <tr>\n",
       "      <th>396097</th>\n",
       "      <td>396097</td>\n",
       "      <td>60bc090c12667e6a8d1077b8</td>\n",
       "      <td>organic</td>\n",
       "      <td>2021-06-12 22:48:26</td>\n",
       "      <td>2</td>\n",
       "      <td>{'coins': 45274, 'freeRounds': 0, 'freeUndo': ...</td>\n",
       "      <td>transactionComplete</td>\n",
       "      <td>{\"inLevel\":false,\"usdProceed\":1.393,\"productDe...</td>\n",
       "    </tr>\n",
       "    <tr>\n",
       "      <th>396098</th>\n",
       "      <td>396098</td>\n",
       "      <td>60bbf4a373c31e6a292b7ad1</td>\n",
       "      <td>ad-traffic</td>\n",
       "      <td>2021-06-12 23:27:05</td>\n",
       "      <td>99</td>\n",
       "      <td>{'coins': 8789, 'freeRounds': 0, 'freeUndo': 0...</td>\n",
       "      <td>transactionComplete</td>\n",
       "      <td>{\"inLevel\":true,\"usdProceed\":1.391999345326586...</td>\n",
       "    </tr>\n",
       "  </tbody>\n",
       "</table>\n",
       "<p>396099 rows × 8 columns</p>\n",
       "</div>"
      ],
      "text/plain": [
       "         index                   user_id media_source          client_time  \\\n",
       "0            0  60c588d7b4d1b24b40531f29      organic  2021-06-05 07:23:06   \n",
       "1            1  60d34c7ab4d1b24b405324ac      organic  2021-06-05 16:33:26   \n",
       "2            2  60babef87c80da6a9442cb86   ad-traffic  2021-06-05 00:02:07   \n",
       "3            3  60bac0e912667e6a8d107731   ad-traffic  2021-06-05 00:04:29   \n",
       "4            4  60babfb17c80da6a9442cb87      organic  2021-06-05 00:05:16   \n",
       "...        ...                       ...          ...                  ...   \n",
       "396094  396094  60bb2f3912667e6a8d107757      organic  2021-06-12 11:52:41   \n",
       "396095  396095  60bb2f3912667e6a8d107757      organic  2021-06-12 15:18:06   \n",
       "396096  396096  60bb2f3912667e6a8d107757      organic  2021-06-12 15:18:30   \n",
       "396097  396097  60bc090c12667e6a8d1077b8      organic  2021-06-12 22:48:26   \n",
       "396098  396098  60bbf4a373c31e6a292b7ad1   ad-traffic  2021-06-12 23:27:05   \n",
       "\n",
       "        session_index                                        game_status  \\\n",
       "0                   1  {'coins': 0, 'freeRounds': 0, 'freeUndo': 0, '...   \n",
       "1                   1  {'coins': 0, 'freeRounds': 0, 'freeUndo': 0, '...   \n",
       "2                   1  {'coins': 0, 'freeRounds': 0, 'freeUndo': 0, '...   \n",
       "3                   1  {'coins': 0, 'freeRounds': 0, 'freeUndo': 0, '...   \n",
       "4                   1  {'coins': 0, 'freeRounds': 0, 'freeUndo': 0, '...   \n",
       "...               ...                                                ...   \n",
       "396094             54  {'coins': 1174190, 'freeRounds': 30, 'freeUndo...   \n",
       "396095             57  {'coins': 7885, 'freeRounds': 0, 'freeUndo': 3...   \n",
       "396096             57  {'coins': 107885, 'freeRounds': 0, 'freeUndo':...   \n",
       "396097              2  {'coins': 45274, 'freeRounds': 0, 'freeUndo': ...   \n",
       "396098             99  {'coins': 8789, 'freeRounds': 0, 'freeUndo': 0...   \n",
       "\n",
       "                 event_name                                         event_data  \n",
       "0                appInstall  {\"device\":\"Xiaomi POCO M2 Pro\",\"graphicMemory\"...  \n",
       "1                appInstall  {\"device\":\"samsung SM-J200G\",\"graphicMemory\":2...  \n",
       "2                appInstall  {\"device\":\"samsung SM-G781B\",\"graphicMemory\":2...  \n",
       "3                appInstall  {\"device\":\"samsung SM-T290\",\"graphicMemory\":51...  \n",
       "4                appInstall  {\"device\":\"samsung SM-N960F\",\"graphicMemory\":2...  \n",
       "...                     ...                                                ...  \n",
       "396094  transactionComplete  {\"inLevel\":false,\"usdProceed\":68.1768094378241...  \n",
       "396095  transactionComplete  {\"inLevel\":false,\"usdProceed\":6.81001009386441...  \n",
       "396096  transactionComplete  {\"inLevel\":false,\"usdProceed\":13.6285433543043...  \n",
       "396097  transactionComplete  {\"inLevel\":false,\"usdProceed\":1.393,\"productDe...  \n",
       "396098  transactionComplete  {\"inLevel\":true,\"usdProceed\":1.391999345326586...  \n",
       "\n",
       "[396099 rows x 8 columns]"
      ]
     },
     "execution_count": 10,
     "metadata": {},
     "output_type": "execute_result"
    }
   ],
   "source": [
    "game_df"
   ]
  },
  {
   "cell_type": "code",
   "execution_count": 11,
   "id": "51d1946b",
   "metadata": {},
   "outputs": [],
   "source": [
    "# объединение датафреймов game_df и data_game_status (по столбцу index)\n",
    "data = game_df.merge(data_game_status, on='index')"
   ]
  },
  {
   "cell_type": "code",
   "execution_count": 12,
   "id": "be322390",
   "metadata": {},
   "outputs": [
    {
     "data": {
      "text/html": [
       "<div>\n",
       "<style scoped>\n",
       "    .dataframe tbody tr th:only-of-type {\n",
       "        vertical-align: middle;\n",
       "    }\n",
       "\n",
       "    .dataframe tbody tr th {\n",
       "        vertical-align: top;\n",
       "    }\n",
       "\n",
       "    .dataframe thead th {\n",
       "        text-align: right;\n",
       "    }\n",
       "</style>\n",
       "<table border=\"1\" class=\"dataframe\">\n",
       "  <thead>\n",
       "    <tr style=\"text-align: right;\">\n",
       "      <th></th>\n",
       "      <th>index</th>\n",
       "      <th>user_id</th>\n",
       "      <th>media_source</th>\n",
       "      <th>client_time</th>\n",
       "      <th>session_index</th>\n",
       "      <th>game_status</th>\n",
       "      <th>event_name</th>\n",
       "      <th>event_data</th>\n",
       "      <th>coins</th>\n",
       "      <th>freeRounds</th>\n",
       "      <th>...</th>\n",
       "      <th>freeWildCard</th>\n",
       "      <th>freeAddCards</th>\n",
       "      <th>level</th>\n",
       "      <th>map</th>\n",
       "      <th>bet</th>\n",
       "      <th>gladeId</th>\n",
       "      <th>league</th>\n",
       "      <th>VIPPointsAmount</th>\n",
       "      <th>VIPStatus</th>\n",
       "      <th>gameType</th>\n",
       "    </tr>\n",
       "  </thead>\n",
       "  <tbody>\n",
       "    <tr>\n",
       "      <th>0</th>\n",
       "      <td>0</td>\n",
       "      <td>60c588d7b4d1b24b40531f29</td>\n",
       "      <td>organic</td>\n",
       "      <td>2021-06-05 07:23:06</td>\n",
       "      <td>1</td>\n",
       "      <td>{'coins': 0, 'freeRounds': 0, 'freeUndo': 0, '...</td>\n",
       "      <td>appInstall</td>\n",
       "      <td>{\"device\":\"Xiaomi POCO M2 Pro\",\"graphicMemory\"...</td>\n",
       "      <td>0</td>\n",
       "      <td>0</td>\n",
       "      <td>...</td>\n",
       "      <td>0</td>\n",
       "      <td>0</td>\n",
       "      <td>0</td>\n",
       "      <td>1</td>\n",
       "      <td>1.0</td>\n",
       "      <td>1.0</td>\n",
       "      <td>0.0</td>\n",
       "      <td>0.0</td>\n",
       "      <td>0.0</td>\n",
       "      <td>NaN</td>\n",
       "    </tr>\n",
       "    <tr>\n",
       "      <th>1</th>\n",
       "      <td>1</td>\n",
       "      <td>60d34c7ab4d1b24b405324ac</td>\n",
       "      <td>organic</td>\n",
       "      <td>2021-06-05 16:33:26</td>\n",
       "      <td>1</td>\n",
       "      <td>{'coins': 0, 'freeRounds': 0, 'freeUndo': 0, '...</td>\n",
       "      <td>appInstall</td>\n",
       "      <td>{\"device\":\"samsung SM-J200G\",\"graphicMemory\":2...</td>\n",
       "      <td>0</td>\n",
       "      <td>0</td>\n",
       "      <td>...</td>\n",
       "      <td>0</td>\n",
       "      <td>0</td>\n",
       "      <td>0</td>\n",
       "      <td>1</td>\n",
       "      <td>1.0</td>\n",
       "      <td>1.0</td>\n",
       "      <td>0.0</td>\n",
       "      <td>0.0</td>\n",
       "      <td>0.0</td>\n",
       "      <td>NaN</td>\n",
       "    </tr>\n",
       "    <tr>\n",
       "      <th>2</th>\n",
       "      <td>2</td>\n",
       "      <td>60babef87c80da6a9442cb86</td>\n",
       "      <td>ad-traffic</td>\n",
       "      <td>2021-06-05 00:02:07</td>\n",
       "      <td>1</td>\n",
       "      <td>{'coins': 0, 'freeRounds': 0, 'freeUndo': 0, '...</td>\n",
       "      <td>appInstall</td>\n",
       "      <td>{\"device\":\"samsung SM-G781B\",\"graphicMemory\":2...</td>\n",
       "      <td>0</td>\n",
       "      <td>0</td>\n",
       "      <td>...</td>\n",
       "      <td>0</td>\n",
       "      <td>0</td>\n",
       "      <td>0</td>\n",
       "      <td>1</td>\n",
       "      <td>1.0</td>\n",
       "      <td>1.0</td>\n",
       "      <td>0.0</td>\n",
       "      <td>0.0</td>\n",
       "      <td>0.0</td>\n",
       "      <td>NaN</td>\n",
       "    </tr>\n",
       "    <tr>\n",
       "      <th>3</th>\n",
       "      <td>3</td>\n",
       "      <td>60bac0e912667e6a8d107731</td>\n",
       "      <td>ad-traffic</td>\n",
       "      <td>2021-06-05 00:04:29</td>\n",
       "      <td>1</td>\n",
       "      <td>{'coins': 0, 'freeRounds': 0, 'freeUndo': 0, '...</td>\n",
       "      <td>appInstall</td>\n",
       "      <td>{\"device\":\"samsung SM-T290\",\"graphicMemory\":51...</td>\n",
       "      <td>0</td>\n",
       "      <td>0</td>\n",
       "      <td>...</td>\n",
       "      <td>0</td>\n",
       "      <td>0</td>\n",
       "      <td>0</td>\n",
       "      <td>1</td>\n",
       "      <td>1.0</td>\n",
       "      <td>1.0</td>\n",
       "      <td>0.0</td>\n",
       "      <td>0.0</td>\n",
       "      <td>0.0</td>\n",
       "      <td>NaN</td>\n",
       "    </tr>\n",
       "    <tr>\n",
       "      <th>4</th>\n",
       "      <td>4</td>\n",
       "      <td>60babfb17c80da6a9442cb87</td>\n",
       "      <td>organic</td>\n",
       "      <td>2021-06-05 00:05:16</td>\n",
       "      <td>1</td>\n",
       "      <td>{'coins': 0, 'freeRounds': 0, 'freeUndo': 0, '...</td>\n",
       "      <td>appInstall</td>\n",
       "      <td>{\"device\":\"samsung SM-N960F\",\"graphicMemory\":2...</td>\n",
       "      <td>0</td>\n",
       "      <td>0</td>\n",
       "      <td>...</td>\n",
       "      <td>0</td>\n",
       "      <td>0</td>\n",
       "      <td>0</td>\n",
       "      <td>1</td>\n",
       "      <td>1.0</td>\n",
       "      <td>1.0</td>\n",
       "      <td>0.0</td>\n",
       "      <td>0.0</td>\n",
       "      <td>0.0</td>\n",
       "      <td>NaN</td>\n",
       "    </tr>\n",
       "    <tr>\n",
       "      <th>...</th>\n",
       "      <td>...</td>\n",
       "      <td>...</td>\n",
       "      <td>...</td>\n",
       "      <td>...</td>\n",
       "      <td>...</td>\n",
       "      <td>...</td>\n",
       "      <td>...</td>\n",
       "      <td>...</td>\n",
       "      <td>...</td>\n",
       "      <td>...</td>\n",
       "      <td>...</td>\n",
       "      <td>...</td>\n",
       "      <td>...</td>\n",
       "      <td>...</td>\n",
       "      <td>...</td>\n",
       "      <td>...</td>\n",
       "      <td>...</td>\n",
       "      <td>...</td>\n",
       "      <td>...</td>\n",
       "      <td>...</td>\n",
       "      <td>...</td>\n",
       "    </tr>\n",
       "    <tr>\n",
       "      <th>396094</th>\n",
       "      <td>396094</td>\n",
       "      <td>60bb2f3912667e6a8d107757</td>\n",
       "      <td>organic</td>\n",
       "      <td>2021-06-12 11:52:41</td>\n",
       "      <td>54</td>\n",
       "      <td>{'coins': 1174190, 'freeRounds': 30, 'freeUndo...</td>\n",
       "      <td>transactionComplete</td>\n",
       "      <td>{\"inLevel\":false,\"usdProceed\":68.1768094378241...</td>\n",
       "      <td>1174190</td>\n",
       "      <td>30</td>\n",
       "      <td>...</td>\n",
       "      <td>30</td>\n",
       "      <td>121</td>\n",
       "      <td>262</td>\n",
       "      <td>2</td>\n",
       "      <td>3.0</td>\n",
       "      <td>13.0</td>\n",
       "      <td>0.0</td>\n",
       "      <td>0.0</td>\n",
       "      <td>0.0</td>\n",
       "      <td>NaN</td>\n",
       "    </tr>\n",
       "    <tr>\n",
       "      <th>396095</th>\n",
       "      <td>396095</td>\n",
       "      <td>60bb2f3912667e6a8d107757</td>\n",
       "      <td>organic</td>\n",
       "      <td>2021-06-12 15:18:06</td>\n",
       "      <td>57</td>\n",
       "      <td>{'coins': 7885, 'freeRounds': 0, 'freeUndo': 3...</td>\n",
       "      <td>transactionComplete</td>\n",
       "      <td>{\"inLevel\":false,\"usdProceed\":6.81001009386441...</td>\n",
       "      <td>7885</td>\n",
       "      <td>0</td>\n",
       "      <td>...</td>\n",
       "      <td>0</td>\n",
       "      <td>162</td>\n",
       "      <td>289</td>\n",
       "      <td>2</td>\n",
       "      <td>3.0</td>\n",
       "      <td>14.0</td>\n",
       "      <td>1.0</td>\n",
       "      <td>0.0</td>\n",
       "      <td>0.0</td>\n",
       "      <td>NaN</td>\n",
       "    </tr>\n",
       "    <tr>\n",
       "      <th>396096</th>\n",
       "      <td>396096</td>\n",
       "      <td>60bb2f3912667e6a8d107757</td>\n",
       "      <td>organic</td>\n",
       "      <td>2021-06-12 15:18:30</td>\n",
       "      <td>57</td>\n",
       "      <td>{'coins': 107885, 'freeRounds': 0, 'freeUndo':...</td>\n",
       "      <td>transactionComplete</td>\n",
       "      <td>{\"inLevel\":false,\"usdProceed\":13.6285433543043...</td>\n",
       "      <td>107885</td>\n",
       "      <td>0</td>\n",
       "      <td>...</td>\n",
       "      <td>0</td>\n",
       "      <td>162</td>\n",
       "      <td>289</td>\n",
       "      <td>2</td>\n",
       "      <td>3.0</td>\n",
       "      <td>14.0</td>\n",
       "      <td>1.0</td>\n",
       "      <td>0.0</td>\n",
       "      <td>0.0</td>\n",
       "      <td>NaN</td>\n",
       "    </tr>\n",
       "    <tr>\n",
       "      <th>396097</th>\n",
       "      <td>396097</td>\n",
       "      <td>60bc090c12667e6a8d1077b8</td>\n",
       "      <td>organic</td>\n",
       "      <td>2021-06-12 22:48:26</td>\n",
       "      <td>2</td>\n",
       "      <td>{'coins': 45274, 'freeRounds': 0, 'freeUndo': ...</td>\n",
       "      <td>transactionComplete</td>\n",
       "      <td>{\"inLevel\":false,\"usdProceed\":1.393,\"productDe...</td>\n",
       "      <td>45274</td>\n",
       "      <td>0</td>\n",
       "      <td>...</td>\n",
       "      <td>2</td>\n",
       "      <td>4</td>\n",
       "      <td>48</td>\n",
       "      <td>1</td>\n",
       "      <td>3.0</td>\n",
       "      <td>3.0</td>\n",
       "      <td>1.0</td>\n",
       "      <td>NaN</td>\n",
       "      <td>NaN</td>\n",
       "      <td>NaN</td>\n",
       "    </tr>\n",
       "    <tr>\n",
       "      <th>396098</th>\n",
       "      <td>396098</td>\n",
       "      <td>60bbf4a373c31e6a292b7ad1</td>\n",
       "      <td>ad-traffic</td>\n",
       "      <td>2021-06-12 23:27:05</td>\n",
       "      <td>99</td>\n",
       "      <td>{'coins': 8789, 'freeRounds': 0, 'freeUndo': 0...</td>\n",
       "      <td>transactionComplete</td>\n",
       "      <td>{\"inLevel\":true,\"usdProceed\":1.391999345326586...</td>\n",
       "      <td>8789</td>\n",
       "      <td>0</td>\n",
       "      <td>...</td>\n",
       "      <td>0</td>\n",
       "      <td>0</td>\n",
       "      <td>328</td>\n",
       "      <td>2</td>\n",
       "      <td>3.0</td>\n",
       "      <td>14.0</td>\n",
       "      <td>3.0</td>\n",
       "      <td>0.0</td>\n",
       "      <td>0.0</td>\n",
       "      <td>0.0</td>\n",
       "    </tr>\n",
       "  </tbody>\n",
       "</table>\n",
       "<p>396099 rows × 21 columns</p>\n",
       "</div>"
      ],
      "text/plain": [
       "         index                   user_id media_source          client_time  \\\n",
       "0            0  60c588d7b4d1b24b40531f29      organic  2021-06-05 07:23:06   \n",
       "1            1  60d34c7ab4d1b24b405324ac      organic  2021-06-05 16:33:26   \n",
       "2            2  60babef87c80da6a9442cb86   ad-traffic  2021-06-05 00:02:07   \n",
       "3            3  60bac0e912667e6a8d107731   ad-traffic  2021-06-05 00:04:29   \n",
       "4            4  60babfb17c80da6a9442cb87      organic  2021-06-05 00:05:16   \n",
       "...        ...                       ...          ...                  ...   \n",
       "396094  396094  60bb2f3912667e6a8d107757      organic  2021-06-12 11:52:41   \n",
       "396095  396095  60bb2f3912667e6a8d107757      organic  2021-06-12 15:18:06   \n",
       "396096  396096  60bb2f3912667e6a8d107757      organic  2021-06-12 15:18:30   \n",
       "396097  396097  60bc090c12667e6a8d1077b8      organic  2021-06-12 22:48:26   \n",
       "396098  396098  60bbf4a373c31e6a292b7ad1   ad-traffic  2021-06-12 23:27:05   \n",
       "\n",
       "        session_index                                        game_status  \\\n",
       "0                   1  {'coins': 0, 'freeRounds': 0, 'freeUndo': 0, '...   \n",
       "1                   1  {'coins': 0, 'freeRounds': 0, 'freeUndo': 0, '...   \n",
       "2                   1  {'coins': 0, 'freeRounds': 0, 'freeUndo': 0, '...   \n",
       "3                   1  {'coins': 0, 'freeRounds': 0, 'freeUndo': 0, '...   \n",
       "4                   1  {'coins': 0, 'freeRounds': 0, 'freeUndo': 0, '...   \n",
       "...               ...                                                ...   \n",
       "396094             54  {'coins': 1174190, 'freeRounds': 30, 'freeUndo...   \n",
       "396095             57  {'coins': 7885, 'freeRounds': 0, 'freeUndo': 3...   \n",
       "396096             57  {'coins': 107885, 'freeRounds': 0, 'freeUndo':...   \n",
       "396097              2  {'coins': 45274, 'freeRounds': 0, 'freeUndo': ...   \n",
       "396098             99  {'coins': 8789, 'freeRounds': 0, 'freeUndo': 0...   \n",
       "\n",
       "                 event_name  \\\n",
       "0                appInstall   \n",
       "1                appInstall   \n",
       "2                appInstall   \n",
       "3                appInstall   \n",
       "4                appInstall   \n",
       "...                     ...   \n",
       "396094  transactionComplete   \n",
       "396095  transactionComplete   \n",
       "396096  transactionComplete   \n",
       "396097  transactionComplete   \n",
       "396098  transactionComplete   \n",
       "\n",
       "                                               event_data    coins  \\\n",
       "0       {\"device\":\"Xiaomi POCO M2 Pro\",\"graphicMemory\"...        0   \n",
       "1       {\"device\":\"samsung SM-J200G\",\"graphicMemory\":2...        0   \n",
       "2       {\"device\":\"samsung SM-G781B\",\"graphicMemory\":2...        0   \n",
       "3       {\"device\":\"samsung SM-T290\",\"graphicMemory\":51...        0   \n",
       "4       {\"device\":\"samsung SM-N960F\",\"graphicMemory\":2...        0   \n",
       "...                                                   ...      ...   \n",
       "396094  {\"inLevel\":false,\"usdProceed\":68.1768094378241...  1174190   \n",
       "396095  {\"inLevel\":false,\"usdProceed\":6.81001009386441...     7885   \n",
       "396096  {\"inLevel\":false,\"usdProceed\":13.6285433543043...   107885   \n",
       "396097  {\"inLevel\":false,\"usdProceed\":1.393,\"productDe...    45274   \n",
       "396098  {\"inLevel\":true,\"usdProceed\":1.391999345326586...     8789   \n",
       "\n",
       "        freeRounds  ...  freeWildCard  freeAddCards  level  map  bet  gladeId  \\\n",
       "0                0  ...             0             0      0    1  1.0      1.0   \n",
       "1                0  ...             0             0      0    1  1.0      1.0   \n",
       "2                0  ...             0             0      0    1  1.0      1.0   \n",
       "3                0  ...             0             0      0    1  1.0      1.0   \n",
       "4                0  ...             0             0      0    1  1.0      1.0   \n",
       "...            ...  ...           ...           ...    ...  ...  ...      ...   \n",
       "396094          30  ...            30           121    262    2  3.0     13.0   \n",
       "396095           0  ...             0           162    289    2  3.0     14.0   \n",
       "396096           0  ...             0           162    289    2  3.0     14.0   \n",
       "396097           0  ...             2             4     48    1  3.0      3.0   \n",
       "396098           0  ...             0             0    328    2  3.0     14.0   \n",
       "\n",
       "        league  VIPPointsAmount  VIPStatus  gameType  \n",
       "0          0.0              0.0        0.0       NaN  \n",
       "1          0.0              0.0        0.0       NaN  \n",
       "2          0.0              0.0        0.0       NaN  \n",
       "3          0.0              0.0        0.0       NaN  \n",
       "4          0.0              0.0        0.0       NaN  \n",
       "...        ...              ...        ...       ...  \n",
       "396094     0.0              0.0        0.0       NaN  \n",
       "396095     1.0              0.0        0.0       NaN  \n",
       "396096     1.0              0.0        0.0       NaN  \n",
       "396097     1.0              NaN        NaN       NaN  \n",
       "396098     3.0              0.0        0.0       0.0  \n",
       "\n",
       "[396099 rows x 21 columns]"
      ]
     },
     "execution_count": 12,
     "metadata": {},
     "output_type": "execute_result"
    }
   ],
   "source": [
    "data"
   ]
  },
  {
   "cell_type": "markdown",
   "id": "089efff2",
   "metadata": {},
   "source": [
    "Объединение датафреймов в датафрейм data произошло успешно, количество записей (рядов) осталость прежним, данные не были потеряны.\n",
    "Информация из столбца game_status уже содержится в отдельных колонках датафрейма, поэтому данный столбец можно удалить."
   ]
  },
  {
   "cell_type": "code",
   "execution_count": 13,
   "id": "e18ae5ad",
   "metadata": {},
   "outputs": [],
   "source": [
    "# удаление столбца game_status\n",
    "data = data.drop('game_status', axis=1)"
   ]
  },
  {
   "cell_type": "code",
   "execution_count": 14,
   "id": "5321193b",
   "metadata": {},
   "outputs": [
    {
     "data": {
      "text/html": [
       "<div>\n",
       "<style scoped>\n",
       "    .dataframe tbody tr th:only-of-type {\n",
       "        vertical-align: middle;\n",
       "    }\n",
       "\n",
       "    .dataframe tbody tr th {\n",
       "        vertical-align: top;\n",
       "    }\n",
       "\n",
       "    .dataframe thead th {\n",
       "        text-align: right;\n",
       "    }\n",
       "</style>\n",
       "<table border=\"1\" class=\"dataframe\">\n",
       "  <thead>\n",
       "    <tr style=\"text-align: right;\">\n",
       "      <th></th>\n",
       "      <th>index</th>\n",
       "      <th>user_id</th>\n",
       "      <th>media_source</th>\n",
       "      <th>client_time</th>\n",
       "      <th>session_index</th>\n",
       "      <th>event_name</th>\n",
       "      <th>event_data</th>\n",
       "      <th>coins</th>\n",
       "      <th>freeRounds</th>\n",
       "      <th>freeUndo</th>\n",
       "      <th>freeWildCard</th>\n",
       "      <th>freeAddCards</th>\n",
       "      <th>level</th>\n",
       "      <th>map</th>\n",
       "      <th>bet</th>\n",
       "      <th>gladeId</th>\n",
       "      <th>league</th>\n",
       "      <th>VIPPointsAmount</th>\n",
       "      <th>VIPStatus</th>\n",
       "      <th>gameType</th>\n",
       "    </tr>\n",
       "  </thead>\n",
       "  <tbody>\n",
       "    <tr>\n",
       "      <th>0</th>\n",
       "      <td>0</td>\n",
       "      <td>60c588d7b4d1b24b40531f29</td>\n",
       "      <td>organic</td>\n",
       "      <td>2021-06-05 07:23:06</td>\n",
       "      <td>1</td>\n",
       "      <td>appInstall</td>\n",
       "      <td>{\"device\":\"Xiaomi POCO M2 Pro\",\"graphicMemory\"...</td>\n",
       "      <td>0</td>\n",
       "      <td>0</td>\n",
       "      <td>0</td>\n",
       "      <td>0</td>\n",
       "      <td>0</td>\n",
       "      <td>0</td>\n",
       "      <td>1</td>\n",
       "      <td>1.0</td>\n",
       "      <td>1.0</td>\n",
       "      <td>0.0</td>\n",
       "      <td>0.0</td>\n",
       "      <td>0.0</td>\n",
       "      <td>NaN</td>\n",
       "    </tr>\n",
       "    <tr>\n",
       "      <th>1</th>\n",
       "      <td>1</td>\n",
       "      <td>60d34c7ab4d1b24b405324ac</td>\n",
       "      <td>organic</td>\n",
       "      <td>2021-06-05 16:33:26</td>\n",
       "      <td>1</td>\n",
       "      <td>appInstall</td>\n",
       "      <td>{\"device\":\"samsung SM-J200G\",\"graphicMemory\":2...</td>\n",
       "      <td>0</td>\n",
       "      <td>0</td>\n",
       "      <td>0</td>\n",
       "      <td>0</td>\n",
       "      <td>0</td>\n",
       "      <td>0</td>\n",
       "      <td>1</td>\n",
       "      <td>1.0</td>\n",
       "      <td>1.0</td>\n",
       "      <td>0.0</td>\n",
       "      <td>0.0</td>\n",
       "      <td>0.0</td>\n",
       "      <td>NaN</td>\n",
       "    </tr>\n",
       "    <tr>\n",
       "      <th>2</th>\n",
       "      <td>2</td>\n",
       "      <td>60babef87c80da6a9442cb86</td>\n",
       "      <td>ad-traffic</td>\n",
       "      <td>2021-06-05 00:02:07</td>\n",
       "      <td>1</td>\n",
       "      <td>appInstall</td>\n",
       "      <td>{\"device\":\"samsung SM-G781B\",\"graphicMemory\":2...</td>\n",
       "      <td>0</td>\n",
       "      <td>0</td>\n",
       "      <td>0</td>\n",
       "      <td>0</td>\n",
       "      <td>0</td>\n",
       "      <td>0</td>\n",
       "      <td>1</td>\n",
       "      <td>1.0</td>\n",
       "      <td>1.0</td>\n",
       "      <td>0.0</td>\n",
       "      <td>0.0</td>\n",
       "      <td>0.0</td>\n",
       "      <td>NaN</td>\n",
       "    </tr>\n",
       "    <tr>\n",
       "      <th>3</th>\n",
       "      <td>3</td>\n",
       "      <td>60bac0e912667e6a8d107731</td>\n",
       "      <td>ad-traffic</td>\n",
       "      <td>2021-06-05 00:04:29</td>\n",
       "      <td>1</td>\n",
       "      <td>appInstall</td>\n",
       "      <td>{\"device\":\"samsung SM-T290\",\"graphicMemory\":51...</td>\n",
       "      <td>0</td>\n",
       "      <td>0</td>\n",
       "      <td>0</td>\n",
       "      <td>0</td>\n",
       "      <td>0</td>\n",
       "      <td>0</td>\n",
       "      <td>1</td>\n",
       "      <td>1.0</td>\n",
       "      <td>1.0</td>\n",
       "      <td>0.0</td>\n",
       "      <td>0.0</td>\n",
       "      <td>0.0</td>\n",
       "      <td>NaN</td>\n",
       "    </tr>\n",
       "    <tr>\n",
       "      <th>4</th>\n",
       "      <td>4</td>\n",
       "      <td>60babfb17c80da6a9442cb87</td>\n",
       "      <td>organic</td>\n",
       "      <td>2021-06-05 00:05:16</td>\n",
       "      <td>1</td>\n",
       "      <td>appInstall</td>\n",
       "      <td>{\"device\":\"samsung SM-N960F\",\"graphicMemory\":2...</td>\n",
       "      <td>0</td>\n",
       "      <td>0</td>\n",
       "      <td>0</td>\n",
       "      <td>0</td>\n",
       "      <td>0</td>\n",
       "      <td>0</td>\n",
       "      <td>1</td>\n",
       "      <td>1.0</td>\n",
       "      <td>1.0</td>\n",
       "      <td>0.0</td>\n",
       "      <td>0.0</td>\n",
       "      <td>0.0</td>\n",
       "      <td>NaN</td>\n",
       "    </tr>\n",
       "    <tr>\n",
       "      <th>...</th>\n",
       "      <td>...</td>\n",
       "      <td>...</td>\n",
       "      <td>...</td>\n",
       "      <td>...</td>\n",
       "      <td>...</td>\n",
       "      <td>...</td>\n",
       "      <td>...</td>\n",
       "      <td>...</td>\n",
       "      <td>...</td>\n",
       "      <td>...</td>\n",
       "      <td>...</td>\n",
       "      <td>...</td>\n",
       "      <td>...</td>\n",
       "      <td>...</td>\n",
       "      <td>...</td>\n",
       "      <td>...</td>\n",
       "      <td>...</td>\n",
       "      <td>...</td>\n",
       "      <td>...</td>\n",
       "      <td>...</td>\n",
       "    </tr>\n",
       "    <tr>\n",
       "      <th>396094</th>\n",
       "      <td>396094</td>\n",
       "      <td>60bb2f3912667e6a8d107757</td>\n",
       "      <td>organic</td>\n",
       "      <td>2021-06-12 11:52:41</td>\n",
       "      <td>54</td>\n",
       "      <td>transactionComplete</td>\n",
       "      <td>{\"inLevel\":false,\"usdProceed\":68.1768094378241...</td>\n",
       "      <td>1174190</td>\n",
       "      <td>30</td>\n",
       "      <td>305</td>\n",
       "      <td>30</td>\n",
       "      <td>121</td>\n",
       "      <td>262</td>\n",
       "      <td>2</td>\n",
       "      <td>3.0</td>\n",
       "      <td>13.0</td>\n",
       "      <td>0.0</td>\n",
       "      <td>0.0</td>\n",
       "      <td>0.0</td>\n",
       "      <td>NaN</td>\n",
       "    </tr>\n",
       "    <tr>\n",
       "      <th>396095</th>\n",
       "      <td>396095</td>\n",
       "      <td>60bb2f3912667e6a8d107757</td>\n",
       "      <td>organic</td>\n",
       "      <td>2021-06-12 15:18:06</td>\n",
       "      <td>57</td>\n",
       "      <td>transactionComplete</td>\n",
       "      <td>{\"inLevel\":false,\"usdProceed\":6.81001009386441...</td>\n",
       "      <td>7885</td>\n",
       "      <td>0</td>\n",
       "      <td>394</td>\n",
       "      <td>0</td>\n",
       "      <td>162</td>\n",
       "      <td>289</td>\n",
       "      <td>2</td>\n",
       "      <td>3.0</td>\n",
       "      <td>14.0</td>\n",
       "      <td>1.0</td>\n",
       "      <td>0.0</td>\n",
       "      <td>0.0</td>\n",
       "      <td>NaN</td>\n",
       "    </tr>\n",
       "    <tr>\n",
       "      <th>396096</th>\n",
       "      <td>396096</td>\n",
       "      <td>60bb2f3912667e6a8d107757</td>\n",
       "      <td>organic</td>\n",
       "      <td>2021-06-12 15:18:30</td>\n",
       "      <td>57</td>\n",
       "      <td>transactionComplete</td>\n",
       "      <td>{\"inLevel\":false,\"usdProceed\":13.6285433543043...</td>\n",
       "      <td>107885</td>\n",
       "      <td>0</td>\n",
       "      <td>394</td>\n",
       "      <td>0</td>\n",
       "      <td>162</td>\n",
       "      <td>289</td>\n",
       "      <td>2</td>\n",
       "      <td>3.0</td>\n",
       "      <td>14.0</td>\n",
       "      <td>1.0</td>\n",
       "      <td>0.0</td>\n",
       "      <td>0.0</td>\n",
       "      <td>NaN</td>\n",
       "    </tr>\n",
       "    <tr>\n",
       "      <th>396097</th>\n",
       "      <td>396097</td>\n",
       "      <td>60bc090c12667e6a8d1077b8</td>\n",
       "      <td>organic</td>\n",
       "      <td>2021-06-12 22:48:26</td>\n",
       "      <td>2</td>\n",
       "      <td>transactionComplete</td>\n",
       "      <td>{\"inLevel\":false,\"usdProceed\":1.393,\"productDe...</td>\n",
       "      <td>45274</td>\n",
       "      <td>0</td>\n",
       "      <td>3</td>\n",
       "      <td>2</td>\n",
       "      <td>4</td>\n",
       "      <td>48</td>\n",
       "      <td>1</td>\n",
       "      <td>3.0</td>\n",
       "      <td>3.0</td>\n",
       "      <td>1.0</td>\n",
       "      <td>NaN</td>\n",
       "      <td>NaN</td>\n",
       "      <td>NaN</td>\n",
       "    </tr>\n",
       "    <tr>\n",
       "      <th>396098</th>\n",
       "      <td>396098</td>\n",
       "      <td>60bbf4a373c31e6a292b7ad1</td>\n",
       "      <td>ad-traffic</td>\n",
       "      <td>2021-06-12 23:27:05</td>\n",
       "      <td>99</td>\n",
       "      <td>transactionComplete</td>\n",
       "      <td>{\"inLevel\":true,\"usdProceed\":1.391999345326586...</td>\n",
       "      <td>8789</td>\n",
       "      <td>0</td>\n",
       "      <td>0</td>\n",
       "      <td>0</td>\n",
       "      <td>0</td>\n",
       "      <td>328</td>\n",
       "      <td>2</td>\n",
       "      <td>3.0</td>\n",
       "      <td>14.0</td>\n",
       "      <td>3.0</td>\n",
       "      <td>0.0</td>\n",
       "      <td>0.0</td>\n",
       "      <td>0.0</td>\n",
       "    </tr>\n",
       "  </tbody>\n",
       "</table>\n",
       "<p>396099 rows × 20 columns</p>\n",
       "</div>"
      ],
      "text/plain": [
       "         index                   user_id media_source          client_time  \\\n",
       "0            0  60c588d7b4d1b24b40531f29      organic  2021-06-05 07:23:06   \n",
       "1            1  60d34c7ab4d1b24b405324ac      organic  2021-06-05 16:33:26   \n",
       "2            2  60babef87c80da6a9442cb86   ad-traffic  2021-06-05 00:02:07   \n",
       "3            3  60bac0e912667e6a8d107731   ad-traffic  2021-06-05 00:04:29   \n",
       "4            4  60babfb17c80da6a9442cb87      organic  2021-06-05 00:05:16   \n",
       "...        ...                       ...          ...                  ...   \n",
       "396094  396094  60bb2f3912667e6a8d107757      organic  2021-06-12 11:52:41   \n",
       "396095  396095  60bb2f3912667e6a8d107757      organic  2021-06-12 15:18:06   \n",
       "396096  396096  60bb2f3912667e6a8d107757      organic  2021-06-12 15:18:30   \n",
       "396097  396097  60bc090c12667e6a8d1077b8      organic  2021-06-12 22:48:26   \n",
       "396098  396098  60bbf4a373c31e6a292b7ad1   ad-traffic  2021-06-12 23:27:05   \n",
       "\n",
       "        session_index           event_name  \\\n",
       "0                   1           appInstall   \n",
       "1                   1           appInstall   \n",
       "2                   1           appInstall   \n",
       "3                   1           appInstall   \n",
       "4                   1           appInstall   \n",
       "...               ...                  ...   \n",
       "396094             54  transactionComplete   \n",
       "396095             57  transactionComplete   \n",
       "396096             57  transactionComplete   \n",
       "396097              2  transactionComplete   \n",
       "396098             99  transactionComplete   \n",
       "\n",
       "                                               event_data    coins  \\\n",
       "0       {\"device\":\"Xiaomi POCO M2 Pro\",\"graphicMemory\"...        0   \n",
       "1       {\"device\":\"samsung SM-J200G\",\"graphicMemory\":2...        0   \n",
       "2       {\"device\":\"samsung SM-G781B\",\"graphicMemory\":2...        0   \n",
       "3       {\"device\":\"samsung SM-T290\",\"graphicMemory\":51...        0   \n",
       "4       {\"device\":\"samsung SM-N960F\",\"graphicMemory\":2...        0   \n",
       "...                                                   ...      ...   \n",
       "396094  {\"inLevel\":false,\"usdProceed\":68.1768094378241...  1174190   \n",
       "396095  {\"inLevel\":false,\"usdProceed\":6.81001009386441...     7885   \n",
       "396096  {\"inLevel\":false,\"usdProceed\":13.6285433543043...   107885   \n",
       "396097  {\"inLevel\":false,\"usdProceed\":1.393,\"productDe...    45274   \n",
       "396098  {\"inLevel\":true,\"usdProceed\":1.391999345326586...     8789   \n",
       "\n",
       "        freeRounds  freeUndo  freeWildCard  freeAddCards  level  map  bet  \\\n",
       "0                0         0             0             0      0    1  1.0   \n",
       "1                0         0             0             0      0    1  1.0   \n",
       "2                0         0             0             0      0    1  1.0   \n",
       "3                0         0             0             0      0    1  1.0   \n",
       "4                0         0             0             0      0    1  1.0   \n",
       "...            ...       ...           ...           ...    ...  ...  ...   \n",
       "396094          30       305            30           121    262    2  3.0   \n",
       "396095           0       394             0           162    289    2  3.0   \n",
       "396096           0       394             0           162    289    2  3.0   \n",
       "396097           0         3             2             4     48    1  3.0   \n",
       "396098           0         0             0             0    328    2  3.0   \n",
       "\n",
       "        gladeId  league  VIPPointsAmount  VIPStatus  gameType  \n",
       "0           1.0     0.0              0.0        0.0       NaN  \n",
       "1           1.0     0.0              0.0        0.0       NaN  \n",
       "2           1.0     0.0              0.0        0.0       NaN  \n",
       "3           1.0     0.0              0.0        0.0       NaN  \n",
       "4           1.0     0.0              0.0        0.0       NaN  \n",
       "...         ...     ...              ...        ...       ...  \n",
       "396094     13.0     0.0              0.0        0.0       NaN  \n",
       "396095     14.0     1.0              0.0        0.0       NaN  \n",
       "396096     14.0     1.0              0.0        0.0       NaN  \n",
       "396097      3.0     1.0              NaN        NaN       NaN  \n",
       "396098     14.0     3.0              0.0        0.0       0.0  \n",
       "\n",
       "[396099 rows x 20 columns]"
      ]
     },
     "execution_count": 14,
     "metadata": {},
     "output_type": "execute_result"
    }
   ],
   "source": [
    "data"
   ]
  },
  {
   "cell_type": "markdown",
   "id": "dbf185c6",
   "metadata": {},
   "source": [
    "Удаление столбца game_status прошло успешно. "
   ]
  },
  {
   "cell_type": "markdown",
   "id": "6712b124",
   "metadata": {},
   "source": [
    "### Преобразование типов"
   ]
  },
  {
   "cell_type": "code",
   "execution_count": 15,
   "id": "7f367edd",
   "metadata": {},
   "outputs": [
    {
     "data": {
      "text/plain": [
       "index                int64\n",
       "user_id             object\n",
       "media_source        object\n",
       "client_time         object\n",
       "session_index        int64\n",
       "event_name          object\n",
       "event_data          object\n",
       "coins                int64\n",
       "freeRounds           int64\n",
       "freeUndo             int64\n",
       "freeWildCard         int64\n",
       "freeAddCards         int64\n",
       "level                int64\n",
       "map                  int64\n",
       "bet                float64\n",
       "gladeId            float64\n",
       "league             float64\n",
       "VIPPointsAmount    float64\n",
       "VIPStatus          float64\n",
       "gameType           float64\n",
       "dtype: object"
      ]
     },
     "execution_count": 15,
     "metadata": {},
     "output_type": "execute_result"
    }
   ],
   "source": [
    "# вывод типов данных каждого столбца датафрейма\n",
    "data.dtypes"
   ]
  },
  {
   "cell_type": "markdown",
   "id": "01a0e733",
   "metadata": {},
   "source": [
    "Тип данных столбца client_time определен неверно; его нужно изменить с object на datetime.\n",
    "Столбец event_data нужно распаковать из json в отдельные столбцы датафрейма, однако это будет сделано по мере работы с конкретными событиями."
   ]
  },
  {
   "cell_type": "code",
   "execution_count": 16,
   "id": "4a652465",
   "metadata": {},
   "outputs": [],
   "source": [
    "# преобразование типа данных столбца client_time\n",
    "data.client_time = pd.to_datetime(data.client_time)"
   ]
  },
  {
   "cell_type": "code",
   "execution_count": 17,
   "id": "50b4ca7c",
   "metadata": {},
   "outputs": [
    {
     "data": {
      "text/plain": [
       "index                       int64\n",
       "user_id                    object\n",
       "media_source               object\n",
       "client_time        datetime64[ns]\n",
       "session_index               int64\n",
       "event_name                 object\n",
       "event_data                 object\n",
       "coins                       int64\n",
       "freeRounds                  int64\n",
       "freeUndo                    int64\n",
       "freeWildCard                int64\n",
       "freeAddCards                int64\n",
       "level                       int64\n",
       "map                         int64\n",
       "bet                       float64\n",
       "gladeId                   float64\n",
       "league                    float64\n",
       "VIPPointsAmount           float64\n",
       "VIPStatus                 float64\n",
       "gameType                  float64\n",
       "dtype: object"
      ]
     },
     "execution_count": 17,
     "metadata": {},
     "output_type": "execute_result"
    }
   ],
   "source": [
    "data.dtypes"
   ]
  },
  {
   "cell_type": "markdown",
   "id": "03158699",
   "metadata": {},
   "source": [
    "Преобразование типа данных столбца client_time прошло успешно."
   ]
  },
  {
   "cell_type": "markdown",
   "id": "be50be90",
   "metadata": {},
   "source": [
    "### Устранение пропусков"
   ]
  },
  {
   "cell_type": "code",
   "execution_count": 18,
   "id": "d1ced052",
   "metadata": {},
   "outputs": [
    {
     "data": {
      "text/plain": [
       "index                  0\n",
       "user_id                0\n",
       "media_source           0\n",
       "client_time            0\n",
       "session_index          0\n",
       "event_name             0\n",
       "event_data             0\n",
       "coins                  0\n",
       "freeRounds             0\n",
       "freeUndo               0\n",
       "freeWildCard           0\n",
       "freeAddCards           0\n",
       "level                  0\n",
       "map                    0\n",
       "bet                  153\n",
       "gladeId              153\n",
       "league               154\n",
       "VIPPointsAmount    40846\n",
       "VIPStatus          40846\n",
       "gameType           54386\n",
       "dtype: int64"
      ]
     },
     "execution_count": 18,
     "metadata": {},
     "output_type": "execute_result"
    }
   ],
   "source": [
    "# поиск пропущенных значений\n",
    "data.isnull().sum()"
   ]
  },
  {
   "cell_type": "markdown",
   "id": "6ab838d2",
   "metadata": {},
   "source": [
    "Предположительно, наличие пропущенных значений в колонках bet, gladeId, league, VIPPointsAmount, VIPStatus и gameType является допустимым (например, для колонки bet - при условии отсутствия ставки на данном уровне)."
   ]
  },
  {
   "cell_type": "markdown",
   "id": "d11044e2",
   "metadata": {},
   "source": [
    "### Устранение дубликатов"
   ]
  },
  {
   "cell_type": "code",
   "execution_count": 19,
   "id": "f06b73d8",
   "metadata": {},
   "outputs": [
    {
     "data": {
      "text/plain": [
       "0"
      ]
     },
     "execution_count": 19,
     "metadata": {},
     "output_type": "execute_result"
    }
   ],
   "source": [
    "# поиск дубликатов\n",
    "data.duplicated().sum()"
   ]
  },
  {
   "cell_type": "markdown",
   "id": "5d5cf744",
   "metadata": {},
   "source": [
    "Дубликатов найдено не было. "
   ]
  },
  {
   "cell_type": "markdown",
   "id": "cedb2676",
   "metadata": {},
   "source": [
    "### Переименовывание столбцов"
   ]
  },
  {
   "cell_type": "code",
   "execution_count": 20,
   "id": "50822e67",
   "metadata": {},
   "outputs": [
    {
     "data": {
      "text/plain": [
       "Index(['index', 'user_id', 'media_source', 'client_time', 'session_index',\n",
       "       'event_name', 'event_data', 'coins', 'freeRounds', 'freeUndo',\n",
       "       'freeWildCard', 'freeAddCards', 'level', 'map', 'bet', 'gladeId',\n",
       "       'league', 'VIPPointsAmount', 'VIPStatus', 'gameType'],\n",
       "      dtype='object')"
      ]
     },
     "execution_count": 20,
     "metadata": {},
     "output_type": "execute_result"
    }
   ],
   "source": [
    "# вывод названий всех колонок датафрейма\n",
    "data.columns"
   ]
  },
  {
   "cell_type": "markdown",
   "id": "0ef460e2",
   "metadata": {},
   "source": [
    "Названия колонок корректны (нет пробелов, нет нечитаемых символов, нет кириллицы), поэтому в переименовывании столбцов нет необходимости."
   ]
  },
  {
   "cell_type": "markdown",
   "id": "4bf00e82",
   "metadata": {},
   "source": [
    "### Оценка валидности и корректности"
   ]
  },
  {
   "cell_type": "code",
   "execution_count": 21,
   "id": "333f4761",
   "metadata": {},
   "outputs": [
    {
     "name": "stdout",
     "output_type": "stream",
     "text": [
      "Уникальные значения колонки index:\n",
      "[     0      1      2 ... 396096 396097 396098]\n",
      "\n",
      "\n",
      "Уникальные значения колонки user_id:\n",
      "['60c588d7b4d1b24b40531f29' '60d34c7ab4d1b24b405324ac'\n",
      " '60babef87c80da6a9442cb86' '60bac0e912667e6a8d107731'\n",
      " '60babfb17c80da6a9442cb87' '60bac1ac4770af6a2faa055f'\n",
      " '60bac42973c31e6a292b7a3a' '60bbe18112667e6a8d1077aa'\n",
      " '60bac57712667e6a8d107734' '60bac5e912667e6a8d107735'\n",
      " '60bac5e273c31e6a292b7a3b' '60bac91d7c80da6a9442cb88'\n",
      " '60bac9e07c80da6a9442cb89' '60bacaee7c80da6a9442cb8a'\n",
      " '60bacc5e7c80da6a9442cb8b' '60bace5c7c80da6a9442cb8c'\n",
      " '60bad20e73c31e6a292b7a3d' '60bad14373c31e6a292b7a3c'\n",
      " '60bac4ba12667e6a8d107733' '60bad30a7c80da6a9442cb8d'\n",
      " '60bad30473c31e6a292b7a3e' '60bad5757c80da6a9442cb8e'\n",
      " '60bad5fe73c31e6a292b7a40' '60bbc0a473c31e6a292b7ac0'\n",
      " '60bad6b84770af6a2faa0561' '60bad7ba73c31e6a292b7a42'\n",
      " '60badd6373c31e6a292b7a44' '60bad7f17c80da6a9442cb90'\n",
      " '60bad8307c80da6a9442cb91' '60bad89e73c31e6a292b7a43'\n",
      " '60bad6d673c31e6a292b7a41' '60badbc712667e6a8d107737'\n",
      " '60badcb67c80da6a9442cb92' '60badcf112667e6a8d107738'\n",
      " '60badcf312667e6a8d107739' '60baecdd4770af6a2faa0564'\n",
      " '60bae03f7c80da6a9442cb93' '60bae19273c31e6a292b7a46'\n",
      " '60baeb7d73c31e6a292b7a49' '60bae34f7c80da6a9442cb94'\n",
      " '60bae3904770af6a2faa0562' '60bae42c73c31e6a292b7a48'\n",
      " '60bae5c012667e6a8d10773a' '60bae7544770af6a2faa0563'\n",
      " '60bae9a212667e6a8d10773b' '60baeb377c80da6a9442cb96'\n",
      " '60baebbf12667e6a8d10773c' '60baed7c12667e6a8d10773d'\n",
      " '60baedaa73c31e6a292b7a4a' '60bba6a74770af6a2faa05c4'\n",
      " '60bd147612667e6a8d107837' '60baefee4770af6a2faa0565'\n",
      " '60baf0014770af6a2faa0566' '60baf0bd7c80da6a9442cb97'\n",
      " '60baf1254770af6a2faa0568' '60baf16e4770af6a2faa0569'\n",
      " '60baf0124770af6a2faa0567' '60baf20173c31e6a292b7a4c'\n",
      " '60baf2267c80da6a9442cb98' '60baf29e4770af6a2faa056a'\n",
      " '60baf54612667e6a8d10773f' '60baf64b73c31e6a292b7a4e'\n",
      " '60baf7b612667e6a8d107740' '60baf9c94770af6a2faa056b'\n",
      " '60bafa577c80da6a9442cb9a' '60bafa7173c31e6a292b7a4f'\n",
      " '60bafb924770af6a2faa056c' '60bafbcb73c31e6a292b7a50'\n",
      " '60bafbe312667e6a8d107741' '60bafc557c80da6a9442cb9c'\n",
      " '60bafd837c80da6a9442cb9e' '60bafda44770af6a2faa056d'\n",
      " '60bb00fe73c31e6a292b7a52' '60bb01557c80da6a9442cba0'\n",
      " '60bb021a4770af6a2faa056e' '60bb01b112667e6a8d107746'\n",
      " '60bb042f73c31e6a292b7a53' '60bb05af73c31e6a292b7a54'\n",
      " '60bb05f512667e6a8d107747' '60bb06cd7c80da6a9442cba1'\n",
      " '60bb06e57c80da6a9442cba2' '60bb06d412667e6a8d107748'\n",
      " '60bb08077c80da6a9442cba3' '60bb08697c80da6a9442cba4'\n",
      " '60bb093173c31e6a292b7a56' '60bb09497c80da6a9442cba5'\n",
      " '60bb097e12667e6a8d107749' '60bb0a0b73c31e6a292b7a57'\n",
      " '60bfccbad9e3983644303595' '60bb0c6e73c31e6a292b7a58'\n",
      " '60bb0ce84770af6a2faa0571' '60bb0cd14770af6a2faa0570'\n",
      " '60bb0d214770af6a2faa0572' '60bb0e3c7c80da6a9442cba8'\n",
      " '60bb0f237c80da6a9442cba9' '60bb0f3973c31e6a292b7a59'\n",
      " '60bb0f7c12667e6a8d10774a' '60bb0ff712667e6a8d10774b'\n",
      " '60bb0ffc12667e6a8d10774c' '60bb110a4770af6a2faa0573'\n",
      " '60bb11bf7c80da6a9442cbaa' '60bb11f812667e6a8d10774d'\n",
      " '60bce4587c80da6a9442cc6e' '60bb14d473c31e6a292b7a5a'\n",
      " '60bb16cf73c31e6a292b7a5b' '60bb17bc7c80da6a9442cbab'\n",
      " '60bb186a7c80da6a9442cbac' '60bb18bc7c80da6a9442cbad'\n",
      " '60bb18f173c31e6a292b7a5c' '60baee5f12667e6a8d10773e'\n",
      " '60bb1a304770af6a2faa0575' '60bb1a8c73c31e6a292b7a5d'\n",
      " '60bb1b174770af6a2faa0576' '60bb1b204770af6a2faa0577'\n",
      " '60bb1bac12667e6a8d10774e' '60bb1c1512667e6a8d10774f'\n",
      " '60bb1cb07c80da6a9442cbaf' '60bb1cf573c31e6a292b7a5e'\n",
      " '60bb796c4770af6a2faa05a5' '60be48904770af6a2faa06cd'\n",
      " '60bb1e524770af6a2faa0579' '60bb1efb73c31e6a292b7a5f'\n",
      " '60bb1f6112667e6a8d107750' '60bb1eb77c80da6a9442cbb0'\n",
      " '60bb1f837c80da6a9442cbb1' '60bb20d74770af6a2faa057c'\n",
      " '60bb21537c80da6a9442cbb2' '60bb21a012667e6a8d107751'\n",
      " '60bb3e9d12667e6a8d10775f' '60bb23da73c31e6a292b7a61'\n",
      " '60bb23ea73c31e6a292b7a62' '60bb24847c80da6a9442cbb4'\n",
      " '60bb249773c31e6a292b7a64' '60bb21d97c80da6a9442cbb3'\n",
      " '605717849c72f901462a2019' '60bb25d573c31e6a292b7a66'\n",
      " '60bb267e7c80da6a9442cbb5' '60bb272512667e6a8d107752'\n",
      " '60bb27ab73c31e6a292b7a67' '60bb27d473c31e6a292b7a68'\n",
      " '60bb2a1673c31e6a292b7a6a' '60bb2acb4770af6a2faa057e'\n",
      " '60bb2afd12667e6a8d107755' '60bb2b3373c31e6a292b7a6b'\n",
      " '60bb2c1412667e6a8d107756' '60bb2cbb73c31e6a292b7a6c'\n",
      " '60bb2d2a7c80da6a9442cbb7' '60bb2d174770af6a2faa057f'\n",
      " '60bb2d8573c31e6a292b7a6d' '60bb2d917c80da6a9442cbb8'\n",
      " '60bdf18712667e6a8d10787a' '60bb2f067c80da6a9442cbbc'\n",
      " '60bb2f3912667e6a8d107757' '60bb30777c80da6a9442cbbd'\n",
      " '60bb30f973c31e6a292b7a6e' '60bb313212667e6a8d107758'\n",
      " '60bb320573c31e6a292b7a6f' '60bcc63073c31e6a292b7b13'\n",
      " '60bb341312667e6a8d10775a' '60bb347373c31e6a292b7a70'\n",
      " '60bb349c7c80da6a9442cbbf' '60bb34fc73c31e6a292b7a71'\n",
      " '60bb35c27c80da6a9442cbc0' '60bb37754770af6a2faa0582'\n",
      " '60bb37e14770af6a2faa0583' '60bb386a4770af6a2faa0584'\n",
      " '60bb393412667e6a8d10775c' '60bb39727c80da6a9442cbc2'\n",
      " '60bb3a2e4770af6a2faa0585' '60bb3b9a4770af6a2faa0588'\n",
      " '60bb3bf24770af6a2faa0589' '60c0f9783ecdcc5ea3f5039d'\n",
      " '60bb3ece4770af6a2faa058a' '60bb3f307c80da6a9442cbc4'\n",
      " '60bb3f774770af6a2faa058b' '60bb401b73c31e6a292b7a72'\n",
      " '60bb40604770af6a2faa058c' '60bb407812667e6a8d107760'\n",
      " '60bb41014770af6a2faa058e' '60bb40c012667e6a8d107761'\n",
      " '60bb414373c31e6a292b7a73' '60bb41e673c31e6a292b7a74'\n",
      " '60bcb64412667e6a8d107805' '60bb42ff7c80da6a9442cbc6'\n",
      " '60bb444273c31e6a292b7a76' '60bb44b373c31e6a292b7a77'\n",
      " '60bb45bd7c80da6a9442cbc7' '60bb465d4770af6a2faa0591'\n",
      " '60bb468f73c31e6a292b7a78' '60bb46a573c31e6a292b7a79'\n",
      " '60bb47447c80da6a9442cbc8' '60bb482f73c31e6a292b7a7b'\n",
      " '60bb498e73c31e6a292b7a7c' '60bb4a2c12667e6a8d107764'\n",
      " '60bb4aa812667e6a8d107765' '60bb4b7f7c80da6a9442cbcb'\n",
      " '60bb4c1873c31e6a292b7a7d' '60bb4c3712667e6a8d107766'\n",
      " '60bb4c224770af6a2faa0592' '60bb4ca612667e6a8d107767'\n",
      " '60bb4d927c80da6a9442cbcd' '60bb4d567c80da6a9442cbcc'\n",
      " '60bb4f1573c31e6a292b7a7e' '60bb4fca73c31e6a292b7a7f'\n",
      " '60bf25e24770af6a2faa0714' '60bb50d87c80da6a9442cbce'\n",
      " '60bb513d4770af6a2faa0593' '60bb51d77c80da6a9442cbcf'\n",
      " '60bb521b12667e6a8d107769' '60bb52357c80da6a9442cbd0'\n",
      " '60bb529c4770af6a2faa0594' '60bb52ac73c31e6a292b7a80'\n",
      " '60bb942c4770af6a2faa05b5' '60bbd77f4770af6a2faa05da'\n",
      " '60bb54c87c80da6a9442cbd1' '60bb57407c80da6a9442cbd2'\n",
      " '60bb576873c31e6a292b7a81' '60bb57cf7c80da6a9442cbd3'\n",
      " '60bb580b4770af6a2faa0596' '60bb5acf7c80da6a9442cbd4'\n",
      " '60bb5af373c31e6a292b7a82' '60bb5ae94770af6a2faa0598'\n",
      " '60bb5be34770af6a2faa0599' '60bb5cff73c31e6a292b7a83'\n",
      " '60bb5d2f73c31e6a292b7a85' '60bb5d6f73c31e6a292b7a86'\n",
      " '60bb5e554770af6a2faa059a' '60bb5ec64770af6a2faa059b'\n",
      " '60bb61014770af6a2faa059e' '60bb610412667e6a8d10776d'\n",
      " '60bb630973c31e6a292b7a87' '60bb634873c31e6a292b7a88'\n",
      " '60bb63d573c31e6a292b7a89' '60bb63b74770af6a2faa059f'\n",
      " '60bb63eb12667e6a8d10776e' '60bb64a47c80da6a9442cbd6'\n",
      " '60bb65db7c80da6a9442cbd7' '60bb68fb7c80da6a9442cbd9'\n",
      " '60bb69267c80da6a9442cbda' '60bb6db673c31e6a292b7a8b'\n",
      " '60bb6db973c31e6a292b7a8c' '60bb6f2c12667e6a8d107772'\n",
      " '60bb6e434770af6a2faa05a1' '60bb856a4770af6a2faa05ad'\n",
      " '60bb70877c80da6a9442cbdb' '60bb724712667e6a8d107773'\n",
      " '60bb736b12667e6a8d107775' '60bb736b12667e6a8d107774'\n",
      " '60bb738212667e6a8d107776' '60bb73c64770af6a2faa05a2'\n",
      " '60bb74824770af6a2faa05a3' '60bb74e973c31e6a292b7a8f'\n",
      " '60bb757d7c80da6a9442cbdc' '60bb75f773c31e6a292b7a91'\n",
      " '60bb76687c80da6a9442cbdd' '60bb75e473c31e6a292b7a90'\n",
      " '60bb771673c31e6a292b7a92' '60bb77ee73c31e6a292b7a93'\n",
      " '60bb7b8273c31e6a292b7a94' '60bb7ba312667e6a8d107777'\n",
      " '60bb7b6e4770af6a2faa05a7' '60bb7c9612667e6a8d107778'\n",
      " '60bb7c9a4770af6a2faa05a8' '60bb7ce14770af6a2faa05a9'\n",
      " '60bb7d237c80da6a9442cbde' '60bb7de34770af6a2faa05ab'\n",
      " '60bb7f7973c31e6a292b7a96' '60bb7fc612667e6a8d107779'\n",
      " '60bb80a67c80da6a9442cbe0' '60bb82a112667e6a8d10777a'\n",
      " '60bb83c34770af6a2faa05ac' '60bb84f012667e6a8d10777b'\n",
      " '60bcfeac73c31e6a292b7b35' '60bb857d7c80da6a9442cbe1'\n",
      " '60bb860073c31e6a292b7a98' '60bb864412667e6a8d10777c'\n",
      " '60bb86467c80da6a9442cbe2' '60bb86d512667e6a8d10777d'\n",
      " '60bdf3277c80da6a9442cced' '60bb87e712667e6a8d10777f'\n",
      " '60bb884873c31e6a292b7a99' '60bb874d12667e6a8d10777e'\n",
      " '60bb89af7c80da6a9442cbe5' '60bb8a787c80da6a9442cbe6'\n",
      " '60bb8a867c80da6a9442cbe7' '60bb8cd64770af6a2faa05b0'\n",
      " '60bb8e414770af6a2faa05b1' '60bb8fc67c80da6a9442cbe8'\n",
      " '60bb8fec7c80da6a9442cbe9' '60bb900912667e6a8d107781'\n",
      " '60bb90cc73c31e6a292b7a9c' '60bb90db4770af6a2faa05b2'\n",
      " '60bb92927c80da6a9442cbea' '60bb937373c31e6a292b7a9d'\n",
      " '60bb93c512667e6a8d107783' '60c0dd48bb3072605a095709'\n",
      " '60bb944212667e6a8d107784' '60bb952d12667e6a8d107785'\n",
      " '60bb95517c80da6a9442cbeb' '60bb966873c31e6a292b7a9e'\n",
      " '60bb96ef4770af6a2faa05b7' '60bb97077c80da6a9442cbec'\n",
      " '60bb97bf7c80da6a9442cbed' '60bb98044770af6a2faa05b8'\n",
      " '60bb989373c31e6a292b7aa1' '60bb98a94770af6a2faa05b9'\n",
      " '60bb990973c31e6a292b7aa2' '60bb999a4770af6a2faa05ba'\n",
      " '60bb99e673c31e6a292b7aa3' '60c257584cc3a030299d2c79'\n",
      " '60bb9a4273c31e6a292b7aa4' '60bb9ad012667e6a8d107786'\n",
      " '60bb9ac04770af6a2faa05bb' '60bb9b0d73c31e6a292b7aa5'\n",
      " '60bb9cd512667e6a8d107787' '60bb9ea24770af6a2faa05bc'\n",
      " '60bb9e5812667e6a8d107789' '60bb9e8273c31e6a292b7aa7'\n",
      " '60bb9f2773c31e6a292b7aa8' '60bb9ff112667e6a8d10778a'\n",
      " '60bb66084770af6a2faa05a0' '60bba0d27c80da6a9442cbee'\n",
      " '60bba0ee7c80da6a9442cbef' '60bba1984770af6a2faa05be'\n",
      " '60bba1814770af6a2faa05bd' '60bba1b14770af6a2faa05bf'\n",
      " '60bba2174770af6a2faa05c0' '60bba2647c80da6a9442cbf0'\n",
      " '60bba32873c31e6a292b7aab' '60bba32c4770af6a2faa05c1'\n",
      " '60bba35612667e6a8d10778d' '60bba3c812667e6a8d10778e'\n",
      " '60bba58b12667e6a8d10778f' '60bba5c012667e6a8d107790'\n",
      " '60bba5ea7c80da6a9442cbf3' '60bc988f12667e6a8d1077f3'\n",
      " '60bba8bf73c31e6a292b7aad' '60bbaa7a12667e6a8d107792'\n",
      " '60bbaa7273c31e6a292b7aaf' '60bbaaf773c31e6a292b7ab0'\n",
      " '60bbab3b7c80da6a9442cbf4' '60bbab2712667e6a8d107793'\n",
      " '60bbab8712667e6a8d107794' '60bbac1212667e6a8d107795'\n",
      " '60bbac3c7c80da6a9442cbf5' '60bbae0d7c80da6a9442cbf6'\n",
      " '60bd0dcb12667e6a8d107834' '60bbae9312667e6a8d107796'\n",
      " '60bbaf404770af6a2faa05c7' '60bbafe14770af6a2faa05c8'\n",
      " '60bbb00912667e6a8d107797' '60bbb1bc4770af6a2faa05c9'\n",
      " '60bbb3b173c31e6a292b7ab2' '60bbb4e673c31e6a292b7ab3'\n",
      " '60bbb51b4770af6a2faa05ca' '60bbb5197c80da6a9442cbf9'\n",
      " '60bbb55373c31e6a292b7ab4' '60bbb5ca73c31e6a292b7ab6'\n",
      " '60bbb5be73c31e6a292b7ab5' '60bbb63612667e6a8d107798'\n",
      " '60bbb65c73c31e6a292b7ab7' '60bbba077c80da6a9442cbfa'\n",
      " '60bbba824770af6a2faa05cc' '60bbbb5d4770af6a2faa05cd'\n",
      " '60bbbb994770af6a2faa05ce' '60bbbc2a4770af6a2faa05cf'\n",
      " '60bbbc4173c31e6a292b7aba' '60bbbd9573c31e6a292b7abb'\n",
      " '60bbbe497c80da6a9442cbfb' '60bbbe9373c31e6a292b7abc'\n",
      " '60bbbf587c80da6a9442cbfd' '60bbbfe873c31e6a292b7abe'\n",
      " '60bbc01a7c80da6a9442cbff' '60bbc0357c80da6a9442cc00'\n",
      " '60bbc2774770af6a2faa05d1' '60bbc33173c31e6a292b7ac1'\n",
      " '60bbc54c7c80da6a9442cc03' '60bbb9ed73c31e6a292b7ab9'\n",
      " '60bbc66012667e6a8d10779c' '60bbc6767c80da6a9442cc04'\n",
      " '60bbc7cb12667e6a8d10779e' '60bbc8764770af6a2faa05d3'\n",
      " '60bbcb027c80da6a9442cc07' '60bbcc7412667e6a8d1077a0'\n",
      " '60bbcc8c73c31e6a292b7ac3' '60bbcccd4770af6a2faa05d4'\n",
      " '60bbcd2873c31e6a292b7ac5' '60bbcd294770af6a2faa05d5'\n",
      " '60bbce427c80da6a9442cc09' '60bbce884770af6a2faa05d6'\n",
      " '60bbcf5073c31e6a292b7ac6' '60bbd04a7c80da6a9442cc0a'\n",
      " '60bbd11973c31e6a292b7ac7' '60bbd34c73c31e6a292b7ac8'\n",
      " '60bbd36a7c80da6a9442cc0c' '60bbd4a34770af6a2faa05d8'\n",
      " '60bbd5497c80da6a9442cc0d' '60bbd59512667e6a8d1077a1'\n",
      " '60bbd5b57c80da6a9442cc0e' '60ba837f4770af6a2faa0544'\n",
      " '60bbd6324770af6a2faa05d9' '60bbd70c7c80da6a9442cc0f'\n",
      " '60bbd93912667e6a8d1077a5' '60bbd9784770af6a2faa05db'\n",
      " '60bbd9dc7c80da6a9442cc11' '60bbda784770af6a2faa05dc'\n",
      " '60bbdb8b4770af6a2faa05dd' '60bbdcbc12667e6a8d1077a7'\n",
      " '60ba999a73c31e6a292b7a2b' '60bbdd717c80da6a9442cc13'\n",
      " '60bbdda37c80da6a9442cc14' '60bbde5373c31e6a292b7acb'\n",
      " '60bbdf517c80da6a9442cc15' '60bbdf5f12667e6a8d1077a8'\n",
      " '60bbe0444770af6a2faa05e0' '60bbe09f4770af6a2faa05e1'\n",
      " '60bbe0ac12667e6a8d1077a9' '60bbe1694770af6a2faa05e2'\n",
      " '60bbe2d04770af6a2faa05e3' '60bbe3c173c31e6a292b7acc'\n",
      " '60bbe95c73c31e6a292b7acd' '60bbe97b73c31e6a292b7ace'\n",
      " '60bbe97d4770af6a2faa05e4' '60bbeb744770af6a2faa05e6'\n",
      " '60bbed147c80da6a9442cc16' '60bbedcb73c31e6a292b7ad0'\n",
      " '60bbee774770af6a2faa05e7' '60bbeff77c80da6a9442cc18'\n",
      " '60bbf3577c80da6a9442cc19' '60bbf4337c80da6a9442cc1a'\n",
      " '60bbf4a373c31e6a292b7ad1' '60bbf6957c80da6a9442cc1b'\n",
      " '60bbf78512667e6a8d1077af' '60bc8f1773c31e6a292b7afd'\n",
      " '60bbf9f412667e6a8d1077b0' '60bbfc5012667e6a8d1077b3'\n",
      " '60bbfcbd7c80da6a9442cc1c' '60bbfd3f73c31e6a292b7ad3'\n",
      " '60bbff4612667e6a8d1077b4' '60bc02944770af6a2faa05ec'\n",
      " '60bbf5b673c31e6a292b7ad2' '60bc03df73c31e6a292b7ad5'\n",
      " '60bc044812667e6a8d1077b5' '60bc044d7c80da6a9442cc1d'\n",
      " '60bc06c44770af6a2faa05ed' '60bc08c012667e6a8d1077b7'\n",
      " '60bc090c12667e6a8d1077b8' '60bc09767c80da6a9442cc20'\n",
      " '60bc8f257c80da6a9442cc4d' '60bc0d7973c31e6a292b7ad7'\n",
      " '60bc0f1c73c31e6a292b7ad8' '60f6c48aa1401a4ae5703f6d']\n",
      "\n",
      "\n",
      "Уникальные значения колонки media_source:\n",
      "['organic' 'ad-traffic']\n",
      "\n",
      "\n",
      "Уникальные значения колонки client_time:\n"
     ]
    },
    {
     "name": "stdout",
     "output_type": "stream",
     "text": [
      "['2021-06-05T07:23:06.000000000' '2021-06-05T16:33:26.000000000'\n",
      " '2021-06-05T00:02:07.000000000' ... '2021-06-11T08:56:02.000000000'\n",
      " '2021-06-11T09:25:47.000000000' '2021-06-06T21:45:48.000000000']\n",
      "\n",
      "\n",
      "Уникальные значения колонки session_index:\n",
      "[  1   2   3   4  17 156  54   9  62 173  72 103  64  41 109  28  11  27\n",
      "  68  24  18  14   8   5  44  12 104  30   7  73  10  23  31  16  51  15\n",
      "  34  29 175  66  42  20  26  19  45  85   6  40 105  97  32  57 178 136\n",
      "  69  38  55  71  78  79  48  43  13  36  22  65  98 181 101  33  60  84\n",
      "  52  95  53 102 112 115  21 116 121 122  49  99  50 185  46 137  86 124\n",
      " 125 127  61  25  63 135  47 138 145  35 108 186  37  58  80 123 139 153\n",
      " 154 118  75 158  77 111 188  83  87  76 119 157  56 113  39 100 191 114\n",
      " 128 194 141  89 242 120 189 199  88 107 117 190 129  74 203  91 130 142\n",
      " 174 143  92  59 193 110 179 209 250 160 211 197 198  93 106  70 214 255\n",
      " 201 144  90 218 219 184  94  67 220  81 131 225 207 149 166 132 228  82\n",
      " 152 163 230  96 146 170 171 165 147 161 150 151 277 134 148 280 282 213\n",
      " 167 168 177 155 133 140 159 233 234 235 126 238 169 244 284 212 176 246\n",
      " 286 192 180 248 215 195 253 183 287 288 289 162 254 200 256 202 257 267\n",
      " 268 259 271 263 205 206 265 208 270 274 172 281 276 164]\n",
      "\n",
      "\n",
      "Уникальные значения колонки event_name:\n",
      "['appInstall' 'getCoins' 'learning' 'getBooster' 'levelEnd'\n",
      " 'getStarsCruise' 'gladeComplete' 'levelStart' 'transactionComplete']\n",
      "\n",
      "\n",
      "Уникальные значения колонки event_data:\n",
      "['{\"device\":\"Xiaomi POCO M2 Pro\",\"graphicMemory\":2048,\"systemMemory\":5582}'\n",
      " '{\"device\":\"samsung SM-J200G\",\"graphicMemory\":256,\"systemMemory\":892}'\n",
      " '{\"device\":\"samsung SM-G781B\",\"graphicMemory\":2048,\"systemMemory\":5562}'\n",
      " ...\n",
      " '{\"inLevel\":true,\"usdProceed\":68.1768094378241,\"productDescription\":\"Grand Pack\"}'\n",
      " '{\"inLevel\":false,\"usdProceed\":68.1768094378241,\"productDescription\":\"Grand Pack\"}'\n",
      " '{\"inLevel\":false,\"usdProceed\":6.810010093864416,\"productDescription\":\"Gold Coins Pack M\"}']\n",
      "\n",
      "\n",
      "Уникальные значения колонки coins:\n",
      "[     0  17457  48900 ... 106537  44555  45309]\n",
      "\n",
      "\n",
      "Уникальные значения колонки freeRounds:\n",
      "[ 0  1  3  2  4  6  9  8  5 10  7 14 13 11 15 17 19 16 30 27 24 21 18 12\n",
      " 32 29 26 23 20 60 57 54 56 53 50 47 44 41 38 35]\n",
      "\n",
      "\n",
      "Уникальные значения колонки freeUndo:\n",
      "[  0   5   2   3   8   1   4   9  11  37  13  23  33   7  32  17   6  19\n",
      "  16  10  14  18  21  22  12  20  15  38  36  35  34  24  31  30  29  79\n",
      "  94  95  97  96 177 179 178 176 175 174 173 172 171 170 169 168 167 166\n",
      " 165 164 163 162 161 241 240 239 238 237 236 235 234 233 232 231 230 229\n",
      " 228 227 226 225 305 385 384 387 389 391 390 395 394 409 408]\n",
      "\n",
      "\n",
      "Уникальные значения колонки freeWildCard:\n",
      "[ 0  5  3  2  4  1  7  6 10  9  8 11 12 13 16 15 14 30 29 28 27 26 25 24\n",
      " 23 22 21 20 19 18 17 60 59 58 57 56 55 54 53 52 51 50 49 48 47 46 45 44\n",
      " 43 42 41 40 39 38 37 36 35 34 33 32 31]\n",
      "\n",
      "\n",
      "Уникальные значения колонки freeAddCards:\n",
      "[  0   5   4   1   2   3   7   6  10   9   8  12  11  13  17  27  32  34\n",
      "  36  37  39  41  42  72  74  73  71  70  69  68  67  66  65  64  63  62\n",
      "  61  60  59  89  88  87  86  91 121 151 153 154 159 161 162 167 169  14\n",
      "  16  15]\n",
      "\n",
      "\n",
      "Уникальные значения колонки level:\n",
      "[  0  14  18  60  71  70  15  72 133  35  36  16  31 135  73  32  28  19\n",
      "  29  48 136   1  49  61 132  30  20 137  74 119 120  33  50  62  68   6\n",
      "  41  21  75  69  42 122 138  77  51  22  43 123   7 140  52  34  23 141\n",
      "   8  78   2  11   3  53 142  79  37   4  40  24   5  38  54  12  80  39\n",
      "  88  89  13 150 280 151 152 282 283 154 155 220 125 245 390 126 235 173\n",
      " 344 236 430 221 431 210 222 238 432 433 128 129 192 166 193 130 167 209\n",
      " 212 131 169 170 215 164 216 246 217 219 109 248  92  98  67 116 117 184\n",
      "  99 153 157 100 186 187  63 158 113 114 101 188  64 159 189  83  84 115\n",
      "  65 102 190  85 160  86 147 171 172  25  55  90  56   9  81  91  57  82\n",
      "  58  93  17  94  10  95  96  87  97 181  66 112 103 104 199 161 162 146\n",
      " 105 106 163 148 107 223 194 127 392 393 346 249 349 351 195 198 144 205\n",
      " 145 206 168 197 149 319  26  44  27  45  46  47  76 108 191 202 203 251\n",
      " 207 208 111 200 352 118 214 143 394  59 110 134 156 204 218 224 211 434\n",
      " 226 396 397 227 409 124 177 178 196 228 229 230 252 253 234 201 399 400\n",
      " 320 321 273 284 322 233 237 242 244 250 175 254 255 258 139 225 241 243\n",
      " 276 279 281 231 232 353 354 401 355 356 403 285 323 286 324 325 326 287\n",
      " 288 292 293 295 296 297 298 239 240 176 179 256 257 303 304 266 267 182\n",
      " 274 275 402 404 406 407 408 411 413 415 213 289 294 299 358 370 359 416\n",
      " 305 306 307 308 309 183 185 310 259 260 419 262 420 421 264 423 247 375\n",
      " 424 426 429 436 268 437 269 439 440 442 270 443 445 271 165 414 376 450\n",
      " 452 453 330 377 378 455 331 456 332 499 500 501 372 373 315 374 316 317\n",
      " 418 277 327 278 333 334 290 379 380 381 382 383 438 261 263 461 462 464\n",
      " 465 470 472 473 474 477 454 498 384 368 369 265 385 422 272 521 522 524\n",
      " 311 427 360 361 362 335 336 338 340 342 343 345 348 318 444 448 301 302\n",
      " 428 313 329 357 363 364 471 532 174 533 534 350 341 300 435 441 446 447\n",
      " 451 457 458 459 460 463 467 347 504 505 506 366 367 509 510 511 513 514\n",
      " 515 328 365 475 479 480 481 483 484 516 517 519 412 417 486 487 488 314\n",
      " 121 180 386 387 388 389 337 425 555 556 391 566 567 291 398 528 529 530\n",
      " 531 536 539 541 542 544 546 573 574 371 449 476 478 489 490 491 492 494\n",
      " 395 493 495 496 497 502 503 507 508 512 576 577 578 579 466 468 469 482\n",
      " 518 520 523 525 526 527 580 581 582 583 584 585 586 587 588 589 537 538\n",
      " 540 545 547 548 543 552 557 558 559 562 564 565 571 549 312 550 551 553\n",
      " 554 339 560 561 563 568 570 575]\n",
      "\n",
      "\n",
      "Уникальные значения колонки map:\n",
      "[1 2 3 4]\n",
      "\n",
      "\n",
      "Уникальные значения колонки bet:\n",
      "[ 1. nan  2.  3.]\n",
      "\n",
      "\n",
      "Уникальные значения колонки gladeId:\n",
      "[ 1. nan  3.  4.  7.  2.  6.  8.  5. 13. 14.  9. 12. 11. 10. 16. 17. 15.\n",
      " 22. 20. 18. 23. 19.]\n",
      "\n",
      "\n",
      "Уникальные значения колонки league:\n",
      "[ 0. nan  1.  2.  3.]\n",
      "\n",
      "\n",
      "Уникальные значения колонки VIPPointsAmount:\n",
      "[ 0. nan  3.  9.  6. 21. 18. 15. 12. 27. 24. 36. 30. 39. 33. 51. 42. 45.\n",
      " 54.]\n",
      "\n",
      "\n",
      "Уникальные значения колонки VIPStatus:\n",
      "[ 0. nan]\n",
      "\n",
      "\n",
      "Уникальные значения колонки gameType:\n",
      "[nan  0.]\n",
      "\n",
      "\n"
     ]
    }
   ],
   "source": [
    "# просмотр уникальных значений в каждой колонке для визуальной оценки данных\n",
    "for column in data:\n",
    "    print('Уникальные значения колонки ' + column + ':')\n",
    "    print(data[column].unique())\n",
    "    print('\\n')"
   ]
  },
  {
   "cell_type": "code",
   "execution_count": 22,
   "id": "dc69a44e",
   "metadata": {},
   "outputs": [
    {
     "name": "stdout",
     "output_type": "stream",
     "text": [
      "Количество уникальных значений в колонке index составляет:\n",
      "396099\n",
      "\n",
      "\n",
      "Количество уникальных значений в колонке user_id составляет:\n",
      "452\n",
      "\n",
      "\n",
      "Количество уникальных значений в колонке media_source составляет:\n",
      "2\n",
      "\n",
      "\n",
      "Количество уникальных значений в колонке client_time составляет:\n",
      "212454\n",
      "\n",
      "\n",
      "Количество уникальных значений в колонке session_index составляет:\n",
      "248\n",
      "\n",
      "\n",
      "Количество уникальных значений в колонке event_name составляет:\n",
      "9\n",
      "\n",
      "\n",
      "Количество уникальных значений в колонке event_data составляет:\n",
      "72300\n",
      "\n",
      "\n",
      "Количество уникальных значений в колонке coins составляет:\n",
      "90322\n",
      "\n",
      "\n",
      "Количество уникальных значений в колонке freeRounds составляет:\n",
      "40\n",
      "\n",
      "\n",
      "Количество уникальных значений в колонке freeUndo составляет:\n",
      "87\n",
      "\n",
      "\n",
      "Количество уникальных значений в колонке freeWildCard составляет:\n",
      "61\n",
      "\n",
      "\n",
      "Количество уникальных значений в колонке freeAddCards составляет:\n",
      "56\n",
      "\n",
      "\n",
      "Количество уникальных значений в колонке level составляет:\n",
      "584\n",
      "\n",
      "\n",
      "Количество уникальных значений в колонке map составляет:\n",
      "4\n",
      "\n",
      "\n",
      "Количество уникальных значений в колонке bet составляет:\n",
      "3\n",
      "\n",
      "\n",
      "Количество уникальных значений в колонке gladeId составляет:\n",
      "22\n",
      "\n",
      "\n",
      "Количество уникальных значений в колонке league составляет:\n",
      "4\n",
      "\n",
      "\n",
      "Количество уникальных значений в колонке VIPPointsAmount составляет:\n",
      "18\n",
      "\n",
      "\n",
      "Количество уникальных значений в колонке VIPStatus составляет:\n",
      "1\n",
      "\n",
      "\n",
      "Количество уникальных значений в колонке gameType составляет:\n",
      "1\n",
      "\n",
      "\n"
     ]
    }
   ],
   "source": [
    "# просмотр количества уникальных значений в каждой колонке для визуальной оценки данных\n",
    "for column in data:\n",
    "    print('Количество уникальных значений в колонке ' + column + ' составляет:')\n",
    "    print(data[column].nunique())\n",
    "    print('\\n')"
   ]
  },
  {
   "cell_type": "code",
   "execution_count": 23,
   "id": "8e58bd16",
   "metadata": {},
   "outputs": [
    {
     "data": {
      "text/plain": [
       "(396099, 20)"
      ]
     },
     "execution_count": 23,
     "metadata": {},
     "output_type": "execute_result"
    }
   ],
   "source": [
    "data.shape"
   ]
  },
  {
   "cell_type": "markdown",
   "id": "d286f54c",
   "metadata": {},
   "source": [
    "Датафрейм содержит информацию о:\n",
    "- 452 игроках\n",
    "- 2 источниках установки\n",
    "- 9 типах событий\n",
    "- 396099 событиях\n",
    "\n",
    "Данные валидны и корректны."
   ]
  },
  {
   "cell_type": "markdown",
   "id": "869b2e7d",
   "metadata": {},
   "source": [
    "### Просмотр описательных статистик"
   ]
  },
  {
   "cell_type": "code",
   "execution_count": 24,
   "id": "6d6ee788",
   "metadata": {},
   "outputs": [
    {
     "data": {
      "text/html": [
       "<div>\n",
       "<style scoped>\n",
       "    .dataframe tbody tr th:only-of-type {\n",
       "        vertical-align: middle;\n",
       "    }\n",
       "\n",
       "    .dataframe tbody tr th {\n",
       "        vertical-align: top;\n",
       "    }\n",
       "\n",
       "    .dataframe thead th {\n",
       "        text-align: right;\n",
       "    }\n",
       "</style>\n",
       "<table border=\"1\" class=\"dataframe\">\n",
       "  <thead>\n",
       "    <tr style=\"text-align: right;\">\n",
       "      <th></th>\n",
       "      <th>index</th>\n",
       "      <th>session_index</th>\n",
       "      <th>coins</th>\n",
       "      <th>freeRounds</th>\n",
       "      <th>freeUndo</th>\n",
       "      <th>freeWildCard</th>\n",
       "      <th>freeAddCards</th>\n",
       "      <th>level</th>\n",
       "      <th>map</th>\n",
       "      <th>bet</th>\n",
       "      <th>gladeId</th>\n",
       "      <th>league</th>\n",
       "      <th>VIPPointsAmount</th>\n",
       "      <th>VIPStatus</th>\n",
       "      <th>gameType</th>\n",
       "    </tr>\n",
       "  </thead>\n",
       "  <tbody>\n",
       "    <tr>\n",
       "      <th>count</th>\n",
       "      <td>396099.000000</td>\n",
       "      <td>396099.000000</td>\n",
       "      <td>3.960990e+05</td>\n",
       "      <td>396099.00000</td>\n",
       "      <td>396099.000000</td>\n",
       "      <td>396099.000000</td>\n",
       "      <td>396099.000000</td>\n",
       "      <td>396099.000000</td>\n",
       "      <td>396099.000000</td>\n",
       "      <td>395946.000000</td>\n",
       "      <td>395946.000000</td>\n",
       "      <td>395945.000000</td>\n",
       "      <td>355253.000000</td>\n",
       "      <td>355253.0</td>\n",
       "      <td>341713.0</td>\n",
       "    </tr>\n",
       "    <tr>\n",
       "      <th>mean</th>\n",
       "      <td>198049.000000</td>\n",
       "      <td>15.308903</td>\n",
       "      <td>4.958990e+04</td>\n",
       "      <td>0.17074</td>\n",
       "      <td>3.288991</td>\n",
       "      <td>1.692867</td>\n",
       "      <td>1.312472</td>\n",
       "      <td>99.292063</td>\n",
       "      <td>1.078440</td>\n",
       "      <td>1.349603</td>\n",
       "      <td>5.476956</td>\n",
       "      <td>0.272303</td>\n",
       "      <td>3.927015</td>\n",
       "      <td>0.0</td>\n",
       "      <td>0.0</td>\n",
       "    </tr>\n",
       "    <tr>\n",
       "      <th>std</th>\n",
       "      <td>114344.076475</td>\n",
       "      <td>27.443017</td>\n",
       "      <td>8.807644e+04</td>\n",
       "      <td>1.27476</td>\n",
       "      <td>18.028873</td>\n",
       "      <td>2.320175</td>\n",
       "      <td>7.228531</td>\n",
       "      <td>85.260655</td>\n",
       "      <td>0.284023</td>\n",
       "      <td>0.664380</td>\n",
       "      <td>3.701651</td>\n",
       "      <td>0.532143</td>\n",
       "      <td>8.506069</td>\n",
       "      <td>0.0</td>\n",
       "      <td>0.0</td>\n",
       "    </tr>\n",
       "    <tr>\n",
       "      <th>min</th>\n",
       "      <td>0.000000</td>\n",
       "      <td>1.000000</td>\n",
       "      <td>0.000000e+00</td>\n",
       "      <td>0.00000</td>\n",
       "      <td>0.000000</td>\n",
       "      <td>0.000000</td>\n",
       "      <td>0.000000</td>\n",
       "      <td>0.000000</td>\n",
       "      <td>1.000000</td>\n",
       "      <td>1.000000</td>\n",
       "      <td>1.000000</td>\n",
       "      <td>0.000000</td>\n",
       "      <td>0.000000</td>\n",
       "      <td>0.0</td>\n",
       "      <td>0.0</td>\n",
       "    </tr>\n",
       "    <tr>\n",
       "      <th>25%</th>\n",
       "      <td>99024.500000</td>\n",
       "      <td>2.000000</td>\n",
       "      <td>1.362500e+04</td>\n",
       "      <td>0.00000</td>\n",
       "      <td>0.000000</td>\n",
       "      <td>0.000000</td>\n",
       "      <td>0.000000</td>\n",
       "      <td>34.000000</td>\n",
       "      <td>1.000000</td>\n",
       "      <td>1.000000</td>\n",
       "      <td>3.000000</td>\n",
       "      <td>0.000000</td>\n",
       "      <td>0.000000</td>\n",
       "      <td>0.0</td>\n",
       "      <td>0.0</td>\n",
       "    </tr>\n",
       "    <tr>\n",
       "      <th>50%</th>\n",
       "      <td>198049.000000</td>\n",
       "      <td>5.000000</td>\n",
       "      <td>3.296000e+04</td>\n",
       "      <td>0.00000</td>\n",
       "      <td>1.000000</td>\n",
       "      <td>1.000000</td>\n",
       "      <td>0.000000</td>\n",
       "      <td>76.000000</td>\n",
       "      <td>1.000000</td>\n",
       "      <td>1.000000</td>\n",
       "      <td>5.000000</td>\n",
       "      <td>0.000000</td>\n",
       "      <td>0.000000</td>\n",
       "      <td>0.0</td>\n",
       "      <td>0.0</td>\n",
       "    </tr>\n",
       "    <tr>\n",
       "      <th>75%</th>\n",
       "      <td>297073.500000</td>\n",
       "      <td>16.000000</td>\n",
       "      <td>5.982600e+04</td>\n",
       "      <td>0.00000</td>\n",
       "      <td>3.000000</td>\n",
       "      <td>3.000000</td>\n",
       "      <td>1.000000</td>\n",
       "      <td>142.000000</td>\n",
       "      <td>1.000000</td>\n",
       "      <td>1.000000</td>\n",
       "      <td>7.000000</td>\n",
       "      <td>0.000000</td>\n",
       "      <td>3.000000</td>\n",
       "      <td>0.0</td>\n",
       "      <td>0.0</td>\n",
       "    </tr>\n",
       "    <tr>\n",
       "      <th>max</th>\n",
       "      <td>396098.000000</td>\n",
       "      <td>289.000000</td>\n",
       "      <td>2.396304e+06</td>\n",
       "      <td>60.00000</td>\n",
       "      <td>409.000000</td>\n",
       "      <td>60.000000</td>\n",
       "      <td>169.000000</td>\n",
       "      <td>589.000000</td>\n",
       "      <td>4.000000</td>\n",
       "      <td>3.000000</td>\n",
       "      <td>23.000000</td>\n",
       "      <td>3.000000</td>\n",
       "      <td>54.000000</td>\n",
       "      <td>0.0</td>\n",
       "      <td>0.0</td>\n",
       "    </tr>\n",
       "  </tbody>\n",
       "</table>\n",
       "</div>"
      ],
      "text/plain": [
       "               index  session_index         coins    freeRounds  \\\n",
       "count  396099.000000  396099.000000  3.960990e+05  396099.00000   \n",
       "mean   198049.000000      15.308903  4.958990e+04       0.17074   \n",
       "std    114344.076475      27.443017  8.807644e+04       1.27476   \n",
       "min         0.000000       1.000000  0.000000e+00       0.00000   \n",
       "25%     99024.500000       2.000000  1.362500e+04       0.00000   \n",
       "50%    198049.000000       5.000000  3.296000e+04       0.00000   \n",
       "75%    297073.500000      16.000000  5.982600e+04       0.00000   \n",
       "max    396098.000000     289.000000  2.396304e+06      60.00000   \n",
       "\n",
       "            freeUndo   freeWildCard   freeAddCards          level  \\\n",
       "count  396099.000000  396099.000000  396099.000000  396099.000000   \n",
       "mean        3.288991       1.692867       1.312472      99.292063   \n",
       "std        18.028873       2.320175       7.228531      85.260655   \n",
       "min         0.000000       0.000000       0.000000       0.000000   \n",
       "25%         0.000000       0.000000       0.000000      34.000000   \n",
       "50%         1.000000       1.000000       0.000000      76.000000   \n",
       "75%         3.000000       3.000000       1.000000     142.000000   \n",
       "max       409.000000      60.000000     169.000000     589.000000   \n",
       "\n",
       "                 map            bet        gladeId         league  \\\n",
       "count  396099.000000  395946.000000  395946.000000  395945.000000   \n",
       "mean        1.078440       1.349603       5.476956       0.272303   \n",
       "std         0.284023       0.664380       3.701651       0.532143   \n",
       "min         1.000000       1.000000       1.000000       0.000000   \n",
       "25%         1.000000       1.000000       3.000000       0.000000   \n",
       "50%         1.000000       1.000000       5.000000       0.000000   \n",
       "75%         1.000000       1.000000       7.000000       0.000000   \n",
       "max         4.000000       3.000000      23.000000       3.000000   \n",
       "\n",
       "       VIPPointsAmount  VIPStatus  gameType  \n",
       "count    355253.000000   355253.0  341713.0  \n",
       "mean          3.927015        0.0       0.0  \n",
       "std           8.506069        0.0       0.0  \n",
       "min           0.000000        0.0       0.0  \n",
       "25%           0.000000        0.0       0.0  \n",
       "50%           0.000000        0.0       0.0  \n",
       "75%           3.000000        0.0       0.0  \n",
       "max          54.000000        0.0       0.0  "
      ]
     },
     "execution_count": 24,
     "metadata": {},
     "output_type": "execute_result"
    }
   ],
   "source": [
    "# вывод описательных статистик\n",
    "data.describe()"
   ]
  },
  {
   "cell_type": "markdown",
   "id": "4cfb8668",
   "metadata": {},
   "source": [
    "Просмотр описательных статистик для столбцов index, session_index не несёт смысла, поскольку это порядковые величины, а не количественные. "
   ]
  },
  {
   "cell_type": "markdown",
   "id": "cf2755d9",
   "metadata": {},
   "source": [
    "Выводы:\n",
    "- данные были предобработаны, теперь они могут использоваться для анализа\n",
    "- сырые данные были достаточно высокого качества (без дубликатов, с корректными заголовками столбцов, валидные)\n",
    "- при загрузке данных был неверно распознан формат нескольких столбцов (3); формат одного из столбцов был изменен (с object на datetime), еще один столбец был распакован (из json в колонки датафрейма)."
   ]
  },
  {
   "cell_type": "markdown",
   "id": "5c2a0b91",
   "metadata": {},
   "source": [
    "## Задание 1.1. FTUE"
   ]
  },
  {
   "cell_type": "markdown",
   "id": "d605b787",
   "metadata": {},
   "source": [
    "Используя предоставленный датасет, изучите воронку обучения и в целом вступление в игру.  \n",
    "Сформулируйте гипотезы о том, что можно улучшить, подкрепите их данными. Обучение можно считать пройденным, когда пройдена первая грядка."
   ]
  },
  {
   "cell_type": "markdown",
   "id": "00d3a537",
   "metadata": {},
   "source": [
    "Интересующие события - appInstall, learning, gladeComplete (levels=1)"
   ]
  },
  {
   "cell_type": "code",
   "execution_count": 25,
   "id": "6e0c1160",
   "metadata": {},
   "outputs": [],
   "source": [
    "# отбор пользователей, установивших приложение\n",
    "user_install = data.query('event_name == \"appInstall\"')"
   ]
  },
  {
   "cell_type": "code",
   "execution_count": 26,
   "id": "b8aa8c4a",
   "metadata": {},
   "outputs": [
    {
     "data": {
      "text/html": [
       "<div>\n",
       "<style scoped>\n",
       "    .dataframe tbody tr th:only-of-type {\n",
       "        vertical-align: middle;\n",
       "    }\n",
       "\n",
       "    .dataframe tbody tr th {\n",
       "        vertical-align: top;\n",
       "    }\n",
       "\n",
       "    .dataframe thead th {\n",
       "        text-align: right;\n",
       "    }\n",
       "</style>\n",
       "<table border=\"1\" class=\"dataframe\">\n",
       "  <thead>\n",
       "    <tr style=\"text-align: right;\">\n",
       "      <th></th>\n",
       "      <th>index</th>\n",
       "      <th>user_id</th>\n",
       "      <th>media_source</th>\n",
       "      <th>client_time</th>\n",
       "      <th>session_index</th>\n",
       "      <th>event_name</th>\n",
       "      <th>event_data</th>\n",
       "      <th>coins</th>\n",
       "      <th>freeRounds</th>\n",
       "      <th>freeUndo</th>\n",
       "      <th>freeWildCard</th>\n",
       "      <th>freeAddCards</th>\n",
       "      <th>level</th>\n",
       "      <th>map</th>\n",
       "      <th>bet</th>\n",
       "      <th>gladeId</th>\n",
       "      <th>league</th>\n",
       "      <th>VIPPointsAmount</th>\n",
       "      <th>VIPStatus</th>\n",
       "      <th>gameType</th>\n",
       "    </tr>\n",
       "  </thead>\n",
       "  <tbody>\n",
       "    <tr>\n",
       "      <th>0</th>\n",
       "      <td>0</td>\n",
       "      <td>60c588d7b4d1b24b40531f29</td>\n",
       "      <td>organic</td>\n",
       "      <td>2021-06-05 07:23:06</td>\n",
       "      <td>1</td>\n",
       "      <td>appInstall</td>\n",
       "      <td>{\"device\":\"Xiaomi POCO M2 Pro\",\"graphicMemory\"...</td>\n",
       "      <td>0</td>\n",
       "      <td>0</td>\n",
       "      <td>0</td>\n",
       "      <td>0</td>\n",
       "      <td>0</td>\n",
       "      <td>0</td>\n",
       "      <td>1</td>\n",
       "      <td>1.0</td>\n",
       "      <td>1.0</td>\n",
       "      <td>0.0</td>\n",
       "      <td>0.0</td>\n",
       "      <td>0.0</td>\n",
       "      <td>NaN</td>\n",
       "    </tr>\n",
       "    <tr>\n",
       "      <th>1</th>\n",
       "      <td>1</td>\n",
       "      <td>60d34c7ab4d1b24b405324ac</td>\n",
       "      <td>organic</td>\n",
       "      <td>2021-06-05 16:33:26</td>\n",
       "      <td>1</td>\n",
       "      <td>appInstall</td>\n",
       "      <td>{\"device\":\"samsung SM-J200G\",\"graphicMemory\":2...</td>\n",
       "      <td>0</td>\n",
       "      <td>0</td>\n",
       "      <td>0</td>\n",
       "      <td>0</td>\n",
       "      <td>0</td>\n",
       "      <td>0</td>\n",
       "      <td>1</td>\n",
       "      <td>1.0</td>\n",
       "      <td>1.0</td>\n",
       "      <td>0.0</td>\n",
       "      <td>0.0</td>\n",
       "      <td>0.0</td>\n",
       "      <td>NaN</td>\n",
       "    </tr>\n",
       "    <tr>\n",
       "      <th>2</th>\n",
       "      <td>2</td>\n",
       "      <td>60babef87c80da6a9442cb86</td>\n",
       "      <td>ad-traffic</td>\n",
       "      <td>2021-06-05 00:02:07</td>\n",
       "      <td>1</td>\n",
       "      <td>appInstall</td>\n",
       "      <td>{\"device\":\"samsung SM-G781B\",\"graphicMemory\":2...</td>\n",
       "      <td>0</td>\n",
       "      <td>0</td>\n",
       "      <td>0</td>\n",
       "      <td>0</td>\n",
       "      <td>0</td>\n",
       "      <td>0</td>\n",
       "      <td>1</td>\n",
       "      <td>1.0</td>\n",
       "      <td>1.0</td>\n",
       "      <td>0.0</td>\n",
       "      <td>0.0</td>\n",
       "      <td>0.0</td>\n",
       "      <td>NaN</td>\n",
       "    </tr>\n",
       "    <tr>\n",
       "      <th>3</th>\n",
       "      <td>3</td>\n",
       "      <td>60bac0e912667e6a8d107731</td>\n",
       "      <td>ad-traffic</td>\n",
       "      <td>2021-06-05 00:04:29</td>\n",
       "      <td>1</td>\n",
       "      <td>appInstall</td>\n",
       "      <td>{\"device\":\"samsung SM-T290\",\"graphicMemory\":51...</td>\n",
       "      <td>0</td>\n",
       "      <td>0</td>\n",
       "      <td>0</td>\n",
       "      <td>0</td>\n",
       "      <td>0</td>\n",
       "      <td>0</td>\n",
       "      <td>1</td>\n",
       "      <td>1.0</td>\n",
       "      <td>1.0</td>\n",
       "      <td>0.0</td>\n",
       "      <td>0.0</td>\n",
       "      <td>0.0</td>\n",
       "      <td>NaN</td>\n",
       "    </tr>\n",
       "    <tr>\n",
       "      <th>4</th>\n",
       "      <td>4</td>\n",
       "      <td>60babfb17c80da6a9442cb87</td>\n",
       "      <td>organic</td>\n",
       "      <td>2021-06-05 00:05:16</td>\n",
       "      <td>1</td>\n",
       "      <td>appInstall</td>\n",
       "      <td>{\"device\":\"samsung SM-N960F\",\"graphicMemory\":2...</td>\n",
       "      <td>0</td>\n",
       "      <td>0</td>\n",
       "      <td>0</td>\n",
       "      <td>0</td>\n",
       "      <td>0</td>\n",
       "      <td>0</td>\n",
       "      <td>1</td>\n",
       "      <td>1.0</td>\n",
       "      <td>1.0</td>\n",
       "      <td>0.0</td>\n",
       "      <td>0.0</td>\n",
       "      <td>0.0</td>\n",
       "      <td>NaN</td>\n",
       "    </tr>\n",
       "    <tr>\n",
       "      <th>...</th>\n",
       "      <td>...</td>\n",
       "      <td>...</td>\n",
       "      <td>...</td>\n",
       "      <td>...</td>\n",
       "      <td>...</td>\n",
       "      <td>...</td>\n",
       "      <td>...</td>\n",
       "      <td>...</td>\n",
       "      <td>...</td>\n",
       "      <td>...</td>\n",
       "      <td>...</td>\n",
       "      <td>...</td>\n",
       "      <td>...</td>\n",
       "      <td>...</td>\n",
       "      <td>...</td>\n",
       "      <td>...</td>\n",
       "      <td>...</td>\n",
       "      <td>...</td>\n",
       "      <td>...</td>\n",
       "      <td>...</td>\n",
       "    </tr>\n",
       "    <tr>\n",
       "      <th>447</th>\n",
       "      <td>447</td>\n",
       "      <td>60bc09767c80da6a9442cc20</td>\n",
       "      <td>organic</td>\n",
       "      <td>2021-06-05 23:32:15</td>\n",
       "      <td>1</td>\n",
       "      <td>appInstall</td>\n",
       "      <td>{\"device\":\"vivo vivo 1901\",\"graphicMemory\":102...</td>\n",
       "      <td>0</td>\n",
       "      <td>0</td>\n",
       "      <td>0</td>\n",
       "      <td>0</td>\n",
       "      <td>0</td>\n",
       "      <td>0</td>\n",
       "      <td>1</td>\n",
       "      <td>1.0</td>\n",
       "      <td>1.0</td>\n",
       "      <td>0.0</td>\n",
       "      <td>0.0</td>\n",
       "      <td>0.0</td>\n",
       "      <td>NaN</td>\n",
       "    </tr>\n",
       "    <tr>\n",
       "      <th>448</th>\n",
       "      <td>448</td>\n",
       "      <td>60bc8f257c80da6a9442cc4d</td>\n",
       "      <td>organic</td>\n",
       "      <td>2021-06-05 23:40:00</td>\n",
       "      <td>1</td>\n",
       "      <td>appInstall</td>\n",
       "      <td>{\"device\":\"realme RMX2189\",\"graphicMemory\":102...</td>\n",
       "      <td>0</td>\n",
       "      <td>0</td>\n",
       "      <td>0</td>\n",
       "      <td>0</td>\n",
       "      <td>0</td>\n",
       "      <td>0</td>\n",
       "      <td>1</td>\n",
       "      <td>1.0</td>\n",
       "      <td>1.0</td>\n",
       "      <td>0.0</td>\n",
       "      <td>0.0</td>\n",
       "      <td>0.0</td>\n",
       "      <td>NaN</td>\n",
       "    </tr>\n",
       "    <tr>\n",
       "      <th>449</th>\n",
       "      <td>449</td>\n",
       "      <td>60bc0d7973c31e6a292b7ad7</td>\n",
       "      <td>ad-traffic</td>\n",
       "      <td>2021-06-05 23:49:29</td>\n",
       "      <td>1</td>\n",
       "      <td>appInstall</td>\n",
       "      <td>{\"device\":\"HUAWEI LDN-L21\",\"graphicMemory\":102...</td>\n",
       "      <td>0</td>\n",
       "      <td>0</td>\n",
       "      <td>0</td>\n",
       "      <td>0</td>\n",
       "      <td>0</td>\n",
       "      <td>0</td>\n",
       "      <td>1</td>\n",
       "      <td>1.0</td>\n",
       "      <td>1.0</td>\n",
       "      <td>0.0</td>\n",
       "      <td>0.0</td>\n",
       "      <td>0.0</td>\n",
       "      <td>NaN</td>\n",
       "    </tr>\n",
       "    <tr>\n",
       "      <th>450</th>\n",
       "      <td>450</td>\n",
       "      <td>60bc0f1c73c31e6a292b7ad8</td>\n",
       "      <td>organic</td>\n",
       "      <td>2021-06-05 23:56:17</td>\n",
       "      <td>1</td>\n",
       "      <td>appInstall</td>\n",
       "      <td>{\"device\":\"OPPO CPH1819\",\"graphicMemory\":1024,...</td>\n",
       "      <td>0</td>\n",
       "      <td>0</td>\n",
       "      <td>5</td>\n",
       "      <td>5</td>\n",
       "      <td>5</td>\n",
       "      <td>0</td>\n",
       "      <td>1</td>\n",
       "      <td>NaN</td>\n",
       "      <td>NaN</td>\n",
       "      <td>NaN</td>\n",
       "      <td>0.0</td>\n",
       "      <td>0.0</td>\n",
       "      <td>NaN</td>\n",
       "    </tr>\n",
       "    <tr>\n",
       "      <th>304503</th>\n",
       "      <td>304503</td>\n",
       "      <td>60f6c48aa1401a4ae5703f6d</td>\n",
       "      <td>organic</td>\n",
       "      <td>2021-06-05 05:26:24</td>\n",
       "      <td>1</td>\n",
       "      <td>appInstall</td>\n",
       "      <td>{\"device\":\"SPA Condor Electronics Griffe T9 Pl...</td>\n",
       "      <td>0</td>\n",
       "      <td>0</td>\n",
       "      <td>0</td>\n",
       "      <td>0</td>\n",
       "      <td>0</td>\n",
       "      <td>0</td>\n",
       "      <td>1</td>\n",
       "      <td>1.0</td>\n",
       "      <td>1.0</td>\n",
       "      <td>0.0</td>\n",
       "      <td>0.0</td>\n",
       "      <td>0.0</td>\n",
       "      <td>NaN</td>\n",
       "    </tr>\n",
       "  </tbody>\n",
       "</table>\n",
       "<p>452 rows × 20 columns</p>\n",
       "</div>"
      ],
      "text/plain": [
       "         index                   user_id media_source         client_time  \\\n",
       "0            0  60c588d7b4d1b24b40531f29      organic 2021-06-05 07:23:06   \n",
       "1            1  60d34c7ab4d1b24b405324ac      organic 2021-06-05 16:33:26   \n",
       "2            2  60babef87c80da6a9442cb86   ad-traffic 2021-06-05 00:02:07   \n",
       "3            3  60bac0e912667e6a8d107731   ad-traffic 2021-06-05 00:04:29   \n",
       "4            4  60babfb17c80da6a9442cb87      organic 2021-06-05 00:05:16   \n",
       "...        ...                       ...          ...                 ...   \n",
       "447        447  60bc09767c80da6a9442cc20      organic 2021-06-05 23:32:15   \n",
       "448        448  60bc8f257c80da6a9442cc4d      organic 2021-06-05 23:40:00   \n",
       "449        449  60bc0d7973c31e6a292b7ad7   ad-traffic 2021-06-05 23:49:29   \n",
       "450        450  60bc0f1c73c31e6a292b7ad8      organic 2021-06-05 23:56:17   \n",
       "304503  304503  60f6c48aa1401a4ae5703f6d      organic 2021-06-05 05:26:24   \n",
       "\n",
       "        session_index  event_name  \\\n",
       "0                   1  appInstall   \n",
       "1                   1  appInstall   \n",
       "2                   1  appInstall   \n",
       "3                   1  appInstall   \n",
       "4                   1  appInstall   \n",
       "...               ...         ...   \n",
       "447                 1  appInstall   \n",
       "448                 1  appInstall   \n",
       "449                 1  appInstall   \n",
       "450                 1  appInstall   \n",
       "304503              1  appInstall   \n",
       "\n",
       "                                               event_data  coins  freeRounds  \\\n",
       "0       {\"device\":\"Xiaomi POCO M2 Pro\",\"graphicMemory\"...      0           0   \n",
       "1       {\"device\":\"samsung SM-J200G\",\"graphicMemory\":2...      0           0   \n",
       "2       {\"device\":\"samsung SM-G781B\",\"graphicMemory\":2...      0           0   \n",
       "3       {\"device\":\"samsung SM-T290\",\"graphicMemory\":51...      0           0   \n",
       "4       {\"device\":\"samsung SM-N960F\",\"graphicMemory\":2...      0           0   \n",
       "...                                                   ...    ...         ...   \n",
       "447     {\"device\":\"vivo vivo 1901\",\"graphicMemory\":102...      0           0   \n",
       "448     {\"device\":\"realme RMX2189\",\"graphicMemory\":102...      0           0   \n",
       "449     {\"device\":\"HUAWEI LDN-L21\",\"graphicMemory\":102...      0           0   \n",
       "450     {\"device\":\"OPPO CPH1819\",\"graphicMemory\":1024,...      0           0   \n",
       "304503  {\"device\":\"SPA Condor Electronics Griffe T9 Pl...      0           0   \n",
       "\n",
       "        freeUndo  freeWildCard  freeAddCards  level  map  bet  gladeId  \\\n",
       "0              0             0             0      0    1  1.0      1.0   \n",
       "1              0             0             0      0    1  1.0      1.0   \n",
       "2              0             0             0      0    1  1.0      1.0   \n",
       "3              0             0             0      0    1  1.0      1.0   \n",
       "4              0             0             0      0    1  1.0      1.0   \n",
       "...          ...           ...           ...    ...  ...  ...      ...   \n",
       "447            0             0             0      0    1  1.0      1.0   \n",
       "448            0             0             0      0    1  1.0      1.0   \n",
       "449            0             0             0      0    1  1.0      1.0   \n",
       "450            5             5             5      0    1  NaN      NaN   \n",
       "304503         0             0             0      0    1  1.0      1.0   \n",
       "\n",
       "        league  VIPPointsAmount  VIPStatus  gameType  \n",
       "0          0.0              0.0        0.0       NaN  \n",
       "1          0.0              0.0        0.0       NaN  \n",
       "2          0.0              0.0        0.0       NaN  \n",
       "3          0.0              0.0        0.0       NaN  \n",
       "4          0.0              0.0        0.0       NaN  \n",
       "...        ...              ...        ...       ...  \n",
       "447        0.0              0.0        0.0       NaN  \n",
       "448        0.0              0.0        0.0       NaN  \n",
       "449        0.0              0.0        0.0       NaN  \n",
       "450        NaN              0.0        0.0       NaN  \n",
       "304503     0.0              0.0        0.0       NaN  \n",
       "\n",
       "[452 rows x 20 columns]"
      ]
     },
     "execution_count": 26,
     "metadata": {},
     "output_type": "execute_result"
    }
   ],
   "source": [
    "user_install"
   ]
  },
  {
   "cell_type": "code",
   "execution_count": 27,
   "id": "c84ef047",
   "metadata": {},
   "outputs": [
    {
     "data": {
      "text/plain": [
       "452"
      ]
     },
     "execution_count": 27,
     "metadata": {},
     "output_type": "execute_result"
    }
   ],
   "source": [
    "user_install.user_id.nunique()"
   ]
  },
  {
   "cell_type": "code",
   "execution_count": 28,
   "id": "8ae56fca",
   "metadata": {},
   "outputs": [],
   "source": [
    "amount_of_install_users = user_install.shape[0]"
   ]
  },
  {
   "cell_type": "markdown",
   "id": "0c193358",
   "metadata": {},
   "source": [
    "Датафрейм user_install содержит только информацию о пользователях, установивших приложение. Таких пользователей - 452. Это значение сохранено в переменной amount_of_install_users."
   ]
  },
  {
   "cell_type": "code",
   "execution_count": 29,
   "id": "d9b39372",
   "metadata": {},
   "outputs": [],
   "source": [
    "# отбор пользователей, прошедших хотя бы 1 шаг обучения\n",
    "user_learning = data.query('event_name == \"learning\"') \\\n",
    "    .groupby('user_id') \\\n",
    "    .agg({'media_source':'count'}) \\\n",
    "    .rename(columns={'media_source':'amount_of_tips'})"
   ]
  },
  {
   "cell_type": "code",
   "execution_count": 30,
   "id": "26da9a94",
   "metadata": {},
   "outputs": [
    {
     "data": {
      "text/html": [
       "<div>\n",
       "<style scoped>\n",
       "    .dataframe tbody tr th:only-of-type {\n",
       "        vertical-align: middle;\n",
       "    }\n",
       "\n",
       "    .dataframe tbody tr th {\n",
       "        vertical-align: top;\n",
       "    }\n",
       "\n",
       "    .dataframe thead th {\n",
       "        text-align: right;\n",
       "    }\n",
       "</style>\n",
       "<table border=\"1\" class=\"dataframe\">\n",
       "  <thead>\n",
       "    <tr style=\"text-align: right;\">\n",
       "      <th></th>\n",
       "      <th>amount_of_tips</th>\n",
       "    </tr>\n",
       "    <tr>\n",
       "      <th>user_id</th>\n",
       "      <th></th>\n",
       "    </tr>\n",
       "  </thead>\n",
       "  <tbody>\n",
       "    <tr>\n",
       "      <th>60ba837f4770af6a2faa0544</th>\n",
       "      <td>207</td>\n",
       "    </tr>\n",
       "    <tr>\n",
       "      <th>60ba999a73c31e6a292b7a2b</th>\n",
       "      <td>11</td>\n",
       "    </tr>\n",
       "    <tr>\n",
       "      <th>60babef87c80da6a9442cb86</th>\n",
       "      <td>29</td>\n",
       "    </tr>\n",
       "    <tr>\n",
       "      <th>60babfb17c80da6a9442cb87</th>\n",
       "      <td>5</td>\n",
       "    </tr>\n",
       "    <tr>\n",
       "      <th>60bac0e912667e6a8d107731</th>\n",
       "      <td>254</td>\n",
       "    </tr>\n",
       "    <tr>\n",
       "      <th>...</th>\n",
       "      <td>...</td>\n",
       "    </tr>\n",
       "    <tr>\n",
       "      <th>60c0f9783ecdcc5ea3f5039d</th>\n",
       "      <td>26</td>\n",
       "    </tr>\n",
       "    <tr>\n",
       "      <th>60c257584cc3a030299d2c79</th>\n",
       "      <td>14</td>\n",
       "    </tr>\n",
       "    <tr>\n",
       "      <th>60c588d7b4d1b24b40531f29</th>\n",
       "      <td>28</td>\n",
       "    </tr>\n",
       "    <tr>\n",
       "      <th>60d34c7ab4d1b24b405324ac</th>\n",
       "      <td>21</td>\n",
       "    </tr>\n",
       "    <tr>\n",
       "      <th>60f6c48aa1401a4ae5703f6d</th>\n",
       "      <td>19</td>\n",
       "    </tr>\n",
       "  </tbody>\n",
       "</table>\n",
       "<p>446 rows × 1 columns</p>\n",
       "</div>"
      ],
      "text/plain": [
       "                          amount_of_tips\n",
       "user_id                                 \n",
       "60ba837f4770af6a2faa0544             207\n",
       "60ba999a73c31e6a292b7a2b              11\n",
       "60babef87c80da6a9442cb86              29\n",
       "60babfb17c80da6a9442cb87               5\n",
       "60bac0e912667e6a8d107731             254\n",
       "...                                  ...\n",
       "60c0f9783ecdcc5ea3f5039d              26\n",
       "60c257584cc3a030299d2c79              14\n",
       "60c588d7b4d1b24b40531f29              28\n",
       "60d34c7ab4d1b24b405324ac              21\n",
       "60f6c48aa1401a4ae5703f6d              19\n",
       "\n",
       "[446 rows x 1 columns]"
      ]
     },
     "execution_count": 30,
     "metadata": {},
     "output_type": "execute_result"
    }
   ],
   "source": [
    "user_learning"
   ]
  },
  {
   "cell_type": "code",
   "execution_count": 31,
   "id": "db2d131d",
   "metadata": {},
   "outputs": [
    {
     "data": {
      "text/plain": [
       "(446, 1)"
      ]
     },
     "execution_count": 31,
     "metadata": {},
     "output_type": "execute_result"
    }
   ],
   "source": [
    "user_learning.shape"
   ]
  },
  {
   "cell_type": "code",
   "execution_count": 32,
   "id": "838faa89",
   "metadata": {},
   "outputs": [],
   "source": [
    "amount_of_learned_users = user_learning.shape[0]"
   ]
  },
  {
   "cell_type": "markdown",
   "id": "fe3d7c24",
   "metadata": {},
   "source": [
    "Датафрейм user_learning содержит информацию о всех пользователях, увидевших хотя бы одну туториальную подсказку. Таких пользователей - 446. Это значение сохранено в переменной amount_of_learned_users."
   ]
  },
  {
   "cell_type": "code",
   "execution_count": 33,
   "id": "d08d884f",
   "metadata": {},
   "outputs": [],
   "source": [
    "# отбор всех пользователей, прошедших хотя бы 1 грядку\n",
    "user_completed = data.query('event_name ==\"gladeComplete\"') \\\n",
    "    .groupby('user_id') \\\n",
    "    .agg({'media_source':'count'}) \\\n",
    "    .rename(columns={'media_source':'amount_of_glades'})"
   ]
  },
  {
   "cell_type": "code",
   "execution_count": 34,
   "id": "8f60ce55",
   "metadata": {},
   "outputs": [
    {
     "data": {
      "text/html": [
       "<div>\n",
       "<style scoped>\n",
       "    .dataframe tbody tr th:only-of-type {\n",
       "        vertical-align: middle;\n",
       "    }\n",
       "\n",
       "    .dataframe tbody tr th {\n",
       "        vertical-align: top;\n",
       "    }\n",
       "\n",
       "    .dataframe thead th {\n",
       "        text-align: right;\n",
       "    }\n",
       "</style>\n",
       "<table border=\"1\" class=\"dataframe\">\n",
       "  <thead>\n",
       "    <tr style=\"text-align: right;\">\n",
       "      <th></th>\n",
       "      <th>amount_of_glades</th>\n",
       "    </tr>\n",
       "    <tr>\n",
       "      <th>user_id</th>\n",
       "      <th></th>\n",
       "    </tr>\n",
       "  </thead>\n",
       "  <tbody>\n",
       "    <tr>\n",
       "      <th>60ba837f4770af6a2faa0544</th>\n",
       "      <td>3</td>\n",
       "    </tr>\n",
       "    <tr>\n",
       "      <th>60bac0e912667e6a8d107731</th>\n",
       "      <td>5</td>\n",
       "    </tr>\n",
       "    <tr>\n",
       "      <th>60bac1ac4770af6a2faa055f</th>\n",
       "      <td>6</td>\n",
       "    </tr>\n",
       "    <tr>\n",
       "      <th>60bac4ba12667e6a8d107733</th>\n",
       "      <td>5</td>\n",
       "    </tr>\n",
       "    <tr>\n",
       "      <th>60bac57712667e6a8d107734</th>\n",
       "      <td>7</td>\n",
       "    </tr>\n",
       "    <tr>\n",
       "      <th>...</th>\n",
       "      <td>...</td>\n",
       "    </tr>\n",
       "    <tr>\n",
       "      <th>60bc044d7c80da6a9442cc1d</th>\n",
       "      <td>5</td>\n",
       "    </tr>\n",
       "    <tr>\n",
       "      <th>60bc06c44770af6a2faa05ed</th>\n",
       "      <td>5</td>\n",
       "    </tr>\n",
       "    <tr>\n",
       "      <th>60bc090c12667e6a8d1077b8</th>\n",
       "      <td>3</td>\n",
       "    </tr>\n",
       "    <tr>\n",
       "      <th>60bc09767c80da6a9442cc20</th>\n",
       "      <td>2</td>\n",
       "    </tr>\n",
       "    <tr>\n",
       "      <th>60bc0d7973c31e6a292b7ad7</th>\n",
       "      <td>4</td>\n",
       "    </tr>\n",
       "  </tbody>\n",
       "</table>\n",
       "<p>292 rows × 1 columns</p>\n",
       "</div>"
      ],
      "text/plain": [
       "                          amount_of_glades\n",
       "user_id                                   \n",
       "60ba837f4770af6a2faa0544                 3\n",
       "60bac0e912667e6a8d107731                 5\n",
       "60bac1ac4770af6a2faa055f                 6\n",
       "60bac4ba12667e6a8d107733                 5\n",
       "60bac57712667e6a8d107734                 7\n",
       "...                                    ...\n",
       "60bc044d7c80da6a9442cc1d                 5\n",
       "60bc06c44770af6a2faa05ed                 5\n",
       "60bc090c12667e6a8d1077b8                 3\n",
       "60bc09767c80da6a9442cc20                 2\n",
       "60bc0d7973c31e6a292b7ad7                 4\n",
       "\n",
       "[292 rows x 1 columns]"
      ]
     },
     "execution_count": 34,
     "metadata": {},
     "output_type": "execute_result"
    }
   ],
   "source": [
    "user_completed"
   ]
  },
  {
   "cell_type": "code",
   "execution_count": 35,
   "id": "29cf9bba",
   "metadata": {},
   "outputs": [
    {
     "data": {
      "text/plain": [
       "(292, 1)"
      ]
     },
     "execution_count": 35,
     "metadata": {},
     "output_type": "execute_result"
    }
   ],
   "source": [
    "user_completed.shape"
   ]
  },
  {
   "cell_type": "code",
   "execution_count": 36,
   "id": "18df0f74",
   "metadata": {},
   "outputs": [],
   "source": [
    "amount_of_completed_users = user_completed.shape[0]"
   ]
  },
  {
   "cell_type": "markdown",
   "id": "e2b8a4ce",
   "metadata": {},
   "source": [
    "Датафрейм user_completed содержит информацию о всех пользователях, прошедших по крайней мере 1 грядку. Таких пользователей - 292. Это значение сохранено в переменной amount_of_completed_users."
   ]
  },
  {
   "cell_type": "code",
   "execution_count": 37,
   "id": "542ef090",
   "metadata": {},
   "outputs": [],
   "source": [
    "# вычисление процента пользователей, перешедших на следующий этап воронки\n",
    "step_1 = round(amount_of_learned_users / amount_of_install_users * 100, 2)\n",
    "step_2 = round(amount_of_completed_users / amount_of_learned_users * 100, 2)\n",
    "step_1_2 = round(amount_of_completed_users / amount_of_install_users * 100, 2)"
   ]
  },
  {
   "cell_type": "code",
   "execution_count": 38,
   "id": "ad37d82e",
   "metadata": {},
   "outputs": [
    {
     "data": {
      "text/plain": [
       "98.67"
      ]
     },
     "execution_count": 38,
     "metadata": {},
     "output_type": "execute_result"
    }
   ],
   "source": [
    "# переход от установки к обучению\n",
    "step_1"
   ]
  },
  {
   "cell_type": "code",
   "execution_count": 39,
   "id": "b7a583f7",
   "metadata": {},
   "outputs": [
    {
     "data": {
      "text/plain": [
       "65.47"
      ]
     },
     "execution_count": 39,
     "metadata": {},
     "output_type": "execute_result"
    }
   ],
   "source": [
    "# переход от обучения к прохождению грядок\n",
    "step_2"
   ]
  },
  {
   "cell_type": "code",
   "execution_count": 40,
   "id": "8fb291ab",
   "metadata": {},
   "outputs": [
    {
     "data": {
      "text/plain": [
       "64.6"
      ]
     },
     "execution_count": 40,
     "metadata": {},
     "output_type": "execute_result"
    }
   ],
   "source": [
    "# переход от установки к прохождению грядок\n",
    "step_1_2"
   ]
  },
  {
   "cell_type": "markdown",
   "id": "4df93b02",
   "metadata": {},
   "source": [
    "Выводы:\n",
    "- из всех установивших приложение пользователй от установки к обучению перешло 98.67% \n",
    "- из всех прошедших обучение пользователей от обучения к прохождению грядок перешло 65.47% \n",
    "- из всех установивших приложение пользователей до прохождения хотя бы 1 грядки дошло 64.60%\n"
   ]
  },
  {
   "cell_type": "markdown",
   "id": "108c55e0",
   "metadata": {},
   "source": [
    "## Анализ пользователей на каждом этапе воронки"
   ]
  },
  {
   "cell_type": "code",
   "execution_count": 41,
   "id": "feb0b460",
   "metadata": {},
   "outputs": [],
   "source": [
    "pd.options.mode.chained_assignment = None "
   ]
  },
  {
   "cell_type": "markdown",
   "id": "aa2e1047",
   "metadata": {},
   "source": [
    "### Анализ пользователей, установивших игру"
   ]
  },
  {
   "cell_type": "code",
   "execution_count": 42,
   "id": "6f8a45fd",
   "metadata": {},
   "outputs": [],
   "source": [
    "user_install['event_data'] = user_install['event_data'].apply(literal_eval)"
   ]
  },
  {
   "cell_type": "code",
   "execution_count": 43,
   "id": "1d0f9f64",
   "metadata": {
    "scrolled": true
   },
   "outputs": [],
   "source": [
    "# распаковка столбца event_data в отдельный датафрейм\n",
    "install_data = pd.json_normalize(data = user_install['event_data'], \n",
    "                            meta =['device', 'graphicMemory', 'systemMemory'])"
   ]
  },
  {
   "cell_type": "code",
   "execution_count": 44,
   "id": "4a8e0201",
   "metadata": {},
   "outputs": [
    {
     "data": {
      "text/html": [
       "<div>\n",
       "<style scoped>\n",
       "    .dataframe tbody tr th:only-of-type {\n",
       "        vertical-align: middle;\n",
       "    }\n",
       "\n",
       "    .dataframe tbody tr th {\n",
       "        vertical-align: top;\n",
       "    }\n",
       "\n",
       "    .dataframe thead th {\n",
       "        text-align: right;\n",
       "    }\n",
       "</style>\n",
       "<table border=\"1\" class=\"dataframe\">\n",
       "  <thead>\n",
       "    <tr style=\"text-align: right;\">\n",
       "      <th></th>\n",
       "      <th>device</th>\n",
       "      <th>graphicMemory</th>\n",
       "      <th>systemMemory</th>\n",
       "    </tr>\n",
       "  </thead>\n",
       "  <tbody>\n",
       "    <tr>\n",
       "      <th>0</th>\n",
       "      <td>Xiaomi POCO M2 Pro</td>\n",
       "      <td>2048</td>\n",
       "      <td>5582</td>\n",
       "    </tr>\n",
       "    <tr>\n",
       "      <th>1</th>\n",
       "      <td>samsung SM-J200G</td>\n",
       "      <td>256</td>\n",
       "      <td>892</td>\n",
       "    </tr>\n",
       "    <tr>\n",
       "      <th>2</th>\n",
       "      <td>samsung SM-G781B</td>\n",
       "      <td>2048</td>\n",
       "      <td>5562</td>\n",
       "    </tr>\n",
       "    <tr>\n",
       "      <th>3</th>\n",
       "      <td>samsung SM-T290</td>\n",
       "      <td>512</td>\n",
       "      <td>1847</td>\n",
       "    </tr>\n",
       "    <tr>\n",
       "      <th>4</th>\n",
       "      <td>samsung SM-N960F</td>\n",
       "      <td>2048</td>\n",
       "      <td>5616</td>\n",
       "    </tr>\n",
       "    <tr>\n",
       "      <th>...</th>\n",
       "      <td>...</td>\n",
       "      <td>...</td>\n",
       "      <td>...</td>\n",
       "    </tr>\n",
       "    <tr>\n",
       "      <th>447</th>\n",
       "      <td>vivo vivo 1901</td>\n",
       "      <td>1024</td>\n",
       "      <td>3809</td>\n",
       "    </tr>\n",
       "    <tr>\n",
       "      <th>448</th>\n",
       "      <td>realme RMX2189</td>\n",
       "      <td>1024</td>\n",
       "      <td>3807</td>\n",
       "    </tr>\n",
       "    <tr>\n",
       "      <th>449</th>\n",
       "      <td>HUAWEI LDN-L21</td>\n",
       "      <td>1024</td>\n",
       "      <td>2836</td>\n",
       "    </tr>\n",
       "    <tr>\n",
       "      <th>450</th>\n",
       "      <td>OPPO CPH1819</td>\n",
       "      <td>1024</td>\n",
       "      <td>3656</td>\n",
       "    </tr>\n",
       "    <tr>\n",
       "      <th>451</th>\n",
       "      <td>SPA Condor Electronics Griffe T9 Plus</td>\n",
       "      <td>512</td>\n",
       "      <td>1819</td>\n",
       "    </tr>\n",
       "  </tbody>\n",
       "</table>\n",
       "<p>452 rows × 3 columns</p>\n",
       "</div>"
      ],
      "text/plain": [
       "                                    device  graphicMemory  systemMemory\n",
       "0                       Xiaomi POCO M2 Pro           2048          5582\n",
       "1                         samsung SM-J200G            256           892\n",
       "2                         samsung SM-G781B           2048          5562\n",
       "3                          samsung SM-T290            512          1847\n",
       "4                         samsung SM-N960F           2048          5616\n",
       "..                                     ...            ...           ...\n",
       "447                         vivo vivo 1901           1024          3809\n",
       "448                         realme RMX2189           1024          3807\n",
       "449                         HUAWEI LDN-L21           1024          2836\n",
       "450                           OPPO CPH1819           1024          3656\n",
       "451  SPA Condor Electronics Griffe T9 Plus            512          1819\n",
       "\n",
       "[452 rows x 3 columns]"
      ]
     },
     "execution_count": 44,
     "metadata": {},
     "output_type": "execute_result"
    }
   ],
   "source": [
    "install_data"
   ]
  },
  {
   "cell_type": "markdown",
   "id": "d4b75815",
   "metadata": {},
   "source": [
    "Распаковка json-формата прошла успешно."
   ]
  },
  {
   "cell_type": "code",
   "execution_count": 45,
   "id": "196c6a43",
   "metadata": {},
   "outputs": [],
   "source": [
    "# перевод индексов строк в отдельную колонку (для объединения датафреймов по этому столбцу)\n",
    "install_data.reset_index(level=0, inplace=True)"
   ]
  },
  {
   "cell_type": "code",
   "execution_count": 46,
   "id": "8435ba55",
   "metadata": {},
   "outputs": [],
   "source": [
    "# объединение датафреймов user_install и install_data (по столбцу index)\n",
    "install = user_install.merge(install_data, on='index', how='left')"
   ]
  },
  {
   "cell_type": "code",
   "execution_count": 47,
   "id": "a8860f9c",
   "metadata": {},
   "outputs": [
    {
     "data": {
      "text/html": [
       "<div>\n",
       "<style scoped>\n",
       "    .dataframe tbody tr th:only-of-type {\n",
       "        vertical-align: middle;\n",
       "    }\n",
       "\n",
       "    .dataframe tbody tr th {\n",
       "        vertical-align: top;\n",
       "    }\n",
       "\n",
       "    .dataframe thead th {\n",
       "        text-align: right;\n",
       "    }\n",
       "</style>\n",
       "<table border=\"1\" class=\"dataframe\">\n",
       "  <thead>\n",
       "    <tr style=\"text-align: right;\">\n",
       "      <th></th>\n",
       "      <th>index</th>\n",
       "      <th>user_id</th>\n",
       "      <th>media_source</th>\n",
       "      <th>client_time</th>\n",
       "      <th>session_index</th>\n",
       "      <th>event_name</th>\n",
       "      <th>event_data</th>\n",
       "      <th>coins</th>\n",
       "      <th>freeRounds</th>\n",
       "      <th>freeUndo</th>\n",
       "      <th>...</th>\n",
       "      <th>map</th>\n",
       "      <th>bet</th>\n",
       "      <th>gladeId</th>\n",
       "      <th>league</th>\n",
       "      <th>VIPPointsAmount</th>\n",
       "      <th>VIPStatus</th>\n",
       "      <th>gameType</th>\n",
       "      <th>device</th>\n",
       "      <th>graphicMemory</th>\n",
       "      <th>systemMemory</th>\n",
       "    </tr>\n",
       "  </thead>\n",
       "  <tbody>\n",
       "    <tr>\n",
       "      <th>0</th>\n",
       "      <td>0</td>\n",
       "      <td>60c588d7b4d1b24b40531f29</td>\n",
       "      <td>organic</td>\n",
       "      <td>2021-06-05 07:23:06</td>\n",
       "      <td>1</td>\n",
       "      <td>appInstall</td>\n",
       "      <td>{'device': 'Xiaomi POCO M2 Pro', 'graphicMemor...</td>\n",
       "      <td>0</td>\n",
       "      <td>0</td>\n",
       "      <td>0</td>\n",
       "      <td>...</td>\n",
       "      <td>1</td>\n",
       "      <td>1.0</td>\n",
       "      <td>1.0</td>\n",
       "      <td>0.0</td>\n",
       "      <td>0.0</td>\n",
       "      <td>0.0</td>\n",
       "      <td>NaN</td>\n",
       "      <td>Xiaomi POCO M2 Pro</td>\n",
       "      <td>2048.0</td>\n",
       "      <td>5582.0</td>\n",
       "    </tr>\n",
       "    <tr>\n",
       "      <th>1</th>\n",
       "      <td>1</td>\n",
       "      <td>60d34c7ab4d1b24b405324ac</td>\n",
       "      <td>organic</td>\n",
       "      <td>2021-06-05 16:33:26</td>\n",
       "      <td>1</td>\n",
       "      <td>appInstall</td>\n",
       "      <td>{'device': 'samsung SM-J200G', 'graphicMemory'...</td>\n",
       "      <td>0</td>\n",
       "      <td>0</td>\n",
       "      <td>0</td>\n",
       "      <td>...</td>\n",
       "      <td>1</td>\n",
       "      <td>1.0</td>\n",
       "      <td>1.0</td>\n",
       "      <td>0.0</td>\n",
       "      <td>0.0</td>\n",
       "      <td>0.0</td>\n",
       "      <td>NaN</td>\n",
       "      <td>samsung SM-J200G</td>\n",
       "      <td>256.0</td>\n",
       "      <td>892.0</td>\n",
       "    </tr>\n",
       "    <tr>\n",
       "      <th>2</th>\n",
       "      <td>2</td>\n",
       "      <td>60babef87c80da6a9442cb86</td>\n",
       "      <td>ad-traffic</td>\n",
       "      <td>2021-06-05 00:02:07</td>\n",
       "      <td>1</td>\n",
       "      <td>appInstall</td>\n",
       "      <td>{'device': 'samsung SM-G781B', 'graphicMemory'...</td>\n",
       "      <td>0</td>\n",
       "      <td>0</td>\n",
       "      <td>0</td>\n",
       "      <td>...</td>\n",
       "      <td>1</td>\n",
       "      <td>1.0</td>\n",
       "      <td>1.0</td>\n",
       "      <td>0.0</td>\n",
       "      <td>0.0</td>\n",
       "      <td>0.0</td>\n",
       "      <td>NaN</td>\n",
       "      <td>samsung SM-G781B</td>\n",
       "      <td>2048.0</td>\n",
       "      <td>5562.0</td>\n",
       "    </tr>\n",
       "    <tr>\n",
       "      <th>3</th>\n",
       "      <td>3</td>\n",
       "      <td>60bac0e912667e6a8d107731</td>\n",
       "      <td>ad-traffic</td>\n",
       "      <td>2021-06-05 00:04:29</td>\n",
       "      <td>1</td>\n",
       "      <td>appInstall</td>\n",
       "      <td>{'device': 'samsung SM-T290', 'graphicMemory':...</td>\n",
       "      <td>0</td>\n",
       "      <td>0</td>\n",
       "      <td>0</td>\n",
       "      <td>...</td>\n",
       "      <td>1</td>\n",
       "      <td>1.0</td>\n",
       "      <td>1.0</td>\n",
       "      <td>0.0</td>\n",
       "      <td>0.0</td>\n",
       "      <td>0.0</td>\n",
       "      <td>NaN</td>\n",
       "      <td>samsung SM-T290</td>\n",
       "      <td>512.0</td>\n",
       "      <td>1847.0</td>\n",
       "    </tr>\n",
       "    <tr>\n",
       "      <th>4</th>\n",
       "      <td>4</td>\n",
       "      <td>60babfb17c80da6a9442cb87</td>\n",
       "      <td>organic</td>\n",
       "      <td>2021-06-05 00:05:16</td>\n",
       "      <td>1</td>\n",
       "      <td>appInstall</td>\n",
       "      <td>{'device': 'samsung SM-N960F', 'graphicMemory'...</td>\n",
       "      <td>0</td>\n",
       "      <td>0</td>\n",
       "      <td>0</td>\n",
       "      <td>...</td>\n",
       "      <td>1</td>\n",
       "      <td>1.0</td>\n",
       "      <td>1.0</td>\n",
       "      <td>0.0</td>\n",
       "      <td>0.0</td>\n",
       "      <td>0.0</td>\n",
       "      <td>NaN</td>\n",
       "      <td>samsung SM-N960F</td>\n",
       "      <td>2048.0</td>\n",
       "      <td>5616.0</td>\n",
       "    </tr>\n",
       "  </tbody>\n",
       "</table>\n",
       "<p>5 rows × 23 columns</p>\n",
       "</div>"
      ],
      "text/plain": [
       "   index                   user_id media_source         client_time  \\\n",
       "0      0  60c588d7b4d1b24b40531f29      organic 2021-06-05 07:23:06   \n",
       "1      1  60d34c7ab4d1b24b405324ac      organic 2021-06-05 16:33:26   \n",
       "2      2  60babef87c80da6a9442cb86   ad-traffic 2021-06-05 00:02:07   \n",
       "3      3  60bac0e912667e6a8d107731   ad-traffic 2021-06-05 00:04:29   \n",
       "4      4  60babfb17c80da6a9442cb87      organic 2021-06-05 00:05:16   \n",
       "\n",
       "   session_index  event_name  \\\n",
       "0              1  appInstall   \n",
       "1              1  appInstall   \n",
       "2              1  appInstall   \n",
       "3              1  appInstall   \n",
       "4              1  appInstall   \n",
       "\n",
       "                                          event_data  coins  freeRounds  \\\n",
       "0  {'device': 'Xiaomi POCO M2 Pro', 'graphicMemor...      0           0   \n",
       "1  {'device': 'samsung SM-J200G', 'graphicMemory'...      0           0   \n",
       "2  {'device': 'samsung SM-G781B', 'graphicMemory'...      0           0   \n",
       "3  {'device': 'samsung SM-T290', 'graphicMemory':...      0           0   \n",
       "4  {'device': 'samsung SM-N960F', 'graphicMemory'...      0           0   \n",
       "\n",
       "   freeUndo  ...  map  bet  gladeId  league  VIPPointsAmount  VIPStatus  \\\n",
       "0         0  ...    1  1.0      1.0     0.0              0.0        0.0   \n",
       "1         0  ...    1  1.0      1.0     0.0              0.0        0.0   \n",
       "2         0  ...    1  1.0      1.0     0.0              0.0        0.0   \n",
       "3         0  ...    1  1.0      1.0     0.0              0.0        0.0   \n",
       "4         0  ...    1  1.0      1.0     0.0              0.0        0.0   \n",
       "\n",
       "   gameType              device  graphicMemory  systemMemory  \n",
       "0       NaN  Xiaomi POCO M2 Pro         2048.0        5582.0  \n",
       "1       NaN    samsung SM-J200G          256.0         892.0  \n",
       "2       NaN    samsung SM-G781B         2048.0        5562.0  \n",
       "3       NaN     samsung SM-T290          512.0        1847.0  \n",
       "4       NaN    samsung SM-N960F         2048.0        5616.0  \n",
       "\n",
       "[5 rows x 23 columns]"
      ]
     },
     "execution_count": 47,
     "metadata": {},
     "output_type": "execute_result"
    }
   ],
   "source": [
    "install.head()"
   ]
  },
  {
   "cell_type": "markdown",
   "id": "24c9a47f",
   "metadata": {},
   "source": [
    "Объединение датафреймов прошло успешно, данные не были потеряны (452 строки в каждом из объединяемых датафреймов, 452 строки в конечном датафрейме).\n",
    "Информация из столбца event_data дублируется, данный столбец можно удалить."
   ]
  },
  {
   "cell_type": "code",
   "execution_count": 48,
   "id": "5e21f3b7",
   "metadata": {},
   "outputs": [],
   "source": [
    "# удаление столбца game_status\n",
    "install = install.drop('event_data', axis=1)"
   ]
  },
  {
   "cell_type": "code",
   "execution_count": 49,
   "id": "1d563a65",
   "metadata": {},
   "outputs": [
    {
     "data": {
      "text/html": [
       "<div>\n",
       "<style scoped>\n",
       "    .dataframe tbody tr th:only-of-type {\n",
       "        vertical-align: middle;\n",
       "    }\n",
       "\n",
       "    .dataframe tbody tr th {\n",
       "        vertical-align: top;\n",
       "    }\n",
       "\n",
       "    .dataframe thead th {\n",
       "        text-align: right;\n",
       "    }\n",
       "</style>\n",
       "<table border=\"1\" class=\"dataframe\">\n",
       "  <thead>\n",
       "    <tr style=\"text-align: right;\">\n",
       "      <th></th>\n",
       "      <th>index</th>\n",
       "      <th>user_id</th>\n",
       "      <th>media_source</th>\n",
       "      <th>client_time</th>\n",
       "      <th>session_index</th>\n",
       "      <th>event_name</th>\n",
       "      <th>coins</th>\n",
       "      <th>freeRounds</th>\n",
       "      <th>freeUndo</th>\n",
       "      <th>freeWildCard</th>\n",
       "      <th>...</th>\n",
       "      <th>map</th>\n",
       "      <th>bet</th>\n",
       "      <th>gladeId</th>\n",
       "      <th>league</th>\n",
       "      <th>VIPPointsAmount</th>\n",
       "      <th>VIPStatus</th>\n",
       "      <th>gameType</th>\n",
       "      <th>device</th>\n",
       "      <th>graphicMemory</th>\n",
       "      <th>systemMemory</th>\n",
       "    </tr>\n",
       "  </thead>\n",
       "  <tbody>\n",
       "    <tr>\n",
       "      <th>0</th>\n",
       "      <td>0</td>\n",
       "      <td>60c588d7b4d1b24b40531f29</td>\n",
       "      <td>organic</td>\n",
       "      <td>2021-06-05 07:23:06</td>\n",
       "      <td>1</td>\n",
       "      <td>appInstall</td>\n",
       "      <td>0</td>\n",
       "      <td>0</td>\n",
       "      <td>0</td>\n",
       "      <td>0</td>\n",
       "      <td>...</td>\n",
       "      <td>1</td>\n",
       "      <td>1.0</td>\n",
       "      <td>1.0</td>\n",
       "      <td>0.0</td>\n",
       "      <td>0.0</td>\n",
       "      <td>0.0</td>\n",
       "      <td>NaN</td>\n",
       "      <td>Xiaomi POCO M2 Pro</td>\n",
       "      <td>2048.0</td>\n",
       "      <td>5582.0</td>\n",
       "    </tr>\n",
       "    <tr>\n",
       "      <th>1</th>\n",
       "      <td>1</td>\n",
       "      <td>60d34c7ab4d1b24b405324ac</td>\n",
       "      <td>organic</td>\n",
       "      <td>2021-06-05 16:33:26</td>\n",
       "      <td>1</td>\n",
       "      <td>appInstall</td>\n",
       "      <td>0</td>\n",
       "      <td>0</td>\n",
       "      <td>0</td>\n",
       "      <td>0</td>\n",
       "      <td>...</td>\n",
       "      <td>1</td>\n",
       "      <td>1.0</td>\n",
       "      <td>1.0</td>\n",
       "      <td>0.0</td>\n",
       "      <td>0.0</td>\n",
       "      <td>0.0</td>\n",
       "      <td>NaN</td>\n",
       "      <td>samsung SM-J200G</td>\n",
       "      <td>256.0</td>\n",
       "      <td>892.0</td>\n",
       "    </tr>\n",
       "    <tr>\n",
       "      <th>2</th>\n",
       "      <td>2</td>\n",
       "      <td>60babef87c80da6a9442cb86</td>\n",
       "      <td>ad-traffic</td>\n",
       "      <td>2021-06-05 00:02:07</td>\n",
       "      <td>1</td>\n",
       "      <td>appInstall</td>\n",
       "      <td>0</td>\n",
       "      <td>0</td>\n",
       "      <td>0</td>\n",
       "      <td>0</td>\n",
       "      <td>...</td>\n",
       "      <td>1</td>\n",
       "      <td>1.0</td>\n",
       "      <td>1.0</td>\n",
       "      <td>0.0</td>\n",
       "      <td>0.0</td>\n",
       "      <td>0.0</td>\n",
       "      <td>NaN</td>\n",
       "      <td>samsung SM-G781B</td>\n",
       "      <td>2048.0</td>\n",
       "      <td>5562.0</td>\n",
       "    </tr>\n",
       "    <tr>\n",
       "      <th>3</th>\n",
       "      <td>3</td>\n",
       "      <td>60bac0e912667e6a8d107731</td>\n",
       "      <td>ad-traffic</td>\n",
       "      <td>2021-06-05 00:04:29</td>\n",
       "      <td>1</td>\n",
       "      <td>appInstall</td>\n",
       "      <td>0</td>\n",
       "      <td>0</td>\n",
       "      <td>0</td>\n",
       "      <td>0</td>\n",
       "      <td>...</td>\n",
       "      <td>1</td>\n",
       "      <td>1.0</td>\n",
       "      <td>1.0</td>\n",
       "      <td>0.0</td>\n",
       "      <td>0.0</td>\n",
       "      <td>0.0</td>\n",
       "      <td>NaN</td>\n",
       "      <td>samsung SM-T290</td>\n",
       "      <td>512.0</td>\n",
       "      <td>1847.0</td>\n",
       "    </tr>\n",
       "    <tr>\n",
       "      <th>4</th>\n",
       "      <td>4</td>\n",
       "      <td>60babfb17c80da6a9442cb87</td>\n",
       "      <td>organic</td>\n",
       "      <td>2021-06-05 00:05:16</td>\n",
       "      <td>1</td>\n",
       "      <td>appInstall</td>\n",
       "      <td>0</td>\n",
       "      <td>0</td>\n",
       "      <td>0</td>\n",
       "      <td>0</td>\n",
       "      <td>...</td>\n",
       "      <td>1</td>\n",
       "      <td>1.0</td>\n",
       "      <td>1.0</td>\n",
       "      <td>0.0</td>\n",
       "      <td>0.0</td>\n",
       "      <td>0.0</td>\n",
       "      <td>NaN</td>\n",
       "      <td>samsung SM-N960F</td>\n",
       "      <td>2048.0</td>\n",
       "      <td>5616.0</td>\n",
       "    </tr>\n",
       "  </tbody>\n",
       "</table>\n",
       "<p>5 rows × 22 columns</p>\n",
       "</div>"
      ],
      "text/plain": [
       "   index                   user_id media_source         client_time  \\\n",
       "0      0  60c588d7b4d1b24b40531f29      organic 2021-06-05 07:23:06   \n",
       "1      1  60d34c7ab4d1b24b405324ac      organic 2021-06-05 16:33:26   \n",
       "2      2  60babef87c80da6a9442cb86   ad-traffic 2021-06-05 00:02:07   \n",
       "3      3  60bac0e912667e6a8d107731   ad-traffic 2021-06-05 00:04:29   \n",
       "4      4  60babfb17c80da6a9442cb87      organic 2021-06-05 00:05:16   \n",
       "\n",
       "   session_index  event_name  coins  freeRounds  freeUndo  freeWildCard  ...  \\\n",
       "0              1  appInstall      0           0         0             0  ...   \n",
       "1              1  appInstall      0           0         0             0  ...   \n",
       "2              1  appInstall      0           0         0             0  ...   \n",
       "3              1  appInstall      0           0         0             0  ...   \n",
       "4              1  appInstall      0           0         0             0  ...   \n",
       "\n",
       "   map  bet  gladeId  league  VIPPointsAmount  VIPStatus  gameType  \\\n",
       "0    1  1.0      1.0     0.0              0.0        0.0       NaN   \n",
       "1    1  1.0      1.0     0.0              0.0        0.0       NaN   \n",
       "2    1  1.0      1.0     0.0              0.0        0.0       NaN   \n",
       "3    1  1.0      1.0     0.0              0.0        0.0       NaN   \n",
       "4    1  1.0      1.0     0.0              0.0        0.0       NaN   \n",
       "\n",
       "               device  graphicMemory systemMemory  \n",
       "0  Xiaomi POCO M2 Pro         2048.0       5582.0  \n",
       "1    samsung SM-J200G          256.0        892.0  \n",
       "2    samsung SM-G781B         2048.0       5562.0  \n",
       "3     samsung SM-T290          512.0       1847.0  \n",
       "4    samsung SM-N960F         2048.0       5616.0  \n",
       "\n",
       "[5 rows x 22 columns]"
      ]
     },
     "execution_count": 49,
     "metadata": {},
     "output_type": "execute_result"
    }
   ],
   "source": [
    "install.head()"
   ]
  },
  {
   "cell_type": "code",
   "execution_count": 50,
   "id": "fcc21385",
   "metadata": {},
   "outputs": [],
   "source": [
    "# сохранение датафрейма install в csv-файл (для создания визуализаций на основе этих данных)\n",
    "install.to_csv('install_game.csv')"
   ]
  },
  {
   "cell_type": "markdown",
   "id": "424408e1",
   "metadata": {},
   "source": [
    "Удаление столбца прошло успешно."
   ]
  },
  {
   "cell_type": "code",
   "execution_count": 51,
   "id": "b845b1ee",
   "metadata": {},
   "outputs": [],
   "source": [
    "# подсчёт количества установок, сгруппированных по девайсам\n",
    "devices = install.groupby('device', as_index=False) \\\n",
    "    .agg({'index':'count'}) \\\n",
    "    .sort_values(by='index', ascending=False) \\\n",
    "    .rename(columns={'index':'amount_of_installs'})"
   ]
  },
  {
   "cell_type": "code",
   "execution_count": 52,
   "id": "5ac383f3",
   "metadata": {},
   "outputs": [
    {
     "data": {
      "text/html": [
       "<div>\n",
       "<style scoped>\n",
       "    .dataframe tbody tr th:only-of-type {\n",
       "        vertical-align: middle;\n",
       "    }\n",
       "\n",
       "    .dataframe tbody tr th {\n",
       "        vertical-align: top;\n",
       "    }\n",
       "\n",
       "    .dataframe thead th {\n",
       "        text-align: right;\n",
       "    }\n",
       "</style>\n",
       "<table border=\"1\" class=\"dataframe\">\n",
       "  <thead>\n",
       "    <tr style=\"text-align: right;\">\n",
       "      <th></th>\n",
       "      <th>device</th>\n",
       "      <th>amount_of_installs</th>\n",
       "    </tr>\n",
       "  </thead>\n",
       "  <tbody>\n",
       "    <tr>\n",
       "      <th>42</th>\n",
       "      <td>HUAWEI POT-LX1</td>\n",
       "      <td>6</td>\n",
       "    </tr>\n",
       "    <tr>\n",
       "      <th>124</th>\n",
       "      <td>Xiaomi M2003J15SC</td>\n",
       "      <td>6</td>\n",
       "    </tr>\n",
       "    <tr>\n",
       "      <th>218</th>\n",
       "      <td>samsung SM-A705FN</td>\n",
       "      <td>6</td>\n",
       "    </tr>\n",
       "    <tr>\n",
       "      <th>211</th>\n",
       "      <td>samsung SM-A505FN</td>\n",
       "      <td>6</td>\n",
       "    </tr>\n",
       "    <tr>\n",
       "      <th>203</th>\n",
       "      <td>samsung SM-A217F</td>\n",
       "      <td>6</td>\n",
       "    </tr>\n",
       "    <tr>\n",
       "      <th>...</th>\n",
       "      <td>...</td>\n",
       "      <td>...</td>\n",
       "    </tr>\n",
       "    <tr>\n",
       "      <th>115</th>\n",
       "      <td>TCL 8082_EEA</td>\n",
       "      <td>1</td>\n",
       "    </tr>\n",
       "    <tr>\n",
       "      <th>114</th>\n",
       "      <td>TCL 5059D</td>\n",
       "      <td>1</td>\n",
       "    </tr>\n",
       "    <tr>\n",
       "      <th>113</th>\n",
       "      <td>TCL 5033D_RU</td>\n",
       "      <td>1</td>\n",
       "    </tr>\n",
       "    <tr>\n",
       "      <th>112</th>\n",
       "      <td>TCL 5007Z</td>\n",
       "      <td>1</td>\n",
       "    </tr>\n",
       "    <tr>\n",
       "      <th>317</th>\n",
       "      <td>vsmart V350C</td>\n",
       "      <td>1</td>\n",
       "    </tr>\n",
       "  </tbody>\n",
       "</table>\n",
       "<p>318 rows × 2 columns</p>\n",
       "</div>"
      ],
      "text/plain": [
       "                device  amount_of_installs\n",
       "42      HUAWEI POT-LX1                   6\n",
       "124  Xiaomi M2003J15SC                   6\n",
       "218  samsung SM-A705FN                   6\n",
       "211  samsung SM-A505FN                   6\n",
       "203   samsung SM-A217F                   6\n",
       "..                 ...                 ...\n",
       "115       TCL 8082_EEA                   1\n",
       "114          TCL 5059D                   1\n",
       "113       TCL 5033D_RU                   1\n",
       "112          TCL 5007Z                   1\n",
       "317       vsmart V350C                   1\n",
       "\n",
       "[318 rows x 2 columns]"
      ]
     },
     "execution_count": 52,
     "metadata": {},
     "output_type": "execute_result"
    }
   ],
   "source": [
    "devices"
   ]
  },
  {
   "cell_type": "code",
   "execution_count": 53,
   "id": "b883e26a",
   "metadata": {},
   "outputs": [
    {
     "data": {
      "text/plain": [
       "['HUAWEI POT-LX1',\n",
       " 'Xiaomi M2003J15SC',\n",
       " 'samsung SM-A705FN',\n",
       " 'samsung SM-A505FN',\n",
       " 'samsung SM-A217F']"
      ]
     },
     "execution_count": 53,
     "metadata": {},
     "output_type": "execute_result"
    }
   ],
   "source": [
    "# отбор девайсов, на которые игру игру скачивали максимальное количество раз\n",
    "devices.query('amount_of_installs == amount_of_installs.max()') \\\n",
    "    .sort_values(by='amount_of_installs').device.tolist()"
   ]
  },
  {
   "cell_type": "code",
   "execution_count": 54,
   "id": "c8975b8f",
   "metadata": {},
   "outputs": [
    {
     "data": {
      "text/plain": [
       "['samsung SM-A5260',\n",
       " 'HUAWEI SLA-L22',\n",
       " 'HUAWEI JSN-L21',\n",
       " 'HUAWEI RNE-L01',\n",
       " 'HUAWEI PPA-LX3',\n",
       " 'HUAWEI PPA-LX2',\n",
       " 'HUAWEI PAR-LX9',\n",
       " 'HUAWEI MAR-LX1B',\n",
       " 'HUAWEI MAR-LX1A',\n",
       " 'HUAWEI JNY-LX1',\n",
       " 'HUAWEI BAC-L21',\n",
       " 'HUAWEI JAT-LX1',\n",
       " 'HUAWEI JAT-L41',\n",
       " 'HUAWEI ATU-L21',\n",
       " 'HUAWEI INE-LX1r',\n",
       " 'HUAWEI DUB-LX2',\n",
       " 'HUAWEI BAH2-W19',\n",
       " 'OPPO CPH1903',\n",
       " 'OPPO CPH1969',\n",
       " 'motorola moto g(6) plus',\n",
       " 'Xiaomi POCO M2 Pro',\n",
       " 'Xiaomi Redmi Note 8',\n",
       " 'Xiaomi Redmi Note 4',\n",
       " 'Xiaomi Redmi Go',\n",
       " 'Xiaomi Redmi 7',\n",
       " 'Xiaomi Redmi 6A',\n",
       " 'Xiaomi Redmi 5A',\n",
       " 'HUAWEI DUB-LX3',\n",
       " 'Xiaomi POCO F1',\n",
       " 'HUAWEI AMN-LX9',\n",
       " 'Blackview A80Pro',\n",
       " 'OPPO A37fw',\n",
       " 'OPPO A33f',\n",
       " 'Multilaser M7S_LITE',\n",
       " 'LGE LM-Q620',\n",
       " 'Mobicel RIO_SS',\n",
       " 'Micromax Micromax E460',\n",
       " 'Lenovo Lenovo L38043',\n",
       " 'LGE LML212VL',\n",
       " 'LGE LM-X120',\n",
       " 'LGE LM-T600',\n",
       " 'HUAWEI TIT-AL00',\n",
       " 'HUAWEI SNE-LX1',\n",
       " 'Blackview A60',\n",
       " 'OPPO CPH1909',\n",
       " 'HUAWEI AMN-LX2',\n",
       " 'HTC HTC Desire 12s',\n",
       " 'HMD Global Nokia 3.2',\n",
       " 'HMD Global Nokia 3.1 Plus',\n",
       " 'HMD Global Nokia 2.4',\n",
       " 'HMD Global Nokia 1',\n",
       " 'Energy_Sistem Energy Tablet 10 Neo 3 Lite',\n",
       " 'HUAWEI ANE-LX1',\n",
       " 'EVERCOSS M6',\n",
       " 'DOOGEE N30',\n",
       " 'DOOGEE N20',\n",
       " 'Ctroniq X75',\n",
       " 'GIONEE GIONEE P7',\n",
       " 'Xiaomi Redmi Note 9S',\n",
       " 'Xiaomi Mi 9 Lite',\n",
       " 'Xiaomi MI PLAY',\n",
       " 'OPPO CPH2173',\n",
       " 'OPPO CPH2145',\n",
       " 'Sony H3311',\n",
       " 'OPPO CPH2135',\n",
       " 'OPPO CPH2113',\n",
       " 'OPPO CPH2091',\n",
       " 'OPPO CPH2083',\n",
       " 'OPPO CPH2059',\n",
       " 'OPPO CPH2015',\n",
       " 'SPA Condor Electronics TB717G',\n",
       " 'Sony I4312',\n",
       " 'Xiaomi M2006C3MG',\n",
       " 'OPPO CPH2179',\n",
       " 'TECNO MOBILE LIMITED TECNO KD7',\n",
       " 'Xiaomi M2006C3LII',\n",
       " 'WIKO W-K211-EEA',\n",
       " 'Vodafone VFD 1300',\n",
       " 'Trekstor PEAQ PET 100',\n",
       " 'TECNO MOBILE LIMITED TECNO KE5j',\n",
       " 'TECNO MOBILE LIMITED TECNO B1p',\n",
       " 'Southern Telecom ST1020',\n",
       " 'TCL 9009G',\n",
       " 'TCL 8088X_EEA',\n",
       " 'TCL 8082_EEA',\n",
       " 'TCL 5059D',\n",
       " 'TCL 5033D_RU',\n",
       " 'Xiaomi M2006C3LVG',\n",
       " 'OPPO CPH2185',\n",
       " 'OPPO CPH2239',\n",
       " 'OPPO RMX1805',\n",
       " 'Xiaomi M2101K6G',\n",
       " 'Xiaomi M2011K2G',\n",
       " 'Xiaomi M2010J19SY',\n",
       " 'Xiaomi M2010J19SI',\n",
       " 'Xiaomi Redmi Note 8 Pro',\n",
       " 'Xiaomi Redmi Y2',\n",
       " 'Xiaomi M2006C3MNG',\n",
       " 'motorola Moto C',\n",
       " 'motorola moto g(6)',\n",
       " 'motorola moto g stylus (2021)',\n",
       " 'motorola moto g stylus',\n",
       " 'motorola moto g play (2021)',\n",
       " 'motorola moto e6 play',\n",
       " 'motorola moto e',\n",
       " 'itel itel L5503',\n",
       " 'Xolo era1Xpro',\n",
       " 'incar PMT3197_W_EU',\n",
       " 'incar K3102_W',\n",
       " 'BQru BQ-5707G',\n",
       " 'asus ASUS_X00QD',\n",
       " 'asus ASUS_X00BD',\n",
       " 'ZTE ZTE Blade A3 2020',\n",
       " 'Xiaomi M2007J20CG',\n",
       " 'Xiaomi M2006C3MII',\n",
       " 'OPPO CPH1989',\n",
       " 'OPPO CPH2159',\n",
       " 'Realme RMX1945',\n",
       " 'OPPO CPH1605',\n",
       " 'OPPO CPH1809',\n",
       " 'OPPO CPH1823',\n",
       " 'OPPO CPH1853',\n",
       " 'samsung SM-A205G',\n",
       " 'samsung SM-G991B',\n",
       " 'samsung SM-G781W',\n",
       " 'samsung SM-G900R4',\n",
       " 'samsung SM-M315F',\n",
       " 'samsung SM-M515F',\n",
       " 'samsung SM-N935S',\n",
       " 'samsung SM-N960U',\n",
       " 'samsung SM-N985F',\n",
       " 'samsung SM-N986U',\n",
       " 'samsung SM-P615',\n",
       " 'samsung SM-S260DL',\n",
       " 'samsung SM-A315G',\n",
       " 'samsung SM-S367VL',\n",
       " 'samsung SM-T285M',\n",
       " 'samsung SM-T337V',\n",
       " 'samsung SM-T387V',\n",
       " 'samsung SM-T515',\n",
       " 'samsung SM-T560NU',\n",
       " 'samsung SM-T590',\n",
       " 'samsung SM-T720',\n",
       " 'samsung SM-T725',\n",
       " 'samsung SM-T867U',\n",
       " 'samsung SM-T867V',\n",
       " 'techain GOME_C7_Note',\n",
       " 'vivo V2036',\n",
       " 'samsung SM-T280',\n",
       " 'samsung SM-A305G',\n",
       " 'samsung SM-A300FU',\n",
       " 'samsung SM-A260G',\n",
       " 'samsung SM-G770F',\n",
       " 'samsung SM-A920N',\n",
       " 'samsung SM-A750FN',\n",
       " 'samsung SM-A600FN',\n",
       " 'samsung SM-G611FF',\n",
       " 'samsung SM-G570M',\n",
       " 'samsung SM-G532G',\n",
       " 'Alcatel 5041C',\n",
       " 'samsung SM-A525F',\n",
       " 'samsung SM-A520F',\n",
       " 'myPhone myPhone_Fun_7_LTE',\n",
       " 'onn 100026191',\n",
       " 'realme RMX2020',\n",
       " 'realme RMX2189',\n",
       " 'realme RMX3171',\n",
       " 'samsung SC-02K',\n",
       " 'samsung SM-A013F',\n",
       " 'samsung SM-A013G',\n",
       " 'samsung SM-A013M',\n",
       " 'samsung SM-A015A',\n",
       " 'samsung SM-A025V',\n",
       " 'samsung SM-A105M',\n",
       " 'samsung SM-A107F',\n",
       " 'samsung SM-G781U',\n",
       " 'samsung SM-A205W',\n",
       " 'samsung SM-A207M',\n",
       " 'samsung SM-A260F',\n",
       " 'vivo vivo 1609',\n",
       " 'TCL 5007Z',\n",
       " 'vivo vivo 1807',\n",
       " 'vivo vivo 1812',\n",
       " 'samsung SM-J530F',\n",
       " 'samsung SM-J600G',\n",
       " 'samsung SM-J610F',\n",
       " 'samsung SM-J701F',\n",
       " 'motorola motorola one macro',\n",
       " 'asus ASUS_Z010D',\n",
       " 'motorola moto g(9) play',\n",
       " 'KYOCERA KYT33',\n",
       " 'LENOVO Lenovo YT-X705F',\n",
       " 'LENOVO Lenovo TB-X103F',\n",
       " 'LENOVO Lenovo TB-8704X',\n",
       " 'LENOVO Lenovo TB-8505FS',\n",
       " 'samsung SM-J510H',\n",
       " 'LENOVO Lenovo TAB 2 A8-50LC',\n",
       " 'JOYAR 100011886',\n",
       " 'LGE LG-M700',\n",
       " 'Ibirapita A81F',\n",
       " 'INFINIX MOBILITY LIMITED Infinix X653',\n",
       " 'Hisense Hisense Infinity E30 Lite',\n",
       " 'HUAWEI YAL-L41',\n",
       " 'HUAWEI WAS-LX3',\n",
       " 'HUAWEI VTR-L09',\n",
       " 'LENOVO P1060X',\n",
       " 'LGE LM-K410',\n",
       " 'HUAWEI STK-LX1',\n",
       " 'OPPO A1601',\n",
       " 'LAVA Z61_2GB',\n",
       " 'samsung SM-J510F',\n",
       " 'samsung SM-J410G',\n",
       " 'samsung SM-J400M',\n",
       " 'vivo vivo 1901',\n",
       " 'vivo vivo 1904',\n",
       " 'vivo vivo 1906',\n",
       " 'samsung SM-M215F',\n",
       " 'samsung SM-J737A',\n",
       " 'samsung SM-J720F',\n",
       " 'samsung SM-J200H',\n",
       " 'samsung SM-G920I',\n",
       " 'samsung SM-G925W8',\n",
       " 'samsung SM-G935F',\n",
       " 'samsung SM-G950F',\n",
       " 'samsung SM-G955F',\n",
       " 'samsung SM-G955U',\n",
       " 'samsung SM-G960U',\n",
       " 'samsung SM-G965U',\n",
       " 'samsung SM-G970U',\n",
       " 'samsung SM-G973U',\n",
       " 'samsung SM-G988U',\n",
       " 'samsung SM-G991U',\n",
       " 'samsung SM-J120F',\n",
       " 'samsung SM-J260A',\n",
       " 'samsung SM-J710MN',\n",
       " 'samsung SM-J260T1',\n",
       " 'samsung SM-J320H',\n",
       " 'samsung SM-J330F',\n",
       " 'samsung SM-J330FN',\n",
       " 'samsung SM-J337T',\n",
       " 'vivo vivo 1811',\n",
       " 'vsmart V350C']"
      ]
     },
     "execution_count": 54,
     "metadata": {},
     "output_type": "execute_result"
    }
   ],
   "source": [
    "# ... минимальное количество раз\n",
    "devices.query('amount_of_installs == amount_of_installs.min()') \\\n",
    "    .sort_values(by='amount_of_installs').device.tolist()"
   ]
  },
  {
   "cell_type": "markdown",
   "id": "c106d545",
   "metadata": {},
   "source": [
    "Наиболее популярна игра на телефонах Samsung, Xiaomi и Huawei ('HUAWEI POT-LX1', 'Xiaomi M2003J15SC', 'samsung SM-A705FN', 'samsung SM-A505FN', 'samsung SM-A217F').\n",
    "Наименее популярна на телефонах, список которых представлен в выводе выше. Среди телефонов, на которые игру устанавливали редко, распространены относительно непопулярные марки (motorola, OPPO, lenovo, asus и др.). Возможно, стоит проверить работоспособность игры на телефонах данных марок и, при условии обнаружения багов и недочетов, устранить их. "
   ]
  },
  {
   "cell_type": "code",
   "execution_count": 55,
   "id": "956f9dcd",
   "metadata": {},
   "outputs": [
    {
     "data": {
      "text/html": [
       "<div>\n",
       "<style scoped>\n",
       "    .dataframe tbody tr th:only-of-type {\n",
       "        vertical-align: middle;\n",
       "    }\n",
       "\n",
       "    .dataframe tbody tr th {\n",
       "        vertical-align: top;\n",
       "    }\n",
       "\n",
       "    .dataframe thead th {\n",
       "        text-align: right;\n",
       "    }\n",
       "</style>\n",
       "<table border=\"1\" class=\"dataframe\">\n",
       "  <thead>\n",
       "    <tr style=\"text-align: right;\">\n",
       "      <th></th>\n",
       "      <th>graphicMemory</th>\n",
       "      <th>amount_of_installs</th>\n",
       "    </tr>\n",
       "  </thead>\n",
       "  <tbody>\n",
       "    <tr>\n",
       "      <th>3</th>\n",
       "      <td>1024.0</td>\n",
       "      <td>218</td>\n",
       "    </tr>\n",
       "    <tr>\n",
       "      <th>2</th>\n",
       "      <td>512.0</td>\n",
       "      <td>115</td>\n",
       "    </tr>\n",
       "    <tr>\n",
       "      <th>4</th>\n",
       "      <td>2048.0</td>\n",
       "      <td>78</td>\n",
       "    </tr>\n",
       "    <tr>\n",
       "      <th>1</th>\n",
       "      <td>256.0</td>\n",
       "      <td>34</td>\n",
       "    </tr>\n",
       "    <tr>\n",
       "      <th>5</th>\n",
       "      <td>4096.0</td>\n",
       "      <td>5</td>\n",
       "    </tr>\n",
       "    <tr>\n",
       "      <th>0</th>\n",
       "      <td>128.0</td>\n",
       "      <td>1</td>\n",
       "    </tr>\n",
       "  </tbody>\n",
       "</table>\n",
       "</div>"
      ],
      "text/plain": [
       "   graphicMemory  amount_of_installs\n",
       "3         1024.0                 218\n",
       "2          512.0                 115\n",
       "4         2048.0                  78\n",
       "1          256.0                  34\n",
       "5         4096.0                   5\n",
       "0          128.0                   1"
      ]
     },
     "execution_count": 55,
     "metadata": {},
     "output_type": "execute_result"
    }
   ],
   "source": [
    "# подсчёт количества установок, сгруппированных по объёмам графической памяти\n",
    "install.groupby('graphicMemory', as_index=False) \\\n",
    "    .agg({'index':'count'}) \\\n",
    "    .sort_values(by='index', ascending=False) \\\n",
    "    .rename(columns={'index':'amount_of_installs'})"
   ]
  },
  {
   "cell_type": "markdown",
   "id": "e03bb2f4",
   "metadata": {},
   "source": [
    "Скорее всего, на телефонах с маленькой графической памятью (128.0) игра не запускается/ работает не так, как должна => нужно проверить, так ли это."
   ]
  },
  {
   "cell_type": "code",
   "execution_count": 56,
   "id": "4504c812",
   "metadata": {},
   "outputs": [
    {
     "data": {
      "text/html": [
       "<div>\n",
       "<style scoped>\n",
       "    .dataframe tbody tr th:only-of-type {\n",
       "        vertical-align: middle;\n",
       "    }\n",
       "\n",
       "    .dataframe tbody tr th {\n",
       "        vertical-align: top;\n",
       "    }\n",
       "\n",
       "    .dataframe thead th {\n",
       "        text-align: right;\n",
       "    }\n",
       "</style>\n",
       "<table border=\"1\" class=\"dataframe\">\n",
       "  <thead>\n",
       "    <tr style=\"text-align: right;\">\n",
       "      <th></th>\n",
       "      <th>systemMemory</th>\n",
       "      <th>amount_of_installs</th>\n",
       "    </tr>\n",
       "  </thead>\n",
       "  <tbody>\n",
       "    <tr>\n",
       "      <th>190</th>\n",
       "      <td>3679.0</td>\n",
       "      <td>8</td>\n",
       "    </tr>\n",
       "    <tr>\n",
       "      <th>117</th>\n",
       "      <td>2725.0</td>\n",
       "      <td>7</td>\n",
       "    </tr>\n",
       "    <tr>\n",
       "      <th>179</th>\n",
       "      <td>3608.0</td>\n",
       "      <td>6</td>\n",
       "    </tr>\n",
       "    <tr>\n",
       "      <th>208</th>\n",
       "      <td>3754.0</td>\n",
       "      <td>6</td>\n",
       "    </tr>\n",
       "    <tr>\n",
       "      <th>132</th>\n",
       "      <td>2799.0</td>\n",
       "      <td>6</td>\n",
       "    </tr>\n",
       "    <tr>\n",
       "      <th>...</th>\n",
       "      <td>...</td>\n",
       "      <td>...</td>\n",
       "    </tr>\n",
       "    <tr>\n",
       "      <th>112</th>\n",
       "      <td>2684.0</td>\n",
       "      <td>1</td>\n",
       "    </tr>\n",
       "    <tr>\n",
       "      <th>113</th>\n",
       "      <td>2703.0</td>\n",
       "      <td>1</td>\n",
       "    </tr>\n",
       "    <tr>\n",
       "      <th>114</th>\n",
       "      <td>2705.0</td>\n",
       "      <td>1</td>\n",
       "    </tr>\n",
       "    <tr>\n",
       "      <th>115</th>\n",
       "      <td>2721.0</td>\n",
       "      <td>1</td>\n",
       "    </tr>\n",
       "    <tr>\n",
       "      <th>283</th>\n",
       "      <td>11266.0</td>\n",
       "      <td>1</td>\n",
       "    </tr>\n",
       "  </tbody>\n",
       "</table>\n",
       "<p>284 rows × 2 columns</p>\n",
       "</div>"
      ],
      "text/plain": [
       "     systemMemory  amount_of_installs\n",
       "190        3679.0                   8\n",
       "117        2725.0                   7\n",
       "179        3608.0                   6\n",
       "208        3754.0                   6\n",
       "132        2799.0                   6\n",
       "..            ...                 ...\n",
       "112        2684.0                   1\n",
       "113        2703.0                   1\n",
       "114        2705.0                   1\n",
       "115        2721.0                   1\n",
       "283       11266.0                   1\n",
       "\n",
       "[284 rows x 2 columns]"
      ]
     },
     "execution_count": 56,
     "metadata": {},
     "output_type": "execute_result"
    }
   ],
   "source": [
    "# подсчёт количества установок, сгруппированных по объемам оперативной памяти\n",
    "install.groupby('systemMemory', as_index=False) \\\n",
    "    .agg({'index':'count'}) \\\n",
    "    .sort_values(by='index', ascending=False) \\\n",
    "    .rename(columns={'index':'amount_of_installs'}) "
   ]
  },
  {
   "cell_type": "code",
   "execution_count": 57,
   "id": "2a17731f",
   "metadata": {},
   "outputs": [
    {
     "data": {
      "text/html": [
       "<div>\n",
       "<style scoped>\n",
       "    .dataframe tbody tr th:only-of-type {\n",
       "        vertical-align: middle;\n",
       "    }\n",
       "\n",
       "    .dataframe tbody tr th {\n",
       "        vertical-align: top;\n",
       "    }\n",
       "\n",
       "    .dataframe thead th {\n",
       "        text-align: right;\n",
       "    }\n",
       "</style>\n",
       "<table border=\"1\" class=\"dataframe\">\n",
       "  <thead>\n",
       "    <tr style=\"text-align: right;\">\n",
       "      <th></th>\n",
       "      <th>systemMemory</th>\n",
       "      <th>amount_of_installs</th>\n",
       "    </tr>\n",
       "  </thead>\n",
       "  <tbody>\n",
       "    <tr>\n",
       "      <th>283</th>\n",
       "      <td>11266.0</td>\n",
       "      <td>1</td>\n",
       "    </tr>\n",
       "    <tr>\n",
       "      <th>282</th>\n",
       "      <td>10901.0</td>\n",
       "      <td>2</td>\n",
       "    </tr>\n",
       "    <tr>\n",
       "      <th>281</th>\n",
       "      <td>10538.0</td>\n",
       "      <td>1</td>\n",
       "    </tr>\n",
       "    <tr>\n",
       "      <th>280</th>\n",
       "      <td>10536.0</td>\n",
       "      <td>1</td>\n",
       "    </tr>\n",
       "    <tr>\n",
       "      <th>279</th>\n",
       "      <td>7666.0</td>\n",
       "      <td>1</td>\n",
       "    </tr>\n",
       "    <tr>\n",
       "      <th>...</th>\n",
       "      <td>...</td>\n",
       "      <td>...</td>\n",
       "    </tr>\n",
       "    <tr>\n",
       "      <th>4</th>\n",
       "      <td>865.0</td>\n",
       "      <td>1</td>\n",
       "    </tr>\n",
       "    <tr>\n",
       "      <th>3</th>\n",
       "      <td>864.0</td>\n",
       "      <td>1</td>\n",
       "    </tr>\n",
       "    <tr>\n",
       "      <th>2</th>\n",
       "      <td>858.0</td>\n",
       "      <td>1</td>\n",
       "    </tr>\n",
       "    <tr>\n",
       "      <th>1</th>\n",
       "      <td>840.0</td>\n",
       "      <td>1</td>\n",
       "    </tr>\n",
       "    <tr>\n",
       "      <th>0</th>\n",
       "      <td>450.0</td>\n",
       "      <td>1</td>\n",
       "    </tr>\n",
       "  </tbody>\n",
       "</table>\n",
       "<p>284 rows × 2 columns</p>\n",
       "</div>"
      ],
      "text/plain": [
       "     systemMemory  amount_of_installs\n",
       "283       11266.0                   1\n",
       "282       10901.0                   2\n",
       "281       10538.0                   1\n",
       "280       10536.0                   1\n",
       "279        7666.0                   1\n",
       "..            ...                 ...\n",
       "4           865.0                   1\n",
       "3           864.0                   1\n",
       "2           858.0                   1\n",
       "1           840.0                   1\n",
       "0           450.0                   1\n",
       "\n",
       "[284 rows x 2 columns]"
      ]
     },
     "execution_count": 57,
     "metadata": {},
     "output_type": "execute_result"
    }
   ],
   "source": [
    "# аналогично, но записи отсортированы по объемам оперативной памяти\n",
    "install.groupby('systemMemory', as_index=False) \\\n",
    "    .agg({'index':'count'}) \\\n",
    "    .sort_values(by='systemMemory', ascending=False) \\\n",
    "    .rename(columns={'index':'amount_of_installs'}) "
   ]
  },
  {
   "cell_type": "markdown",
   "id": "a17945fb",
   "metadata": {},
   "source": [
    "В случае оперативной памяти чёткой корреляции между количеством установок и объемом памяти не наблюдается.  "
   ]
  },
  {
   "cell_type": "code",
   "execution_count": 58,
   "id": "948630dc",
   "metadata": {},
   "outputs": [],
   "source": [
    "# подсчет количества установок, сгруппированных по источнику установки \n",
    "advert_install = install.groupby('media_source', as_index=False) \\\n",
    "    .agg({'index':'count'}) \\\n",
    "    .sort_values(by='index', ascending=False) \\\n",
    "    .rename(columns={'index':'amount_of_users'})"
   ]
  },
  {
   "cell_type": "code",
   "execution_count": 59,
   "id": "d39244ec",
   "metadata": {},
   "outputs": [
    {
     "data": {
      "text/html": [
       "<div>\n",
       "<style scoped>\n",
       "    .dataframe tbody tr th:only-of-type {\n",
       "        vertical-align: middle;\n",
       "    }\n",
       "\n",
       "    .dataframe tbody tr th {\n",
       "        vertical-align: top;\n",
       "    }\n",
       "\n",
       "    .dataframe thead th {\n",
       "        text-align: right;\n",
       "    }\n",
       "</style>\n",
       "<table border=\"1\" class=\"dataframe\">\n",
       "  <thead>\n",
       "    <tr style=\"text-align: right;\">\n",
       "      <th></th>\n",
       "      <th>media_source</th>\n",
       "      <th>amount_of_users</th>\n",
       "    </tr>\n",
       "  </thead>\n",
       "  <tbody>\n",
       "    <tr>\n",
       "      <th>1</th>\n",
       "      <td>organic</td>\n",
       "      <td>293</td>\n",
       "    </tr>\n",
       "    <tr>\n",
       "      <th>0</th>\n",
       "      <td>ad-traffic</td>\n",
       "      <td>159</td>\n",
       "    </tr>\n",
       "  </tbody>\n",
       "</table>\n",
       "</div>"
      ],
      "text/plain": [
       "  media_source  amount_of_users\n",
       "1      organic              293\n",
       "0   ad-traffic              159"
      ]
     },
     "execution_count": 59,
     "metadata": {},
     "output_type": "execute_result"
    }
   ],
   "source": [
    "advert_install"
   ]
  },
  {
   "cell_type": "code",
   "execution_count": 60,
   "id": "abafce34",
   "metadata": {},
   "outputs": [],
   "source": [
    "# сохранение в переменную advert_users количества пользователей, пришедших по рекламе\n",
    "advert_users = advert_install.iloc[1, 1]"
   ]
  },
  {
   "cell_type": "code",
   "execution_count": 61,
   "id": "08f1d502",
   "metadata": {},
   "outputs": [
    {
     "data": {
      "text/plain": [
       "159"
      ]
     },
     "execution_count": 61,
     "metadata": {},
     "output_type": "execute_result"
    }
   ],
   "source": [
    "advert_users"
   ]
  },
  {
   "cell_type": "code",
   "execution_count": 62,
   "id": "8e094c25",
   "metadata": {},
   "outputs": [],
   "source": [
    "# вычисление доли пользователей, пришедших по рекламе\n",
    "part_advert_users = round(advert_users / amount_of_install_users * 100, 2)"
   ]
  },
  {
   "cell_type": "code",
   "execution_count": 63,
   "id": "6812c120",
   "metadata": {},
   "outputs": [
    {
     "data": {
      "text/plain": [
       "35.18"
      ]
     },
     "execution_count": 63,
     "metadata": {},
     "output_type": "execute_result"
    }
   ],
   "source": [
    "part_advert_users"
   ]
  },
  {
   "cell_type": "markdown",
   "id": "aa44ff59",
   "metadata": {},
   "source": [
    "Из всех установивших приложение пользователей 35.18% пришло по рекламе => рекламная компания эффективна"
   ]
  },
  {
   "cell_type": "code",
   "execution_count": 64,
   "id": "58a3cf8e",
   "metadata": {},
   "outputs": [],
   "source": [
    "# создание столбцов, содержащих порядковый номер месяца и дня недели, день и час\n",
    "install['month'] = install['client_time'].dt.month \n",
    "install['day_of_the_week'] = install['client_time'].dt.weekday + 1\n",
    "install['day'] = install['client_time'].dt.day\n",
    "install['hour'] = install['client_time'].dt.hour"
   ]
  },
  {
   "cell_type": "code",
   "execution_count": 65,
   "id": "e52b5031",
   "metadata": {},
   "outputs": [
    {
     "data": {
      "text/plain": [
       "array([6], dtype=int64)"
      ]
     },
     "execution_count": 65,
     "metadata": {},
     "output_type": "execute_result"
    }
   ],
   "source": [
    "# поиск уникальных значений порядкового номера месяца\n",
    "install['month'].unique()"
   ]
  },
  {
   "cell_type": "code",
   "execution_count": 66,
   "id": "e605033c",
   "metadata": {},
   "outputs": [
    {
     "data": {
      "text/plain": [
       "array([6], dtype=int64)"
      ]
     },
     "execution_count": 66,
     "metadata": {},
     "output_type": "execute_result"
    }
   ],
   "source": [
    "# поиск уникальных значений порядкового номера дня недели\n",
    "install['day_of_the_week'].unique()"
   ]
  },
  {
   "cell_type": "code",
   "execution_count": 67,
   "id": "0f6768fe",
   "metadata": {},
   "outputs": [
    {
     "data": {
      "text/plain": [
       "array([5], dtype=int64)"
      ]
     },
     "execution_count": 67,
     "metadata": {},
     "output_type": "execute_result"
    }
   ],
   "source": [
    "# поиск уникальных значений дня\n",
    "install['day'].unique()"
   ]
  },
  {
   "cell_type": "markdown",
   "id": "ff655f2d",
   "metadata": {},
   "source": [
    "В исходнике представлены данные лишь за 2021-06-05, поэтому никаких выводов о распределении количества установок во времени (дни, дни недели, месяцы) сделать нельзя."
   ]
  },
  {
   "cell_type": "code",
   "execution_count": 68,
   "id": "6f92a021",
   "metadata": {},
   "outputs": [
    {
     "data": {
      "text/plain": [
       "array([ 7, 16,  0,  1,  2,  3,  4,  5,  6,  8,  9, 10, 11, 12, 13, 14, 15,\n",
       "       17, 18, 19, 20, 21, 22, 23], dtype=int64)"
      ]
     },
     "execution_count": 68,
     "metadata": {},
     "output_type": "execute_result"
    }
   ],
   "source": [
    "# поиск уникальных значений часа\n",
    "install['hour'].unique()"
   ]
  },
  {
   "cell_type": "code",
   "execution_count": 69,
   "id": "6971a51b",
   "metadata": {},
   "outputs": [],
   "source": [
    "# подсчет количества установок, сгруппированных по часам суток\n",
    "hour_installs = install.groupby('hour', as_index=False) \\\n",
    "    .agg({'user_id':'count'}) \\\n",
    "    .sort_values(by='user_id', ascending=False) \\\n",
    "    .rename(columns={'user_id':'amount_of_installs'})"
   ]
  },
  {
   "cell_type": "code",
   "execution_count": 70,
   "id": "8be4f4a0",
   "metadata": {},
   "outputs": [
    {
     "data": {
      "text/html": [
       "<div>\n",
       "<style scoped>\n",
       "    .dataframe tbody tr th:only-of-type {\n",
       "        vertical-align: middle;\n",
       "    }\n",
       "\n",
       "    .dataframe tbody tr th {\n",
       "        vertical-align: top;\n",
       "    }\n",
       "\n",
       "    .dataframe thead th {\n",
       "        text-align: right;\n",
       "    }\n",
       "</style>\n",
       "<table border=\"1\" class=\"dataframe\">\n",
       "  <thead>\n",
       "    <tr style=\"text-align: right;\">\n",
       "      <th></th>\n",
       "      <th>hour</th>\n",
       "      <th>amount_of_installs</th>\n",
       "    </tr>\n",
       "  </thead>\n",
       "  <tbody>\n",
       "    <tr>\n",
       "      <th>16</th>\n",
       "      <td>16</td>\n",
       "      <td>27</td>\n",
       "    </tr>\n",
       "    <tr>\n",
       "      <th>15</th>\n",
       "      <td>15</td>\n",
       "      <td>27</td>\n",
       "    </tr>\n",
       "    <tr>\n",
       "      <th>5</th>\n",
       "      <td>5</td>\n",
       "      <td>26</td>\n",
       "    </tr>\n",
       "    <tr>\n",
       "      <th>7</th>\n",
       "      <td>7</td>\n",
       "      <td>26</td>\n",
       "    </tr>\n",
       "    <tr>\n",
       "      <th>9</th>\n",
       "      <td>9</td>\n",
       "      <td>24</td>\n",
       "    </tr>\n",
       "    <tr>\n",
       "      <th>6</th>\n",
       "      <td>6</td>\n",
       "      <td>24</td>\n",
       "    </tr>\n",
       "    <tr>\n",
       "      <th>10</th>\n",
       "      <td>10</td>\n",
       "      <td>24</td>\n",
       "    </tr>\n",
       "    <tr>\n",
       "      <th>14</th>\n",
       "      <td>14</td>\n",
       "      <td>22</td>\n",
       "    </tr>\n",
       "    <tr>\n",
       "      <th>8</th>\n",
       "      <td>8</td>\n",
       "      <td>20</td>\n",
       "    </tr>\n",
       "    <tr>\n",
       "      <th>19</th>\n",
       "      <td>19</td>\n",
       "      <td>20</td>\n",
       "    </tr>\n",
       "    <tr>\n",
       "      <th>17</th>\n",
       "      <td>17</td>\n",
       "      <td>19</td>\n",
       "    </tr>\n",
       "    <tr>\n",
       "      <th>13</th>\n",
       "      <td>13</td>\n",
       "      <td>18</td>\n",
       "    </tr>\n",
       "    <tr>\n",
       "      <th>18</th>\n",
       "      <td>18</td>\n",
       "      <td>18</td>\n",
       "    </tr>\n",
       "    <tr>\n",
       "      <th>11</th>\n",
       "      <td>11</td>\n",
       "      <td>18</td>\n",
       "    </tr>\n",
       "    <tr>\n",
       "      <th>3</th>\n",
       "      <td>3</td>\n",
       "      <td>18</td>\n",
       "    </tr>\n",
       "    <tr>\n",
       "      <th>20</th>\n",
       "      <td>20</td>\n",
       "      <td>18</td>\n",
       "    </tr>\n",
       "    <tr>\n",
       "      <th>1</th>\n",
       "      <td>1</td>\n",
       "      <td>16</td>\n",
       "    </tr>\n",
       "    <tr>\n",
       "      <th>4</th>\n",
       "      <td>4</td>\n",
       "      <td>15</td>\n",
       "    </tr>\n",
       "    <tr>\n",
       "      <th>12</th>\n",
       "      <td>12</td>\n",
       "      <td>15</td>\n",
       "    </tr>\n",
       "    <tr>\n",
       "      <th>0</th>\n",
       "      <td>0</td>\n",
       "      <td>13</td>\n",
       "    </tr>\n",
       "    <tr>\n",
       "      <th>2</th>\n",
       "      <td>2</td>\n",
       "      <td>13</td>\n",
       "    </tr>\n",
       "    <tr>\n",
       "      <th>23</th>\n",
       "      <td>23</td>\n",
       "      <td>12</td>\n",
       "    </tr>\n",
       "    <tr>\n",
       "      <th>22</th>\n",
       "      <td>22</td>\n",
       "      <td>10</td>\n",
       "    </tr>\n",
       "    <tr>\n",
       "      <th>21</th>\n",
       "      <td>21</td>\n",
       "      <td>9</td>\n",
       "    </tr>\n",
       "  </tbody>\n",
       "</table>\n",
       "</div>"
      ],
      "text/plain": [
       "    hour  amount_of_installs\n",
       "16    16                  27\n",
       "15    15                  27\n",
       "5      5                  26\n",
       "7      7                  26\n",
       "9      9                  24\n",
       "6      6                  24\n",
       "10    10                  24\n",
       "14    14                  22\n",
       "8      8                  20\n",
       "19    19                  20\n",
       "17    17                  19\n",
       "13    13                  18\n",
       "18    18                  18\n",
       "11    11                  18\n",
       "3      3                  18\n",
       "20    20                  18\n",
       "1      1                  16\n",
       "4      4                  15\n",
       "12    12                  15\n",
       "0      0                  13\n",
       "2      2                  13\n",
       "23    23                  12\n",
       "22    22                  10\n",
       "21    21                   9"
      ]
     },
     "execution_count": 70,
     "metadata": {},
     "output_type": "execute_result"
    }
   ],
   "source": [
    "hour_installs"
   ]
  },
  {
   "cell_type": "code",
   "execution_count": 71,
   "id": "00a70cd6",
   "metadata": {},
   "outputs": [
    {
     "data": {
      "text/plain": [
       "Text(0, 0.5, 'amount of installs')"
      ]
     },
     "execution_count": 71,
     "metadata": {},
     "output_type": "execute_result"
    },
    {
     "data": {
      "image/png": "[encoded data removed]",
      "text/plain": [
       "<Figure size 576x432 with 1 Axes>"
      ]
     },
     "metadata": {
      "needs_background": "light"
     },
     "output_type": "display_data"
    }
   ],
   "source": [
    "# построение графика количества скачиваний игры в течение суток\n",
    "plt.figure(figsize=(8, 6))\n",
    "sns.countplot(data=install, x='hour', color='xkcd:soft green')\n",
    "plt.suptitle('Количество скачиваний игры в течение суток', x=0.5, y=0.93)\n",
    "plt.ylabel('amount of installs')"
   ]
  },
  {
   "cell_type": "markdown",
   "id": "11db4ada",
   "metadata": {},
   "source": [
    "На графике количества скачиваний выделяется 3 максимума: \n",
    "- в 15-16 часов (люди отдыхают на работе/учёбе/дома)\n",
    "- в 5, 7 часов (скачивания по пути на работу/учебу)\n",
    "- в 9-10 часов (скачивания по пути на работу/учебу)\n",
    "\n",
    "Минимум скачиваний наблюдается в 21 час (потенциальные пользователи готовятся ко сну)."
   ]
  },
  {
   "cell_type": "markdown",
   "id": "74026b53",
   "metadata": {},
   "source": [
    "### Анализ пользователей, прошедших обучение"
   ]
  },
  {
   "cell_type": "code",
   "execution_count": 72,
   "id": "9c2df5c8",
   "metadata": {},
   "outputs": [],
   "source": [
    "# отбор части датафрейма, фиксирующей обучение пользователей\n",
    "learned_users = data.query('event_name == \"learning\"')"
   ]
  },
  {
   "cell_type": "code",
   "execution_count": 73,
   "id": "b3f989f0",
   "metadata": {},
   "outputs": [],
   "source": [
    "learned_users['event_data'] = learned_users['event_data'].apply(literal_eval)"
   ]
  },
  {
   "cell_type": "code",
   "execution_count": 74,
   "id": "27cdc0d3",
   "metadata": {},
   "outputs": [],
   "source": [
    "# распаковка столбца event_data в отдельный датафрейм\n",
    "learn_data = pd.json_normalize(data = learned_users['event_data'], \n",
    "                            meta =['name', 'level'])"
   ]
  },
  {
   "cell_type": "code",
   "execution_count": 75,
   "id": "0d9beaeb",
   "metadata": {},
   "outputs": [
    {
     "data": {
      "text/html": [
       "<div>\n",
       "<style scoped>\n",
       "    .dataframe tbody tr th:only-of-type {\n",
       "        vertical-align: middle;\n",
       "    }\n",
       "\n",
       "    .dataframe tbody tr th {\n",
       "        vertical-align: top;\n",
       "    }\n",
       "\n",
       "    .dataframe thead th {\n",
       "        text-align: right;\n",
       "    }\n",
       "</style>\n",
       "<table border=\"1\" class=\"dataframe\">\n",
       "  <thead>\n",
       "    <tr style=\"text-align: right;\">\n",
       "      <th></th>\n",
       "      <th>name</th>\n",
       "      <th>level</th>\n",
       "    </tr>\n",
       "  </thead>\n",
       "  <tbody>\n",
       "    <tr>\n",
       "      <th>0</th>\n",
       "      <td>CRUISE_USE_BOOSTERS_MORE</td>\n",
       "      <td>82</td>\n",
       "    </tr>\n",
       "    <tr>\n",
       "      <th>1</th>\n",
       "      <td>CRUISE_USE_BOOSTERS_MORE</td>\n",
       "      <td>192</td>\n",
       "    </tr>\n",
       "    <tr>\n",
       "      <th>2</th>\n",
       "      <td>CRUISE_USE_BOOSTERS_MORE</td>\n",
       "      <td>82</td>\n",
       "    </tr>\n",
       "    <tr>\n",
       "      <th>3</th>\n",
       "      <td>CRUISE_USE_BOOSTERS_MORE</td>\n",
       "      <td>82</td>\n",
       "    </tr>\n",
       "    <tr>\n",
       "      <th>4</th>\n",
       "      <td>CRUISE_USE_BOOSTERS_MORE</td>\n",
       "      <td>194</td>\n",
       "    </tr>\n",
       "    <tr>\n",
       "      <th>...</th>\n",
       "      <td>...</td>\n",
       "      <td>...</td>\n",
       "    </tr>\n",
       "    <tr>\n",
       "      <th>83867</th>\n",
       "      <td>CRUISE_USE_BOOSTERS_MORE</td>\n",
       "      <td>189</td>\n",
       "    </tr>\n",
       "    <tr>\n",
       "      <th>83868</th>\n",
       "      <td>CRUISE_USE_BOOSTERS_MORE</td>\n",
       "      <td>80</td>\n",
       "    </tr>\n",
       "    <tr>\n",
       "      <th>83869</th>\n",
       "      <td>CRUISE_USE_BOOSTERS_MORE</td>\n",
       "      <td>190</td>\n",
       "    </tr>\n",
       "    <tr>\n",
       "      <th>83870</th>\n",
       "      <td>CRUISE_USE_BOOSTERS_MORE</td>\n",
       "      <td>81</td>\n",
       "    </tr>\n",
       "    <tr>\n",
       "      <th>83871</th>\n",
       "      <td>CRUISE_USE_BOOSTERS_MORE</td>\n",
       "      <td>191</td>\n",
       "    </tr>\n",
       "  </tbody>\n",
       "</table>\n",
       "<p>83872 rows × 2 columns</p>\n",
       "</div>"
      ],
      "text/plain": [
       "                           name  level\n",
       "0      CRUISE_USE_BOOSTERS_MORE     82\n",
       "1      CRUISE_USE_BOOSTERS_MORE    192\n",
       "2      CRUISE_USE_BOOSTERS_MORE     82\n",
       "3      CRUISE_USE_BOOSTERS_MORE     82\n",
       "4      CRUISE_USE_BOOSTERS_MORE    194\n",
       "...                         ...    ...\n",
       "83867  CRUISE_USE_BOOSTERS_MORE    189\n",
       "83868  CRUISE_USE_BOOSTERS_MORE     80\n",
       "83869  CRUISE_USE_BOOSTERS_MORE    190\n",
       "83870  CRUISE_USE_BOOSTERS_MORE     81\n",
       "83871  CRUISE_USE_BOOSTERS_MORE    191\n",
       "\n",
       "[83872 rows x 2 columns]"
      ]
     },
     "execution_count": 75,
     "metadata": {},
     "output_type": "execute_result"
    }
   ],
   "source": [
    "learn_data"
   ]
  },
  {
   "cell_type": "markdown",
   "id": "25f95c93",
   "metadata": {},
   "source": [
    "Распаковка json-формата прошла успешно."
   ]
  },
  {
   "cell_type": "code",
   "execution_count": 76,
   "id": "7be4e46a",
   "metadata": {},
   "outputs": [],
   "source": [
    "learned_users = learned_users.drop('index', axis=1)"
   ]
  },
  {
   "cell_type": "code",
   "execution_count": 77,
   "id": "7cd1f80a",
   "metadata": {},
   "outputs": [],
   "source": [
    "# перевод индексов строк в отдельную колонку (для объединения датафреймов по этому столбцу)\n",
    "learn_data.reset_index(level=0, inplace=True)\n",
    "learned_users.reset_index(level=0, inplace=True)"
   ]
  },
  {
   "cell_type": "code",
   "execution_count": 78,
   "id": "549e8d1d",
   "metadata": {},
   "outputs": [],
   "source": [
    "learned_users = learned_users.drop('index', axis=1)"
   ]
  },
  {
   "cell_type": "code",
   "execution_count": 79,
   "id": "9ad2807d",
   "metadata": {},
   "outputs": [],
   "source": [
    "learned_users.reset_index(level=0, inplace=True)"
   ]
  },
  {
   "cell_type": "code",
   "execution_count": 80,
   "id": "65c34f00",
   "metadata": {},
   "outputs": [],
   "source": [
    "# объединение датафреймов learned_users и learn_data (по столбцу index)\n",
    "learn = learned_users.merge(learn_data, on='index')"
   ]
  },
  {
   "cell_type": "code",
   "execution_count": 81,
   "id": "aa78c13d",
   "metadata": {},
   "outputs": [],
   "source": [
    "# удаление столбца event_data (т.к. эти данные уже содержатся в датафрейме)\n",
    "learn = learn.drop('event_data', axis=1)"
   ]
  },
  {
   "cell_type": "code",
   "execution_count": 82,
   "id": "ee9526f2",
   "metadata": {},
   "outputs": [
    {
     "data": {
      "text/html": [
       "<div>\n",
       "<style scoped>\n",
       "    .dataframe tbody tr th:only-of-type {\n",
       "        vertical-align: middle;\n",
       "    }\n",
       "\n",
       "    .dataframe tbody tr th {\n",
       "        vertical-align: top;\n",
       "    }\n",
       "\n",
       "    .dataframe thead th {\n",
       "        text-align: right;\n",
       "    }\n",
       "</style>\n",
       "<table border=\"1\" class=\"dataframe\">\n",
       "  <thead>\n",
       "    <tr style=\"text-align: right;\">\n",
       "      <th></th>\n",
       "      <th>index</th>\n",
       "      <th>user_id</th>\n",
       "      <th>media_source</th>\n",
       "      <th>client_time</th>\n",
       "      <th>session_index</th>\n",
       "      <th>event_name</th>\n",
       "      <th>coins</th>\n",
       "      <th>freeRounds</th>\n",
       "      <th>freeUndo</th>\n",
       "      <th>freeWildCard</th>\n",
       "      <th>...</th>\n",
       "      <th>level_x</th>\n",
       "      <th>map</th>\n",
       "      <th>bet</th>\n",
       "      <th>gladeId</th>\n",
       "      <th>league</th>\n",
       "      <th>VIPPointsAmount</th>\n",
       "      <th>VIPStatus</th>\n",
       "      <th>gameType</th>\n",
       "      <th>name</th>\n",
       "      <th>level_y</th>\n",
       "    </tr>\n",
       "  </thead>\n",
       "  <tbody>\n",
       "    <tr>\n",
       "      <th>0</th>\n",
       "      <td>0</td>\n",
       "      <td>60bb736b12667e6a8d107774</td>\n",
       "      <td>organic</td>\n",
       "      <td>2021-06-10 09:47:19</td>\n",
       "      <td>17</td>\n",
       "      <td>learning</td>\n",
       "      <td>37435</td>\n",
       "      <td>0</td>\n",
       "      <td>1</td>\n",
       "      <td>2</td>\n",
       "      <td>...</td>\n",
       "      <td>150</td>\n",
       "      <td>1</td>\n",
       "      <td>1.0</td>\n",
       "      <td>6.0</td>\n",
       "      <td>1.0</td>\n",
       "      <td>NaN</td>\n",
       "      <td>NaN</td>\n",
       "      <td>0.0</td>\n",
       "      <td>CRUISE_USE_BOOSTERS_MORE</td>\n",
       "      <td>82</td>\n",
       "    </tr>\n",
       "    <tr>\n",
       "      <th>1</th>\n",
       "      <td>1</td>\n",
       "      <td>60bba5ea7c80da6a9442cbf3</td>\n",
       "      <td>ad-traffic</td>\n",
       "      <td>2021-06-10 09:47:34</td>\n",
       "      <td>156</td>\n",
       "      <td>learning</td>\n",
       "      <td>148586</td>\n",
       "      <td>0</td>\n",
       "      <td>0</td>\n",
       "      <td>0</td>\n",
       "      <td>...</td>\n",
       "      <td>280</td>\n",
       "      <td>2</td>\n",
       "      <td>3.0</td>\n",
       "      <td>13.0</td>\n",
       "      <td>1.0</td>\n",
       "      <td>NaN</td>\n",
       "      <td>NaN</td>\n",
       "      <td>0.0</td>\n",
       "      <td>CRUISE_USE_BOOSTERS_MORE</td>\n",
       "      <td>192</td>\n",
       "    </tr>\n",
       "    <tr>\n",
       "      <th>2</th>\n",
       "      <td>2</td>\n",
       "      <td>60bb736b12667e6a8d107774</td>\n",
       "      <td>organic</td>\n",
       "      <td>2021-06-10 09:48:17</td>\n",
       "      <td>17</td>\n",
       "      <td>learning</td>\n",
       "      <td>35022</td>\n",
       "      <td>0</td>\n",
       "      <td>1</td>\n",
       "      <td>2</td>\n",
       "      <td>...</td>\n",
       "      <td>151</td>\n",
       "      <td>1</td>\n",
       "      <td>1.0</td>\n",
       "      <td>6.0</td>\n",
       "      <td>1.0</td>\n",
       "      <td>NaN</td>\n",
       "      <td>NaN</td>\n",
       "      <td>0.0</td>\n",
       "      <td>CRUISE_USE_BOOSTERS_MORE</td>\n",
       "      <td>82</td>\n",
       "    </tr>\n",
       "    <tr>\n",
       "      <th>3</th>\n",
       "      <td>3</td>\n",
       "      <td>60bb736b12667e6a8d107774</td>\n",
       "      <td>organic</td>\n",
       "      <td>2021-06-10 09:49:21</td>\n",
       "      <td>17</td>\n",
       "      <td>learning</td>\n",
       "      <td>32377</td>\n",
       "      <td>0</td>\n",
       "      <td>1</td>\n",
       "      <td>2</td>\n",
       "      <td>...</td>\n",
       "      <td>152</td>\n",
       "      <td>1</td>\n",
       "      <td>1.0</td>\n",
       "      <td>6.0</td>\n",
       "      <td>1.0</td>\n",
       "      <td>NaN</td>\n",
       "      <td>NaN</td>\n",
       "      <td>0.0</td>\n",
       "      <td>CRUISE_USE_BOOSTERS_MORE</td>\n",
       "      <td>82</td>\n",
       "    </tr>\n",
       "    <tr>\n",
       "      <th>4</th>\n",
       "      <td>4</td>\n",
       "      <td>60bba5ea7c80da6a9442cbf3</td>\n",
       "      <td>ad-traffic</td>\n",
       "      <td>2021-06-10 09:50:09</td>\n",
       "      <td>156</td>\n",
       "      <td>learning</td>\n",
       "      <td>150099</td>\n",
       "      <td>0</td>\n",
       "      <td>1</td>\n",
       "      <td>0</td>\n",
       "      <td>...</td>\n",
       "      <td>282</td>\n",
       "      <td>2</td>\n",
       "      <td>3.0</td>\n",
       "      <td>14.0</td>\n",
       "      <td>1.0</td>\n",
       "      <td>NaN</td>\n",
       "      <td>NaN</td>\n",
       "      <td>0.0</td>\n",
       "      <td>CRUISE_USE_BOOSTERS_MORE</td>\n",
       "      <td>194</td>\n",
       "    </tr>\n",
       "    <tr>\n",
       "      <th>...</th>\n",
       "      <td>...</td>\n",
       "      <td>...</td>\n",
       "      <td>...</td>\n",
       "      <td>...</td>\n",
       "      <td>...</td>\n",
       "      <td>...</td>\n",
       "      <td>...</td>\n",
       "      <td>...</td>\n",
       "      <td>...</td>\n",
       "      <td>...</td>\n",
       "      <td>...</td>\n",
       "      <td>...</td>\n",
       "      <td>...</td>\n",
       "      <td>...</td>\n",
       "      <td>...</td>\n",
       "      <td>...</td>\n",
       "      <td>...</td>\n",
       "      <td>...</td>\n",
       "      <td>...</td>\n",
       "      <td>...</td>\n",
       "      <td>...</td>\n",
       "    </tr>\n",
       "    <tr>\n",
       "      <th>83867</th>\n",
       "      <td>83867</td>\n",
       "      <td>60bba5ea7c80da6a9442cbf3</td>\n",
       "      <td>ad-traffic</td>\n",
       "      <td>2021-06-10 09:43:54</td>\n",
       "      <td>156</td>\n",
       "      <td>learning</td>\n",
       "      <td>176302</td>\n",
       "      <td>0</td>\n",
       "      <td>0</td>\n",
       "      <td>0</td>\n",
       "      <td>...</td>\n",
       "      <td>276</td>\n",
       "      <td>2</td>\n",
       "      <td>3.0</td>\n",
       "      <td>13.0</td>\n",
       "      <td>1.0</td>\n",
       "      <td>NaN</td>\n",
       "      <td>NaN</td>\n",
       "      <td>0.0</td>\n",
       "      <td>CRUISE_USE_BOOSTERS_MORE</td>\n",
       "      <td>189</td>\n",
       "    </tr>\n",
       "    <tr>\n",
       "      <th>83868</th>\n",
       "      <td>83868</td>\n",
       "      <td>60bb736b12667e6a8d107774</td>\n",
       "      <td>organic</td>\n",
       "      <td>2021-06-10 09:44:25</td>\n",
       "      <td>17</td>\n",
       "      <td>learning</td>\n",
       "      <td>38668</td>\n",
       "      <td>0</td>\n",
       "      <td>1</td>\n",
       "      <td>3</td>\n",
       "      <td>...</td>\n",
       "      <td>148</td>\n",
       "      <td>1</td>\n",
       "      <td>1.0</td>\n",
       "      <td>6.0</td>\n",
       "      <td>1.0</td>\n",
       "      <td>NaN</td>\n",
       "      <td>NaN</td>\n",
       "      <td>0.0</td>\n",
       "      <td>CRUISE_USE_BOOSTERS_MORE</td>\n",
       "      <td>80</td>\n",
       "    </tr>\n",
       "    <tr>\n",
       "      <th>83869</th>\n",
       "      <td>83869</td>\n",
       "      <td>60bba5ea7c80da6a9442cbf3</td>\n",
       "      <td>ad-traffic</td>\n",
       "      <td>2021-06-10 09:45:28</td>\n",
       "      <td>156</td>\n",
       "      <td>learning</td>\n",
       "      <td>165185</td>\n",
       "      <td>0</td>\n",
       "      <td>0</td>\n",
       "      <td>0</td>\n",
       "      <td>...</td>\n",
       "      <td>278</td>\n",
       "      <td>2</td>\n",
       "      <td>3.0</td>\n",
       "      <td>13.0</td>\n",
       "      <td>1.0</td>\n",
       "      <td>NaN</td>\n",
       "      <td>NaN</td>\n",
       "      <td>0.0</td>\n",
       "      <td>CRUISE_USE_BOOSTERS_MORE</td>\n",
       "      <td>190</td>\n",
       "    </tr>\n",
       "    <tr>\n",
       "      <th>83870</th>\n",
       "      <td>83870</td>\n",
       "      <td>60bb736b12667e6a8d107774</td>\n",
       "      <td>organic</td>\n",
       "      <td>2021-06-10 09:45:38</td>\n",
       "      <td>17</td>\n",
       "      <td>learning</td>\n",
       "      <td>36571</td>\n",
       "      <td>0</td>\n",
       "      <td>1</td>\n",
       "      <td>3</td>\n",
       "      <td>...</td>\n",
       "      <td>149</td>\n",
       "      <td>1</td>\n",
       "      <td>1.0</td>\n",
       "      <td>6.0</td>\n",
       "      <td>1.0</td>\n",
       "      <td>NaN</td>\n",
       "      <td>NaN</td>\n",
       "      <td>0.0</td>\n",
       "      <td>CRUISE_USE_BOOSTERS_MORE</td>\n",
       "      <td>81</td>\n",
       "    </tr>\n",
       "    <tr>\n",
       "      <th>83871</th>\n",
       "      <td>83871</td>\n",
       "      <td>60bba5ea7c80da6a9442cbf3</td>\n",
       "      <td>ad-traffic</td>\n",
       "      <td>2021-06-10 09:46:37</td>\n",
       "      <td>156</td>\n",
       "      <td>learning</td>\n",
       "      <td>156609</td>\n",
       "      <td>0</td>\n",
       "      <td>0</td>\n",
       "      <td>0</td>\n",
       "      <td>...</td>\n",
       "      <td>279</td>\n",
       "      <td>2</td>\n",
       "      <td>3.0</td>\n",
       "      <td>13.0</td>\n",
       "      <td>1.0</td>\n",
       "      <td>NaN</td>\n",
       "      <td>NaN</td>\n",
       "      <td>0.0</td>\n",
       "      <td>CRUISE_USE_BOOSTERS_MORE</td>\n",
       "      <td>191</td>\n",
       "    </tr>\n",
       "  </tbody>\n",
       "</table>\n",
       "<p>83872 rows × 21 columns</p>\n",
       "</div>"
      ],
      "text/plain": [
       "       index                   user_id media_source         client_time  \\\n",
       "0          0  60bb736b12667e6a8d107774      organic 2021-06-10 09:47:19   \n",
       "1          1  60bba5ea7c80da6a9442cbf3   ad-traffic 2021-06-10 09:47:34   \n",
       "2          2  60bb736b12667e6a8d107774      organic 2021-06-10 09:48:17   \n",
       "3          3  60bb736b12667e6a8d107774      organic 2021-06-10 09:49:21   \n",
       "4          4  60bba5ea7c80da6a9442cbf3   ad-traffic 2021-06-10 09:50:09   \n",
       "...      ...                       ...          ...                 ...   \n",
       "83867  83867  60bba5ea7c80da6a9442cbf3   ad-traffic 2021-06-10 09:43:54   \n",
       "83868  83868  60bb736b12667e6a8d107774      organic 2021-06-10 09:44:25   \n",
       "83869  83869  60bba5ea7c80da6a9442cbf3   ad-traffic 2021-06-10 09:45:28   \n",
       "83870  83870  60bb736b12667e6a8d107774      organic 2021-06-10 09:45:38   \n",
       "83871  83871  60bba5ea7c80da6a9442cbf3   ad-traffic 2021-06-10 09:46:37   \n",
       "\n",
       "       session_index event_name   coins  freeRounds  freeUndo  freeWildCard  \\\n",
       "0                 17   learning   37435           0         1             2   \n",
       "1                156   learning  148586           0         0             0   \n",
       "2                 17   learning   35022           0         1             2   \n",
       "3                 17   learning   32377           0         1             2   \n",
       "4                156   learning  150099           0         1             0   \n",
       "...              ...        ...     ...         ...       ...           ...   \n",
       "83867            156   learning  176302           0         0             0   \n",
       "83868             17   learning   38668           0         1             3   \n",
       "83869            156   learning  165185           0         0             0   \n",
       "83870             17   learning   36571           0         1             3   \n",
       "83871            156   learning  156609           0         0             0   \n",
       "\n",
       "       ...  level_x  map  bet  gladeId  league  VIPPointsAmount  VIPStatus  \\\n",
       "0      ...      150    1  1.0      6.0     1.0              NaN        NaN   \n",
       "1      ...      280    2  3.0     13.0     1.0              NaN        NaN   \n",
       "2      ...      151    1  1.0      6.0     1.0              NaN        NaN   \n",
       "3      ...      152    1  1.0      6.0     1.0              NaN        NaN   \n",
       "4      ...      282    2  3.0     14.0     1.0              NaN        NaN   \n",
       "...    ...      ...  ...  ...      ...     ...              ...        ...   \n",
       "83867  ...      276    2  3.0     13.0     1.0              NaN        NaN   \n",
       "83868  ...      148    1  1.0      6.0     1.0              NaN        NaN   \n",
       "83869  ...      278    2  3.0     13.0     1.0              NaN        NaN   \n",
       "83870  ...      149    1  1.0      6.0     1.0              NaN        NaN   \n",
       "83871  ...      279    2  3.0     13.0     1.0              NaN        NaN   \n",
       "\n",
       "       gameType                      name level_y  \n",
       "0           0.0  CRUISE_USE_BOOSTERS_MORE      82  \n",
       "1           0.0  CRUISE_USE_BOOSTERS_MORE     192  \n",
       "2           0.0  CRUISE_USE_BOOSTERS_MORE      82  \n",
       "3           0.0  CRUISE_USE_BOOSTERS_MORE      82  \n",
       "4           0.0  CRUISE_USE_BOOSTERS_MORE     194  \n",
       "...         ...                       ...     ...  \n",
       "83867       0.0  CRUISE_USE_BOOSTERS_MORE     189  \n",
       "83868       0.0  CRUISE_USE_BOOSTERS_MORE      80  \n",
       "83869       0.0  CRUISE_USE_BOOSTERS_MORE     190  \n",
       "83870       0.0  CRUISE_USE_BOOSTERS_MORE      81  \n",
       "83871       0.0  CRUISE_USE_BOOSTERS_MORE     191  \n",
       "\n",
       "[83872 rows x 21 columns]"
      ]
     },
     "execution_count": 82,
     "metadata": {},
     "output_type": "execute_result"
    }
   ],
   "source": [
    "learn"
   ]
  },
  {
   "cell_type": "markdown",
   "id": "6729d65e",
   "metadata": {},
   "source": [
    "Объединение датафреймов learned_users и learn_data произошло успешно. Данные готовы к анализу."
   ]
  },
  {
   "cell_type": "code",
   "execution_count": 83,
   "id": "8c1942d7",
   "metadata": {},
   "outputs": [],
   "source": [
    "# сохранение датафрейма learn в csv-файл (для построения визуализаций на основе этих данных)\n",
    "learn.to_csv('learn_data.csv')"
   ]
  },
  {
   "cell_type": "code",
   "execution_count": 84,
   "id": "a28b1396",
   "metadata": {},
   "outputs": [
    {
     "data": {
      "text/html": [
       "<div>\n",
       "<style scoped>\n",
       "    .dataframe tbody tr th:only-of-type {\n",
       "        vertical-align: middle;\n",
       "    }\n",
       "\n",
       "    .dataframe tbody tr th {\n",
       "        vertical-align: top;\n",
       "    }\n",
       "\n",
       "    .dataframe thead th {\n",
       "        text-align: right;\n",
       "    }\n",
       "</style>\n",
       "<table border=\"1\" class=\"dataframe\">\n",
       "  <thead>\n",
       "    <tr style=\"text-align: right;\">\n",
       "      <th></th>\n",
       "      <th>level</th>\n",
       "      <th>amount_of_tips</th>\n",
       "    </tr>\n",
       "  </thead>\n",
       "  <tbody>\n",
       "    <tr>\n",
       "      <th>1</th>\n",
       "      <td>2</td>\n",
       "      <td>3190</td>\n",
       "    </tr>\n",
       "    <tr>\n",
       "      <th>13</th>\n",
       "      <td>14</td>\n",
       "      <td>2798</td>\n",
       "    </tr>\n",
       "    <tr>\n",
       "      <th>6</th>\n",
       "      <td>7</td>\n",
       "      <td>2561</td>\n",
       "    </tr>\n",
       "    <tr>\n",
       "      <th>4</th>\n",
       "      <td>5</td>\n",
       "      <td>2545</td>\n",
       "    </tr>\n",
       "    <tr>\n",
       "      <th>12</th>\n",
       "      <td>13</td>\n",
       "      <td>2503</td>\n",
       "    </tr>\n",
       "    <tr>\n",
       "      <th>...</th>\n",
       "      <td>...</td>\n",
       "      <td>...</td>\n",
       "    </tr>\n",
       "    <tr>\n",
       "      <th>330</th>\n",
       "      <td>356</td>\n",
       "      <td>1</td>\n",
       "    </tr>\n",
       "    <tr>\n",
       "      <th>325</th>\n",
       "      <td>349</td>\n",
       "      <td>1</td>\n",
       "    </tr>\n",
       "    <tr>\n",
       "      <th>324</th>\n",
       "      <td>347</td>\n",
       "      <td>1</td>\n",
       "    </tr>\n",
       "    <tr>\n",
       "      <th>323</th>\n",
       "      <td>346</td>\n",
       "      <td>1</td>\n",
       "    </tr>\n",
       "    <tr>\n",
       "      <th>406</th>\n",
       "      <td>494</td>\n",
       "      <td>1</td>\n",
       "    </tr>\n",
       "  </tbody>\n",
       "</table>\n",
       "<p>407 rows × 2 columns</p>\n",
       "</div>"
      ],
      "text/plain": [
       "     level  amount_of_tips\n",
       "1        2            3190\n",
       "13      14            2798\n",
       "6        7            2561\n",
       "4        5            2545\n",
       "12      13            2503\n",
       "..     ...             ...\n",
       "330    356               1\n",
       "325    349               1\n",
       "324    347               1\n",
       "323    346               1\n",
       "406    494               1\n",
       "\n",
       "[407 rows x 2 columns]"
      ]
     },
     "execution_count": 84,
     "metadata": {},
     "output_type": "execute_result"
    }
   ],
   "source": [
    "# подсчет количества подсказок, использованных на каком-либо уровне\n",
    "learn.groupby('level_y', as_index=False) \\\n",
    "    .agg({'user_id':'count'}) \\\n",
    "    .sort_values(by='user_id', ascending=False) \\\n",
    "    .rename(columns={'level_y':'level', 'user_id':'amount_of_tips'})"
   ]
  },
  {
   "cell_type": "code",
   "execution_count": 85,
   "id": "55d820c4",
   "metadata": {},
   "outputs": [],
   "source": [
    "# аналогично, но сортировка по уровням\n",
    "level_tips = learn.groupby('level_y', as_index=False) \\\n",
    "    .agg({'user_id':'count'}) \\\n",
    "    .sort_values(by='level_y') \\\n",
    "    .rename(columns={'level_y':'level','user_id':'amount_of_tips'})"
   ]
  },
  {
   "cell_type": "code",
   "execution_count": 86,
   "id": "3684fed7",
   "metadata": {},
   "outputs": [
    {
     "data": {
      "text/html": [
       "<div>\n",
       "<style scoped>\n",
       "    .dataframe tbody tr th:only-of-type {\n",
       "        vertical-align: middle;\n",
       "    }\n",
       "\n",
       "    .dataframe tbody tr th {\n",
       "        vertical-align: top;\n",
       "    }\n",
       "\n",
       "    .dataframe thead th {\n",
       "        text-align: right;\n",
       "    }\n",
       "</style>\n",
       "<table border=\"1\" class=\"dataframe\">\n",
       "  <thead>\n",
       "    <tr style=\"text-align: right;\">\n",
       "      <th></th>\n",
       "      <th>level</th>\n",
       "      <th>amount_of_tips</th>\n",
       "    </tr>\n",
       "  </thead>\n",
       "  <tbody>\n",
       "    <tr>\n",
       "      <th>0</th>\n",
       "      <td>1</td>\n",
       "      <td>2363</td>\n",
       "    </tr>\n",
       "    <tr>\n",
       "      <th>1</th>\n",
       "      <td>2</td>\n",
       "      <td>3190</td>\n",
       "    </tr>\n",
       "    <tr>\n",
       "      <th>2</th>\n",
       "      <td>3</td>\n",
       "      <td>2026</td>\n",
       "    </tr>\n",
       "    <tr>\n",
       "      <th>3</th>\n",
       "      <td>4</td>\n",
       "      <td>2430</td>\n",
       "    </tr>\n",
       "    <tr>\n",
       "      <th>4</th>\n",
       "      <td>5</td>\n",
       "      <td>2545</td>\n",
       "    </tr>\n",
       "    <tr>\n",
       "      <th>...</th>\n",
       "      <td>...</td>\n",
       "      <td>...</td>\n",
       "    </tr>\n",
       "    <tr>\n",
       "      <th>402</th>\n",
       "      <td>488</td>\n",
       "      <td>2</td>\n",
       "    </tr>\n",
       "    <tr>\n",
       "      <th>403</th>\n",
       "      <td>490</td>\n",
       "      <td>2</td>\n",
       "    </tr>\n",
       "    <tr>\n",
       "      <th>404</th>\n",
       "      <td>491</td>\n",
       "      <td>1</td>\n",
       "    </tr>\n",
       "    <tr>\n",
       "      <th>405</th>\n",
       "      <td>493</td>\n",
       "      <td>3</td>\n",
       "    </tr>\n",
       "    <tr>\n",
       "      <th>406</th>\n",
       "      <td>494</td>\n",
       "      <td>1</td>\n",
       "    </tr>\n",
       "  </tbody>\n",
       "</table>\n",
       "<p>407 rows × 2 columns</p>\n",
       "</div>"
      ],
      "text/plain": [
       "     level  amount_of_tips\n",
       "0        1            2363\n",
       "1        2            3190\n",
       "2        3            2026\n",
       "3        4            2430\n",
       "4        5            2545\n",
       "..     ...             ...\n",
       "402    488               2\n",
       "403    490               2\n",
       "404    491               1\n",
       "405    493               3\n",
       "406    494               1\n",
       "\n",
       "[407 rows x 2 columns]"
      ]
     },
     "execution_count": 86,
     "metadata": {},
     "output_type": "execute_result"
    }
   ],
   "source": [
    "level_tips"
   ]
  },
  {
   "cell_type": "code",
   "execution_count": 87,
   "id": "c1aa44d8",
   "metadata": {},
   "outputs": [
    {
     "data": {
      "text/plain": [
       "([], [])"
      ]
     },
     "execution_count": 87,
     "metadata": {},
     "output_type": "execute_result"
    },
    {
     "data": {
      "image/png": "[encoded data removed]",
      "text/plain": [
       "<Figure size 864x720 with 1 Axes>"
      ]
     },
     "metadata": {
      "needs_background": "light"
     },
     "output_type": "display_data"
    }
   ],
   "source": [
    "plt.figure(figsize=(12, 10))\n",
    "sns.countplot(data=learn, x='level_y', color='xkcd:soft green')\n",
    "plt.suptitle('Количество использованных на каждом уровне подсказок', y=0.92)\n",
    "plt.xlabel('level')\n",
    "plt.ylabel('amount of tips')\n",
    "plt.xticks([])"
   ]
  },
  {
   "cell_type": "markdown",
   "id": "f26f4e51",
   "metadata": {},
   "source": [
    "Туториальные подсказки гораздо чаще используются на начальных уровнях игры, что вполне логично, поскольку:\n",
    "- обучение пользователей происходит именно на начальных этапах игры\n",
    "- на начальных этапах игры пользователи, как правило, еще не обладают достаточным опытом для игры без подсказок"
   ]
  },
  {
   "cell_type": "code",
   "execution_count": 88,
   "id": "2b8af90d",
   "metadata": {},
   "outputs": [],
   "source": [
    "# подсчет количества туториальных подсказок, использованных каждым игроком \n",
    "user_id_tips = learn.groupby('user_id', as_index=False) \\\n",
    "    .agg({'media_source':'count'}) \\\n",
    "    .sort_values(by='media_source', ascending=False) \\\n",
    "    .rename(columns={'media_source':'amount_of_tips'})"
   ]
  },
  {
   "cell_type": "code",
   "execution_count": 89,
   "id": "d4e79955",
   "metadata": {},
   "outputs": [
    {
     "data": {
      "text/html": [
       "<div>\n",
       "<style scoped>\n",
       "    .dataframe tbody tr th:only-of-type {\n",
       "        vertical-align: middle;\n",
       "    }\n",
       "\n",
       "    .dataframe tbody tr th {\n",
       "        vertical-align: top;\n",
       "    }\n",
       "\n",
       "    .dataframe thead th {\n",
       "        text-align: right;\n",
       "    }\n",
       "</style>\n",
       "<table border=\"1\" class=\"dataframe\">\n",
       "  <thead>\n",
       "    <tr style=\"text-align: right;\">\n",
       "      <th></th>\n",
       "      <th>user_id</th>\n",
       "      <th>amount_of_tips</th>\n",
       "    </tr>\n",
       "  </thead>\n",
       "  <tbody>\n",
       "    <tr>\n",
       "      <th>265</th>\n",
       "      <td>60bb8a867c80da6a9442cbe7</td>\n",
       "      <td>1128</td>\n",
       "    </tr>\n",
       "    <tr>\n",
       "      <th>101</th>\n",
       "      <td>60bb18f173c31e6a292b7a5c</td>\n",
       "      <td>1116</td>\n",
       "    </tr>\n",
       "    <tr>\n",
       "      <th>413</th>\n",
       "      <td>60bbfcbd7c80da6a9442cc1c</td>\n",
       "      <td>878</td>\n",
       "    </tr>\n",
       "    <tr>\n",
       "      <th>241</th>\n",
       "      <td>60bb7b8273c31e6a292b7a94</td>\n",
       "      <td>853</td>\n",
       "    </tr>\n",
       "    <tr>\n",
       "      <th>96</th>\n",
       "      <td>60bb11f812667e6a8d10774d</td>\n",
       "      <td>798</td>\n",
       "    </tr>\n",
       "    <tr>\n",
       "      <th>...</th>\n",
       "      <td>...</td>\n",
       "      <td>...</td>\n",
       "    </tr>\n",
       "    <tr>\n",
       "      <th>56</th>\n",
       "      <td>60baf54612667e6a8d10773f</td>\n",
       "      <td>2</td>\n",
       "    </tr>\n",
       "    <tr>\n",
       "      <th>284</th>\n",
       "      <td>60bb98044770af6a2faa05b8</td>\n",
       "      <td>2</td>\n",
       "    </tr>\n",
       "    <tr>\n",
       "      <th>200</th>\n",
       "      <td>60bb5acf7c80da6a9442cbd4</td>\n",
       "      <td>2</td>\n",
       "    </tr>\n",
       "    <tr>\n",
       "      <th>226</th>\n",
       "      <td>60bb724712667e6a8d107773</td>\n",
       "      <td>2</td>\n",
       "    </tr>\n",
       "    <tr>\n",
       "      <th>146</th>\n",
       "      <td>60bb34fc73c31e6a292b7a71</td>\n",
       "      <td>1</td>\n",
       "    </tr>\n",
       "  </tbody>\n",
       "</table>\n",
       "<p>446 rows × 2 columns</p>\n",
       "</div>"
      ],
      "text/plain": [
       "                      user_id  amount_of_tips\n",
       "265  60bb8a867c80da6a9442cbe7            1128\n",
       "101  60bb18f173c31e6a292b7a5c            1116\n",
       "413  60bbfcbd7c80da6a9442cc1c             878\n",
       "241  60bb7b8273c31e6a292b7a94             853\n",
       "96   60bb11f812667e6a8d10774d             798\n",
       "..                        ...             ...\n",
       "56   60baf54612667e6a8d10773f               2\n",
       "284  60bb98044770af6a2faa05b8               2\n",
       "200  60bb5acf7c80da6a9442cbd4               2\n",
       "226  60bb724712667e6a8d107773               2\n",
       "146  60bb34fc73c31e6a292b7a71               1\n",
       "\n",
       "[446 rows x 2 columns]"
      ]
     },
     "execution_count": 89,
     "metadata": {},
     "output_type": "execute_result"
    }
   ],
   "source": [
    "user_id_tips"
   ]
  },
  {
   "cell_type": "code",
   "execution_count": 90,
   "id": "c4af746d",
   "metadata": {},
   "outputs": [
    {
     "data": {
      "text/plain": [
       "['60bb1a304770af6a2faa0575',\n",
       " '60bb857d7c80da6a9442cbe1',\n",
       " '60bac91d7c80da6a9442cb88',\n",
       " '60bb7ce14770af6a2faa05a9',\n",
       " '60bad8307c80da6a9442cb91',\n",
       " '60bb27ab73c31e6a292b7a67',\n",
       " '60baf0124770af6a2faa0567',\n",
       " '60bbab8712667e6a8d107794',\n",
       " '60bb41014770af6a2faa058e',\n",
       " '60bbbf587c80da6a9442cbfd',\n",
       " '60bac9e07c80da6a9442cb89',\n",
       " '60bbe09f4770af6a2faa05e1',\n",
       " '60bb9ea24770af6a2faa05bc',\n",
       " '60bb63eb12667e6a8d10776e',\n",
       " '60bb0e3c7c80da6a9442cba8',\n",
       " '60bb513d4770af6a2faa0593',\n",
       " '60bbcd294770af6a2faa05d5',\n",
       " '60bb11f812667e6a8d10774d',\n",
       " '60bb7b8273c31e6a292b7a94',\n",
       " '60bbfcbd7c80da6a9442cc1c',\n",
       " '60bb18f173c31e6a292b7a5c',\n",
       " '60bb8a867c80da6a9442cbe7']"
      ]
     },
     "execution_count": 90,
     "metadata": {},
     "output_type": "execute_result"
    }
   ],
   "source": [
    "# выбор игроков, которые воспользовались максимальным числом подказок \n",
    "user_id_tips.query('amount_of_tips > amount_of_tips.quantile(0.95)') \\\n",
    "    .sort_values(by='amount_of_tips').user_id.tolist()"
   ]
  },
  {
   "cell_type": "code",
   "execution_count": 91,
   "id": "6af93de7",
   "metadata": {},
   "outputs": [
    {
     "data": {
      "text/plain": [
       "549.0"
      ]
     },
     "execution_count": 91,
     "metadata": {},
     "output_type": "execute_result"
    }
   ],
   "source": [
    "user_id_tips.amount_of_tips.quantile(0.95)"
   ]
  },
  {
   "cell_type": "markdown",
   "id": "46329b38",
   "metadata": {},
   "source": [
    "Игроки, список которых приведен выше, воспользовались максимальным числом туториальных подсказок (более 549, т.е. более 95-го процентиля). В качестве граничного значения выбран 95-й процентиль, поскольку это значение позволяет отобрать только самых преданных игре пользователей."
   ]
  },
  {
   "cell_type": "code",
   "execution_count": 92,
   "id": "d01adaf0",
   "metadata": {},
   "outputs": [],
   "source": [
    "# подсчет количества подсказок, использованных пользователями, пришедшими из определенного источника \n",
    "source_tips = learn.groupby(['media_source', 'user_id'], as_index=False) \\\n",
    "    .agg({'index':'count'}) \\\n",
    "    .sort_values(by='index', ascending=False) \\\n",
    "    .rename(columns={'index':'amount_of_tips'})"
   ]
  },
  {
   "cell_type": "code",
   "execution_count": 93,
   "id": "0d878242",
   "metadata": {},
   "outputs": [
    {
     "data": {
      "text/html": [
       "<div>\n",
       "<style scoped>\n",
       "    .dataframe tbody tr th:only-of-type {\n",
       "        vertical-align: middle;\n",
       "    }\n",
       "\n",
       "    .dataframe tbody tr th {\n",
       "        vertical-align: top;\n",
       "    }\n",
       "\n",
       "    .dataframe thead th {\n",
       "        text-align: right;\n",
       "    }\n",
       "</style>\n",
       "<table border=\"1\" class=\"dataframe\">\n",
       "  <thead>\n",
       "    <tr style=\"text-align: right;\">\n",
       "      <th></th>\n",
       "      <th>media_source</th>\n",
       "      <th>user_id</th>\n",
       "      <th>amount_of_tips</th>\n",
       "    </tr>\n",
       "  </thead>\n",
       "  <tbody>\n",
       "    <tr>\n",
       "      <th>326</th>\n",
       "      <td>organic</td>\n",
       "      <td>60bb8a867c80da6a9442cbe7</td>\n",
       "      <td>1128</td>\n",
       "    </tr>\n",
       "    <tr>\n",
       "      <th>37</th>\n",
       "      <td>ad-traffic</td>\n",
       "      <td>60bb18f173c31e6a292b7a5c</td>\n",
       "      <td>1116</td>\n",
       "    </tr>\n",
       "    <tr>\n",
       "      <th>153</th>\n",
       "      <td>ad-traffic</td>\n",
       "      <td>60bbfcbd7c80da6a9442cc1c</td>\n",
       "      <td>878</td>\n",
       "    </tr>\n",
       "    <tr>\n",
       "      <th>308</th>\n",
       "      <td>organic</td>\n",
       "      <td>60bb7b8273c31e6a292b7a94</td>\n",
       "      <td>853</td>\n",
       "    </tr>\n",
       "    <tr>\n",
       "      <th>220</th>\n",
       "      <td>organic</td>\n",
       "      <td>60bb11f812667e6a8d10774d</td>\n",
       "      <td>798</td>\n",
       "    </tr>\n",
       "    <tr>\n",
       "      <th>...</th>\n",
       "      <td>...</td>\n",
       "      <td>...</td>\n",
       "      <td>...</td>\n",
       "    </tr>\n",
       "    <tr>\n",
       "      <th>378</th>\n",
       "      <td>organic</td>\n",
       "      <td>60bbbfe873c31e6a292b7abe</td>\n",
       "      <td>2</td>\n",
       "    </tr>\n",
       "    <tr>\n",
       "      <th>277</th>\n",
       "      <td>organic</td>\n",
       "      <td>60bb5acf7c80da6a9442cbd4</td>\n",
       "      <td>2</td>\n",
       "    </tr>\n",
       "    <tr>\n",
       "      <th>197</th>\n",
       "      <td>organic</td>\n",
       "      <td>60baf54612667e6a8d10773f</td>\n",
       "      <td>2</td>\n",
       "    </tr>\n",
       "    <tr>\n",
       "      <th>338</th>\n",
       "      <td>organic</td>\n",
       "      <td>60bb98044770af6a2faa05b8</td>\n",
       "      <td>2</td>\n",
       "    </tr>\n",
       "    <tr>\n",
       "      <th>245</th>\n",
       "      <td>organic</td>\n",
       "      <td>60bb34fc73c31e6a292b7a71</td>\n",
       "      <td>1</td>\n",
       "    </tr>\n",
       "  </tbody>\n",
       "</table>\n",
       "<p>446 rows × 3 columns</p>\n",
       "</div>"
      ],
      "text/plain": [
       "    media_source                   user_id  amount_of_tips\n",
       "326      organic  60bb8a867c80da6a9442cbe7            1128\n",
       "37    ad-traffic  60bb18f173c31e6a292b7a5c            1116\n",
       "153   ad-traffic  60bbfcbd7c80da6a9442cc1c             878\n",
       "308      organic  60bb7b8273c31e6a292b7a94             853\n",
       "220      organic  60bb11f812667e6a8d10774d             798\n",
       "..           ...                       ...             ...\n",
       "378      organic  60bbbfe873c31e6a292b7abe               2\n",
       "277      organic  60bb5acf7c80da6a9442cbd4               2\n",
       "197      organic  60baf54612667e6a8d10773f               2\n",
       "338      organic  60bb98044770af6a2faa05b8               2\n",
       "245      organic  60bb34fc73c31e6a292b7a71               1\n",
       "\n",
       "[446 rows x 3 columns]"
      ]
     },
     "execution_count": 93,
     "metadata": {},
     "output_type": "execute_result"
    }
   ],
   "source": [
    "source_tips"
   ]
  },
  {
   "cell_type": "code",
   "execution_count": 94,
   "id": "653e76fc",
   "metadata": {},
   "outputs": [],
   "source": [
    "# подсчет количества пользователей, пришедших по рекламе, и сохранение этого значения в переменную advert_learn_users\n",
    "advert_learn_users = source_tips.query('media_source ==\"ad-traffic\"') \\\n",
    "    .agg({'user_id':'count'}).iloc[0]"
   ]
  },
  {
   "cell_type": "code",
   "execution_count": 95,
   "id": "c978b078",
   "metadata": {},
   "outputs": [
    {
     "data": {
      "text/plain": [
       "159"
      ]
     },
     "execution_count": 95,
     "metadata": {},
     "output_type": "execute_result"
    }
   ],
   "source": [
    "advert_learn_users "
   ]
  },
  {
   "cell_type": "code",
   "execution_count": 96,
   "id": "85120bba",
   "metadata": {},
   "outputs": [],
   "source": [
    "# вычисление доли пользователей, пришедших по рекламе\n",
    "part_advert_learn_users = round(advert_learn_users / amount_of_learned_users * 100, 2)"
   ]
  },
  {
   "cell_type": "code",
   "execution_count": 97,
   "id": "1f19607f",
   "metadata": {},
   "outputs": [
    {
     "data": {
      "text/plain": [
       "35.65"
      ]
     },
     "execution_count": 97,
     "metadata": {},
     "output_type": "execute_result"
    }
   ],
   "source": [
    "part_advert_learn_users"
   ]
  },
  {
   "cell_type": "markdown",
   "id": "4ddc6ba4",
   "metadata": {},
   "source": [
    "Среди пользователей, дошедших до обучения, доля пользователей, пришедших по рекламе, составляет 35.65%.\n",
    "Для сравнения: 35.18% пользователей, установивших приложение, пришло по рекламе.  \n",
    "Вывод: ожидания пользователей от игры при прохождении обучения оправдываются, т.к. количество перешедших по рекламе пользователей не меняется."
   ]
  },
  {
   "cell_type": "code",
   "execution_count": 98,
   "id": "58484281",
   "metadata": {},
   "outputs": [],
   "source": [
    "# создание столбцов, содержащих порядковый номер месяца и дня недели, день и час\n",
    "learn['month'] = learn['client_time'].dt.month \n",
    "learn['day_of_the_week'] = learn['client_time'].dt.weekday + 1\n",
    "learn['day'] = learn['client_time'].dt.day\n",
    "learn['hour'] = learn['client_time'].dt.hour"
   ]
  },
  {
   "cell_type": "code",
   "execution_count": 99,
   "id": "e77c891c",
   "metadata": {},
   "outputs": [
    {
     "data": {
      "text/html": [
       "<div>\n",
       "<style scoped>\n",
       "    .dataframe tbody tr th:only-of-type {\n",
       "        vertical-align: middle;\n",
       "    }\n",
       "\n",
       "    .dataframe tbody tr th {\n",
       "        vertical-align: top;\n",
       "    }\n",
       "\n",
       "    .dataframe thead th {\n",
       "        text-align: right;\n",
       "    }\n",
       "</style>\n",
       "<table border=\"1\" class=\"dataframe\">\n",
       "  <thead>\n",
       "    <tr style=\"text-align: right;\">\n",
       "      <th></th>\n",
       "      <th>index</th>\n",
       "      <th>user_id</th>\n",
       "      <th>media_source</th>\n",
       "      <th>client_time</th>\n",
       "      <th>session_index</th>\n",
       "      <th>event_name</th>\n",
       "      <th>coins</th>\n",
       "      <th>freeRounds</th>\n",
       "      <th>freeUndo</th>\n",
       "      <th>freeWildCard</th>\n",
       "      <th>...</th>\n",
       "      <th>league</th>\n",
       "      <th>VIPPointsAmount</th>\n",
       "      <th>VIPStatus</th>\n",
       "      <th>gameType</th>\n",
       "      <th>name</th>\n",
       "      <th>level_y</th>\n",
       "      <th>month</th>\n",
       "      <th>day_of_the_week</th>\n",
       "      <th>day</th>\n",
       "      <th>hour</th>\n",
       "    </tr>\n",
       "  </thead>\n",
       "  <tbody>\n",
       "    <tr>\n",
       "      <th>0</th>\n",
       "      <td>0</td>\n",
       "      <td>60bb736b12667e6a8d107774</td>\n",
       "      <td>organic</td>\n",
       "      <td>2021-06-10 09:47:19</td>\n",
       "      <td>17</td>\n",
       "      <td>learning</td>\n",
       "      <td>37435</td>\n",
       "      <td>0</td>\n",
       "      <td>1</td>\n",
       "      <td>2</td>\n",
       "      <td>...</td>\n",
       "      <td>1.0</td>\n",
       "      <td>NaN</td>\n",
       "      <td>NaN</td>\n",
       "      <td>0.0</td>\n",
       "      <td>CRUISE_USE_BOOSTERS_MORE</td>\n",
       "      <td>82</td>\n",
       "      <td>6</td>\n",
       "      <td>4</td>\n",
       "      <td>10</td>\n",
       "      <td>9</td>\n",
       "    </tr>\n",
       "    <tr>\n",
       "      <th>1</th>\n",
       "      <td>1</td>\n",
       "      <td>60bba5ea7c80da6a9442cbf3</td>\n",
       "      <td>ad-traffic</td>\n",
       "      <td>2021-06-10 09:47:34</td>\n",
       "      <td>156</td>\n",
       "      <td>learning</td>\n",
       "      <td>148586</td>\n",
       "      <td>0</td>\n",
       "      <td>0</td>\n",
       "      <td>0</td>\n",
       "      <td>...</td>\n",
       "      <td>1.0</td>\n",
       "      <td>NaN</td>\n",
       "      <td>NaN</td>\n",
       "      <td>0.0</td>\n",
       "      <td>CRUISE_USE_BOOSTERS_MORE</td>\n",
       "      <td>192</td>\n",
       "      <td>6</td>\n",
       "      <td>4</td>\n",
       "      <td>10</td>\n",
       "      <td>9</td>\n",
       "    </tr>\n",
       "    <tr>\n",
       "      <th>2</th>\n",
       "      <td>2</td>\n",
       "      <td>60bb736b12667e6a8d107774</td>\n",
       "      <td>organic</td>\n",
       "      <td>2021-06-10 09:48:17</td>\n",
       "      <td>17</td>\n",
       "      <td>learning</td>\n",
       "      <td>35022</td>\n",
       "      <td>0</td>\n",
       "      <td>1</td>\n",
       "      <td>2</td>\n",
       "      <td>...</td>\n",
       "      <td>1.0</td>\n",
       "      <td>NaN</td>\n",
       "      <td>NaN</td>\n",
       "      <td>0.0</td>\n",
       "      <td>CRUISE_USE_BOOSTERS_MORE</td>\n",
       "      <td>82</td>\n",
       "      <td>6</td>\n",
       "      <td>4</td>\n",
       "      <td>10</td>\n",
       "      <td>9</td>\n",
       "    </tr>\n",
       "    <tr>\n",
       "      <th>3</th>\n",
       "      <td>3</td>\n",
       "      <td>60bb736b12667e6a8d107774</td>\n",
       "      <td>organic</td>\n",
       "      <td>2021-06-10 09:49:21</td>\n",
       "      <td>17</td>\n",
       "      <td>learning</td>\n",
       "      <td>32377</td>\n",
       "      <td>0</td>\n",
       "      <td>1</td>\n",
       "      <td>2</td>\n",
       "      <td>...</td>\n",
       "      <td>1.0</td>\n",
       "      <td>NaN</td>\n",
       "      <td>NaN</td>\n",
       "      <td>0.0</td>\n",
       "      <td>CRUISE_USE_BOOSTERS_MORE</td>\n",
       "      <td>82</td>\n",
       "      <td>6</td>\n",
       "      <td>4</td>\n",
       "      <td>10</td>\n",
       "      <td>9</td>\n",
       "    </tr>\n",
       "    <tr>\n",
       "      <th>4</th>\n",
       "      <td>4</td>\n",
       "      <td>60bba5ea7c80da6a9442cbf3</td>\n",
       "      <td>ad-traffic</td>\n",
       "      <td>2021-06-10 09:50:09</td>\n",
       "      <td>156</td>\n",
       "      <td>learning</td>\n",
       "      <td>150099</td>\n",
       "      <td>0</td>\n",
       "      <td>1</td>\n",
       "      <td>0</td>\n",
       "      <td>...</td>\n",
       "      <td>1.0</td>\n",
       "      <td>NaN</td>\n",
       "      <td>NaN</td>\n",
       "      <td>0.0</td>\n",
       "      <td>CRUISE_USE_BOOSTERS_MORE</td>\n",
       "      <td>194</td>\n",
       "      <td>6</td>\n",
       "      <td>4</td>\n",
       "      <td>10</td>\n",
       "      <td>9</td>\n",
       "    </tr>\n",
       "  </tbody>\n",
       "</table>\n",
       "<p>5 rows × 25 columns</p>\n",
       "</div>"
      ],
      "text/plain": [
       "   index                   user_id media_source         client_time  \\\n",
       "0      0  60bb736b12667e6a8d107774      organic 2021-06-10 09:47:19   \n",
       "1      1  60bba5ea7c80da6a9442cbf3   ad-traffic 2021-06-10 09:47:34   \n",
       "2      2  60bb736b12667e6a8d107774      organic 2021-06-10 09:48:17   \n",
       "3      3  60bb736b12667e6a8d107774      organic 2021-06-10 09:49:21   \n",
       "4      4  60bba5ea7c80da6a9442cbf3   ad-traffic 2021-06-10 09:50:09   \n",
       "\n",
       "   session_index event_name   coins  freeRounds  freeUndo  freeWildCard  ...  \\\n",
       "0             17   learning   37435           0         1             2  ...   \n",
       "1            156   learning  148586           0         0             0  ...   \n",
       "2             17   learning   35022           0         1             2  ...   \n",
       "3             17   learning   32377           0         1             2  ...   \n",
       "4            156   learning  150099           0         1             0  ...   \n",
       "\n",
       "   league  VIPPointsAmount  VIPStatus  gameType                      name  \\\n",
       "0     1.0              NaN        NaN       0.0  CRUISE_USE_BOOSTERS_MORE   \n",
       "1     1.0              NaN        NaN       0.0  CRUISE_USE_BOOSTERS_MORE   \n",
       "2     1.0              NaN        NaN       0.0  CRUISE_USE_BOOSTERS_MORE   \n",
       "3     1.0              NaN        NaN       0.0  CRUISE_USE_BOOSTERS_MORE   \n",
       "4     1.0              NaN        NaN       0.0  CRUISE_USE_BOOSTERS_MORE   \n",
       "\n",
       "   level_y  month  day_of_the_week  day hour  \n",
       "0       82      6                4   10    9  \n",
       "1      192      6                4   10    9  \n",
       "2       82      6                4   10    9  \n",
       "3       82      6                4   10    9  \n",
       "4      194      6                4   10    9  \n",
       "\n",
       "[5 rows x 25 columns]"
      ]
     },
     "execution_count": 99,
     "metadata": {},
     "output_type": "execute_result"
    }
   ],
   "source": [
    "learn.head()"
   ]
  },
  {
   "cell_type": "markdown",
   "id": "d7b360c6",
   "metadata": {},
   "source": [
    "Создание столбцов прошло успешно."
   ]
  },
  {
   "cell_type": "code",
   "execution_count": 100,
   "id": "7492a5ee",
   "metadata": {},
   "outputs": [
    {
     "data": {
      "text/plain": [
       "array([6], dtype=int64)"
      ]
     },
     "execution_count": 100,
     "metadata": {},
     "output_type": "execute_result"
    }
   ],
   "source": [
    "# поиск уникальных значений порядкового номера месяца\n",
    "learn['month'].unique()"
   ]
  },
  {
   "cell_type": "markdown",
   "id": "350a0cbb",
   "metadata": {},
   "source": [
    "В исходнике представлены данные лишь за июнь, поэтому никаких выводов о наличии/отсутствии сезонности сделать нельзя"
   ]
  },
  {
   "cell_type": "code",
   "execution_count": 101,
   "id": "e523246b",
   "metadata": {},
   "outputs": [
    {
     "data": {
      "text/plain": [
       "array([4, 5, 6, 7, 1, 2, 3], dtype=int64)"
      ]
     },
     "execution_count": 101,
     "metadata": {},
     "output_type": "execute_result"
    }
   ],
   "source": [
    "# поиск уникальных значений порядкового номера дня недели\n",
    "learn['day_of_the_week'].unique()"
   ]
  },
  {
   "cell_type": "code",
   "execution_count": 102,
   "id": "c8152654",
   "metadata": {},
   "outputs": [],
   "source": [
    "# подсчет количества использованных туториальных подсказок, сгруппированных по дням недели\n",
    "day_of_the_week_tips = learn.groupby('day_of_the_week', as_index=False) \\\n",
    "    .agg({'user_id':'count'}) \\\n",
    "    .sort_values(by='user_id', ascending=False) \\\n",
    "    .rename(columns={'user_id':'amount_of_tips'})"
   ]
  },
  {
   "cell_type": "code",
   "execution_count": 103,
   "id": "b6d0dabf",
   "metadata": {},
   "outputs": [
    {
     "data": {
      "text/html": [
       "<div>\n",
       "<style scoped>\n",
       "    .dataframe tbody tr th:only-of-type {\n",
       "        vertical-align: middle;\n",
       "    }\n",
       "\n",
       "    .dataframe tbody tr th {\n",
       "        vertical-align: top;\n",
       "    }\n",
       "\n",
       "    .dataframe thead th {\n",
       "        text-align: right;\n",
       "    }\n",
       "</style>\n",
       "<table border=\"1\" class=\"dataframe\">\n",
       "  <thead>\n",
       "    <tr style=\"text-align: right;\">\n",
       "      <th></th>\n",
       "      <th>day_of_the_week</th>\n",
       "      <th>amount_of_tips</th>\n",
       "    </tr>\n",
       "  </thead>\n",
       "  <tbody>\n",
       "    <tr>\n",
       "      <th>5</th>\n",
       "      <td>6</td>\n",
       "      <td>58545</td>\n",
       "    </tr>\n",
       "    <tr>\n",
       "      <th>6</th>\n",
       "      <td>7</td>\n",
       "      <td>10035</td>\n",
       "    </tr>\n",
       "    <tr>\n",
       "      <th>0</th>\n",
       "      <td>1</td>\n",
       "      <td>4336</td>\n",
       "    </tr>\n",
       "    <tr>\n",
       "      <th>1</th>\n",
       "      <td>2</td>\n",
       "      <td>3649</td>\n",
       "    </tr>\n",
       "    <tr>\n",
       "      <th>2</th>\n",
       "      <td>3</td>\n",
       "      <td>3041</td>\n",
       "    </tr>\n",
       "    <tr>\n",
       "      <th>4</th>\n",
       "      <td>5</td>\n",
       "      <td>2228</td>\n",
       "    </tr>\n",
       "    <tr>\n",
       "      <th>3</th>\n",
       "      <td>4</td>\n",
       "      <td>2038</td>\n",
       "    </tr>\n",
       "  </tbody>\n",
       "</table>\n",
       "</div>"
      ],
      "text/plain": [
       "   day_of_the_week  amount_of_tips\n",
       "5                6           58545\n",
       "6                7           10035\n",
       "0                1            4336\n",
       "1                2            3649\n",
       "2                3            3041\n",
       "4                5            2228\n",
       "3                4            2038"
      ]
     },
     "execution_count": 103,
     "metadata": {},
     "output_type": "execute_result"
    }
   ],
   "source": [
    "day_of_the_week_tips"
   ]
  },
  {
   "cell_type": "markdown",
   "id": "73f56b09",
   "metadata": {},
   "source": [
    "Максимальное число туториальных подсказок было использовано игроками в субботу.  \n",
    "\n",
    "Выводы: \n",
    "- максимальная пользовательская активность наблюдается в субботу, что, вероятно, объясняется тем фактом, что люди в выходные располагают большим количеством времени для игр\n",
    "- все скачивания игры приходятся на субботу => вероятно, пользователи начинали обучение сразу после скачивания игры"
   ]
  },
  {
   "cell_type": "code",
   "execution_count": 104,
   "id": "1c1ac7ca",
   "metadata": {},
   "outputs": [
    {
     "data": {
      "text/plain": [
       "array([10, 11, 12,  5,  6,  7,  8,  9], dtype=int64)"
      ]
     },
     "execution_count": 104,
     "metadata": {},
     "output_type": "execute_result"
    }
   ],
   "source": [
    "# поиск уникальных значений дня\n",
    "learn['day'].unique()"
   ]
  },
  {
   "cell_type": "code",
   "execution_count": 105,
   "id": "acd15b0c",
   "metadata": {},
   "outputs": [],
   "source": [
    "# подсчет количества использованных туториальных подсказок, сгруппированных по дням\n",
    "day_tips = learn.groupby('day', as_index=False) \\\n",
    "    .agg({'user_id':'count'}) \\\n",
    "    .sort_values(by='user_id', ascending=False) \\\n",
    "    .rename(columns={'user_id':'amount_of_tips'})"
   ]
  },
  {
   "cell_type": "code",
   "execution_count": 106,
   "id": "371f5b5f",
   "metadata": {},
   "outputs": [
    {
     "data": {
      "text/html": [
       "<div>\n",
       "<style scoped>\n",
       "    .dataframe tbody tr th:only-of-type {\n",
       "        vertical-align: middle;\n",
       "    }\n",
       "\n",
       "    .dataframe tbody tr th {\n",
       "        vertical-align: top;\n",
       "    }\n",
       "\n",
       "    .dataframe thead th {\n",
       "        text-align: right;\n",
       "    }\n",
       "</style>\n",
       "<table border=\"1\" class=\"dataframe\">\n",
       "  <thead>\n",
       "    <tr style=\"text-align: right;\">\n",
       "      <th></th>\n",
       "      <th>day</th>\n",
       "      <th>amount_of_tips</th>\n",
       "    </tr>\n",
       "  </thead>\n",
       "  <tbody>\n",
       "    <tr>\n",
       "      <th>0</th>\n",
       "      <td>5</td>\n",
       "      <td>56189</td>\n",
       "    </tr>\n",
       "    <tr>\n",
       "      <th>1</th>\n",
       "      <td>6</td>\n",
       "      <td>10035</td>\n",
       "    </tr>\n",
       "    <tr>\n",
       "      <th>2</th>\n",
       "      <td>7</td>\n",
       "      <td>4336</td>\n",
       "    </tr>\n",
       "    <tr>\n",
       "      <th>3</th>\n",
       "      <td>8</td>\n",
       "      <td>3649</td>\n",
       "    </tr>\n",
       "    <tr>\n",
       "      <th>4</th>\n",
       "      <td>9</td>\n",
       "      <td>3041</td>\n",
       "    </tr>\n",
       "    <tr>\n",
       "      <th>7</th>\n",
       "      <td>12</td>\n",
       "      <td>2356</td>\n",
       "    </tr>\n",
       "    <tr>\n",
       "      <th>6</th>\n",
       "      <td>11</td>\n",
       "      <td>2228</td>\n",
       "    </tr>\n",
       "    <tr>\n",
       "      <th>5</th>\n",
       "      <td>10</td>\n",
       "      <td>2038</td>\n",
       "    </tr>\n",
       "  </tbody>\n",
       "</table>\n",
       "</div>"
      ],
      "text/plain": [
       "   day  amount_of_tips\n",
       "0    5           56189\n",
       "1    6           10035\n",
       "2    7            4336\n",
       "3    8            3649\n",
       "4    9            3041\n",
       "7   12            2356\n",
       "6   11            2228\n",
       "5   10            2038"
      ]
     },
     "execution_count": 106,
     "metadata": {},
     "output_type": "execute_result"
    }
   ],
   "source": [
    "day_tips"
   ]
  },
  {
   "cell_type": "markdown",
   "id": "9be91819",
   "metadata": {},
   "source": [
    "Максимальное число туториальных подсказок было использовано 5 июня - в день, когда игра была скачана всеми игроками. Эти данные подтверждают гипотезу о том, что пользователи, как правило, проходили обучение непосредственно после установки игры.\n",
    "Со временем число использованных туториальных подсказок уменьшалось, что позволяет судить о снижении пользовательской активности (retention)."
   ]
  },
  {
   "cell_type": "code",
   "execution_count": 107,
   "id": "ac6b8818",
   "metadata": {},
   "outputs": [
    {
     "data": {
      "text/plain": [
       "array([ 9, 10, 11, 12, 13, 14, 15, 16, 17, 18, 19, 20, 21, 22, 23,  0,  1,\n",
       "        2,  3,  4,  5,  6,  7,  8], dtype=int64)"
      ]
     },
     "execution_count": 107,
     "metadata": {},
     "output_type": "execute_result"
    }
   ],
   "source": [
    "# поиск уникальных значений часа\n",
    "learn['hour'].unique()"
   ]
  },
  {
   "cell_type": "code",
   "execution_count": 108,
   "id": "8c9d9849",
   "metadata": {},
   "outputs": [],
   "source": [
    "# подсчет количества использованных туториальных подсказок, сгруппированных по часам\n",
    "hour_tips = learn.groupby('hour', as_index=False) \\\n",
    "    .agg({'user_id':'count'}) \\\n",
    "    .sort_values(by='user_id', ascending=False) \\\n",
    "    .rename(columns={'user_id':'amount_of_tips'})"
   ]
  },
  {
   "cell_type": "code",
   "execution_count": 109,
   "id": "6db6f2e7",
   "metadata": {},
   "outputs": [
    {
     "data": {
      "text/html": [
       "<div>\n",
       "<style scoped>\n",
       "    .dataframe tbody tr th:only-of-type {\n",
       "        vertical-align: middle;\n",
       "    }\n",
       "\n",
       "    .dataframe tbody tr th {\n",
       "        vertical-align: top;\n",
       "    }\n",
       "\n",
       "    .dataframe thead th {\n",
       "        text-align: right;\n",
       "    }\n",
       "</style>\n",
       "<table border=\"1\" class=\"dataframe\">\n",
       "  <thead>\n",
       "    <tr style=\"text-align: right;\">\n",
       "      <th></th>\n",
       "      <th>hour</th>\n",
       "      <th>amount_of_tips</th>\n",
       "    </tr>\n",
       "  </thead>\n",
       "  <tbody>\n",
       "    <tr>\n",
       "      <th>19</th>\n",
       "      <td>19</td>\n",
       "      <td>5252</td>\n",
       "    </tr>\n",
       "    <tr>\n",
       "      <th>15</th>\n",
       "      <td>15</td>\n",
       "      <td>5191</td>\n",
       "    </tr>\n",
       "    <tr>\n",
       "      <th>16</th>\n",
       "      <td>16</td>\n",
       "      <td>5008</td>\n",
       "    </tr>\n",
       "    <tr>\n",
       "      <th>10</th>\n",
       "      <td>10</td>\n",
       "      <td>4638</td>\n",
       "    </tr>\n",
       "    <tr>\n",
       "      <th>17</th>\n",
       "      <td>17</td>\n",
       "      <td>4569</td>\n",
       "    </tr>\n",
       "    <tr>\n",
       "      <th>8</th>\n",
       "      <td>8</td>\n",
       "      <td>4528</td>\n",
       "    </tr>\n",
       "    <tr>\n",
       "      <th>9</th>\n",
       "      <td>9</td>\n",
       "      <td>4386</td>\n",
       "    </tr>\n",
       "    <tr>\n",
       "      <th>14</th>\n",
       "      <td>14</td>\n",
       "      <td>4045</td>\n",
       "    </tr>\n",
       "    <tr>\n",
       "      <th>20</th>\n",
       "      <td>20</td>\n",
       "      <td>3915</td>\n",
       "    </tr>\n",
       "    <tr>\n",
       "      <th>7</th>\n",
       "      <td>7</td>\n",
       "      <td>3905</td>\n",
       "    </tr>\n",
       "    <tr>\n",
       "      <th>18</th>\n",
       "      <td>18</td>\n",
       "      <td>3903</td>\n",
       "    </tr>\n",
       "    <tr>\n",
       "      <th>12</th>\n",
       "      <td>12</td>\n",
       "      <td>3884</td>\n",
       "    </tr>\n",
       "    <tr>\n",
       "      <th>13</th>\n",
       "      <td>13</td>\n",
       "      <td>3866</td>\n",
       "    </tr>\n",
       "    <tr>\n",
       "      <th>11</th>\n",
       "      <td>11</td>\n",
       "      <td>3503</td>\n",
       "    </tr>\n",
       "    <tr>\n",
       "      <th>5</th>\n",
       "      <td>5</td>\n",
       "      <td>3076</td>\n",
       "    </tr>\n",
       "    <tr>\n",
       "      <th>6</th>\n",
       "      <td>6</td>\n",
       "      <td>3045</td>\n",
       "    </tr>\n",
       "    <tr>\n",
       "      <th>2</th>\n",
       "      <td>2</td>\n",
       "      <td>2743</td>\n",
       "    </tr>\n",
       "    <tr>\n",
       "      <th>4</th>\n",
       "      <td>4</td>\n",
       "      <td>2684</td>\n",
       "    </tr>\n",
       "    <tr>\n",
       "      <th>3</th>\n",
       "      <td>3</td>\n",
       "      <td>2602</td>\n",
       "    </tr>\n",
       "    <tr>\n",
       "      <th>21</th>\n",
       "      <td>21</td>\n",
       "      <td>2525</td>\n",
       "    </tr>\n",
       "    <tr>\n",
       "      <th>1</th>\n",
       "      <td>1</td>\n",
       "      <td>1810</td>\n",
       "    </tr>\n",
       "    <tr>\n",
       "      <th>23</th>\n",
       "      <td>23</td>\n",
       "      <td>1741</td>\n",
       "    </tr>\n",
       "    <tr>\n",
       "      <th>0</th>\n",
       "      <td>0</td>\n",
       "      <td>1564</td>\n",
       "    </tr>\n",
       "    <tr>\n",
       "      <th>22</th>\n",
       "      <td>22</td>\n",
       "      <td>1489</td>\n",
       "    </tr>\n",
       "  </tbody>\n",
       "</table>\n",
       "</div>"
      ],
      "text/plain": [
       "    hour  amount_of_tips\n",
       "19    19            5252\n",
       "15    15            5191\n",
       "16    16            5008\n",
       "10    10            4638\n",
       "17    17            4569\n",
       "8      8            4528\n",
       "9      9            4386\n",
       "14    14            4045\n",
       "20    20            3915\n",
       "7      7            3905\n",
       "18    18            3903\n",
       "12    12            3884\n",
       "13    13            3866\n",
       "11    11            3503\n",
       "5      5            3076\n",
       "6      6            3045\n",
       "2      2            2743\n",
       "4      4            2684\n",
       "3      3            2602\n",
       "21    21            2525\n",
       "1      1            1810\n",
       "23    23            1741\n",
       "0      0            1564\n",
       "22    22            1489"
      ]
     },
     "execution_count": 109,
     "metadata": {},
     "output_type": "execute_result"
    }
   ],
   "source": [
    "hour_tips"
   ]
  },
  {
   "cell_type": "code",
   "execution_count": 110,
   "id": "50234a94",
   "metadata": {},
   "outputs": [
    {
     "data": {
      "text/plain": [
       "Text(0, 0.5, 'amount of tips')"
      ]
     },
     "execution_count": 110,
     "metadata": {},
     "output_type": "execute_result"
    },
    {
     "data": {
      "image/png": "[encoded data removed]",
      "text/plain": [
       "<Figure size 576x432 with 1 Axes>"
      ]
     },
     "metadata": {
      "needs_background": "light"
     },
     "output_type": "display_data"
    }
   ],
   "source": [
    "# построение графика использования туториальных подсказок в течение суток\n",
    "plt.figure(figsize=(8, 6))\n",
    "sns.countplot(data=learn, x='hour', color='xkcd:soft green')\n",
    "plt.suptitle('Количество использованных туториальных подсказок в течение суток', x=0.5, y=0.93)\n",
    "plt.ylabel('amount of tips')"
   ]
  },
  {
   "cell_type": "markdown",
   "id": "f0bdae28",
   "metadata": {},
   "source": [
    "На графике количества использованных подсказок выделяется несколько максимумов:\n",
    "- в 19 часов (к вечеру пользователи завершают свои дела и отдыхают за игрой)\n",
    "- в 15-16 часов (пользователи проводят время за игрой после обеда)\n",
    "- 8-10 утра (... по дороге куда-либо) \n",
    "\n",
    "Минимум количества использованных подсказок наблюдается в период с 22 до 1 часа, поскольку в это время пользователи готовятся ко сну/спят."
   ]
  },
  {
   "cell_type": "code",
   "execution_count": 111,
   "id": "a096c0e9",
   "metadata": {},
   "outputs": [],
   "source": [
    "# отбор колонок, необходимых для построения корреляционной матрицы\n",
    "# корреляция между уровнем показа туториальной подсказки и количеством монет\n",
    "learn_corr = learn[['coins', 'level_y']]"
   ]
  },
  {
   "cell_type": "code",
   "execution_count": 112,
   "id": "c8cc1c2e",
   "metadata": {},
   "outputs": [
    {
     "data": {
      "text/plain": [
       "<AxesSubplot:>"
      ]
     },
     "execution_count": 112,
     "metadata": {},
     "output_type": "execute_result"
    },
    {
     "data": {
      "image/png": "[encoded data removed]",
      "text/plain": [
       "<Figure size 576x432 with 2 Axes>"
      ]
     },
     "metadata": {
      "needs_background": "light"
     },
     "output_type": "display_data"
    }
   ],
   "source": [
    "# построение корреляционной матрицы\n",
    "plt.figure(figsize=(8, 6))\n",
    "sns.heatmap(learn_corr.corr(), cmap='Greens', annot=True)"
   ]
  },
  {
   "cell_type": "markdown",
   "id": "bbe75c21",
   "metadata": {},
   "source": [
    "Корреляция между уровнем показа туториальной подсказки (уровнем игрока) и количеством монет слабая, связь положительная (чем больше монет, тем выше уровень, и наоборот)."
   ]
  },
  {
   "cell_type": "markdown",
   "id": "c15348d5",
   "metadata": {},
   "source": [
    "### Анализ пользователей, перешедших к прохождению уровней"
   ]
  },
  {
   "cell_type": "code",
   "execution_count": 113,
   "id": "adf7fd61",
   "metadata": {},
   "outputs": [],
   "source": [
    "# отбор части датафрейма, фиксирующей прохождение грядок \n",
    "completed_users = data.query('event_name == \"gladeComplete\"')"
   ]
  },
  {
   "cell_type": "code",
   "execution_count": 114,
   "id": "737620f8",
   "metadata": {},
   "outputs": [],
   "source": [
    "complete_data = completed_users['event_data'].apply(json.loads)"
   ]
  },
  {
   "cell_type": "code",
   "execution_count": 115,
   "id": "69e79180",
   "metadata": {},
   "outputs": [],
   "source": [
    "# распаковка столбца event_data в отдельный датафрейм\n",
    "complete_data = pd.json_normalize(data = complete_data, \n",
    "                          meta=['levels'])"
   ]
  },
  {
   "cell_type": "markdown",
   "id": "b1130c92",
   "metadata": {},
   "source": [
    "Распаковка столбца с данными в формате json прошла успешно."
   ]
  },
  {
   "cell_type": "code",
   "execution_count": 116,
   "id": "1e10c134",
   "metadata": {},
   "outputs": [],
   "source": [
    "completed_users = completed_users.drop(['index'], axis=1)"
   ]
  },
  {
   "cell_type": "code",
   "execution_count": 117,
   "id": "4100c8ac",
   "metadata": {},
   "outputs": [],
   "source": [
    "# перевод индексов строк в отдельную колонку (для объединения датафреймов по этому столбцу)\n",
    "complete_data.reset_index(level=0, inplace=True)\n",
    "completed_users.reset_index(level=0, inplace=True)"
   ]
  },
  {
   "cell_type": "code",
   "execution_count": 118,
   "id": "bfe5752f",
   "metadata": {},
   "outputs": [],
   "source": [
    "completed_users = completed_users.drop('index', axis=1)"
   ]
  },
  {
   "cell_type": "code",
   "execution_count": 119,
   "id": "b6ddd001",
   "metadata": {},
   "outputs": [],
   "source": [
    "completed_users.reset_index(level=0, inplace=True)"
   ]
  },
  {
   "cell_type": "code",
   "execution_count": 120,
   "id": "bec8bef4",
   "metadata": {},
   "outputs": [],
   "source": [
    "# объединение датафреймов completed_users и complete_data (по столбцу index)\n",
    "complete = completed_users.merge(complete_data, on='index')"
   ]
  },
  {
   "cell_type": "code",
   "execution_count": 121,
   "id": "6af46149",
   "metadata": {},
   "outputs": [],
   "source": [
    "# удаление столбца event_data (т.к. эти данные уже содержатся в датафрейме)\n",
    "complete = complete.drop('event_data', axis=1)"
   ]
  },
  {
   "cell_type": "code",
   "execution_count": 122,
   "id": "5cbb7cf6",
   "metadata": {},
   "outputs": [
    {
     "data": {
      "text/html": [
       "<div>\n",
       "<style scoped>\n",
       "    .dataframe tbody tr th:only-of-type {\n",
       "        vertical-align: middle;\n",
       "    }\n",
       "\n",
       "    .dataframe tbody tr th {\n",
       "        vertical-align: top;\n",
       "    }\n",
       "\n",
       "    .dataframe thead th {\n",
       "        text-align: right;\n",
       "    }\n",
       "</style>\n",
       "<table border=\"1\" class=\"dataframe\">\n",
       "  <thead>\n",
       "    <tr style=\"text-align: right;\">\n",
       "      <th></th>\n",
       "      <th>index</th>\n",
       "      <th>user_id</th>\n",
       "      <th>media_source</th>\n",
       "      <th>client_time</th>\n",
       "      <th>session_index</th>\n",
       "      <th>event_name</th>\n",
       "      <th>coins</th>\n",
       "      <th>freeRounds</th>\n",
       "      <th>freeUndo</th>\n",
       "      <th>freeWildCard</th>\n",
       "      <th>freeAddCards</th>\n",
       "      <th>level</th>\n",
       "      <th>map</th>\n",
       "      <th>bet</th>\n",
       "      <th>gladeId</th>\n",
       "      <th>league</th>\n",
       "      <th>VIPPointsAmount</th>\n",
       "      <th>VIPStatus</th>\n",
       "      <th>gameType</th>\n",
       "      <th>levels</th>\n",
       "    </tr>\n",
       "  </thead>\n",
       "  <tbody>\n",
       "    <tr>\n",
       "      <th>0</th>\n",
       "      <td>0</td>\n",
       "      <td>60bb1bac12667e6a8d10774e</td>\n",
       "      <td>organic</td>\n",
       "      <td>2021-06-09 02:58:06</td>\n",
       "      <td>52</td>\n",
       "      <td>gladeComplete</td>\n",
       "      <td>6041</td>\n",
       "      <td>0</td>\n",
       "      <td>2</td>\n",
       "      <td>0</td>\n",
       "      <td>0</td>\n",
       "      <td>197</td>\n",
       "      <td>1</td>\n",
       "      <td>1.0</td>\n",
       "      <td>7.0</td>\n",
       "      <td>1.0</td>\n",
       "      <td>0.0</td>\n",
       "      <td>0.0</td>\n",
       "      <td>NaN</td>\n",
       "      <td>63</td>\n",
       "    </tr>\n",
       "    <tr>\n",
       "      <th>1</th>\n",
       "      <td>1</td>\n",
       "      <td>60bb1bac12667e6a8d10774e</td>\n",
       "      <td>organic</td>\n",
       "      <td>2021-06-10 13:38:07</td>\n",
       "      <td>63</td>\n",
       "      <td>gladeComplete</td>\n",
       "      <td>6050</td>\n",
       "      <td>0</td>\n",
       "      <td>1</td>\n",
       "      <td>0</td>\n",
       "      <td>0</td>\n",
       "      <td>237</td>\n",
       "      <td>1</td>\n",
       "      <td>1.0</td>\n",
       "      <td>8.0</td>\n",
       "      <td>1.0</td>\n",
       "      <td>0.0</td>\n",
       "      <td>0.0</td>\n",
       "      <td>NaN</td>\n",
       "      <td>39</td>\n",
       "    </tr>\n",
       "    <tr>\n",
       "      <th>2</th>\n",
       "      <td>2</td>\n",
       "      <td>60bb66084770af6a2faa05a0</td>\n",
       "      <td>organic</td>\n",
       "      <td>2021-06-10 20:07:37</td>\n",
       "      <td>13</td>\n",
       "      <td>gladeComplete</td>\n",
       "      <td>8873</td>\n",
       "      <td>0</td>\n",
       "      <td>0</td>\n",
       "      <td>3</td>\n",
       "      <td>0</td>\n",
       "      <td>108</td>\n",
       "      <td>1</td>\n",
       "      <td>2.0</td>\n",
       "      <td>6.0</td>\n",
       "      <td>0.0</td>\n",
       "      <td>NaN</td>\n",
       "      <td>NaN</td>\n",
       "      <td>NaN</td>\n",
       "      <td>10</td>\n",
       "    </tr>\n",
       "    <tr>\n",
       "      <th>3</th>\n",
       "      <td>3</td>\n",
       "      <td>60bb7de34770af6a2faa05ab</td>\n",
       "      <td>ad-traffic</td>\n",
       "      <td>2021-06-11 00:53:38</td>\n",
       "      <td>5</td>\n",
       "      <td>gladeComplete</td>\n",
       "      <td>17154</td>\n",
       "      <td>0</td>\n",
       "      <td>0</td>\n",
       "      <td>2</td>\n",
       "      <td>0</td>\n",
       "      <td>68</td>\n",
       "      <td>1</td>\n",
       "      <td>3.0</td>\n",
       "      <td>4.0</td>\n",
       "      <td>0.0</td>\n",
       "      <td>0.0</td>\n",
       "      <td>0.0</td>\n",
       "      <td>NaN</td>\n",
       "      <td>6</td>\n",
       "    </tr>\n",
       "    <tr>\n",
       "      <th>4</th>\n",
       "      <td>4</td>\n",
       "      <td>60bb46a573c31e6a292b7a79</td>\n",
       "      <td>ad-traffic</td>\n",
       "      <td>2021-06-11 11:06:29</td>\n",
       "      <td>58</td>\n",
       "      <td>gladeComplete</td>\n",
       "      <td>7846</td>\n",
       "      <td>0</td>\n",
       "      <td>0</td>\n",
       "      <td>0</td>\n",
       "      <td>0</td>\n",
       "      <td>173</td>\n",
       "      <td>1</td>\n",
       "      <td>1.0</td>\n",
       "      <td>7.0</td>\n",
       "      <td>0.0</td>\n",
       "      <td>NaN</td>\n",
       "      <td>NaN</td>\n",
       "      <td>NaN</td>\n",
       "      <td>41</td>\n",
       "    </tr>\n",
       "    <tr>\n",
       "      <th>...</th>\n",
       "      <td>...</td>\n",
       "      <td>...</td>\n",
       "      <td>...</td>\n",
       "      <td>...</td>\n",
       "      <td>...</td>\n",
       "      <td>...</td>\n",
       "      <td>...</td>\n",
       "      <td>...</td>\n",
       "      <td>...</td>\n",
       "      <td>...</td>\n",
       "      <td>...</td>\n",
       "      <td>...</td>\n",
       "      <td>...</td>\n",
       "      <td>...</td>\n",
       "      <td>...</td>\n",
       "      <td>...</td>\n",
       "      <td>...</td>\n",
       "      <td>...</td>\n",
       "      <td>...</td>\n",
       "      <td>...</td>\n",
       "    </tr>\n",
       "    <tr>\n",
       "      <th>1450</th>\n",
       "      <td>1450</td>\n",
       "      <td>60bb482f73c31e6a292b7a7b</td>\n",
       "      <td>ad-traffic</td>\n",
       "      <td>2021-06-11 09:52:59</td>\n",
       "      <td>4</td>\n",
       "      <td>gladeComplete</td>\n",
       "      <td>16341</td>\n",
       "      <td>0</td>\n",
       "      <td>17</td>\n",
       "      <td>0</td>\n",
       "      <td>2</td>\n",
       "      <td>158</td>\n",
       "      <td>1</td>\n",
       "      <td>3.0</td>\n",
       "      <td>9.0</td>\n",
       "      <td>1.0</td>\n",
       "      <td>NaN</td>\n",
       "      <td>NaN</td>\n",
       "      <td>NaN</td>\n",
       "      <td>14</td>\n",
       "    </tr>\n",
       "    <tr>\n",
       "      <th>1451</th>\n",
       "      <td>1451</td>\n",
       "      <td>60bb74e973c31e6a292b7a8f</td>\n",
       "      <td>ad-traffic</td>\n",
       "      <td>2021-06-11 11:05:23</td>\n",
       "      <td>21</td>\n",
       "      <td>gladeComplete</td>\n",
       "      <td>5239</td>\n",
       "      <td>0</td>\n",
       "      <td>0</td>\n",
       "      <td>0</td>\n",
       "      <td>0</td>\n",
       "      <td>202</td>\n",
       "      <td>1</td>\n",
       "      <td>1.0</td>\n",
       "      <td>8.0</td>\n",
       "      <td>1.0</td>\n",
       "      <td>0.0</td>\n",
       "      <td>0.0</td>\n",
       "      <td>NaN</td>\n",
       "      <td>38</td>\n",
       "    </tr>\n",
       "    <tr>\n",
       "      <th>1452</th>\n",
       "      <td>1452</td>\n",
       "      <td>60bb44b373c31e6a292b7a77</td>\n",
       "      <td>organic</td>\n",
       "      <td>2021-06-11 11:51:38</td>\n",
       "      <td>5</td>\n",
       "      <td>gladeComplete</td>\n",
       "      <td>55660</td>\n",
       "      <td>0</td>\n",
       "      <td>8</td>\n",
       "      <td>0</td>\n",
       "      <td>0</td>\n",
       "      <td>152</td>\n",
       "      <td>1</td>\n",
       "      <td>2.0</td>\n",
       "      <td>8.0</td>\n",
       "      <td>1.0</td>\n",
       "      <td>0.0</td>\n",
       "      <td>0.0</td>\n",
       "      <td>NaN</td>\n",
       "      <td>22</td>\n",
       "    </tr>\n",
       "    <tr>\n",
       "      <th>1453</th>\n",
       "      <td>1453</td>\n",
       "      <td>60bad8307c80da6a9442cb91</td>\n",
       "      <td>organic</td>\n",
       "      <td>2021-06-07 21:34:46</td>\n",
       "      <td>32</td>\n",
       "      <td>gladeComplete</td>\n",
       "      <td>6236</td>\n",
       "      <td>0</td>\n",
       "      <td>0</td>\n",
       "      <td>0</td>\n",
       "      <td>0</td>\n",
       "      <td>193</td>\n",
       "      <td>1</td>\n",
       "      <td>1.0</td>\n",
       "      <td>6.0</td>\n",
       "      <td>0.0</td>\n",
       "      <td>0.0</td>\n",
       "      <td>0.0</td>\n",
       "      <td>NaN</td>\n",
       "      <td>59</td>\n",
       "    </tr>\n",
       "    <tr>\n",
       "      <th>1454</th>\n",
       "      <td>1454</td>\n",
       "      <td>60bad8307c80da6a9442cb91</td>\n",
       "      <td>organic</td>\n",
       "      <td>2021-06-09 19:56:38</td>\n",
       "      <td>74</td>\n",
       "      <td>gladeComplete</td>\n",
       "      <td>6233</td>\n",
       "      <td>0</td>\n",
       "      <td>0</td>\n",
       "      <td>0</td>\n",
       "      <td>0</td>\n",
       "      <td>287</td>\n",
       "      <td>1</td>\n",
       "      <td>1.0</td>\n",
       "      <td>7.0</td>\n",
       "      <td>0.0</td>\n",
       "      <td>0.0</td>\n",
       "      <td>0.0</td>\n",
       "      <td>NaN</td>\n",
       "      <td>91</td>\n",
       "    </tr>\n",
       "  </tbody>\n",
       "</table>\n",
       "<p>1455 rows × 20 columns</p>\n",
       "</div>"
      ],
      "text/plain": [
       "      index                   user_id media_source         client_time  \\\n",
       "0         0  60bb1bac12667e6a8d10774e      organic 2021-06-09 02:58:06   \n",
       "1         1  60bb1bac12667e6a8d10774e      organic 2021-06-10 13:38:07   \n",
       "2         2  60bb66084770af6a2faa05a0      organic 2021-06-10 20:07:37   \n",
       "3         3  60bb7de34770af6a2faa05ab   ad-traffic 2021-06-11 00:53:38   \n",
       "4         4  60bb46a573c31e6a292b7a79   ad-traffic 2021-06-11 11:06:29   \n",
       "...     ...                       ...          ...                 ...   \n",
       "1450   1450  60bb482f73c31e6a292b7a7b   ad-traffic 2021-06-11 09:52:59   \n",
       "1451   1451  60bb74e973c31e6a292b7a8f   ad-traffic 2021-06-11 11:05:23   \n",
       "1452   1452  60bb44b373c31e6a292b7a77      organic 2021-06-11 11:51:38   \n",
       "1453   1453  60bad8307c80da6a9442cb91      organic 2021-06-07 21:34:46   \n",
       "1454   1454  60bad8307c80da6a9442cb91      organic 2021-06-09 19:56:38   \n",
       "\n",
       "      session_index     event_name  coins  freeRounds  freeUndo  freeWildCard  \\\n",
       "0                52  gladeComplete   6041           0         2             0   \n",
       "1                63  gladeComplete   6050           0         1             0   \n",
       "2                13  gladeComplete   8873           0         0             3   \n",
       "3                 5  gladeComplete  17154           0         0             2   \n",
       "4                58  gladeComplete   7846           0         0             0   \n",
       "...             ...            ...    ...         ...       ...           ...   \n",
       "1450              4  gladeComplete  16341           0        17             0   \n",
       "1451             21  gladeComplete   5239           0         0             0   \n",
       "1452              5  gladeComplete  55660           0         8             0   \n",
       "1453             32  gladeComplete   6236           0         0             0   \n",
       "1454             74  gladeComplete   6233           0         0             0   \n",
       "\n",
       "      freeAddCards  level  map  bet  gladeId  league  VIPPointsAmount  \\\n",
       "0                0    197    1  1.0      7.0     1.0              0.0   \n",
       "1                0    237    1  1.0      8.0     1.0              0.0   \n",
       "2                0    108    1  2.0      6.0     0.0              NaN   \n",
       "3                0     68    1  3.0      4.0     0.0              0.0   \n",
       "4                0    173    1  1.0      7.0     0.0              NaN   \n",
       "...            ...    ...  ...  ...      ...     ...              ...   \n",
       "1450             2    158    1  3.0      9.0     1.0              NaN   \n",
       "1451             0    202    1  1.0      8.0     1.0              0.0   \n",
       "1452             0    152    1  2.0      8.0     1.0              0.0   \n",
       "1453             0    193    1  1.0      6.0     0.0              0.0   \n",
       "1454             0    287    1  1.0      7.0     0.0              0.0   \n",
       "\n",
       "      VIPStatus  gameType  levels  \n",
       "0           0.0       NaN      63  \n",
       "1           0.0       NaN      39  \n",
       "2           NaN       NaN      10  \n",
       "3           0.0       NaN       6  \n",
       "4           NaN       NaN      41  \n",
       "...         ...       ...     ...  \n",
       "1450        NaN       NaN      14  \n",
       "1451        0.0       NaN      38  \n",
       "1452        0.0       NaN      22  \n",
       "1453        0.0       NaN      59  \n",
       "1454        0.0       NaN      91  \n",
       "\n",
       "[1455 rows x 20 columns]"
      ]
     },
     "execution_count": 122,
     "metadata": {},
     "output_type": "execute_result"
    }
   ],
   "source": [
    "complete"
   ]
  },
  {
   "cell_type": "code",
   "execution_count": 123,
   "id": "5a138ed1",
   "metadata": {},
   "outputs": [],
   "source": [
    "# сохранение датафрейма complete в csv-файл (для построения визуализаций на основе этих данных)\n",
    "complete.to_csv('complete.csv')"
   ]
  },
  {
   "cell_type": "markdown",
   "id": "6de03ca9",
   "metadata": {},
   "source": [
    "Объединение датафреймов completed_users и complete_data прошло успешно, данные не были потеряны (1455 записей содержится как в исходных датафреймах, так и в конечном)."
   ]
  },
  {
   "cell_type": "code",
   "execution_count": 124,
   "id": "69de1116",
   "metadata": {},
   "outputs": [],
   "source": [
    "# подсчет количества грядок, пройденных пользователями, пришедшими из определенного источника \n",
    "source_glades = learn.groupby(['media_source', 'user_id'], as_index=False) \\\n",
    "    .agg({'index':'count'}) \\\n",
    "    .sort_values(by='index', ascending=False) \\\n",
    "    .rename(columns={'index':'amount_of_glades'})"
   ]
  },
  {
   "cell_type": "code",
   "execution_count": 125,
   "id": "0d788209",
   "metadata": {},
   "outputs": [
    {
     "data": {
      "text/html": [
       "<div>\n",
       "<style scoped>\n",
       "    .dataframe tbody tr th:only-of-type {\n",
       "        vertical-align: middle;\n",
       "    }\n",
       "\n",
       "    .dataframe tbody tr th {\n",
       "        vertical-align: top;\n",
       "    }\n",
       "\n",
       "    .dataframe thead th {\n",
       "        text-align: right;\n",
       "    }\n",
       "</style>\n",
       "<table border=\"1\" class=\"dataframe\">\n",
       "  <thead>\n",
       "    <tr style=\"text-align: right;\">\n",
       "      <th></th>\n",
       "      <th>media_source</th>\n",
       "      <th>user_id</th>\n",
       "      <th>amount_of_glades</th>\n",
       "    </tr>\n",
       "  </thead>\n",
       "  <tbody>\n",
       "    <tr>\n",
       "      <th>326</th>\n",
       "      <td>organic</td>\n",
       "      <td>60bb8a867c80da6a9442cbe7</td>\n",
       "      <td>1128</td>\n",
       "    </tr>\n",
       "    <tr>\n",
       "      <th>37</th>\n",
       "      <td>ad-traffic</td>\n",
       "      <td>60bb18f173c31e6a292b7a5c</td>\n",
       "      <td>1116</td>\n",
       "    </tr>\n",
       "    <tr>\n",
       "      <th>153</th>\n",
       "      <td>ad-traffic</td>\n",
       "      <td>60bbfcbd7c80da6a9442cc1c</td>\n",
       "      <td>878</td>\n",
       "    </tr>\n",
       "    <tr>\n",
       "      <th>308</th>\n",
       "      <td>organic</td>\n",
       "      <td>60bb7b8273c31e6a292b7a94</td>\n",
       "      <td>853</td>\n",
       "    </tr>\n",
       "    <tr>\n",
       "      <th>220</th>\n",
       "      <td>organic</td>\n",
       "      <td>60bb11f812667e6a8d10774d</td>\n",
       "      <td>798</td>\n",
       "    </tr>\n",
       "    <tr>\n",
       "      <th>...</th>\n",
       "      <td>...</td>\n",
       "      <td>...</td>\n",
       "      <td>...</td>\n",
       "    </tr>\n",
       "    <tr>\n",
       "      <th>378</th>\n",
       "      <td>organic</td>\n",
       "      <td>60bbbfe873c31e6a292b7abe</td>\n",
       "      <td>2</td>\n",
       "    </tr>\n",
       "    <tr>\n",
       "      <th>277</th>\n",
       "      <td>organic</td>\n",
       "      <td>60bb5acf7c80da6a9442cbd4</td>\n",
       "      <td>2</td>\n",
       "    </tr>\n",
       "    <tr>\n",
       "      <th>197</th>\n",
       "      <td>organic</td>\n",
       "      <td>60baf54612667e6a8d10773f</td>\n",
       "      <td>2</td>\n",
       "    </tr>\n",
       "    <tr>\n",
       "      <th>338</th>\n",
       "      <td>organic</td>\n",
       "      <td>60bb98044770af6a2faa05b8</td>\n",
       "      <td>2</td>\n",
       "    </tr>\n",
       "    <tr>\n",
       "      <th>245</th>\n",
       "      <td>organic</td>\n",
       "      <td>60bb34fc73c31e6a292b7a71</td>\n",
       "      <td>1</td>\n",
       "    </tr>\n",
       "  </tbody>\n",
       "</table>\n",
       "<p>446 rows × 3 columns</p>\n",
       "</div>"
      ],
      "text/plain": [
       "    media_source                   user_id  amount_of_glades\n",
       "326      organic  60bb8a867c80da6a9442cbe7              1128\n",
       "37    ad-traffic  60bb18f173c31e6a292b7a5c              1116\n",
       "153   ad-traffic  60bbfcbd7c80da6a9442cc1c               878\n",
       "308      organic  60bb7b8273c31e6a292b7a94               853\n",
       "220      organic  60bb11f812667e6a8d10774d               798\n",
       "..           ...                       ...               ...\n",
       "378      organic  60bbbfe873c31e6a292b7abe                 2\n",
       "277      organic  60bb5acf7c80da6a9442cbd4                 2\n",
       "197      organic  60baf54612667e6a8d10773f                 2\n",
       "338      organic  60bb98044770af6a2faa05b8                 2\n",
       "245      organic  60bb34fc73c31e6a292b7a71                 1\n",
       "\n",
       "[446 rows x 3 columns]"
      ]
     },
     "execution_count": 125,
     "metadata": {},
     "output_type": "execute_result"
    }
   ],
   "source": [
    "source_glades"
   ]
  },
  {
   "cell_type": "code",
   "execution_count": 126,
   "id": "ca6cbcd4",
   "metadata": {},
   "outputs": [],
   "source": [
    "# подсчет количества пользователей, пришедших по рекламе, и сохранение этого значения в переменную advert_complete_users\n",
    "advert_complete_users = source_glades.query('media_source ==\"ad-traffic\"') \\\n",
    "    .agg({'user_id':'count'}).iloc[0]"
   ]
  },
  {
   "cell_type": "code",
   "execution_count": 127,
   "id": "f95cdbbf",
   "metadata": {},
   "outputs": [
    {
     "data": {
      "text/plain": [
       "159"
      ]
     },
     "execution_count": 127,
     "metadata": {},
     "output_type": "execute_result"
    }
   ],
   "source": [
    "advert_complete_users"
   ]
  },
  {
   "cell_type": "code",
   "execution_count": 128,
   "id": "85136162",
   "metadata": {},
   "outputs": [],
   "source": [
    "# вычисление доли пользователей, пришедших по рекламе\n",
    "part_advert_complete_users = round(advert_complete_users / amount_of_completed_users * 100, 2)"
   ]
  },
  {
   "cell_type": "code",
   "execution_count": 129,
   "id": "72a97f39",
   "metadata": {},
   "outputs": [
    {
     "data": {
      "text/plain": [
       "54.45"
      ]
     },
     "execution_count": 129,
     "metadata": {},
     "output_type": "execute_result"
    }
   ],
   "source": [
    "part_advert_complete_users"
   ]
  },
  {
   "cell_type": "markdown",
   "id": "20bbee6f",
   "metadata": {},
   "source": [
    "Среди пользователей, прошедших хотя бы 1 грядку, доля пользователей, пришедших по рекламе, составляет 54.45%\n",
    "Для сравнения: 35.65% пользователей, установивших приложение, пришло по рекламе.  \n",
    "Вывод: ожидания пользователей, перешедших без рекламы, оправдываются в меньшей степени, чем ожидания пользователей, перешедших по рекламе (т.к. доля пользователей, пришедших без рекламы, значительно сокращается).\n",
    "Пользователи, пришедшие по рекламе, не уходят."
   ]
  },
  {
   "cell_type": "code",
   "execution_count": 130,
   "id": "202d90af",
   "metadata": {},
   "outputs": [],
   "source": [
    "# создание столбцов, содержащих порядковый номер месяца и дня недели, день и час\n",
    "complete['month'] = complete['client_time'].dt.month \n",
    "complete['day_of_the_week'] = complete['client_time'].dt.weekday + 1\n",
    "complete['day'] = complete['client_time'].dt.day\n",
    "complete['hour'] = complete['client_time'].dt.hour"
   ]
  },
  {
   "cell_type": "code",
   "execution_count": 131,
   "id": "523475b1",
   "metadata": {},
   "outputs": [
    {
     "data": {
      "text/html": [
       "<div>\n",
       "<style scoped>\n",
       "    .dataframe tbody tr th:only-of-type {\n",
       "        vertical-align: middle;\n",
       "    }\n",
       "\n",
       "    .dataframe tbody tr th {\n",
       "        vertical-align: top;\n",
       "    }\n",
       "\n",
       "    .dataframe thead th {\n",
       "        text-align: right;\n",
       "    }\n",
       "</style>\n",
       "<table border=\"1\" class=\"dataframe\">\n",
       "  <thead>\n",
       "    <tr style=\"text-align: right;\">\n",
       "      <th></th>\n",
       "      <th>index</th>\n",
       "      <th>user_id</th>\n",
       "      <th>media_source</th>\n",
       "      <th>client_time</th>\n",
       "      <th>session_index</th>\n",
       "      <th>event_name</th>\n",
       "      <th>coins</th>\n",
       "      <th>freeRounds</th>\n",
       "      <th>freeUndo</th>\n",
       "      <th>freeWildCard</th>\n",
       "      <th>...</th>\n",
       "      <th>gladeId</th>\n",
       "      <th>league</th>\n",
       "      <th>VIPPointsAmount</th>\n",
       "      <th>VIPStatus</th>\n",
       "      <th>gameType</th>\n",
       "      <th>levels</th>\n",
       "      <th>month</th>\n",
       "      <th>day_of_the_week</th>\n",
       "      <th>day</th>\n",
       "      <th>hour</th>\n",
       "    </tr>\n",
       "  </thead>\n",
       "  <tbody>\n",
       "    <tr>\n",
       "      <th>0</th>\n",
       "      <td>0</td>\n",
       "      <td>60bb1bac12667e6a8d10774e</td>\n",
       "      <td>organic</td>\n",
       "      <td>2021-06-09 02:58:06</td>\n",
       "      <td>52</td>\n",
       "      <td>gladeComplete</td>\n",
       "      <td>6041</td>\n",
       "      <td>0</td>\n",
       "      <td>2</td>\n",
       "      <td>0</td>\n",
       "      <td>...</td>\n",
       "      <td>7.0</td>\n",
       "      <td>1.0</td>\n",
       "      <td>0.0</td>\n",
       "      <td>0.0</td>\n",
       "      <td>NaN</td>\n",
       "      <td>63</td>\n",
       "      <td>6</td>\n",
       "      <td>3</td>\n",
       "      <td>9</td>\n",
       "      <td>2</td>\n",
       "    </tr>\n",
       "    <tr>\n",
       "      <th>1</th>\n",
       "      <td>1</td>\n",
       "      <td>60bb1bac12667e6a8d10774e</td>\n",
       "      <td>organic</td>\n",
       "      <td>2021-06-10 13:38:07</td>\n",
       "      <td>63</td>\n",
       "      <td>gladeComplete</td>\n",
       "      <td>6050</td>\n",
       "      <td>0</td>\n",
       "      <td>1</td>\n",
       "      <td>0</td>\n",
       "      <td>...</td>\n",
       "      <td>8.0</td>\n",
       "      <td>1.0</td>\n",
       "      <td>0.0</td>\n",
       "      <td>0.0</td>\n",
       "      <td>NaN</td>\n",
       "      <td>39</td>\n",
       "      <td>6</td>\n",
       "      <td>4</td>\n",
       "      <td>10</td>\n",
       "      <td>13</td>\n",
       "    </tr>\n",
       "    <tr>\n",
       "      <th>2</th>\n",
       "      <td>2</td>\n",
       "      <td>60bb66084770af6a2faa05a0</td>\n",
       "      <td>organic</td>\n",
       "      <td>2021-06-10 20:07:37</td>\n",
       "      <td>13</td>\n",
       "      <td>gladeComplete</td>\n",
       "      <td>8873</td>\n",
       "      <td>0</td>\n",
       "      <td>0</td>\n",
       "      <td>3</td>\n",
       "      <td>...</td>\n",
       "      <td>6.0</td>\n",
       "      <td>0.0</td>\n",
       "      <td>NaN</td>\n",
       "      <td>NaN</td>\n",
       "      <td>NaN</td>\n",
       "      <td>10</td>\n",
       "      <td>6</td>\n",
       "      <td>4</td>\n",
       "      <td>10</td>\n",
       "      <td>20</td>\n",
       "    </tr>\n",
       "    <tr>\n",
       "      <th>3</th>\n",
       "      <td>3</td>\n",
       "      <td>60bb7de34770af6a2faa05ab</td>\n",
       "      <td>ad-traffic</td>\n",
       "      <td>2021-06-11 00:53:38</td>\n",
       "      <td>5</td>\n",
       "      <td>gladeComplete</td>\n",
       "      <td>17154</td>\n",
       "      <td>0</td>\n",
       "      <td>0</td>\n",
       "      <td>2</td>\n",
       "      <td>...</td>\n",
       "      <td>4.0</td>\n",
       "      <td>0.0</td>\n",
       "      <td>0.0</td>\n",
       "      <td>0.0</td>\n",
       "      <td>NaN</td>\n",
       "      <td>6</td>\n",
       "      <td>6</td>\n",
       "      <td>5</td>\n",
       "      <td>11</td>\n",
       "      <td>0</td>\n",
       "    </tr>\n",
       "    <tr>\n",
       "      <th>4</th>\n",
       "      <td>4</td>\n",
       "      <td>60bb46a573c31e6a292b7a79</td>\n",
       "      <td>ad-traffic</td>\n",
       "      <td>2021-06-11 11:06:29</td>\n",
       "      <td>58</td>\n",
       "      <td>gladeComplete</td>\n",
       "      <td>7846</td>\n",
       "      <td>0</td>\n",
       "      <td>0</td>\n",
       "      <td>0</td>\n",
       "      <td>...</td>\n",
       "      <td>7.0</td>\n",
       "      <td>0.0</td>\n",
       "      <td>NaN</td>\n",
       "      <td>NaN</td>\n",
       "      <td>NaN</td>\n",
       "      <td>41</td>\n",
       "      <td>6</td>\n",
       "      <td>5</td>\n",
       "      <td>11</td>\n",
       "      <td>11</td>\n",
       "    </tr>\n",
       "  </tbody>\n",
       "</table>\n",
       "<p>5 rows × 24 columns</p>\n",
       "</div>"
      ],
      "text/plain": [
       "   index                   user_id media_source         client_time  \\\n",
       "0      0  60bb1bac12667e6a8d10774e      organic 2021-06-09 02:58:06   \n",
       "1      1  60bb1bac12667e6a8d10774e      organic 2021-06-10 13:38:07   \n",
       "2      2  60bb66084770af6a2faa05a0      organic 2021-06-10 20:07:37   \n",
       "3      3  60bb7de34770af6a2faa05ab   ad-traffic 2021-06-11 00:53:38   \n",
       "4      4  60bb46a573c31e6a292b7a79   ad-traffic 2021-06-11 11:06:29   \n",
       "\n",
       "   session_index     event_name  coins  freeRounds  freeUndo  freeWildCard  \\\n",
       "0             52  gladeComplete   6041           0         2             0   \n",
       "1             63  gladeComplete   6050           0         1             0   \n",
       "2             13  gladeComplete   8873           0         0             3   \n",
       "3              5  gladeComplete  17154           0         0             2   \n",
       "4             58  gladeComplete   7846           0         0             0   \n",
       "\n",
       "   ...  gladeId  league  VIPPointsAmount  VIPStatus  gameType  levels  month  \\\n",
       "0  ...      7.0     1.0              0.0        0.0       NaN      63      6   \n",
       "1  ...      8.0     1.0              0.0        0.0       NaN      39      6   \n",
       "2  ...      6.0     0.0              NaN        NaN       NaN      10      6   \n",
       "3  ...      4.0     0.0              0.0        0.0       NaN       6      6   \n",
       "4  ...      7.0     0.0              NaN        NaN       NaN      41      6   \n",
       "\n",
       "   day_of_the_week  day  hour  \n",
       "0                3    9     2  \n",
       "1                4   10    13  \n",
       "2                4   10    20  \n",
       "3                5   11     0  \n",
       "4                5   11    11  \n",
       "\n",
       "[5 rows x 24 columns]"
      ]
     },
     "execution_count": 131,
     "metadata": {},
     "output_type": "execute_result"
    }
   ],
   "source": [
    "complete.head()"
   ]
  },
  {
   "cell_type": "markdown",
   "id": "071382c6",
   "metadata": {},
   "source": [
    "Создание столбцов прошло успешно."
   ]
  },
  {
   "cell_type": "code",
   "execution_count": 132,
   "id": "8ed7ef7e",
   "metadata": {},
   "outputs": [
    {
     "data": {
      "text/plain": [
       "array([6], dtype=int64)"
      ]
     },
     "execution_count": 132,
     "metadata": {},
     "output_type": "execute_result"
    }
   ],
   "source": [
    "# поиск уникальных значений порядкового номера месяца\n",
    "complete['month'].unique()"
   ]
  },
  {
   "cell_type": "markdown",
   "id": "a4cfd42d",
   "metadata": {},
   "source": [
    "В исходнике представлены данные лишь за июнь, поэтому никаких выводов о наличии/отсутствии сезонности сделать нельзя."
   ]
  },
  {
   "cell_type": "code",
   "execution_count": 133,
   "id": "fb458415",
   "metadata": {},
   "outputs": [
    {
     "data": {
      "text/plain": [
       "array([3, 4, 5, 6, 7, 1, 2], dtype=int64)"
      ]
     },
     "execution_count": 133,
     "metadata": {},
     "output_type": "execute_result"
    }
   ],
   "source": [
    "# поиск уникальных значений порядкового номера дня недели\n",
    "complete['day_of_the_week'].unique()"
   ]
  },
  {
   "cell_type": "code",
   "execution_count": 134,
   "id": "090aa9e2",
   "metadata": {},
   "outputs": [],
   "source": [
    "# подсчет количества завершенных грядок, сгруппированных по дням недели\n",
    "day_of_the_week_glades = learn.groupby('day_of_the_week', as_index=False) \\\n",
    "    .agg({'user_id':'count'}) \\\n",
    "    .sort_values(by='user_id', ascending=False) \\\n",
    "    .rename(columns={'user_id':'amount_of_glades'})"
   ]
  },
  {
   "cell_type": "code",
   "execution_count": 135,
   "id": "5d4bfbca",
   "metadata": {},
   "outputs": [
    {
     "data": {
      "text/html": [
       "<div>\n",
       "<style scoped>\n",
       "    .dataframe tbody tr th:only-of-type {\n",
       "        vertical-align: middle;\n",
       "    }\n",
       "\n",
       "    .dataframe tbody tr th {\n",
       "        vertical-align: top;\n",
       "    }\n",
       "\n",
       "    .dataframe thead th {\n",
       "        text-align: right;\n",
       "    }\n",
       "</style>\n",
       "<table border=\"1\" class=\"dataframe\">\n",
       "  <thead>\n",
       "    <tr style=\"text-align: right;\">\n",
       "      <th></th>\n",
       "      <th>day_of_the_week</th>\n",
       "      <th>amount_of_glades</th>\n",
       "    </tr>\n",
       "  </thead>\n",
       "  <tbody>\n",
       "    <tr>\n",
       "      <th>5</th>\n",
       "      <td>6</td>\n",
       "      <td>58545</td>\n",
       "    </tr>\n",
       "    <tr>\n",
       "      <th>6</th>\n",
       "      <td>7</td>\n",
       "      <td>10035</td>\n",
       "    </tr>\n",
       "    <tr>\n",
       "      <th>0</th>\n",
       "      <td>1</td>\n",
       "      <td>4336</td>\n",
       "    </tr>\n",
       "    <tr>\n",
       "      <th>1</th>\n",
       "      <td>2</td>\n",
       "      <td>3649</td>\n",
       "    </tr>\n",
       "    <tr>\n",
       "      <th>2</th>\n",
       "      <td>3</td>\n",
       "      <td>3041</td>\n",
       "    </tr>\n",
       "    <tr>\n",
       "      <th>4</th>\n",
       "      <td>5</td>\n",
       "      <td>2228</td>\n",
       "    </tr>\n",
       "    <tr>\n",
       "      <th>3</th>\n",
       "      <td>4</td>\n",
       "      <td>2038</td>\n",
       "    </tr>\n",
       "  </tbody>\n",
       "</table>\n",
       "</div>"
      ],
      "text/plain": [
       "   day_of_the_week  amount_of_glades\n",
       "5                6             58545\n",
       "6                7             10035\n",
       "0                1              4336\n",
       "1                2              3649\n",
       "2                3              3041\n",
       "4                5              2228\n",
       "3                4              2038"
      ]
     },
     "execution_count": 135,
     "metadata": {},
     "output_type": "execute_result"
    }
   ],
   "source": [
    "day_of_the_week_glades"
   ]
  },
  {
   "cell_type": "markdown",
   "id": "9b6f8b59",
   "metadata": {},
   "source": [
    "Максимальное число грядок было завершено игроками в субботу.  \n",
    "\n",
    "Выводы : \n",
    "- максимальная пользовательская активность наблюдается в субботу, что, вероятно, объясняется тем фактом, что люди в выходные располагают большим количеством времени для игр\n",
    "- все скачивания игры приходятся на субботу => вероятно пользователи начинали прохождение игры сразу после скачивания и обучения"
   ]
  },
  {
   "cell_type": "code",
   "execution_count": 136,
   "id": "2f7aae3f",
   "metadata": {},
   "outputs": [
    {
     "data": {
      "text/plain": [
       "array([ 9, 10, 11, 12,  5,  6,  7,  8], dtype=int64)"
      ]
     },
     "execution_count": 136,
     "metadata": {},
     "output_type": "execute_result"
    }
   ],
   "source": [
    "# поиск уникальных значений дня\n",
    "complete['day'].unique()"
   ]
  },
  {
   "cell_type": "code",
   "execution_count": 137,
   "id": "a2cc160c",
   "metadata": {},
   "outputs": [],
   "source": [
    "# подсчет количества завершенных грядок, сгруппированных по дням\n",
    "day_glades = learn.groupby('day', as_index=False) \\\n",
    "    .agg({'user_id':'count'}) \\\n",
    "    .sort_values(by='user_id', ascending=False) \\\n",
    "    .rename(columns={'user_id':'amount_of_glades'})"
   ]
  },
  {
   "cell_type": "code",
   "execution_count": 138,
   "id": "d5a8db1a",
   "metadata": {},
   "outputs": [
    {
     "data": {
      "text/html": [
       "<div>\n",
       "<style scoped>\n",
       "    .dataframe tbody tr th:only-of-type {\n",
       "        vertical-align: middle;\n",
       "    }\n",
       "\n",
       "    .dataframe tbody tr th {\n",
       "        vertical-align: top;\n",
       "    }\n",
       "\n",
       "    .dataframe thead th {\n",
       "        text-align: right;\n",
       "    }\n",
       "</style>\n",
       "<table border=\"1\" class=\"dataframe\">\n",
       "  <thead>\n",
       "    <tr style=\"text-align: right;\">\n",
       "      <th></th>\n",
       "      <th>day</th>\n",
       "      <th>amount_of_glades</th>\n",
       "    </tr>\n",
       "  </thead>\n",
       "  <tbody>\n",
       "    <tr>\n",
       "      <th>0</th>\n",
       "      <td>5</td>\n",
       "      <td>56189</td>\n",
       "    </tr>\n",
       "    <tr>\n",
       "      <th>1</th>\n",
       "      <td>6</td>\n",
       "      <td>10035</td>\n",
       "    </tr>\n",
       "    <tr>\n",
       "      <th>2</th>\n",
       "      <td>7</td>\n",
       "      <td>4336</td>\n",
       "    </tr>\n",
       "    <tr>\n",
       "      <th>3</th>\n",
       "      <td>8</td>\n",
       "      <td>3649</td>\n",
       "    </tr>\n",
       "    <tr>\n",
       "      <th>4</th>\n",
       "      <td>9</td>\n",
       "      <td>3041</td>\n",
       "    </tr>\n",
       "    <tr>\n",
       "      <th>7</th>\n",
       "      <td>12</td>\n",
       "      <td>2356</td>\n",
       "    </tr>\n",
       "    <tr>\n",
       "      <th>6</th>\n",
       "      <td>11</td>\n",
       "      <td>2228</td>\n",
       "    </tr>\n",
       "    <tr>\n",
       "      <th>5</th>\n",
       "      <td>10</td>\n",
       "      <td>2038</td>\n",
       "    </tr>\n",
       "  </tbody>\n",
       "</table>\n",
       "</div>"
      ],
      "text/plain": [
       "   day  amount_of_glades\n",
       "0    5             56189\n",
       "1    6             10035\n",
       "2    7              4336\n",
       "3    8              3649\n",
       "4    9              3041\n",
       "7   12              2356\n",
       "6   11              2228\n",
       "5   10              2038"
      ]
     },
     "execution_count": 138,
     "metadata": {},
     "output_type": "execute_result"
    }
   ],
   "source": [
    "day_glades"
   ]
  },
  {
   "cell_type": "markdown",
   "id": "3d5d8f39",
   "metadata": {},
   "source": [
    "Максимальное число грядок было завершено 5 июня - в день, когда игра была скачана всеми игроками. Эти данные подтверждают гипотезу о том, что пользователи, как правило, начинали прохождение игры непосредственно после обучения.\n",
    "Со временем число завершенных грядок уменьшалось, что позволило судить о снижении пользовательской активности (retention)."
   ]
  },
  {
   "cell_type": "code",
   "execution_count": 139,
   "id": "1fa9fffd",
   "metadata": {},
   "outputs": [
    {
     "data": {
      "text/plain": [
       "array([ 2, 13, 20,  0, 11, 12, 14, 15, 17, 18, 19, 21, 22, 23,  3,  4,  5,\n",
       "        6,  7,  8,  9, 10, 16,  1], dtype=int64)"
      ]
     },
     "execution_count": 139,
     "metadata": {},
     "output_type": "execute_result"
    }
   ],
   "source": [
    "# поиск уникальных значений часа\n",
    "complete['hour'].unique()"
   ]
  },
  {
   "cell_type": "code",
   "execution_count": 140,
   "id": "5be7d4d9",
   "metadata": {},
   "outputs": [],
   "source": [
    "# подсчет количества завершенных грядок, сгруппированных по часам\n",
    "hour_glades = learn.groupby('hour', as_index=False) \\\n",
    "    .agg({'user_id':'count'}) \\\n",
    "    .sort_values(by='user_id', ascending=False) \\\n",
    "    .rename(columns={'user_id':'amount_of_glades'})"
   ]
  },
  {
   "cell_type": "code",
   "execution_count": 141,
   "id": "7422bd20",
   "metadata": {},
   "outputs": [
    {
     "data": {
      "text/html": [
       "<div>\n",
       "<style scoped>\n",
       "    .dataframe tbody tr th:only-of-type {\n",
       "        vertical-align: middle;\n",
       "    }\n",
       "\n",
       "    .dataframe tbody tr th {\n",
       "        vertical-align: top;\n",
       "    }\n",
       "\n",
       "    .dataframe thead th {\n",
       "        text-align: right;\n",
       "    }\n",
       "</style>\n",
       "<table border=\"1\" class=\"dataframe\">\n",
       "  <thead>\n",
       "    <tr style=\"text-align: right;\">\n",
       "      <th></th>\n",
       "      <th>hour</th>\n",
       "      <th>amount_of_glades</th>\n",
       "    </tr>\n",
       "  </thead>\n",
       "  <tbody>\n",
       "    <tr>\n",
       "      <th>19</th>\n",
       "      <td>19</td>\n",
       "      <td>5252</td>\n",
       "    </tr>\n",
       "    <tr>\n",
       "      <th>15</th>\n",
       "      <td>15</td>\n",
       "      <td>5191</td>\n",
       "    </tr>\n",
       "    <tr>\n",
       "      <th>16</th>\n",
       "      <td>16</td>\n",
       "      <td>5008</td>\n",
       "    </tr>\n",
       "    <tr>\n",
       "      <th>10</th>\n",
       "      <td>10</td>\n",
       "      <td>4638</td>\n",
       "    </tr>\n",
       "    <tr>\n",
       "      <th>17</th>\n",
       "      <td>17</td>\n",
       "      <td>4569</td>\n",
       "    </tr>\n",
       "    <tr>\n",
       "      <th>8</th>\n",
       "      <td>8</td>\n",
       "      <td>4528</td>\n",
       "    </tr>\n",
       "    <tr>\n",
       "      <th>9</th>\n",
       "      <td>9</td>\n",
       "      <td>4386</td>\n",
       "    </tr>\n",
       "    <tr>\n",
       "      <th>14</th>\n",
       "      <td>14</td>\n",
       "      <td>4045</td>\n",
       "    </tr>\n",
       "    <tr>\n",
       "      <th>20</th>\n",
       "      <td>20</td>\n",
       "      <td>3915</td>\n",
       "    </tr>\n",
       "    <tr>\n",
       "      <th>7</th>\n",
       "      <td>7</td>\n",
       "      <td>3905</td>\n",
       "    </tr>\n",
       "    <tr>\n",
       "      <th>18</th>\n",
       "      <td>18</td>\n",
       "      <td>3903</td>\n",
       "    </tr>\n",
       "    <tr>\n",
       "      <th>12</th>\n",
       "      <td>12</td>\n",
       "      <td>3884</td>\n",
       "    </tr>\n",
       "    <tr>\n",
       "      <th>13</th>\n",
       "      <td>13</td>\n",
       "      <td>3866</td>\n",
       "    </tr>\n",
       "    <tr>\n",
       "      <th>11</th>\n",
       "      <td>11</td>\n",
       "      <td>3503</td>\n",
       "    </tr>\n",
       "    <tr>\n",
       "      <th>5</th>\n",
       "      <td>5</td>\n",
       "      <td>3076</td>\n",
       "    </tr>\n",
       "    <tr>\n",
       "      <th>6</th>\n",
       "      <td>6</td>\n",
       "      <td>3045</td>\n",
       "    </tr>\n",
       "    <tr>\n",
       "      <th>2</th>\n",
       "      <td>2</td>\n",
       "      <td>2743</td>\n",
       "    </tr>\n",
       "    <tr>\n",
       "      <th>4</th>\n",
       "      <td>4</td>\n",
       "      <td>2684</td>\n",
       "    </tr>\n",
       "    <tr>\n",
       "      <th>3</th>\n",
       "      <td>3</td>\n",
       "      <td>2602</td>\n",
       "    </tr>\n",
       "    <tr>\n",
       "      <th>21</th>\n",
       "      <td>21</td>\n",
       "      <td>2525</td>\n",
       "    </tr>\n",
       "    <tr>\n",
       "      <th>1</th>\n",
       "      <td>1</td>\n",
       "      <td>1810</td>\n",
       "    </tr>\n",
       "    <tr>\n",
       "      <th>23</th>\n",
       "      <td>23</td>\n",
       "      <td>1741</td>\n",
       "    </tr>\n",
       "    <tr>\n",
       "      <th>0</th>\n",
       "      <td>0</td>\n",
       "      <td>1564</td>\n",
       "    </tr>\n",
       "    <tr>\n",
       "      <th>22</th>\n",
       "      <td>22</td>\n",
       "      <td>1489</td>\n",
       "    </tr>\n",
       "  </tbody>\n",
       "</table>\n",
       "</div>"
      ],
      "text/plain": [
       "    hour  amount_of_glades\n",
       "19    19              5252\n",
       "15    15              5191\n",
       "16    16              5008\n",
       "10    10              4638\n",
       "17    17              4569\n",
       "8      8              4528\n",
       "9      9              4386\n",
       "14    14              4045\n",
       "20    20              3915\n",
       "7      7              3905\n",
       "18    18              3903\n",
       "12    12              3884\n",
       "13    13              3866\n",
       "11    11              3503\n",
       "5      5              3076\n",
       "6      6              3045\n",
       "2      2              2743\n",
       "4      4              2684\n",
       "3      3              2602\n",
       "21    21              2525\n",
       "1      1              1810\n",
       "23    23              1741\n",
       "0      0              1564\n",
       "22    22              1489"
      ]
     },
     "execution_count": 141,
     "metadata": {},
     "output_type": "execute_result"
    }
   ],
   "source": [
    "hour_glades"
   ]
  },
  {
   "cell_type": "code",
   "execution_count": 142,
   "id": "701d5f6a",
   "metadata": {},
   "outputs": [
    {
     "data": {
      "text/plain": [
       "Text(0, 0.5, 'amount of glades')"
      ]
     },
     "execution_count": 142,
     "metadata": {},
     "output_type": "execute_result"
    },
    {
     "data": {
      "image/png": "[encoded data removed]",
      "text/plain": [
       "<Figure size 576x432 with 1 Axes>"
      ]
     },
     "metadata": {
      "needs_background": "light"
     },
     "output_type": "display_data"
    }
   ],
   "source": [
    "# построение графика завершения грядок в течение суток\n",
    "plt.figure(figsize=(8, 6))\n",
    "sns.countplot(data=complete, x='hour', color='xkcd:soft green')\n",
    "plt.suptitle('Количество завершенных грядок в течение суток', x=0.5, y=0.93)\n",
    "plt.ylabel('amount of glades')"
   ]
  },
  {
   "cell_type": "markdown",
   "id": "26481022",
   "metadata": {},
   "source": [
    "На графике количества завершенных грядок выделяется максимум в 15, 17 часов, который свидетельствует о том, что пользователи начинали проходить игру (завершать грядки) непосредственно после установки игры и прохождения обучения (максимумы количества завершенных грядок коррелируют с максимумами количества установок и использованных туториальных подсказок)."
   ]
  },
  {
   "cell_type": "markdown",
   "id": "474c7995",
   "metadata": {},
   "source": [
    "## Задание 1.2. Качество контента"
   ]
  },
  {
   "cell_type": "markdown",
   "id": "a45b4dc6",
   "metadata": {},
   "source": [
    "Изучите то, как пользователи взаимодействуют с игровыми уровнями.  \n",
    "Оцените качество первых 30 уровней игры: какие уровни хороши, какие нет и почему?"
   ]
  },
  {
   "cell_type": "code",
   "execution_count": 143,
   "id": "f0080f84",
   "metadata": {},
   "outputs": [],
   "source": [
    "# отбор части датафрейма, фиксирующей прохождение уровней \n",
    "played_users = data.query('event_name == \"levelEnd\"')"
   ]
  },
  {
   "cell_type": "code",
   "execution_count": 144,
   "id": "0df8002c",
   "metadata": {},
   "outputs": [],
   "source": [
    "play_data = played_users['event_data'].apply(json.loads)"
   ]
  },
  {
   "cell_type": "code",
   "execution_count": 145,
   "id": "df4c92b7",
   "metadata": {},
   "outputs": [],
   "source": [
    "# распаковка столбца event_data в отдельный датафрейм\n",
    "play_data = pd.json_normalize(data = play_data, \n",
    "                          meta=['time', 'level', 'levelLoop', 'win', 'stars', 'cardsOnField', 'cardsOnHand'])"
   ]
  },
  {
   "cell_type": "markdown",
   "id": "3993ba0e",
   "metadata": {},
   "source": [
    "Распаковка столбца с данными в формате json прошла успешно."
   ]
  },
  {
   "cell_type": "code",
   "execution_count": 146,
   "id": "d3eeb816",
   "metadata": {},
   "outputs": [],
   "source": [
    "played_users = played_users.drop(['index'], axis=1)"
   ]
  },
  {
   "cell_type": "code",
   "execution_count": 147,
   "id": "d2a0bfef",
   "metadata": {},
   "outputs": [],
   "source": [
    "# перевод индексов строк в отдельную колонку (для объединения датафреймов по этому столбцу)\n",
    "play_data.reset_index(level=0, inplace=True)\n",
    "played_users.reset_index(level=0, inplace=True)"
   ]
  },
  {
   "cell_type": "code",
   "execution_count": 148,
   "id": "891ddf27",
   "metadata": {},
   "outputs": [],
   "source": [
    "played_users = played_users.drop('index', axis=1)"
   ]
  },
  {
   "cell_type": "code",
   "execution_count": 149,
   "id": "1efaf512",
   "metadata": {},
   "outputs": [],
   "source": [
    "played_users.reset_index(level=0, inplace=True)"
   ]
  },
  {
   "cell_type": "code",
   "execution_count": 150,
   "id": "fe542fe4",
   "metadata": {},
   "outputs": [],
   "source": [
    "# объединение датафреймов played_users и play_data (по столбцу index)\n",
    "play = played_users.merge(play_data, on='index')"
   ]
  },
  {
   "cell_type": "code",
   "execution_count": 151,
   "id": "2873e9be",
   "metadata": {},
   "outputs": [],
   "source": [
    "# удаление столбца event_data (т.к. эти данные уже содержатся в датафрейме)\n",
    "play = play.drop('event_data', axis=1)"
   ]
  },
  {
   "cell_type": "code",
   "execution_count": 152,
   "id": "259215b2",
   "metadata": {},
   "outputs": [
    {
     "data": {
      "text/html": [
       "<div>\n",
       "<style scoped>\n",
       "    .dataframe tbody tr th:only-of-type {\n",
       "        vertical-align: middle;\n",
       "    }\n",
       "\n",
       "    .dataframe tbody tr th {\n",
       "        vertical-align: top;\n",
       "    }\n",
       "\n",
       "    .dataframe thead th {\n",
       "        text-align: right;\n",
       "    }\n",
       "</style>\n",
       "<table border=\"1\" class=\"dataframe\">\n",
       "  <thead>\n",
       "    <tr style=\"text-align: right;\">\n",
       "      <th></th>\n",
       "      <th>index</th>\n",
       "      <th>user_id</th>\n",
       "      <th>media_source</th>\n",
       "      <th>client_time</th>\n",
       "      <th>session_index</th>\n",
       "      <th>event_name</th>\n",
       "      <th>coins</th>\n",
       "      <th>freeRounds</th>\n",
       "      <th>freeUndo</th>\n",
       "      <th>freeWildCard</th>\n",
       "      <th>...</th>\n",
       "      <th>stars</th>\n",
       "      <th>streaksRewards</th>\n",
       "      <th>cardsOnField</th>\n",
       "      <th>cardsOnHands</th>\n",
       "      <th>baseLuckyIndex</th>\n",
       "      <th>targetGoldIndex</th>\n",
       "      <th>totalLuckyIndex</th>\n",
       "      <th>cardsRemainsBonus</th>\n",
       "      <th>prediction</th>\n",
       "      <th>predictionCameTrue</th>\n",
       "    </tr>\n",
       "  </thead>\n",
       "  <tbody>\n",
       "    <tr>\n",
       "      <th>0</th>\n",
       "      <td>0</td>\n",
       "      <td>60babef87c80da6a9442cb86</td>\n",
       "      <td>ad-traffic</td>\n",
       "      <td>2021-06-05 00:02:40</td>\n",
       "      <td>1</td>\n",
       "      <td>levelEnd</td>\n",
       "      <td>5000</td>\n",
       "      <td>0</td>\n",
       "      <td>3</td>\n",
       "      <td>3</td>\n",
       "      <td>...</td>\n",
       "      <td>5</td>\n",
       "      <td>[Gold, AdditionalCard, WildCard, Gold, Additio...</td>\n",
       "      <td>0</td>\n",
       "      <td>17</td>\n",
       "      <td>0</td>\n",
       "      <td>0</td>\n",
       "      <td>0</td>\n",
       "      <td>1580</td>\n",
       "      <td>Default</td>\n",
       "      <td>False</td>\n",
       "    </tr>\n",
       "    <tr>\n",
       "      <th>1</th>\n",
       "      <td>1</td>\n",
       "      <td>60babef87c80da6a9442cb86</td>\n",
       "      <td>ad-traffic</td>\n",
       "      <td>2021-06-05 00:03:39</td>\n",
       "      <td>1</td>\n",
       "      <td>levelEnd</td>\n",
       "      <td>9288</td>\n",
       "      <td>0</td>\n",
       "      <td>3</td>\n",
       "      <td>3</td>\n",
       "      <td>...</td>\n",
       "      <td>3</td>\n",
       "      <td>[Gold, AdditionalCard, WildCard]</td>\n",
       "      <td>0</td>\n",
       "      <td>3</td>\n",
       "      <td>0</td>\n",
       "      <td>0</td>\n",
       "      <td>0</td>\n",
       "      <td>90</td>\n",
       "      <td>VictoryWith1Or2Cards</td>\n",
       "      <td>True</td>\n",
       "    </tr>\n",
       "    <tr>\n",
       "      <th>2</th>\n",
       "      <td>2</td>\n",
       "      <td>60babef87c80da6a9442cb86</td>\n",
       "      <td>ad-traffic</td>\n",
       "      <td>2021-06-05 00:04:37</td>\n",
       "      <td>1</td>\n",
       "      <td>levelEnd</td>\n",
       "      <td>12602</td>\n",
       "      <td>1</td>\n",
       "      <td>3</td>\n",
       "      <td>2</td>\n",
       "      <td>...</td>\n",
       "      <td>2</td>\n",
       "      <td>[Gold, AdditionalCard]</td>\n",
       "      <td>0</td>\n",
       "      <td>5</td>\n",
       "      <td>0</td>\n",
       "      <td>0</td>\n",
       "      <td>0</td>\n",
       "      <td>150</td>\n",
       "      <td>VictoryWith4OrMoreCards</td>\n",
       "      <td>True</td>\n",
       "    </tr>\n",
       "    <tr>\n",
       "      <th>3</th>\n",
       "      <td>3</td>\n",
       "      <td>60bac0e912667e6a8d107731</td>\n",
       "      <td>ad-traffic</td>\n",
       "      <td>2021-06-05 00:04:59</td>\n",
       "      <td>1</td>\n",
       "      <td>levelEnd</td>\n",
       "      <td>5000</td>\n",
       "      <td>0</td>\n",
       "      <td>3</td>\n",
       "      <td>3</td>\n",
       "      <td>...</td>\n",
       "      <td>5</td>\n",
       "      <td>[Gold, AdditionalCard, WildCard, Gold, Additio...</td>\n",
       "      <td>0</td>\n",
       "      <td>17</td>\n",
       "      <td>0</td>\n",
       "      <td>0</td>\n",
       "      <td>0</td>\n",
       "      <td>1620</td>\n",
       "      <td>Default</td>\n",
       "      <td>False</td>\n",
       "    </tr>\n",
       "    <tr>\n",
       "      <th>4</th>\n",
       "      <td>4</td>\n",
       "      <td>60babfb17c80da6a9442cb87</td>\n",
       "      <td>organic</td>\n",
       "      <td>2021-06-05 00:05:48</td>\n",
       "      <td>1</td>\n",
       "      <td>levelEnd</td>\n",
       "      <td>5000</td>\n",
       "      <td>0</td>\n",
       "      <td>3</td>\n",
       "      <td>3</td>\n",
       "      <td>...</td>\n",
       "      <td>5</td>\n",
       "      <td>[Gold, AdditionalCard, WildCard, Gold, Additio...</td>\n",
       "      <td>0</td>\n",
       "      <td>17</td>\n",
       "      <td>0</td>\n",
       "      <td>0</td>\n",
       "      <td>0</td>\n",
       "      <td>1660</td>\n",
       "      <td>Default</td>\n",
       "      <td>False</td>\n",
       "    </tr>\n",
       "    <tr>\n",
       "      <th>...</th>\n",
       "      <td>...</td>\n",
       "      <td>...</td>\n",
       "      <td>...</td>\n",
       "      <td>...</td>\n",
       "      <td>...</td>\n",
       "      <td>...</td>\n",
       "      <td>...</td>\n",
       "      <td>...</td>\n",
       "      <td>...</td>\n",
       "      <td>...</td>\n",
       "      <td>...</td>\n",
       "      <td>...</td>\n",
       "      <td>...</td>\n",
       "      <td>...</td>\n",
       "      <td>...</td>\n",
       "      <td>...</td>\n",
       "      <td>...</td>\n",
       "      <td>...</td>\n",
       "      <td>...</td>\n",
       "      <td>...</td>\n",
       "      <td>...</td>\n",
       "    </tr>\n",
       "    <tr>\n",
       "      <th>39004</th>\n",
       "      <td>39004</td>\n",
       "      <td>60bb990973c31e6a292b7aa2</td>\n",
       "      <td>ad-traffic</td>\n",
       "      <td>2021-06-12 23:47:04</td>\n",
       "      <td>28</td>\n",
       "      <td>levelEnd</td>\n",
       "      <td>56806</td>\n",
       "      <td>0</td>\n",
       "      <td>12</td>\n",
       "      <td>0</td>\n",
       "      <td>...</td>\n",
       "      <td>6</td>\n",
       "      <td>[Gold, AdditionalCard]</td>\n",
       "      <td>0</td>\n",
       "      <td>0</td>\n",
       "      <td>0</td>\n",
       "      <td>0</td>\n",
       "      <td>0</td>\n",
       "      <td>0</td>\n",
       "      <td>DefeatWith1Or2Cards</td>\n",
       "      <td>False</td>\n",
       "    </tr>\n",
       "    <tr>\n",
       "      <th>39005</th>\n",
       "      <td>39005</td>\n",
       "      <td>60bbbd9573c31e6a292b7abb</td>\n",
       "      <td>ad-traffic</td>\n",
       "      <td>2021-06-12 23:48:08</td>\n",
       "      <td>7</td>\n",
       "      <td>levelEnd</td>\n",
       "      <td>188280</td>\n",
       "      <td>0</td>\n",
       "      <td>7</td>\n",
       "      <td>10</td>\n",
       "      <td>...</td>\n",
       "      <td>2</td>\n",
       "      <td>[Gold, AdditionalCard]</td>\n",
       "      <td>0</td>\n",
       "      <td>2</td>\n",
       "      <td>0</td>\n",
       "      <td>0</td>\n",
       "      <td>0</td>\n",
       "      <td>30</td>\n",
       "      <td>VictoryWith1Or2Cards</td>\n",
       "      <td>True</td>\n",
       "    </tr>\n",
       "    <tr>\n",
       "      <th>39006</th>\n",
       "      <td>39006</td>\n",
       "      <td>60bb990973c31e6a292b7aa2</td>\n",
       "      <td>ad-traffic</td>\n",
       "      <td>2021-06-12 23:48:52</td>\n",
       "      <td>28</td>\n",
       "      <td>levelEnd</td>\n",
       "      <td>25122</td>\n",
       "      <td>0</td>\n",
       "      <td>12</td>\n",
       "      <td>0</td>\n",
       "      <td>...</td>\n",
       "      <td>3</td>\n",
       "      <td>[Gold]</td>\n",
       "      <td>0</td>\n",
       "      <td>0</td>\n",
       "      <td>0</td>\n",
       "      <td>0</td>\n",
       "      <td>0</td>\n",
       "      <td>0</td>\n",
       "      <td>DefeatWith5OrMoreCards</td>\n",
       "      <td>False</td>\n",
       "    </tr>\n",
       "    <tr>\n",
       "      <th>39007</th>\n",
       "      <td>39007</td>\n",
       "      <td>60bbbd9573c31e6a292b7abb</td>\n",
       "      <td>ad-traffic</td>\n",
       "      <td>2021-06-12 23:49:40</td>\n",
       "      <td>7</td>\n",
       "      <td>levelEnd</td>\n",
       "      <td>188905</td>\n",
       "      <td>0</td>\n",
       "      <td>7</td>\n",
       "      <td>10</td>\n",
       "      <td>...</td>\n",
       "      <td>4</td>\n",
       "      <td>[Gold, AdditionalCard, WildCard, Gold]</td>\n",
       "      <td>0</td>\n",
       "      <td>1</td>\n",
       "      <td>0</td>\n",
       "      <td>0</td>\n",
       "      <td>0</td>\n",
       "      <td>10</td>\n",
       "      <td>VictoryWith1Or2Cards</td>\n",
       "      <td>True</td>\n",
       "    </tr>\n",
       "    <tr>\n",
       "      <th>39008</th>\n",
       "      <td>39008</td>\n",
       "      <td>60bb990973c31e6a292b7aa2</td>\n",
       "      <td>ad-traffic</td>\n",
       "      <td>2021-06-12 23:50:19</td>\n",
       "      <td>28</td>\n",
       "      <td>levelEnd</td>\n",
       "      <td>4097</td>\n",
       "      <td>0</td>\n",
       "      <td>12</td>\n",
       "      <td>0</td>\n",
       "      <td>...</td>\n",
       "      <td>0</td>\n",
       "      <td>[]</td>\n",
       "      <td>0</td>\n",
       "      <td>0</td>\n",
       "      <td>0</td>\n",
       "      <td>0</td>\n",
       "      <td>0</td>\n",
       "      <td>0</td>\n",
       "      <td>DefeatWith3OrMoreCards</td>\n",
       "      <td>False</td>\n",
       "    </tr>\n",
       "  </tbody>\n",
       "</table>\n",
       "<p>39009 rows × 38 columns</p>\n",
       "</div>"
      ],
      "text/plain": [
       "       index                   user_id media_source         client_time  \\\n",
       "0          0  60babef87c80da6a9442cb86   ad-traffic 2021-06-05 00:02:40   \n",
       "1          1  60babef87c80da6a9442cb86   ad-traffic 2021-06-05 00:03:39   \n",
       "2          2  60babef87c80da6a9442cb86   ad-traffic 2021-06-05 00:04:37   \n",
       "3          3  60bac0e912667e6a8d107731   ad-traffic 2021-06-05 00:04:59   \n",
       "4          4  60babfb17c80da6a9442cb87      organic 2021-06-05 00:05:48   \n",
       "...      ...                       ...          ...                 ...   \n",
       "39004  39004  60bb990973c31e6a292b7aa2   ad-traffic 2021-06-12 23:47:04   \n",
       "39005  39005  60bbbd9573c31e6a292b7abb   ad-traffic 2021-06-12 23:48:08   \n",
       "39006  39006  60bb990973c31e6a292b7aa2   ad-traffic 2021-06-12 23:48:52   \n",
       "39007  39007  60bbbd9573c31e6a292b7abb   ad-traffic 2021-06-12 23:49:40   \n",
       "39008  39008  60bb990973c31e6a292b7aa2   ad-traffic 2021-06-12 23:50:19   \n",
       "\n",
       "       session_index event_name   coins  freeRounds  freeUndo  freeWildCard  \\\n",
       "0                  1   levelEnd    5000           0         3             3   \n",
       "1                  1   levelEnd    9288           0         3             3   \n",
       "2                  1   levelEnd   12602           1         3             2   \n",
       "3                  1   levelEnd    5000           0         3             3   \n",
       "4                  1   levelEnd    5000           0         3             3   \n",
       "...              ...        ...     ...         ...       ...           ...   \n",
       "39004             28   levelEnd   56806           0        12             0   \n",
       "39005              7   levelEnd  188280           0         7            10   \n",
       "39006             28   levelEnd   25122           0        12             0   \n",
       "39007              7   levelEnd  188905           0         7            10   \n",
       "39008             28   levelEnd    4097           0        12             0   \n",
       "\n",
       "       ...  stars                                     streaksRewards  \\\n",
       "0      ...      5  [Gold, AdditionalCard, WildCard, Gold, Additio...   \n",
       "1      ...      3                   [Gold, AdditionalCard, WildCard]   \n",
       "2      ...      2                             [Gold, AdditionalCard]   \n",
       "3      ...      5  [Gold, AdditionalCard, WildCard, Gold, Additio...   \n",
       "4      ...      5  [Gold, AdditionalCard, WildCard, Gold, Additio...   \n",
       "...    ...    ...                                                ...   \n",
       "39004  ...      6                             [Gold, AdditionalCard]   \n",
       "39005  ...      2                             [Gold, AdditionalCard]   \n",
       "39006  ...      3                                             [Gold]   \n",
       "39007  ...      4             [Gold, AdditionalCard, WildCard, Gold]   \n",
       "39008  ...      0                                                 []   \n",
       "\n",
       "       cardsOnField  cardsOnHands  baseLuckyIndex  targetGoldIndex  \\\n",
       "0                 0            17               0                0   \n",
       "1                 0             3               0                0   \n",
       "2                 0             5               0                0   \n",
       "3                 0            17               0                0   \n",
       "4                 0            17               0                0   \n",
       "...             ...           ...             ...              ...   \n",
       "39004             0             0               0                0   \n",
       "39005             0             2               0                0   \n",
       "39006             0             0               0                0   \n",
       "39007             0             1               0                0   \n",
       "39008             0             0               0                0   \n",
       "\n",
       "       totalLuckyIndex  cardsRemainsBonus               prediction  \\\n",
       "0                    0               1580                  Default   \n",
       "1                    0                 90     VictoryWith1Or2Cards   \n",
       "2                    0                150  VictoryWith4OrMoreCards   \n",
       "3                    0               1620                  Default   \n",
       "4                    0               1660                  Default   \n",
       "...                ...                ...                      ...   \n",
       "39004                0                  0      DefeatWith1Or2Cards   \n",
       "39005                0                 30     VictoryWith1Or2Cards   \n",
       "39006                0                  0   DefeatWith5OrMoreCards   \n",
       "39007                0                 10     VictoryWith1Or2Cards   \n",
       "39008                0                  0   DefeatWith3OrMoreCards   \n",
       "\n",
       "       predictionCameTrue  \n",
       "0                   False  \n",
       "1                    True  \n",
       "2                    True  \n",
       "3                   False  \n",
       "4                   False  \n",
       "...                   ...  \n",
       "39004               False  \n",
       "39005                True  \n",
       "39006               False  \n",
       "39007                True  \n",
       "39008               False  \n",
       "\n",
       "[39009 rows x 38 columns]"
      ]
     },
     "execution_count": 152,
     "metadata": {},
     "output_type": "execute_result"
    }
   ],
   "source": [
    "play"
   ]
  },
  {
   "cell_type": "markdown",
   "id": "afb15504",
   "metadata": {},
   "source": [
    "Объединение датафреймов прошло успешно, данные не были потеряны (39009 записей содержится как в исходных датафреймах, так и в конечном)."
   ]
  },
  {
   "cell_type": "code",
   "execution_count": 153,
   "id": "17dbce11",
   "metadata": {},
   "outputs": [],
   "source": [
    "# сохранение датафрейма play в csv-файл (для построения визуализаций на основе этих данных)\n",
    "play.to_csv('play.csv')"
   ]
  },
  {
   "cell_type": "code",
   "execution_count": 154,
   "id": "3f3a309e",
   "metadata": {},
   "outputs": [],
   "source": [
    "# отбор записей, хранящих информацию только о уровнях с 1 по 30 (включительно)\n",
    "start_levels = play.query('levelLoop <= 30')"
   ]
  },
  {
   "cell_type": "code",
   "execution_count": 155,
   "id": "ebed1479",
   "metadata": {},
   "outputs": [
    {
     "data": {
      "text/html": [
       "<div>\n",
       "<style scoped>\n",
       "    .dataframe tbody tr th:only-of-type {\n",
       "        vertical-align: middle;\n",
       "    }\n",
       "\n",
       "    .dataframe tbody tr th {\n",
       "        vertical-align: top;\n",
       "    }\n",
       "\n",
       "    .dataframe thead th {\n",
       "        text-align: right;\n",
       "    }\n",
       "</style>\n",
       "<table border=\"1\" class=\"dataframe\">\n",
       "  <thead>\n",
       "    <tr style=\"text-align: right;\">\n",
       "      <th></th>\n",
       "      <th>levelLoop</th>\n",
       "      <th>amount_of_players</th>\n",
       "    </tr>\n",
       "  </thead>\n",
       "  <tbody>\n",
       "    <tr>\n",
       "      <th>0</th>\n",
       "      <td>0.0</td>\n",
       "      <td>12591</td>\n",
       "    </tr>\n",
       "    <tr>\n",
       "      <th>1</th>\n",
       "      <td>1.0</td>\n",
       "      <td>336</td>\n",
       "    </tr>\n",
       "    <tr>\n",
       "      <th>3</th>\n",
       "      <td>6.0</td>\n",
       "      <td>315</td>\n",
       "    </tr>\n",
       "    <tr>\n",
       "      <th>4</th>\n",
       "      <td>7.0</td>\n",
       "      <td>309</td>\n",
       "    </tr>\n",
       "    <tr>\n",
       "      <th>5</th>\n",
       "      <td>8.0</td>\n",
       "      <td>302</td>\n",
       "    </tr>\n",
       "    <tr>\n",
       "      <th>8</th>\n",
       "      <td>11.0</td>\n",
       "      <td>300</td>\n",
       "    </tr>\n",
       "    <tr>\n",
       "      <th>9</th>\n",
       "      <td>12.0</td>\n",
       "      <td>296</td>\n",
       "    </tr>\n",
       "    <tr>\n",
       "      <th>10</th>\n",
       "      <td>13.0</td>\n",
       "      <td>291</td>\n",
       "    </tr>\n",
       "    <tr>\n",
       "      <th>11</th>\n",
       "      <td>14.0</td>\n",
       "      <td>285</td>\n",
       "    </tr>\n",
       "    <tr>\n",
       "      <th>25</th>\n",
       "      <td>29.0</td>\n",
       "      <td>282</td>\n",
       "    </tr>\n",
       "    <tr>\n",
       "      <th>26</th>\n",
       "      <td>30.0</td>\n",
       "      <td>275</td>\n",
       "    </tr>\n",
       "    <tr>\n",
       "      <th>12</th>\n",
       "      <td>15.0</td>\n",
       "      <td>248</td>\n",
       "    </tr>\n",
       "    <tr>\n",
       "      <th>13</th>\n",
       "      <td>16.0</td>\n",
       "      <td>167</td>\n",
       "    </tr>\n",
       "    <tr>\n",
       "      <th>14</th>\n",
       "      <td>17.0</td>\n",
       "      <td>68</td>\n",
       "    </tr>\n",
       "    <tr>\n",
       "      <th>15</th>\n",
       "      <td>18.0</td>\n",
       "      <td>27</td>\n",
       "    </tr>\n",
       "    <tr>\n",
       "      <th>16</th>\n",
       "      <td>19.0</td>\n",
       "      <td>12</td>\n",
       "    </tr>\n",
       "    <tr>\n",
       "      <th>17</th>\n",
       "      <td>20.0</td>\n",
       "      <td>7</td>\n",
       "    </tr>\n",
       "    <tr>\n",
       "      <th>18</th>\n",
       "      <td>21.0</td>\n",
       "      <td>5</td>\n",
       "    </tr>\n",
       "    <tr>\n",
       "      <th>19</th>\n",
       "      <td>22.0</td>\n",
       "      <td>3</td>\n",
       "    </tr>\n",
       "    <tr>\n",
       "      <th>20</th>\n",
       "      <td>23.0</td>\n",
       "      <td>3</td>\n",
       "    </tr>\n",
       "    <tr>\n",
       "      <th>21</th>\n",
       "      <td>24.0</td>\n",
       "      <td>3</td>\n",
       "    </tr>\n",
       "    <tr>\n",
       "      <th>7</th>\n",
       "      <td>10.0</td>\n",
       "      <td>2</td>\n",
       "    </tr>\n",
       "    <tr>\n",
       "      <th>6</th>\n",
       "      <td>9.0</td>\n",
       "      <td>2</td>\n",
       "    </tr>\n",
       "    <tr>\n",
       "      <th>22</th>\n",
       "      <td>25.0</td>\n",
       "      <td>2</td>\n",
       "    </tr>\n",
       "    <tr>\n",
       "      <th>23</th>\n",
       "      <td>26.0</td>\n",
       "      <td>2</td>\n",
       "    </tr>\n",
       "    <tr>\n",
       "      <th>24</th>\n",
       "      <td>28.0</td>\n",
       "      <td>2</td>\n",
       "    </tr>\n",
       "    <tr>\n",
       "      <th>2</th>\n",
       "      <td>5.0</td>\n",
       "      <td>2</td>\n",
       "    </tr>\n",
       "  </tbody>\n",
       "</table>\n",
       "</div>"
      ],
      "text/plain": [
       "    levelLoop  amount_of_players\n",
       "0         0.0              12591\n",
       "1         1.0                336\n",
       "3         6.0                315\n",
       "4         7.0                309\n",
       "5         8.0                302\n",
       "8        11.0                300\n",
       "9        12.0                296\n",
       "10       13.0                291\n",
       "11       14.0                285\n",
       "25       29.0                282\n",
       "26       30.0                275\n",
       "12       15.0                248\n",
       "13       16.0                167\n",
       "14       17.0                 68\n",
       "15       18.0                 27\n",
       "16       19.0                 12\n",
       "17       20.0                  7\n",
       "18       21.0                  5\n",
       "19       22.0                  3\n",
       "20       23.0                  3\n",
       "21       24.0                  3\n",
       "7        10.0                  2\n",
       "6         9.0                  2\n",
       "22       25.0                  2\n",
       "23       26.0                  2\n",
       "24       28.0                  2\n",
       "2         5.0                  2"
      ]
     },
     "execution_count": 155,
     "metadata": {},
     "output_type": "execute_result"
    }
   ],
   "source": [
    "# подсчет количества попыток прохождения того или иного уровня\n",
    "start_levels.groupby('levelLoop', as_index=False) \\\n",
    "    .agg({'user_id':'count'}) \\\n",
    "    .sort_values(by='user_id', ascending=False) \\\n",
    "    .rename(columns={'user_id':'amount_of_players'})"
   ]
  },
  {
   "cell_type": "markdown",
   "id": "24f16230",
   "metadata": {},
   "source": [
    "Максимальное число прохождений получил уровень 0.0, который, вероятно, является вводным.\n",
    "Порядок уровней в игре не зафиксирован + игроки не могут выбирать уровень самостоятельно, поэтому никаких гипотез выдвинуть нельзя."
   ]
  },
  {
   "cell_type": "code",
   "execution_count": 156,
   "id": "16b14cd1",
   "metadata": {},
   "outputs": [
    {
     "data": {
      "text/html": [
       "<div>\n",
       "<style scoped>\n",
       "    .dataframe tbody tr th:only-of-type {\n",
       "        vertical-align: middle;\n",
       "    }\n",
       "\n",
       "    .dataframe tbody tr th {\n",
       "        vertical-align: top;\n",
       "    }\n",
       "\n",
       "    .dataframe thead th {\n",
       "        text-align: right;\n",
       "    }\n",
       "</style>\n",
       "<table border=\"1\" class=\"dataframe\">\n",
       "  <thead>\n",
       "    <tr style=\"text-align: right;\">\n",
       "      <th></th>\n",
       "      <th>count</th>\n",
       "      <th>mean</th>\n",
       "      <th>std</th>\n",
       "      <th>min</th>\n",
       "      <th>25%</th>\n",
       "      <th>50%</th>\n",
       "      <th>75%</th>\n",
       "      <th>max</th>\n",
       "    </tr>\n",
       "    <tr>\n",
       "      <th>levelLoop</th>\n",
       "      <th></th>\n",
       "      <th></th>\n",
       "      <th></th>\n",
       "      <th></th>\n",
       "      <th></th>\n",
       "      <th></th>\n",
       "      <th></th>\n",
       "      <th></th>\n",
       "    </tr>\n",
       "  </thead>\n",
       "  <tbody>\n",
       "    <tr>\n",
       "      <th>0.0</th>\n",
       "      <td>12591.0</td>\n",
       "      <td>148279.771345</td>\n",
       "      <td>1.068100e+06</td>\n",
       "      <td>13750.0</td>\n",
       "      <td>65875.50</td>\n",
       "      <td>82513.0</td>\n",
       "      <td>103854.00</td>\n",
       "      <td>73327660.0</td>\n",
       "    </tr>\n",
       "    <tr>\n",
       "      <th>1.0</th>\n",
       "      <td>336.0</td>\n",
       "      <td>51789.764881</td>\n",
       "      <td>7.804156e+04</td>\n",
       "      <td>27003.0</td>\n",
       "      <td>31353.50</td>\n",
       "      <td>36395.5</td>\n",
       "      <td>44258.50</td>\n",
       "      <td>1054141.0</td>\n",
       "    </tr>\n",
       "    <tr>\n",
       "      <th>5.0</th>\n",
       "      <td>2.0</td>\n",
       "      <td>50147.500000</td>\n",
       "      <td>4.765193e+03</td>\n",
       "      <td>46778.0</td>\n",
       "      <td>48462.75</td>\n",
       "      <td>50147.5</td>\n",
       "      <td>51832.25</td>\n",
       "      <td>53517.0</td>\n",
       "    </tr>\n",
       "    <tr>\n",
       "      <th>6.0</th>\n",
       "      <td>315.0</td>\n",
       "      <td>136419.653968</td>\n",
       "      <td>8.347744e+05</td>\n",
       "      <td>8934.0</td>\n",
       "      <td>44951.00</td>\n",
       "      <td>56855.0</td>\n",
       "      <td>70960.00</td>\n",
       "      <td>13921844.0</td>\n",
       "    </tr>\n",
       "    <tr>\n",
       "      <th>7.0</th>\n",
       "      <td>309.0</td>\n",
       "      <td>54194.022654</td>\n",
       "      <td>2.944329e+04</td>\n",
       "      <td>19476.0</td>\n",
       "      <td>39144.00</td>\n",
       "      <td>48614.0</td>\n",
       "      <td>60782.00</td>\n",
       "      <td>407456.0</td>\n",
       "    </tr>\n",
       "    <tr>\n",
       "      <th>8.0</th>\n",
       "      <td>302.0</td>\n",
       "      <td>98549.165563</td>\n",
       "      <td>3.421635e+05</td>\n",
       "      <td>16596.0</td>\n",
       "      <td>53312.75</td>\n",
       "      <td>64211.5</td>\n",
       "      <td>82382.50</td>\n",
       "      <td>5392290.0</td>\n",
       "    </tr>\n",
       "    <tr>\n",
       "      <th>9.0</th>\n",
       "      <td>2.0</td>\n",
       "      <td>46237.000000</td>\n",
       "      <td>4.147888e+03</td>\n",
       "      <td>43304.0</td>\n",
       "      <td>44770.50</td>\n",
       "      <td>46237.0</td>\n",
       "      <td>47703.50</td>\n",
       "      <td>49170.0</td>\n",
       "    </tr>\n",
       "    <tr>\n",
       "      <th>10.0</th>\n",
       "      <td>2.0</td>\n",
       "      <td>54226.500000</td>\n",
       "      <td>1.273994e+04</td>\n",
       "      <td>45218.0</td>\n",
       "      <td>49722.25</td>\n",
       "      <td>54226.5</td>\n",
       "      <td>58730.75</td>\n",
       "      <td>63235.0</td>\n",
       "    </tr>\n",
       "    <tr>\n",
       "      <th>11.0</th>\n",
       "      <td>300.0</td>\n",
       "      <td>76381.703333</td>\n",
       "      <td>5.576111e+04</td>\n",
       "      <td>35280.0</td>\n",
       "      <td>53365.25</td>\n",
       "      <td>66154.0</td>\n",
       "      <td>81409.50</td>\n",
       "      <td>707959.0</td>\n",
       "    </tr>\n",
       "    <tr>\n",
       "      <th>12.0</th>\n",
       "      <td>296.0</td>\n",
       "      <td>65582.030405</td>\n",
       "      <td>3.774630e+04</td>\n",
       "      <td>31730.0</td>\n",
       "      <td>47415.25</td>\n",
       "      <td>57348.5</td>\n",
       "      <td>72634.00</td>\n",
       "      <td>363106.0</td>\n",
       "    </tr>\n",
       "    <tr>\n",
       "      <th>13.0</th>\n",
       "      <td>291.0</td>\n",
       "      <td>73787.556701</td>\n",
       "      <td>5.860414e+04</td>\n",
       "      <td>32434.0</td>\n",
       "      <td>52589.50</td>\n",
       "      <td>62312.0</td>\n",
       "      <td>76082.00</td>\n",
       "      <td>699520.0</td>\n",
       "    </tr>\n",
       "    <tr>\n",
       "      <th>14.0</th>\n",
       "      <td>285.0</td>\n",
       "      <td>145442.322807</td>\n",
       "      <td>1.107524e+06</td>\n",
       "      <td>27797.0</td>\n",
       "      <td>41932.00</td>\n",
       "      <td>49955.0</td>\n",
       "      <td>62965.00</td>\n",
       "      <td>16970127.0</td>\n",
       "    </tr>\n",
       "    <tr>\n",
       "      <th>15.0</th>\n",
       "      <td>248.0</td>\n",
       "      <td>65279.512097</td>\n",
       "      <td>7.320862e+04</td>\n",
       "      <td>30560.0</td>\n",
       "      <td>42878.00</td>\n",
       "      <td>51167.0</td>\n",
       "      <td>67871.75</td>\n",
       "      <td>998013.0</td>\n",
       "    </tr>\n",
       "    <tr>\n",
       "      <th>16.0</th>\n",
       "      <td>167.0</td>\n",
       "      <td>89424.562874</td>\n",
       "      <td>1.816778e+05</td>\n",
       "      <td>33222.0</td>\n",
       "      <td>47620.50</td>\n",
       "      <td>58417.0</td>\n",
       "      <td>73024.50</td>\n",
       "      <td>1806683.0</td>\n",
       "    </tr>\n",
       "    <tr>\n",
       "      <th>17.0</th>\n",
       "      <td>68.0</td>\n",
       "      <td>87800.867647</td>\n",
       "      <td>4.513226e+04</td>\n",
       "      <td>37517.0</td>\n",
       "      <td>61431.50</td>\n",
       "      <td>73574.5</td>\n",
       "      <td>96939.25</td>\n",
       "      <td>295545.0</td>\n",
       "    </tr>\n",
       "    <tr>\n",
       "      <th>18.0</th>\n",
       "      <td>27.0</td>\n",
       "      <td>70271.629630</td>\n",
       "      <td>2.599026e+04</td>\n",
       "      <td>36987.0</td>\n",
       "      <td>50308.50</td>\n",
       "      <td>64236.0</td>\n",
       "      <td>84529.50</td>\n",
       "      <td>145325.0</td>\n",
       "    </tr>\n",
       "    <tr>\n",
       "      <th>19.0</th>\n",
       "      <td>12.0</td>\n",
       "      <td>89654.416667</td>\n",
       "      <td>2.534816e+04</td>\n",
       "      <td>59451.0</td>\n",
       "      <td>64274.50</td>\n",
       "      <td>90945.0</td>\n",
       "      <td>104723.25</td>\n",
       "      <td>130093.0</td>\n",
       "    </tr>\n",
       "    <tr>\n",
       "      <th>20.0</th>\n",
       "      <td>7.0</td>\n",
       "      <td>92714.428571</td>\n",
       "      <td>2.238584e+04</td>\n",
       "      <td>63893.0</td>\n",
       "      <td>79226.50</td>\n",
       "      <td>92231.0</td>\n",
       "      <td>100698.00</td>\n",
       "      <td>133028.0</td>\n",
       "    </tr>\n",
       "    <tr>\n",
       "      <th>21.0</th>\n",
       "      <td>5.0</td>\n",
       "      <td>70014.600000</td>\n",
       "      <td>2.181902e+04</td>\n",
       "      <td>46632.0</td>\n",
       "      <td>62036.00</td>\n",
       "      <td>67349.0</td>\n",
       "      <td>68215.00</td>\n",
       "      <td>105841.0</td>\n",
       "    </tr>\n",
       "    <tr>\n",
       "      <th>22.0</th>\n",
       "      <td>3.0</td>\n",
       "      <td>92544.333333</td>\n",
       "      <td>4.299887e+04</td>\n",
       "      <td>54984.0</td>\n",
       "      <td>69093.50</td>\n",
       "      <td>83203.0</td>\n",
       "      <td>111324.50</td>\n",
       "      <td>139446.0</td>\n",
       "    </tr>\n",
       "    <tr>\n",
       "      <th>23.0</th>\n",
       "      <td>3.0</td>\n",
       "      <td>98443.666667</td>\n",
       "      <td>6.314971e+04</td>\n",
       "      <td>44053.0</td>\n",
       "      <td>63815.50</td>\n",
       "      <td>83578.0</td>\n",
       "      <td>125639.00</td>\n",
       "      <td>167700.0</td>\n",
       "    </tr>\n",
       "    <tr>\n",
       "      <th>24.0</th>\n",
       "      <td>3.0</td>\n",
       "      <td>63658.666667</td>\n",
       "      <td>3.437544e+03</td>\n",
       "      <td>61674.0</td>\n",
       "      <td>61674.00</td>\n",
       "      <td>61674.0</td>\n",
       "      <td>64651.00</td>\n",
       "      <td>67628.0</td>\n",
       "    </tr>\n",
       "    <tr>\n",
       "      <th>25.0</th>\n",
       "      <td>2.0</td>\n",
       "      <td>68822.000000</td>\n",
       "      <td>1.132078e+04</td>\n",
       "      <td>60817.0</td>\n",
       "      <td>64819.50</td>\n",
       "      <td>68822.0</td>\n",
       "      <td>72824.50</td>\n",
       "      <td>76827.0</td>\n",
       "    </tr>\n",
       "    <tr>\n",
       "      <th>26.0</th>\n",
       "      <td>2.0</td>\n",
       "      <td>64497.500000</td>\n",
       "      <td>5.295523e+03</td>\n",
       "      <td>60753.0</td>\n",
       "      <td>62625.25</td>\n",
       "      <td>64497.5</td>\n",
       "      <td>66369.75</td>\n",
       "      <td>68242.0</td>\n",
       "    </tr>\n",
       "    <tr>\n",
       "      <th>28.0</th>\n",
       "      <td>2.0</td>\n",
       "      <td>54863.500000</td>\n",
       "      <td>1.148412e+04</td>\n",
       "      <td>46743.0</td>\n",
       "      <td>50803.25</td>\n",
       "      <td>54863.5</td>\n",
       "      <td>58923.75</td>\n",
       "      <td>62984.0</td>\n",
       "    </tr>\n",
       "    <tr>\n",
       "      <th>29.0</th>\n",
       "      <td>282.0</td>\n",
       "      <td>67991.411348</td>\n",
       "      <td>5.774218e+04</td>\n",
       "      <td>31943.0</td>\n",
       "      <td>49247.00</td>\n",
       "      <td>58583.5</td>\n",
       "      <td>74142.75</td>\n",
       "      <td>902795.0</td>\n",
       "    </tr>\n",
       "    <tr>\n",
       "      <th>30.0</th>\n",
       "      <td>275.0</td>\n",
       "      <td>84335.167273</td>\n",
       "      <td>2.480737e+05</td>\n",
       "      <td>28584.0</td>\n",
       "      <td>52161.50</td>\n",
       "      <td>63609.0</td>\n",
       "      <td>79098.50</td>\n",
       "      <td>4146704.0</td>\n",
       "    </tr>\n",
       "  </tbody>\n",
       "</table>\n",
       "</div>"
      ],
      "text/plain": [
       "             count           mean           std      min       25%      50%  \\\n",
       "levelLoop                                                                     \n",
       "0.0        12591.0  148279.771345  1.068100e+06  13750.0  65875.50  82513.0   \n",
       "1.0          336.0   51789.764881  7.804156e+04  27003.0  31353.50  36395.5   \n",
       "5.0            2.0   50147.500000  4.765193e+03  46778.0  48462.75  50147.5   \n",
       "6.0          315.0  136419.653968  8.347744e+05   8934.0  44951.00  56855.0   \n",
       "7.0          309.0   54194.022654  2.944329e+04  19476.0  39144.00  48614.0   \n",
       "8.0          302.0   98549.165563  3.421635e+05  16596.0  53312.75  64211.5   \n",
       "9.0            2.0   46237.000000  4.147888e+03  43304.0  44770.50  46237.0   \n",
       "10.0           2.0   54226.500000  1.273994e+04  45218.0  49722.25  54226.5   \n",
       "11.0         300.0   76381.703333  5.576111e+04  35280.0  53365.25  66154.0   \n",
       "12.0         296.0   65582.030405  3.774630e+04  31730.0  47415.25  57348.5   \n",
       "13.0         291.0   73787.556701  5.860414e+04  32434.0  52589.50  62312.0   \n",
       "14.0         285.0  145442.322807  1.107524e+06  27797.0  41932.00  49955.0   \n",
       "15.0         248.0   65279.512097  7.320862e+04  30560.0  42878.00  51167.0   \n",
       "16.0         167.0   89424.562874  1.816778e+05  33222.0  47620.50  58417.0   \n",
       "17.0          68.0   87800.867647  4.513226e+04  37517.0  61431.50  73574.5   \n",
       "18.0          27.0   70271.629630  2.599026e+04  36987.0  50308.50  64236.0   \n",
       "19.0          12.0   89654.416667  2.534816e+04  59451.0  64274.50  90945.0   \n",
       "20.0           7.0   92714.428571  2.238584e+04  63893.0  79226.50  92231.0   \n",
       "21.0           5.0   70014.600000  2.181902e+04  46632.0  62036.00  67349.0   \n",
       "22.0           3.0   92544.333333  4.299887e+04  54984.0  69093.50  83203.0   \n",
       "23.0           3.0   98443.666667  6.314971e+04  44053.0  63815.50  83578.0   \n",
       "24.0           3.0   63658.666667  3.437544e+03  61674.0  61674.00  61674.0   \n",
       "25.0           2.0   68822.000000  1.132078e+04  60817.0  64819.50  68822.0   \n",
       "26.0           2.0   64497.500000  5.295523e+03  60753.0  62625.25  64497.5   \n",
       "28.0           2.0   54863.500000  1.148412e+04  46743.0  50803.25  54863.5   \n",
       "29.0         282.0   67991.411348  5.774218e+04  31943.0  49247.00  58583.5   \n",
       "30.0         275.0   84335.167273  2.480737e+05  28584.0  52161.50  63609.0   \n",
       "\n",
       "                 75%         max  \n",
       "levelLoop                         \n",
       "0.0        103854.00  73327660.0  \n",
       "1.0         44258.50   1054141.0  \n",
       "5.0         51832.25     53517.0  \n",
       "6.0         70960.00  13921844.0  \n",
       "7.0         60782.00    407456.0  \n",
       "8.0         82382.50   5392290.0  \n",
       "9.0         47703.50     49170.0  \n",
       "10.0        58730.75     63235.0  \n",
       "11.0        81409.50    707959.0  \n",
       "12.0        72634.00    363106.0  \n",
       "13.0        76082.00    699520.0  \n",
       "14.0        62965.00  16970127.0  \n",
       "15.0        67871.75    998013.0  \n",
       "16.0        73024.50   1806683.0  \n",
       "17.0        96939.25    295545.0  \n",
       "18.0        84529.50    145325.0  \n",
       "19.0       104723.25    130093.0  \n",
       "20.0       100698.00    133028.0  \n",
       "21.0        68215.00    105841.0  \n",
       "22.0       111324.50    139446.0  \n",
       "23.0       125639.00    167700.0  \n",
       "24.0        64651.00     67628.0  \n",
       "25.0        72824.50     76827.0  \n",
       "26.0        66369.75     68242.0  \n",
       "28.0        58923.75     62984.0  \n",
       "29.0        74142.75    902795.0  \n",
       "30.0        79098.50   4146704.0  "
      ]
     },
     "execution_count": 156,
     "metadata": {},
     "output_type": "execute_result"
    }
   ],
   "source": [
    "# просмотр сводных статистик времени прохождения уровней (до 30 уровня включительно)\n",
    "start_levels.groupby('levelLoop') \\\n",
    "    .time.describe()"
   ]
  },
  {
   "cell_type": "markdown",
   "id": "dcb39dd5",
   "metadata": {},
   "source": [
    "Выделяются большие медианные значения времени прохождения 19, 20 уровней."
   ]
  },
  {
   "cell_type": "code",
   "execution_count": 157,
   "id": "0993f4e6",
   "metadata": {},
   "outputs": [],
   "source": [
    "# подсчет количества игроков, прошедших определенное количество уровней\n",
    "levels_plays_count = start_levels.groupby('level_y', as_index=False) \\\n",
    "    .agg({'user_id':'count'}) \\\n",
    "    .sort_values(by='user_id', ascending=False) \\\n",
    "    .rename(columns={'user_id':'amount_of_plays', 'level_y':'amount_of_levels'})"
   ]
  },
  {
   "cell_type": "code",
   "execution_count": 158,
   "id": "11a1fea8",
   "metadata": {},
   "outputs": [
    {
     "data": {
      "text/html": [
       "<div>\n",
       "<style scoped>\n",
       "    .dataframe tbody tr th:only-of-type {\n",
       "        vertical-align: middle;\n",
       "    }\n",
       "\n",
       "    .dataframe tbody tr th {\n",
       "        vertical-align: top;\n",
       "    }\n",
       "\n",
       "    .dataframe thead th {\n",
       "        text-align: right;\n",
       "    }\n",
       "</style>\n",
       "<table border=\"1\" class=\"dataframe\">\n",
       "  <thead>\n",
       "    <tr style=\"text-align: right;\">\n",
       "      <th></th>\n",
       "      <th>amount_of_levels</th>\n",
       "      <th>amount_of_plays</th>\n",
       "    </tr>\n",
       "  </thead>\n",
       "  <tbody>\n",
       "    <tr>\n",
       "      <th>0</th>\n",
       "      <td>1</td>\n",
       "      <td>437</td>\n",
       "    </tr>\n",
       "    <tr>\n",
       "      <th>1</th>\n",
       "      <td>2</td>\n",
       "      <td>420</td>\n",
       "    </tr>\n",
       "    <tr>\n",
       "      <th>2</th>\n",
       "      <td>3</td>\n",
       "      <td>407</td>\n",
       "    </tr>\n",
       "    <tr>\n",
       "      <th>3</th>\n",
       "      <td>4</td>\n",
       "      <td>406</td>\n",
       "    </tr>\n",
       "    <tr>\n",
       "      <th>7</th>\n",
       "      <td>8</td>\n",
       "      <td>406</td>\n",
       "    </tr>\n",
       "    <tr>\n",
       "      <th>...</th>\n",
       "      <td>...</td>\n",
       "      <td>...</td>\n",
       "    </tr>\n",
       "    <tr>\n",
       "      <th>345</th>\n",
       "      <td>371</td>\n",
       "      <td>1</td>\n",
       "    </tr>\n",
       "    <tr>\n",
       "      <th>346</th>\n",
       "      <td>372</td>\n",
       "      <td>1</td>\n",
       "    </tr>\n",
       "    <tr>\n",
       "      <th>347</th>\n",
       "      <td>373</td>\n",
       "      <td>1</td>\n",
       "    </tr>\n",
       "    <tr>\n",
       "      <th>348</th>\n",
       "      <td>374</td>\n",
       "      <td>1</td>\n",
       "    </tr>\n",
       "    <tr>\n",
       "      <th>373</th>\n",
       "      <td>399</td>\n",
       "      <td>1</td>\n",
       "    </tr>\n",
       "  </tbody>\n",
       "</table>\n",
       "<p>374 rows × 2 columns</p>\n",
       "</div>"
      ],
      "text/plain": [
       "     amount_of_levels  amount_of_plays\n",
       "0                   1              437\n",
       "1                   2              420\n",
       "2                   3              407\n",
       "3                   4              406\n",
       "7                   8              406\n",
       "..                ...              ...\n",
       "345               371                1\n",
       "346               372                1\n",
       "347               373                1\n",
       "348               374                1\n",
       "373               399                1\n",
       "\n",
       "[374 rows x 2 columns]"
      ]
     },
     "execution_count": 158,
     "metadata": {},
     "output_type": "execute_result"
    }
   ],
   "source": [
    "levels_plays_count"
   ]
  },
  {
   "cell_type": "markdown",
   "id": "6a83fa84",
   "metadata": {},
   "source": [
    "## Поиск неудачных уровней"
   ]
  },
  {
   "cell_type": "code",
   "execution_count": 159,
   "id": "bbd2704d",
   "metadata": {},
   "outputs": [
    {
     "data": {
      "text/plain": [
       "[437,\n",
       " 420,\n",
       " 407,\n",
       " 406,\n",
       " 406,\n",
       " 403,\n",
       " 401,\n",
       " 393,\n",
       " 392,\n",
       " 386,\n",
       " 336,\n",
       " 246,\n",
       " 141,\n",
       " 126,\n",
       " 113,\n",
       " 91,\n",
       " 90,\n",
       " 89,\n",
       " 89,\n",
       " 87,\n",
       " 86,\n",
       " 86,\n",
       " 85,\n",
       " 85,\n",
       " 84,\n",
       " 83,\n",
       " 82,\n",
       " 82,\n",
       " 82,\n",
       " 80,\n",
       " 80,\n",
       " 78,\n",
       " 77,\n",
       " 77,\n",
       " 76,\n",
       " 76,\n",
       " 76,\n",
       " 75,\n",
       " 75,\n",
       " 75,\n",
       " 75,\n",
       " 75,\n",
       " 75,\n",
       " 74,\n",
       " 74,\n",
       " 74,\n",
       " 74,\n",
       " 74,\n",
       " 74,\n",
       " 73,\n",
       " 73,\n",
       " 73,\n",
       " 72,\n",
       " 72,\n",
       " 71,\n",
       " 71,\n",
       " 71,\n",
       " 71,\n",
       " 70,\n",
       " 70,\n",
       " 69,\n",
       " 69,\n",
       " 68,\n",
       " 68,\n",
       " 67,\n",
       " 67,\n",
       " 66,\n",
       " 66,\n",
       " 66,\n",
       " 66,\n",
       " 65,\n",
       " 65,\n",
       " 65,\n",
       " 64,\n",
       " 64,\n",
       " 64,\n",
       " 64,\n",
       " 63,\n",
       " 63,\n",
       " 62,\n",
       " 62,\n",
       " 62,\n",
       " 62,\n",
       " 62,\n",
       " 62,\n",
       " 62,\n",
       " 61,\n",
       " 61,\n",
       " 61,\n",
       " 61,\n",
       " 61,\n",
       " 61,\n",
       " 60,\n",
       " 60,\n",
       " 60,\n",
       " 60,\n",
       " 59,\n",
       " 59,\n",
       " 58,\n",
       " 58,\n",
       " 57,\n",
       " 57,\n",
       " 57,\n",
       " 57,\n",
       " 56,\n",
       " 55,\n",
       " 54,\n",
       " 54,\n",
       " 54,\n",
       " 54,\n",
       " 53,\n",
       " 52,\n",
       " 51,\n",
       " 51,\n",
       " 51,\n",
       " 50,\n",
       " 50,\n",
       " 50,\n",
       " 48,\n",
       " 48,\n",
       " 48,\n",
       " 48,\n",
       " 47,\n",
       " 47,\n",
       " 47,\n",
       " 45,\n",
       " 45,\n",
       " 45,\n",
       " 44,\n",
       " 44,\n",
       " 44,\n",
       " 43,\n",
       " 43,\n",
       " 43,\n",
       " 42,\n",
       " 41,\n",
       " 41,\n",
       " 40,\n",
       " 40,\n",
       " 38,\n",
       " 38,\n",
       " 38,\n",
       " 38,\n",
       " 38,\n",
       " 37,\n",
       " 36,\n",
       " 36,\n",
       " 35,\n",
       " 35,\n",
       " 35,\n",
       " 35,\n",
       " 34,\n",
       " 34,\n",
       " 34,\n",
       " 32,\n",
       " 32,\n",
       " 32,\n",
       " 32,\n",
       " 32,\n",
       " 31,\n",
       " 31,\n",
       " 30,\n",
       " 30,\n",
       " 30,\n",
       " 30,\n",
       " 29,\n",
       " 29,\n",
       " 29,\n",
       " 28,\n",
       " 28,\n",
       " 28,\n",
       " 28,\n",
       " 28,\n",
       " 28,\n",
       " 28,\n",
       " 28,\n",
       " 27,\n",
       " 27,\n",
       " 27,\n",
       " 26,\n",
       " 26,\n",
       " 26,\n",
       " 26,\n",
       " 25,\n",
       " 24,\n",
       " 24,\n",
       " 24,\n",
       " 24,\n",
       " 24,\n",
       " 23,\n",
       " 23,\n",
       " 23,\n",
       " 23,\n",
       " 22,\n",
       " 22,\n",
       " 22,\n",
       " 22,\n",
       " 22,\n",
       " 21,\n",
       " 21,\n",
       " 21,\n",
       " 21,\n",
       " 21,\n",
       " 20,\n",
       " 20,\n",
       " 20,\n",
       " 20,\n",
       " 20,\n",
       " 19,\n",
       " 19,\n",
       " 19,\n",
       " 19,\n",
       " 19,\n",
       " 19,\n",
       " 19,\n",
       " 19,\n",
       " 19,\n",
       " 18,\n",
       " 18,\n",
       " 18,\n",
       " 18,\n",
       " 18,\n",
       " 17,\n",
       " 17,\n",
       " 17,\n",
       " 17,\n",
       " 17,\n",
       " 17,\n",
       " 17,\n",
       " 16,\n",
       " 16,\n",
       " 16,\n",
       " 16,\n",
       " 16,\n",
       " 15,\n",
       " 15,\n",
       " 15,\n",
       " 15,\n",
       " 14,\n",
       " 14,\n",
       " 14,\n",
       " 14,\n",
       " 14,\n",
       " 13,\n",
       " 13,\n",
       " 13,\n",
       " 13,\n",
       " 13,\n",
       " 13,\n",
       " 12,\n",
       " 12,\n",
       " 12,\n",
       " 12,\n",
       " 12,\n",
       " 12,\n",
       " 12,\n",
       " 11,\n",
       " 11,\n",
       " 11,\n",
       " 11,\n",
       " 10,\n",
       " 10,\n",
       " 10,\n",
       " 10,\n",
       " 10,\n",
       " 10,\n",
       " 10,\n",
       " 9,\n",
       " 9,\n",
       " 9,\n",
       " 9,\n",
       " 9,\n",
       " 9,\n",
       " 8,\n",
       " 8,\n",
       " 8,\n",
       " 7,\n",
       " 7,\n",
       " 7,\n",
       " 7,\n",
       " 7,\n",
       " 7,\n",
       " 7,\n",
       " 7,\n",
       " 7,\n",
       " 7,\n",
       " 7,\n",
       " 7,\n",
       " 6,\n",
       " 6,\n",
       " 6,\n",
       " 6,\n",
       " 6,\n",
       " 6,\n",
       " 6,\n",
       " 6,\n",
       " 6,\n",
       " 6,\n",
       " 6,\n",
       " 5,\n",
       " 5,\n",
       " 5,\n",
       " 5,\n",
       " 5,\n",
       " 5,\n",
       " 5,\n",
       " 5,\n",
       " 5,\n",
       " 5,\n",
       " 5,\n",
       " 4,\n",
       " 4,\n",
       " 4,\n",
       " 4,\n",
       " 4,\n",
       " 4,\n",
       " 4,\n",
       " 4,\n",
       " 3,\n",
       " 3,\n",
       " 3,\n",
       " 3,\n",
       " 3,\n",
       " 3,\n",
       " 3,\n",
       " 3,\n",
       " 3,\n",
       " 3,\n",
       " 2,\n",
       " 2,\n",
       " 2,\n",
       " 2,\n",
       " 2,\n",
       " 2,\n",
       " 2,\n",
       " 2,\n",
       " 2,\n",
       " 2,\n",
       " 2,\n",
       " 2,\n",
       " 2,\n",
       " 2,\n",
       " 2,\n",
       " 1,\n",
       " 1,\n",
       " 1,\n",
       " 1,\n",
       " 1,\n",
       " 1,\n",
       " 1,\n",
       " 1,\n",
       " 1,\n",
       " 1,\n",
       " 1,\n",
       " 1,\n",
       " 1,\n",
       " 1,\n",
       " 1,\n",
       " 1,\n",
       " 1,\n",
       " 1,\n",
       " 1,\n",
       " 1,\n",
       " 1,\n",
       " 1,\n",
       " 1,\n",
       " 1,\n",
       " 1,\n",
       " 1,\n",
       " 1,\n",
       " 1,\n",
       " 1,\n",
       " 1,\n",
       " 1]"
      ]
     },
     "execution_count": 159,
     "metadata": {},
     "output_type": "execute_result"
    }
   ],
   "source": [
    "levels_plays_count.amount_of_plays.tolist()"
   ]
  },
  {
   "cell_type": "code",
   "execution_count": 160,
   "id": "9fdb5ead",
   "metadata": {},
   "outputs": [
    {
     "data": {
      "text/plain": [
       "([], [])"
      ]
     },
     "execution_count": 160,
     "metadata": {},
     "output_type": "execute_result"
    },
    {
     "data": {
      "image/png": "[encoded data removed]",
      "text/plain": [
       "<Figure size 576x432 with 1 Axes>"
      ]
     },
     "metadata": {
      "needs_background": "light"
     },
     "output_type": "display_data"
    }
   ],
   "source": [
    "# построение графика количества игроков, прошедших определенное количество уровней\n",
    "plt.figure(figsize=(8, 6))\n",
    "sns.countplot(data=start_levels, x='level_y', color='xkcd:soft green')\n",
    "plt.suptitle('Количество игроков, прошедших определенное количество уровней', x=0.52, y=0.93)\n",
    "plt.ylabel('amount of players')\n",
    "plt.xlabel('amount of levels')\n",
    "plt.xticks([])"
   ]
  },
  {
   "cell_type": "markdown",
   "id": "d32d8663",
   "metadata": {},
   "source": [
    "Количество игроков, прошедших определенное количество уровней, резко падает дважды: с 336 до 246 и с 246 до 141"
   ]
  },
  {
   "cell_type": "code",
   "execution_count": 161,
   "id": "e50825dc",
   "metadata": {},
   "outputs": [
    {
     "data": {
      "text/html": [
       "<div>\n",
       "<style scoped>\n",
       "    .dataframe tbody tr th:only-of-type {\n",
       "        vertical-align: middle;\n",
       "    }\n",
       "\n",
       "    .dataframe tbody tr th {\n",
       "        vertical-align: top;\n",
       "    }\n",
       "\n",
       "    .dataframe thead th {\n",
       "        text-align: right;\n",
       "    }\n",
       "</style>\n",
       "<table border=\"1\" class=\"dataframe\">\n",
       "  <thead>\n",
       "    <tr style=\"text-align: right;\">\n",
       "      <th></th>\n",
       "      <th>amount_of_levels</th>\n",
       "      <th>amount_of_plays</th>\n",
       "    </tr>\n",
       "  </thead>\n",
       "  <tbody>\n",
       "    <tr>\n",
       "      <th>11</th>\n",
       "      <td>12</td>\n",
       "      <td>246</td>\n",
       "    </tr>\n",
       "  </tbody>\n",
       "</table>\n",
       "</div>"
      ],
      "text/plain": [
       "    amount_of_levels  amount_of_plays\n",
       "11                12              246"
      ]
     },
     "execution_count": 161,
     "metadata": {},
     "output_type": "execute_result"
    }
   ],
   "source": [
    "# отбор порядкового номера уровня, до и после которого количество игроков стремительно падает\n",
    "levels_plays_count.query('amount_of_plays == 246')"
   ]
  },
  {
   "cell_type": "markdown",
   "id": "81cac09e",
   "metadata": {},
   "source": [
    "После прохождения 11/12 уровней заметная доля пользователей перестаёт играть. "
   ]
  },
  {
   "cell_type": "code",
   "execution_count": 162,
   "id": "59974ac7",
   "metadata": {},
   "outputs": [
    {
     "data": {
      "text/plain": [
       "[29.0, 30.0, 17.0, 0.0, 18.0, 14.0, 19.0, 20.0]"
      ]
     },
     "execution_count": 162,
     "metadata": {},
     "output_type": "execute_result"
    }
   ],
   "source": [
    "# отбор уровней, после которых значительная доля пользователей перестает играть\n",
    "start_levels.query('level_y == 11').levelLoop.unique().tolist()"
   ]
  },
  {
   "cell_type": "code",
   "execution_count": 163,
   "id": "f0e24614",
   "metadata": {},
   "outputs": [
    {
     "data": {
      "text/plain": [
       "[29.0, 0.0, 30.0, 18.0, 15.0, 19.0, 20.0, 21.0, 12.0]"
      ]
     },
     "execution_count": 163,
     "metadata": {},
     "output_type": "execute_result"
    }
   ],
   "source": [
    "start_levels.query('level_y == 12').levelLoop.unique().tolist()"
   ]
  },
  {
   "cell_type": "markdown",
   "id": "190b1df4",
   "metadata": {},
   "source": [
    "После взаимодействия с уровнями 30, 29, 20, 19, 18, 0 пользователи перестают играть => вероятно, с этими уровнями что-то не так."
   ]
  },
  {
   "cell_type": "markdown",
   "id": "67f2fbd7",
   "metadata": {},
   "source": [
    "### Уровень 30"
   ]
  },
  {
   "cell_type": "code",
   "execution_count": 164,
   "id": "4e688e49",
   "metadata": {},
   "outputs": [],
   "source": [
    "# смена настроек отображения чисел с плавающей точкой в pandas\n",
    "pd.options.display.float_format = '{:.2f}'.format"
   ]
  },
  {
   "cell_type": "code",
   "execution_count": 165,
   "id": "abc7a113",
   "metadata": {},
   "outputs": [],
   "source": [
    "# подсчет количества пользователей, (не)прошедших уровень 30\n",
    "win_level_30 = start_levels.query('levelLoop == 30') \\\n",
    "    .groupby(['win', 'stars'], as_index=False) \\\n",
    "    .agg({'user_id':'count'}) \\\n",
    "    .rename(columns={'user_id':'amount_of_users'})"
   ]
  },
  {
   "cell_type": "code",
   "execution_count": 166,
   "id": "ad7f409d",
   "metadata": {},
   "outputs": [
    {
     "data": {
      "text/html": [
       "<div>\n",
       "<style scoped>\n",
       "    .dataframe tbody tr th:only-of-type {\n",
       "        vertical-align: middle;\n",
       "    }\n",
       "\n",
       "    .dataframe tbody tr th {\n",
       "        vertical-align: top;\n",
       "    }\n",
       "\n",
       "    .dataframe thead th {\n",
       "        text-align: right;\n",
       "    }\n",
       "</style>\n",
       "<table border=\"1\" class=\"dataframe\">\n",
       "  <thead>\n",
       "    <tr style=\"text-align: right;\">\n",
       "      <th></th>\n",
       "      <th>win</th>\n",
       "      <th>stars</th>\n",
       "      <th>amount_of_users</th>\n",
       "    </tr>\n",
       "  </thead>\n",
       "  <tbody>\n",
       "    <tr>\n",
       "      <th>0</th>\n",
       "      <td>DEFEAT</td>\n",
       "      <td>0</td>\n",
       "      <td>3</td>\n",
       "    </tr>\n",
       "    <tr>\n",
       "      <th>1</th>\n",
       "      <td>DEFEAT_WITH_BOOSTER</td>\n",
       "      <td>0</td>\n",
       "      <td>1</td>\n",
       "    </tr>\n",
       "    <tr>\n",
       "      <th>2</th>\n",
       "      <td>VICTORY</td>\n",
       "      <td>1</td>\n",
       "      <td>15</td>\n",
       "    </tr>\n",
       "    <tr>\n",
       "      <th>3</th>\n",
       "      <td>VICTORY</td>\n",
       "      <td>2</td>\n",
       "      <td>83</td>\n",
       "    </tr>\n",
       "    <tr>\n",
       "      <th>4</th>\n",
       "      <td>VICTORY</td>\n",
       "      <td>3</td>\n",
       "      <td>11</td>\n",
       "    </tr>\n",
       "    <tr>\n",
       "      <th>5</th>\n",
       "      <td>VICTORY</td>\n",
       "      <td>4</td>\n",
       "      <td>64</td>\n",
       "    </tr>\n",
       "    <tr>\n",
       "      <th>6</th>\n",
       "      <td>VICTORY</td>\n",
       "      <td>6</td>\n",
       "      <td>24</td>\n",
       "    </tr>\n",
       "    <tr>\n",
       "      <th>7</th>\n",
       "      <td>VICTORY</td>\n",
       "      <td>8</td>\n",
       "      <td>2</td>\n",
       "    </tr>\n",
       "    <tr>\n",
       "      <th>8</th>\n",
       "      <td>VICTORY</td>\n",
       "      <td>9</td>\n",
       "      <td>4</td>\n",
       "    </tr>\n",
       "    <tr>\n",
       "      <th>9</th>\n",
       "      <td>VICTORY_WITH_BOOSTER</td>\n",
       "      <td>1</td>\n",
       "      <td>6</td>\n",
       "    </tr>\n",
       "    <tr>\n",
       "      <th>10</th>\n",
       "      <td>VICTORY_WITH_BOOSTER</td>\n",
       "      <td>2</td>\n",
       "      <td>29</td>\n",
       "    </tr>\n",
       "    <tr>\n",
       "      <th>11</th>\n",
       "      <td>VICTORY_WITH_BOOSTER</td>\n",
       "      <td>3</td>\n",
       "      <td>5</td>\n",
       "    </tr>\n",
       "    <tr>\n",
       "      <th>12</th>\n",
       "      <td>VICTORY_WITH_BOOSTER</td>\n",
       "      <td>4</td>\n",
       "      <td>23</td>\n",
       "    </tr>\n",
       "    <tr>\n",
       "      <th>13</th>\n",
       "      <td>VICTORY_WITH_BOOSTER</td>\n",
       "      <td>6</td>\n",
       "      <td>4</td>\n",
       "    </tr>\n",
       "    <tr>\n",
       "      <th>14</th>\n",
       "      <td>VICTORY_WITH_BOOSTER</td>\n",
       "      <td>9</td>\n",
       "      <td>1</td>\n",
       "    </tr>\n",
       "  </tbody>\n",
       "</table>\n",
       "</div>"
      ],
      "text/plain": [
       "                     win  stars  amount_of_users\n",
       "0                 DEFEAT      0                3\n",
       "1    DEFEAT_WITH_BOOSTER      0                1\n",
       "2                VICTORY      1               15\n",
       "3                VICTORY      2               83\n",
       "4                VICTORY      3               11\n",
       "5                VICTORY      4               64\n",
       "6                VICTORY      6               24\n",
       "7                VICTORY      8                2\n",
       "8                VICTORY      9                4\n",
       "9   VICTORY_WITH_BOOSTER      1                6\n",
       "10  VICTORY_WITH_BOOSTER      2               29\n",
       "11  VICTORY_WITH_BOOSTER      3                5\n",
       "12  VICTORY_WITH_BOOSTER      4               23\n",
       "13  VICTORY_WITH_BOOSTER      6                4\n",
       "14  VICTORY_WITH_BOOSTER      9                1"
      ]
     },
     "execution_count": 166,
     "metadata": {},
     "output_type": "execute_result"
    }
   ],
   "source": [
    "win_level_30"
   ]
  },
  {
   "cell_type": "code",
   "execution_count": 167,
   "id": "d8cf5c5c",
   "metadata": {},
   "outputs": [],
   "source": [
    "# сохранение значений количества игроков, воспользовавшихся бустером, количества проигравших игроков \n",
    "# и количества всех игроков\n",
    "level_30_booster = win_level_30.query('win == \"VICTORY_WITH_BOOSTER\"').amount_of_users.sum()\n",
    "level_30_fail = win_level_30.query('(win == \"DEFEAT_WITH_BOOSTER\") | (win == \"DEFEAT\")').amount_of_users.sum()\n",
    "level_30_all = win_level_30.amount_of_users.sum()"
   ]
  },
  {
   "cell_type": "code",
   "execution_count": 168,
   "id": "255a75f7",
   "metadata": {},
   "outputs": [
    {
     "data": {
      "text/plain": [
       "24.73"
      ]
     },
     "execution_count": 168,
     "metadata": {},
     "output_type": "execute_result"
    }
   ],
   "source": [
    "round(level_30_booster / level_30_all * 100, 2)"
   ]
  },
  {
   "cell_type": "code",
   "execution_count": 169,
   "id": "4c559700",
   "metadata": {},
   "outputs": [
    {
     "data": {
      "text/plain": [
       "1.45"
      ]
     },
     "execution_count": 169,
     "metadata": {},
     "output_type": "execute_result"
    }
   ],
   "source": [
    "round(level_30_fail / level_30_all * 100, 2)"
   ]
  },
  {
   "cell_type": "markdown",
   "id": "90941690",
   "metadata": {},
   "source": [
    "24,73% игроков воспользовалось бустером для прохождения данного уровня.\n",
    "1.45% игроков завершило данный уровень поражением."
   ]
  },
  {
   "cell_type": "code",
   "execution_count": 170,
   "id": "f0461d2a",
   "metadata": {},
   "outputs": [
    {
     "data": {
      "text/plain": [
       "count      0.28\n",
       "mean      84.34\n",
       "std      248.07\n",
       "min       28.58\n",
       "25%       52.16\n",
       "50%       63.61\n",
       "75%       79.10\n",
       "max     4146.70\n",
       "Name: time, dtype: float64"
      ]
     },
     "execution_count": 170,
     "metadata": {},
     "output_type": "execute_result"
    }
   ],
   "source": [
    "# просмотр описательных статистик времени прохождения данного уровня\n",
    "# перевод времени в секунды\n",
    "round(start_levels.query('levelLoop == 30') \\\n",
    "    .time.describe() / 1000, 2)"
   ]
  },
  {
   "cell_type": "markdown",
   "id": "7f190d76",
   "metadata": {},
   "source": [
    "Медианное время прохождения уровня - около 64 секунд - приемлемое значение (ориентировочное значение = 60 секунд)."
   ]
  },
  {
   "cell_type": "code",
   "execution_count": 171,
   "id": "416e39b9",
   "metadata": {},
   "outputs": [],
   "source": [
    "# отбор всех игроков, (не)прошедших данный уровень\n",
    "users_30 = start_levels.query('levelLoop == 30') \\\n",
    "    .user_id.unique().tolist()"
   ]
  },
  {
   "cell_type": "code",
   "execution_count": 172,
   "id": "540d097d",
   "metadata": {},
   "outputs": [
    {
     "name": "stdout",
     "output_type": "stream",
     "text": [
      "Продолжили игру 0 игроков\n",
      "Прервали игру 275 игроков\n"
     ]
    }
   ],
   "source": [
    "# продолжили пользователи игру после прохождения 30-го уровня или нет\n",
    "continued = 0\n",
    "fail = 0\n",
    "for i in users_30:\n",
    "    work_state = start_levels[(start_levels.user_id == i) & (start_levels.levelLoop == 30)].level_y.tolist()\n",
    "    max_state = start_levels[start_levels.user_id == i].level_y.max()\n",
    "    if work_state < max_state:\n",
    "        continued += 1\n",
    "    else:\n",
    "        fail += 1\n",
    "        \n",
    "print('Продолжили игру ' + str(continued) + ' игроков')\n",
    "print('Прервали игру ' + str(fail) + ' игроков')"
   ]
  },
  {
   "cell_type": "markdown",
   "id": "3fbbe7ff",
   "metadata": {},
   "source": [
    "Все игроки закончили прохождение игры после 30 уровня."
   ]
  },
  {
   "cell_type": "code",
   "execution_count": 173,
   "id": "13f67af4",
   "metadata": {},
   "outputs": [],
   "source": [
    "# сохранение значения количества игроков, закончивших прохождение 30 уровня, в переменную finish_30\n",
    "finish_30 = start_levels.query('levelLoop == 30').shape[0]"
   ]
  },
  {
   "cell_type": "code",
   "execution_count": 174,
   "id": "dc29a12c",
   "metadata": {},
   "outputs": [],
   "source": [
    "# отбор части датафрейма, фиксирующей начало уровня\n",
    "started_users = data.query('event_name == \"levelStart\"')"
   ]
  },
  {
   "cell_type": "code",
   "execution_count": 175,
   "id": "cd671639",
   "metadata": {},
   "outputs": [],
   "source": [
    "start_data = started_users['event_data'].apply(json.loads)"
   ]
  },
  {
   "cell_type": "code",
   "execution_count": 176,
   "id": "d412d3c6",
   "metadata": {},
   "outputs": [],
   "source": [
    "# распаковка столбца event_data в отдельный датафрейм\n",
    "start_data = pd.json_normalize(data = start_data, \n",
    "                          meta=['level', 'levelLoop', 'price', 'cardsInHand'])"
   ]
  },
  {
   "cell_type": "markdown",
   "id": "9d335bf0",
   "metadata": {},
   "source": [
    "Распаковка столбца с данными в формате json прошла успешно."
   ]
  },
  {
   "cell_type": "code",
   "execution_count": 177,
   "id": "db622bbc",
   "metadata": {},
   "outputs": [],
   "source": [
    "started_users = started_users.drop(['index'], axis=1)"
   ]
  },
  {
   "cell_type": "code",
   "execution_count": 178,
   "id": "34fdafff",
   "metadata": {},
   "outputs": [],
   "source": [
    "# перевод индексов строк в отдельную колонку (для объединения датафреймов по этому столбцу)\n",
    "start_data.reset_index(level=0, inplace=True)\n",
    "started_users.reset_index(level=0, inplace=True)"
   ]
  },
  {
   "cell_type": "code",
   "execution_count": 179,
   "id": "8b473c31",
   "metadata": {},
   "outputs": [],
   "source": [
    "started_users = started_users.drop('index', axis=1)"
   ]
  },
  {
   "cell_type": "code",
   "execution_count": 180,
   "id": "3bbe1265",
   "metadata": {},
   "outputs": [],
   "source": [
    "started_users.reset_index(level=0, inplace=True)"
   ]
  },
  {
   "cell_type": "code",
   "execution_count": 181,
   "id": "ca4d6cbc",
   "metadata": {},
   "outputs": [],
   "source": [
    "# объединение датафреймов completed_users и complete_data (по столбцу index)\n",
    "start = started_users.merge(start_data, on='index')"
   ]
  },
  {
   "cell_type": "code",
   "execution_count": 182,
   "id": "cc88e547",
   "metadata": {},
   "outputs": [],
   "source": [
    "# удаление столбца event_data (т.к. эти данные уже содержатся в датафрейме)\n",
    "start = start.drop('event_data', axis=1)"
   ]
  },
  {
   "cell_type": "code",
   "execution_count": 183,
   "id": "b1f88c1e",
   "metadata": {},
   "outputs": [
    {
     "data": {
      "text/html": [
       "<div>\n",
       "<style scoped>\n",
       "    .dataframe tbody tr th:only-of-type {\n",
       "        vertical-align: middle;\n",
       "    }\n",
       "\n",
       "    .dataframe tbody tr th {\n",
       "        vertical-align: top;\n",
       "    }\n",
       "\n",
       "    .dataframe thead th {\n",
       "        text-align: right;\n",
       "    }\n",
       "</style>\n",
       "<table border=\"1\" class=\"dataframe\">\n",
       "  <thead>\n",
       "    <tr style=\"text-align: right;\">\n",
       "      <th></th>\n",
       "      <th>index</th>\n",
       "      <th>user_id</th>\n",
       "      <th>media_source</th>\n",
       "      <th>client_time</th>\n",
       "      <th>session_index</th>\n",
       "      <th>event_name</th>\n",
       "      <th>coins</th>\n",
       "      <th>freeRounds</th>\n",
       "      <th>freeUndo</th>\n",
       "      <th>freeWildCard</th>\n",
       "      <th>...</th>\n",
       "      <th>levelLoop</th>\n",
       "      <th>gameType_y</th>\n",
       "      <th>VIPStatus_y</th>\n",
       "      <th>price</th>\n",
       "      <th>cardsInHand</th>\n",
       "      <th>baseLuckyIndex</th>\n",
       "      <th>targetGoldIndex</th>\n",
       "      <th>targetCoins</th>\n",
       "      <th>totalLuckyIndex</th>\n",
       "      <th>prediction</th>\n",
       "    </tr>\n",
       "  </thead>\n",
       "  <tbody>\n",
       "    <tr>\n",
       "      <th>0</th>\n",
       "      <td>0</td>\n",
       "      <td>60c588d7b4d1b24b40531f29</td>\n",
       "      <td>organic</td>\n",
       "      <td>2021-06-05 10:31:56</td>\n",
       "      <td>6</td>\n",
       "      <td>levelStart</td>\n",
       "      <td>41670</td>\n",
       "      <td>0</td>\n",
       "      <td>4</td>\n",
       "      <td>0</td>\n",
       "      <td>...</td>\n",
       "      <td>0.00</td>\n",
       "      <td>0</td>\n",
       "      <td>0.00</td>\n",
       "      <td>2000</td>\n",
       "      <td>17</td>\n",
       "      <td>-3</td>\n",
       "      <td>-3</td>\n",
       "      <td>3350</td>\n",
       "      <td>-3</td>\n",
       "      <td>DefeatWith1Or2Cards</td>\n",
       "    </tr>\n",
       "    <tr>\n",
       "      <th>1</th>\n",
       "      <td>1</td>\n",
       "      <td>60c588d7b4d1b24b40531f29</td>\n",
       "      <td>organic</td>\n",
       "      <td>2021-06-05 10:33:23</td>\n",
       "      <td>6</td>\n",
       "      <td>levelStart</td>\n",
       "      <td>34070</td>\n",
       "      <td>0</td>\n",
       "      <td>4</td>\n",
       "      <td>0</td>\n",
       "      <td>...</td>\n",
       "      <td>0.00</td>\n",
       "      <td>0</td>\n",
       "      <td>0.00</td>\n",
       "      <td>2000</td>\n",
       "      <td>14</td>\n",
       "      <td>-3</td>\n",
       "      <td>-3</td>\n",
       "      <td>2650</td>\n",
       "      <td>-3</td>\n",
       "      <td>DefeatWith1Or2Cards</td>\n",
       "    </tr>\n",
       "    <tr>\n",
       "      <th>2</th>\n",
       "      <td>2</td>\n",
       "      <td>60c588d7b4d1b24b40531f29</td>\n",
       "      <td>organic</td>\n",
       "      <td>2021-06-05 10:34:46</td>\n",
       "      <td>6</td>\n",
       "      <td>levelStart</td>\n",
       "      <td>32750</td>\n",
       "      <td>0</td>\n",
       "      <td>2</td>\n",
       "      <td>0</td>\n",
       "      <td>...</td>\n",
       "      <td>0.00</td>\n",
       "      <td>0</td>\n",
       "      <td>0.00</td>\n",
       "      <td>2000</td>\n",
       "      <td>13</td>\n",
       "      <td>0</td>\n",
       "      <td>0</td>\n",
       "      <td>1950</td>\n",
       "      <td>0</td>\n",
       "      <td>DefeatWith1Or2Cards</td>\n",
       "    </tr>\n",
       "    <tr>\n",
       "      <th>3</th>\n",
       "      <td>3</td>\n",
       "      <td>60c588d7b4d1b24b40531f29</td>\n",
       "      <td>organic</td>\n",
       "      <td>2021-06-05 11:06:35</td>\n",
       "      <td>7</td>\n",
       "      <td>levelStart</td>\n",
       "      <td>32550</td>\n",
       "      <td>0</td>\n",
       "      <td>2</td>\n",
       "      <td>0</td>\n",
       "      <td>...</td>\n",
       "      <td>0.00</td>\n",
       "      <td>0</td>\n",
       "      <td>0.00</td>\n",
       "      <td>2000</td>\n",
       "      <td>12</td>\n",
       "      <td>0</td>\n",
       "      <td>0</td>\n",
       "      <td>1250</td>\n",
       "      <td>0</td>\n",
       "      <td>DefeatWith1Or2Cards</td>\n",
       "    </tr>\n",
       "    <tr>\n",
       "      <th>4</th>\n",
       "      <td>4</td>\n",
       "      <td>60c588d7b4d1b24b40531f29</td>\n",
       "      <td>organic</td>\n",
       "      <td>2021-06-05 11:07:51</td>\n",
       "      <td>7</td>\n",
       "      <td>levelStart</td>\n",
       "      <td>28005</td>\n",
       "      <td>0</td>\n",
       "      <td>2</td>\n",
       "      <td>0</td>\n",
       "      <td>...</td>\n",
       "      <td>0.00</td>\n",
       "      <td>0</td>\n",
       "      <td>0.00</td>\n",
       "      <td>2000</td>\n",
       "      <td>15</td>\n",
       "      <td>-3</td>\n",
       "      <td>-3</td>\n",
       "      <td>550</td>\n",
       "      <td>-3</td>\n",
       "      <td>DefeatWith1Or2Cards</td>\n",
       "    </tr>\n",
       "    <tr>\n",
       "      <th>...</th>\n",
       "      <td>...</td>\n",
       "      <td>...</td>\n",
       "      <td>...</td>\n",
       "      <td>...</td>\n",
       "      <td>...</td>\n",
       "      <td>...</td>\n",
       "      <td>...</td>\n",
       "      <td>...</td>\n",
       "      <td>...</td>\n",
       "      <td>...</td>\n",
       "      <td>...</td>\n",
       "      <td>...</td>\n",
       "      <td>...</td>\n",
       "      <td>...</td>\n",
       "      <td>...</td>\n",
       "      <td>...</td>\n",
       "      <td>...</td>\n",
       "      <td>...</td>\n",
       "      <td>...</td>\n",
       "      <td>...</td>\n",
       "      <td>...</td>\n",
       "    </tr>\n",
       "    <tr>\n",
       "      <th>39728</th>\n",
       "      <td>39728</td>\n",
       "      <td>60bb6f2c12667e6a8d107772</td>\n",
       "      <td>organic</td>\n",
       "      <td>2021-06-12 15:24:26</td>\n",
       "      <td>10</td>\n",
       "      <td>levelStart</td>\n",
       "      <td>53385</td>\n",
       "      <td>0</td>\n",
       "      <td>1</td>\n",
       "      <td>1</td>\n",
       "      <td>...</td>\n",
       "      <td>162.00</td>\n",
       "      <td>0</td>\n",
       "      <td>0.00</td>\n",
       "      <td>3500</td>\n",
       "      <td>23</td>\n",
       "      <td>0</td>\n",
       "      <td>0</td>\n",
       "      <td>0</td>\n",
       "      <td>0</td>\n",
       "      <td>DefeatWith1Or2Cards</td>\n",
       "    </tr>\n",
       "    <tr>\n",
       "      <th>39729</th>\n",
       "      <td>39729</td>\n",
       "      <td>60bb6f2c12667e6a8d107772</td>\n",
       "      <td>organic</td>\n",
       "      <td>2021-06-12 15:26:29</td>\n",
       "      <td>10</td>\n",
       "      <td>levelStart</td>\n",
       "      <td>55813</td>\n",
       "      <td>0</td>\n",
       "      <td>1</td>\n",
       "      <td>0</td>\n",
       "      <td>...</td>\n",
       "      <td>163.00</td>\n",
       "      <td>0</td>\n",
       "      <td>0.00</td>\n",
       "      <td>3500</td>\n",
       "      <td>23</td>\n",
       "      <td>0</td>\n",
       "      <td>0</td>\n",
       "      <td>0</td>\n",
       "      <td>0</td>\n",
       "      <td>DefeatWith1Or2Cards</td>\n",
       "    </tr>\n",
       "    <tr>\n",
       "      <th>39730</th>\n",
       "      <td>39730</td>\n",
       "      <td>60bb6f2c12667e6a8d107772</td>\n",
       "      <td>organic</td>\n",
       "      <td>2021-06-12 19:58:52</td>\n",
       "      <td>65</td>\n",
       "      <td>levelStart</td>\n",
       "      <td>9510</td>\n",
       "      <td>0</td>\n",
       "      <td>3</td>\n",
       "      <td>0</td>\n",
       "      <td>...</td>\n",
       "      <td>280.00</td>\n",
       "      <td>0</td>\n",
       "      <td>0.00</td>\n",
       "      <td>3500</td>\n",
       "      <td>16</td>\n",
       "      <td>0</td>\n",
       "      <td>0</td>\n",
       "      <td>0</td>\n",
       "      <td>0</td>\n",
       "      <td>DefeatWith3OrMoreCards</td>\n",
       "    </tr>\n",
       "    <tr>\n",
       "      <th>39731</th>\n",
       "      <td>39731</td>\n",
       "      <td>60bb6f2c12667e6a8d107772</td>\n",
       "      <td>organic</td>\n",
       "      <td>2021-06-12 20:00:17</td>\n",
       "      <td>65</td>\n",
       "      <td>levelStart</td>\n",
       "      <td>240</td>\n",
       "      <td>0</td>\n",
       "      <td>3</td>\n",
       "      <td>0</td>\n",
       "      <td>...</td>\n",
       "      <td>281.00</td>\n",
       "      <td>0</td>\n",
       "      <td>0.00</td>\n",
       "      <td>3500</td>\n",
       "      <td>21</td>\n",
       "      <td>0</td>\n",
       "      <td>0</td>\n",
       "      <td>0</td>\n",
       "      <td>0</td>\n",
       "      <td>DefeatWith1Or2Cards</td>\n",
       "    </tr>\n",
       "    <tr>\n",
       "      <th>39732</th>\n",
       "      <td>39732</td>\n",
       "      <td>60bb6f2c12667e6a8d107772</td>\n",
       "      <td>organic</td>\n",
       "      <td>2021-06-12 20:57:37</td>\n",
       "      <td>119</td>\n",
       "      <td>levelStart</td>\n",
       "      <td>3580</td>\n",
       "      <td>0</td>\n",
       "      <td>0</td>\n",
       "      <td>0</td>\n",
       "      <td>...</td>\n",
       "      <td>383.00</td>\n",
       "      <td>0</td>\n",
       "      <td>0.00</td>\n",
       "      <td>3500</td>\n",
       "      <td>14</td>\n",
       "      <td>0</td>\n",
       "      <td>0</td>\n",
       "      <td>0</td>\n",
       "      <td>0</td>\n",
       "      <td>DefeatWith5OrMoreCards</td>\n",
       "    </tr>\n",
       "  </tbody>\n",
       "</table>\n",
       "<p>39733 rows × 31 columns</p>\n",
       "</div>"
      ],
      "text/plain": [
       "       index                   user_id media_source         client_time  \\\n",
       "0          0  60c588d7b4d1b24b40531f29      organic 2021-06-05 10:31:56   \n",
       "1          1  60c588d7b4d1b24b40531f29      organic 2021-06-05 10:33:23   \n",
       "2          2  60c588d7b4d1b24b40531f29      organic 2021-06-05 10:34:46   \n",
       "3          3  60c588d7b4d1b24b40531f29      organic 2021-06-05 11:06:35   \n",
       "4          4  60c588d7b4d1b24b40531f29      organic 2021-06-05 11:07:51   \n",
       "...      ...                       ...          ...                 ...   \n",
       "39728  39728  60bb6f2c12667e6a8d107772      organic 2021-06-12 15:24:26   \n",
       "39729  39729  60bb6f2c12667e6a8d107772      organic 2021-06-12 15:26:29   \n",
       "39730  39730  60bb6f2c12667e6a8d107772      organic 2021-06-12 19:58:52   \n",
       "39731  39731  60bb6f2c12667e6a8d107772      organic 2021-06-12 20:00:17   \n",
       "39732  39732  60bb6f2c12667e6a8d107772      organic 2021-06-12 20:57:37   \n",
       "\n",
       "       session_index  event_name  coins  freeRounds  freeUndo  freeWildCard  \\\n",
       "0                  6  levelStart  41670           0         4             0   \n",
       "1                  6  levelStart  34070           0         4             0   \n",
       "2                  6  levelStart  32750           0         2             0   \n",
       "3                  7  levelStart  32550           0         2             0   \n",
       "4                  7  levelStart  28005           0         2             0   \n",
       "...              ...         ...    ...         ...       ...           ...   \n",
       "39728             10  levelStart  53385           0         1             1   \n",
       "39729             10  levelStart  55813           0         1             0   \n",
       "39730             65  levelStart   9510           0         3             0   \n",
       "39731             65  levelStart    240           0         3             0   \n",
       "39732            119  levelStart   3580           0         0             0   \n",
       "\n",
       "       ...  levelLoop  gameType_y  VIPStatus_y  price  cardsInHand  \\\n",
       "0      ...       0.00           0         0.00   2000           17   \n",
       "1      ...       0.00           0         0.00   2000           14   \n",
       "2      ...       0.00           0         0.00   2000           13   \n",
       "3      ...       0.00           0         0.00   2000           12   \n",
       "4      ...       0.00           0         0.00   2000           15   \n",
       "...    ...        ...         ...          ...    ...          ...   \n",
       "39728  ...     162.00           0         0.00   3500           23   \n",
       "39729  ...     163.00           0         0.00   3500           23   \n",
       "39730  ...     280.00           0         0.00   3500           16   \n",
       "39731  ...     281.00           0         0.00   3500           21   \n",
       "39732  ...     383.00           0         0.00   3500           14   \n",
       "\n",
       "       baseLuckyIndex  targetGoldIndex  targetCoins  totalLuckyIndex  \\\n",
       "0                  -3               -3         3350               -3   \n",
       "1                  -3               -3         2650               -3   \n",
       "2                   0                0         1950                0   \n",
       "3                   0                0         1250                0   \n",
       "4                  -3               -3          550               -3   \n",
       "...               ...              ...          ...              ...   \n",
       "39728               0                0            0                0   \n",
       "39729               0                0            0                0   \n",
       "39730               0                0            0                0   \n",
       "39731               0                0            0                0   \n",
       "39732               0                0            0                0   \n",
       "\n",
       "                   prediction  \n",
       "0         DefeatWith1Or2Cards  \n",
       "1         DefeatWith1Or2Cards  \n",
       "2         DefeatWith1Or2Cards  \n",
       "3         DefeatWith1Or2Cards  \n",
       "4         DefeatWith1Or2Cards  \n",
       "...                       ...  \n",
       "39728     DefeatWith1Or2Cards  \n",
       "39729     DefeatWith1Or2Cards  \n",
       "39730  DefeatWith3OrMoreCards  \n",
       "39731     DefeatWith1Or2Cards  \n",
       "39732  DefeatWith5OrMoreCards  \n",
       "\n",
       "[39733 rows x 31 columns]"
      ]
     },
     "execution_count": 183,
     "metadata": {},
     "output_type": "execute_result"
    }
   ],
   "source": [
    "start"
   ]
  },
  {
   "cell_type": "markdown",
   "id": "e674732b",
   "metadata": {},
   "source": [
    "Объединение датафреймов completed_users и complete_data прошло успешно."
   ]
  },
  {
   "cell_type": "code",
   "execution_count": 184,
   "id": "f0eedaba",
   "metadata": {},
   "outputs": [],
   "source": [
    "# сохранение датафрейма start в csv-файл (для построения визуализаций на основе этих данных)\n",
    "start.to_csv('start.csv')"
   ]
  },
  {
   "cell_type": "code",
   "execution_count": 185,
   "id": "aad1aa7c",
   "metadata": {},
   "outputs": [],
   "source": [
    "# сохранение значения количества игроков, начавших прохождение 30 уровня, в переменную start_30\n",
    "start_30 = start.query('levelLoop == 30').shape[0]"
   ]
  },
  {
   "cell_type": "code",
   "execution_count": 186,
   "id": "fe5873d5",
   "metadata": {},
   "outputs": [
    {
     "data": {
      "text/plain": [
       "280"
      ]
     },
     "execution_count": 186,
     "metadata": {},
     "output_type": "execute_result"
    }
   ],
   "source": [
    "start_30"
   ]
  },
  {
   "cell_type": "code",
   "execution_count": 187,
   "id": "c3ca9072",
   "metadata": {},
   "outputs": [
    {
     "data": {
      "text/plain": [
       "275"
      ]
     },
     "execution_count": 187,
     "metadata": {},
     "output_type": "execute_result"
    }
   ],
   "source": [
    "finish_30"
   ]
  },
  {
   "cell_type": "code",
   "execution_count": 188,
   "id": "1bd871db",
   "metadata": {},
   "outputs": [
    {
     "data": {
      "text/plain": [
       "1.79"
      ]
     },
     "execution_count": 188,
     "metadata": {},
     "output_type": "execute_result"
    }
   ],
   "source": [
    "# нахождение доли пользователей, прервавших прохождение уровня\n",
    "round((start_30 - finish_30) / start_30 * 100, 2)"
   ]
  },
  {
   "cell_type": "markdown",
   "id": "1a0afd1d",
   "metadata": {},
   "source": [
    "5 игроков (1.79%) прервали прохождение уровня"
   ]
  },
  {
   "cell_type": "markdown",
   "id": "c9a5c6e2",
   "metadata": {},
   "source": [
    "Уровень 30 является \"плохим\", т.к.:\n",
    "- все игроки закончили прохождение игры после данного уровня  \n",
    "Вероятно, этот уровень слишком сложный или непонятный / содержит ошибки или баги."
   ]
  },
  {
   "cell_type": "markdown",
   "id": "1232dc80",
   "metadata": {},
   "source": [
    "### Уровень 29"
   ]
  },
  {
   "cell_type": "code",
   "execution_count": 189,
   "id": "4dc404ea",
   "metadata": {},
   "outputs": [],
   "source": [
    "# подсчет количества пользователей, (не)прошедших уровень 29\n",
    "win_level_29 = start_levels.query('levelLoop == 29') \\\n",
    "    .groupby(['win', 'stars'], as_index=False) \\\n",
    "    .agg({'user_id':'count'}) \\\n",
    "    .rename(columns={'user_id':'amount_of_users'})"
   ]
  },
  {
   "cell_type": "code",
   "execution_count": 190,
   "id": "177b6f48",
   "metadata": {
    "scrolled": true
   },
   "outputs": [
    {
     "data": {
      "text/html": [
       "<div>\n",
       "<style scoped>\n",
       "    .dataframe tbody tr th:only-of-type {\n",
       "        vertical-align: middle;\n",
       "    }\n",
       "\n",
       "    .dataframe tbody tr th {\n",
       "        vertical-align: top;\n",
       "    }\n",
       "\n",
       "    .dataframe thead th {\n",
       "        text-align: right;\n",
       "    }\n",
       "</style>\n",
       "<table border=\"1\" class=\"dataframe\">\n",
       "  <thead>\n",
       "    <tr style=\"text-align: right;\">\n",
       "      <th></th>\n",
       "      <th>win</th>\n",
       "      <th>stars</th>\n",
       "      <th>amount_of_users</th>\n",
       "    </tr>\n",
       "  </thead>\n",
       "  <tbody>\n",
       "    <tr>\n",
       "      <th>0</th>\n",
       "      <td>DEFEAT</td>\n",
       "      <td>0</td>\n",
       "      <td>10</td>\n",
       "    </tr>\n",
       "    <tr>\n",
       "      <th>1</th>\n",
       "      <td>DEFEAT_WITH_BOOSTER</td>\n",
       "      <td>0</td>\n",
       "      <td>1</td>\n",
       "    </tr>\n",
       "    <tr>\n",
       "      <th>2</th>\n",
       "      <td>VICTORY</td>\n",
       "      <td>0</td>\n",
       "      <td>1</td>\n",
       "    </tr>\n",
       "    <tr>\n",
       "      <th>3</th>\n",
       "      <td>VICTORY</td>\n",
       "      <td>1</td>\n",
       "      <td>11</td>\n",
       "    </tr>\n",
       "    <tr>\n",
       "      <th>4</th>\n",
       "      <td>VICTORY</td>\n",
       "      <td>2</td>\n",
       "      <td>52</td>\n",
       "    </tr>\n",
       "    <tr>\n",
       "      <th>5</th>\n",
       "      <td>VICTORY</td>\n",
       "      <td>3</td>\n",
       "      <td>7</td>\n",
       "    </tr>\n",
       "    <tr>\n",
       "      <th>6</th>\n",
       "      <td>VICTORY</td>\n",
       "      <td>4</td>\n",
       "      <td>37</td>\n",
       "    </tr>\n",
       "    <tr>\n",
       "      <th>7</th>\n",
       "      <td>VICTORY</td>\n",
       "      <td>6</td>\n",
       "      <td>5</td>\n",
       "    </tr>\n",
       "    <tr>\n",
       "      <th>8</th>\n",
       "      <td>VICTORY</td>\n",
       "      <td>12</td>\n",
       "      <td>1</td>\n",
       "    </tr>\n",
       "    <tr>\n",
       "      <th>9</th>\n",
       "      <td>VICTORY_WITH_BOOSTER</td>\n",
       "      <td>0</td>\n",
       "      <td>6</td>\n",
       "    </tr>\n",
       "    <tr>\n",
       "      <th>10</th>\n",
       "      <td>VICTORY_WITH_BOOSTER</td>\n",
       "      <td>1</td>\n",
       "      <td>42</td>\n",
       "    </tr>\n",
       "    <tr>\n",
       "      <th>11</th>\n",
       "      <td>VICTORY_WITH_BOOSTER</td>\n",
       "      <td>2</td>\n",
       "      <td>71</td>\n",
       "    </tr>\n",
       "    <tr>\n",
       "      <th>12</th>\n",
       "      <td>VICTORY_WITH_BOOSTER</td>\n",
       "      <td>3</td>\n",
       "      <td>7</td>\n",
       "    </tr>\n",
       "    <tr>\n",
       "      <th>13</th>\n",
       "      <td>VICTORY_WITH_BOOSTER</td>\n",
       "      <td>4</td>\n",
       "      <td>24</td>\n",
       "    </tr>\n",
       "    <tr>\n",
       "      <th>14</th>\n",
       "      <td>VICTORY_WITH_BOOSTER</td>\n",
       "      <td>6</td>\n",
       "      <td>6</td>\n",
       "    </tr>\n",
       "    <tr>\n",
       "      <th>15</th>\n",
       "      <td>VICTORY_WITH_BOOSTER</td>\n",
       "      <td>9</td>\n",
       "      <td>1</td>\n",
       "    </tr>\n",
       "  </tbody>\n",
       "</table>\n",
       "</div>"
      ],
      "text/plain": [
       "                     win  stars  amount_of_users\n",
       "0                 DEFEAT      0               10\n",
       "1    DEFEAT_WITH_BOOSTER      0                1\n",
       "2                VICTORY      0                1\n",
       "3                VICTORY      1               11\n",
       "4                VICTORY      2               52\n",
       "5                VICTORY      3                7\n",
       "6                VICTORY      4               37\n",
       "7                VICTORY      6                5\n",
       "8                VICTORY     12                1\n",
       "9   VICTORY_WITH_BOOSTER      0                6\n",
       "10  VICTORY_WITH_BOOSTER      1               42\n",
       "11  VICTORY_WITH_BOOSTER      2               71\n",
       "12  VICTORY_WITH_BOOSTER      3                7\n",
       "13  VICTORY_WITH_BOOSTER      4               24\n",
       "14  VICTORY_WITH_BOOSTER      6                6\n",
       "15  VICTORY_WITH_BOOSTER      9                1"
      ]
     },
     "execution_count": 190,
     "metadata": {},
     "output_type": "execute_result"
    }
   ],
   "source": [
    "win_level_29"
   ]
  },
  {
   "cell_type": "code",
   "execution_count": 191,
   "id": "9fe9ba05",
   "metadata": {},
   "outputs": [],
   "source": [
    "# сохранение значений количества игроков, воспользовавшихся бустером, количества проигравших игроков \n",
    "# и количества всех игроков\n",
    "level_29_booster = win_level_29.query('win == \"VICTORY_WITH_BOOSTER\"').amount_of_users.sum()\n",
    "level_29_fail = win_level_29.query('(win == \"DEFEAT_WITH_BOOSTER\") | (win == \"DEFEAT\")').amount_of_users.sum()\n",
    "level_29_all = win_level_29.amount_of_users.sum()"
   ]
  },
  {
   "cell_type": "code",
   "execution_count": 192,
   "id": "c1ae8599",
   "metadata": {},
   "outputs": [
    {
     "data": {
      "text/plain": [
       "55.67"
      ]
     },
     "execution_count": 192,
     "metadata": {},
     "output_type": "execute_result"
    }
   ],
   "source": [
    "round(level_29_booster / level_29_all * 100, 2)"
   ]
  },
  {
   "cell_type": "code",
   "execution_count": 193,
   "id": "a672d7aa",
   "metadata": {},
   "outputs": [
    {
     "data": {
      "text/plain": [
       "3.9"
      ]
     },
     "execution_count": 193,
     "metadata": {},
     "output_type": "execute_result"
    }
   ],
   "source": [
    "round(level_29_fail / level_29_all * 100, 2)"
   ]
  },
  {
   "cell_type": "markdown",
   "id": "98e98589",
   "metadata": {},
   "source": [
    "55.67% игроков воспользовалось бустером для прохождения данного уровня. Для 3.9% игроков данный уровень закончился поражением."
   ]
  },
  {
   "cell_type": "code",
   "execution_count": 194,
   "id": "e87967e0",
   "metadata": {},
   "outputs": [
    {
     "data": {
      "text/plain": [
       "count     0.28\n",
       "mean     67.99\n",
       "std      57.74\n",
       "min      31.94\n",
       "25%      49.25\n",
       "50%      58.58\n",
       "75%      74.14\n",
       "max     902.80\n",
       "Name: time, dtype: float64"
      ]
     },
     "execution_count": 194,
     "metadata": {},
     "output_type": "execute_result"
    }
   ],
   "source": [
    "# просмотр описательных статистик времени прохождения данного уровня\n",
    "# перевод времени в секунды\n",
    "round(start_levels.query('levelLoop == 29') \\\n",
    "    .time.describe() / 1000, 2)"
   ]
  },
  {
   "cell_type": "markdown",
   "id": "b0c7fec2",
   "metadata": {},
   "source": [
    "Медианное время прохождения уровня - 58 секунд - приемлемое значение."
   ]
  },
  {
   "cell_type": "code",
   "execution_count": 195,
   "id": "d27df8f3",
   "metadata": {},
   "outputs": [],
   "source": [
    "# отбор всех игроков, (не)прошедших данный уровень\n",
    "users_29 = start_levels.query('levelLoop == 29') \\\n",
    "    .user_id.unique().tolist()"
   ]
  },
  {
   "cell_type": "code",
   "execution_count": 196,
   "id": "7c5c741c",
   "metadata": {},
   "outputs": [
    {
     "name": "stdout",
     "output_type": "stream",
     "text": [
      "Продолжили игру 262 игроков\n",
      "Прервали игру 20 игроков\n"
     ]
    }
   ],
   "source": [
    "# продолжили пользователи игру после прохождения 29-го уровня или нет\n",
    "continued = 0\n",
    "fail = 0\n",
    "for i in users_29:\n",
    "    work_state = start_levels[(start_levels.user_id == i) & (start_levels.levelLoop == 29)].level_y.tolist()\n",
    "    max_state = start_levels[start_levels.user_id == i].level_y.max()\n",
    "    if work_state < max_state:\n",
    "        continued += 1\n",
    "    else:\n",
    "        fail += 1\n",
    "        \n",
    "print('Продолжили игру ' + str(continued) + ' игроков')\n",
    "print('Прервали игру ' + str(fail) + ' игроков')"
   ]
  },
  {
   "cell_type": "code",
   "execution_count": 197,
   "id": "77db0cac",
   "metadata": {},
   "outputs": [],
   "source": [
    "# сохранение значения количества игроков, закончивших прохождение 29 уровня, в переменную finish_29\n",
    "finish_29 = start_levels.query('levelLoop == 29').shape[0]"
   ]
  },
  {
   "cell_type": "code",
   "execution_count": 198,
   "id": "e3b78401",
   "metadata": {},
   "outputs": [
    {
     "data": {
      "text/plain": [
       "282"
      ]
     },
     "execution_count": 198,
     "metadata": {},
     "output_type": "execute_result"
    }
   ],
   "source": [
    "finish_29"
   ]
  },
  {
   "cell_type": "code",
   "execution_count": 199,
   "id": "423c58e3",
   "metadata": {},
   "outputs": [
    {
     "data": {
      "text/plain": [
       "7.09"
      ]
     },
     "execution_count": 199,
     "metadata": {},
     "output_type": "execute_result"
    }
   ],
   "source": [
    "# расчёт доли игроков, прервавших игру после прохождения данного уровня\n",
    "round(fail / finish_29 * 100, 2)"
   ]
  },
  {
   "cell_type": "markdown",
   "id": "11893de4",
   "metadata": {},
   "source": [
    "7.09% игроков прервали игру после прохождения данного уровня."
   ]
  },
  {
   "cell_type": "code",
   "execution_count": 200,
   "id": "806bb2b1",
   "metadata": {},
   "outputs": [],
   "source": [
    "# сохранение значения количества игроков, начавших прохождение 29 уровня, в переменную start_29\n",
    "start_29 = start.query('levelLoop == 29').shape[0]"
   ]
  },
  {
   "cell_type": "code",
   "execution_count": 201,
   "id": "45661cae",
   "metadata": {},
   "outputs": [
    {
     "data": {
      "text/plain": [
       "283"
      ]
     },
     "execution_count": 201,
     "metadata": {},
     "output_type": "execute_result"
    }
   ],
   "source": [
    "start_29"
   ]
  },
  {
   "cell_type": "code",
   "execution_count": 202,
   "id": "7abe29a8",
   "metadata": {},
   "outputs": [
    {
     "data": {
      "text/plain": [
       "0.35"
      ]
     },
     "execution_count": 202,
     "metadata": {},
     "output_type": "execute_result"
    }
   ],
   "source": [
    "# нахождение доли пользователей, прервавших прохождение уровня\n",
    "round((start_29 - finish_29) / start_29 * 100, 2)"
   ]
  },
  {
   "cell_type": "markdown",
   "id": "719820d4",
   "metadata": {},
   "source": [
    "1 игрок (0.35%) игрок прервал прохождение уровня."
   ]
  },
  {
   "cell_type": "markdown",
   "id": "44d1dbf7",
   "metadata": {},
   "source": [
    "Уровень 29 является \"плохим\", т.к.:\n",
    "- около 60% игроков не может пройти уровень (55.67% игроков используют бустер, 3.9% игроков заканчивают данный уровень поражением)\n",
    "- 7% игроков прервали игру после прохождения данного уровня"
   ]
  },
  {
   "cell_type": "markdown",
   "id": "e43a4fd6",
   "metadata": {},
   "source": [
    "### Уровень 20"
   ]
  },
  {
   "cell_type": "code",
   "execution_count": 203,
   "id": "e7b33cf5",
   "metadata": {},
   "outputs": [],
   "source": [
    "# подсчет количества пользователей, (не)прошедших уровень 20\n",
    "win_level_20 = start_levels.query('levelLoop == 20') \\\n",
    "    .groupby(['win', 'stars'], as_index=False) \\\n",
    "    .agg({'user_id':'count'}) \\\n",
    "    .rename(columns={'user_id':'amount_of_users'})"
   ]
  },
  {
   "cell_type": "code",
   "execution_count": 204,
   "id": "36fe0cd3",
   "metadata": {},
   "outputs": [
    {
     "data": {
      "text/html": [
       "<div>\n",
       "<style scoped>\n",
       "    .dataframe tbody tr th:only-of-type {\n",
       "        vertical-align: middle;\n",
       "    }\n",
       "\n",
       "    .dataframe tbody tr th {\n",
       "        vertical-align: top;\n",
       "    }\n",
       "\n",
       "    .dataframe thead th {\n",
       "        text-align: right;\n",
       "    }\n",
       "</style>\n",
       "<table border=\"1\" class=\"dataframe\">\n",
       "  <thead>\n",
       "    <tr style=\"text-align: right;\">\n",
       "      <th></th>\n",
       "      <th>win</th>\n",
       "      <th>stars</th>\n",
       "      <th>amount_of_users</th>\n",
       "    </tr>\n",
       "  </thead>\n",
       "  <tbody>\n",
       "    <tr>\n",
       "      <th>0</th>\n",
       "      <td>VICTORY</td>\n",
       "      <td>1</td>\n",
       "      <td>3</td>\n",
       "    </tr>\n",
       "    <tr>\n",
       "      <th>1</th>\n",
       "      <td>VICTORY</td>\n",
       "      <td>2</td>\n",
       "      <td>1</td>\n",
       "    </tr>\n",
       "    <tr>\n",
       "      <th>2</th>\n",
       "      <td>VICTORY_WITH_BOOSTER</td>\n",
       "      <td>1</td>\n",
       "      <td>2</td>\n",
       "    </tr>\n",
       "    <tr>\n",
       "      <th>3</th>\n",
       "      <td>VICTORY_WITH_BOOSTER</td>\n",
       "      <td>2</td>\n",
       "      <td>1</td>\n",
       "    </tr>\n",
       "  </tbody>\n",
       "</table>\n",
       "</div>"
      ],
      "text/plain": [
       "                    win  stars  amount_of_users\n",
       "0               VICTORY      1                3\n",
       "1               VICTORY      2                1\n",
       "2  VICTORY_WITH_BOOSTER      1                2\n",
       "3  VICTORY_WITH_BOOSTER      2                1"
      ]
     },
     "execution_count": 204,
     "metadata": {},
     "output_type": "execute_result"
    }
   ],
   "source": [
    "win_level_20"
   ]
  },
  {
   "cell_type": "code",
   "execution_count": 205,
   "id": "33a33585",
   "metadata": {},
   "outputs": [],
   "source": [
    "# сохранение значений количества игроков, воспользовавшихся бустером, количества проигравших игроков \n",
    "# и количества всех игроков\n",
    "level_20_booster = win_level_20.query('win == \"VICTORY_WITH_BOOSTER\"').amount_of_users.sum()\n",
    "level_20_fail = win_level_20.query('(win == \"DEFEAT_WITH_BOOSTER\") | (win == \"DEFEAT\")').amount_of_users.sum()\n",
    "level_20_all = win_level_20.amount_of_users.sum()"
   ]
  },
  {
   "cell_type": "code",
   "execution_count": 206,
   "id": "573c7c2e",
   "metadata": {},
   "outputs": [
    {
     "data": {
      "text/plain": [
       "42.86"
      ]
     },
     "execution_count": 206,
     "metadata": {},
     "output_type": "execute_result"
    }
   ],
   "source": [
    "round(level_20_booster / level_20_all * 100, 2)"
   ]
  },
  {
   "cell_type": "code",
   "execution_count": 207,
   "id": "502f4665",
   "metadata": {},
   "outputs": [
    {
     "data": {
      "text/plain": [
       "0.0"
      ]
     },
     "execution_count": 207,
     "metadata": {},
     "output_type": "execute_result"
    }
   ],
   "source": [
    "round(level_20_fail / level_20_all * 100, 2)"
   ]
  },
  {
   "cell_type": "markdown",
   "id": "2380f805",
   "metadata": {},
   "source": [
    "42.86% игроков воспользовались бустером для прохождения данного уровня. Уровень смогли успешно завершить все игроки (результат = победа)."
   ]
  },
  {
   "cell_type": "code",
   "execution_count": 208,
   "id": "e75233ef",
   "metadata": {},
   "outputs": [
    {
     "data": {
      "text/plain": [
       "count     0.01\n",
       "mean     92.71\n",
       "std      22.39\n",
       "min      63.89\n",
       "25%      79.23\n",
       "50%      92.23\n",
       "75%     100.70\n",
       "max     133.03\n",
       "Name: time, dtype: float64"
      ]
     },
     "execution_count": 208,
     "metadata": {},
     "output_type": "execute_result"
    }
   ],
   "source": [
    "# просмотр описательных статистик времени прохождения данного уровня\n",
    "# перевод времени в секунды\n",
    "round(start_levels.query('levelLoop == 20') \\\n",
    "    .time.describe() / 1000, 2)"
   ]
  },
  {
   "cell_type": "markdown",
   "id": "19d341e5",
   "metadata": {},
   "source": [
    "Медианное время прохождения уровня - 92 секунды - значительно превышает ориентировочное время прохождения уровней (60 секунд)."
   ]
  },
  {
   "cell_type": "code",
   "execution_count": 209,
   "id": "60bca256",
   "metadata": {},
   "outputs": [],
   "source": [
    "# отбор всех игроков, (не)прошедших данный уровень\n",
    "users_20 = start_levels.query('levelLoop == 20') \\\n",
    "    .user_id.unique().tolist()"
   ]
  },
  {
   "cell_type": "code",
   "execution_count": 210,
   "id": "4c0b3f5d",
   "metadata": {},
   "outputs": [
    {
     "name": "stdout",
     "output_type": "stream",
     "text": [
      "Продолжили игру 6 игроков\n",
      "Прервал игру 1 игрок\n"
     ]
    }
   ],
   "source": [
    "# продолжили пользователи игру после прохождения 20-го уровня или нет\n",
    "continued = 0\n",
    "fail = 0\n",
    "for i in users_20:\n",
    "    work_state = start_levels[(start_levels.user_id == i) & (start_levels.levelLoop == 20)].level_y.tolist()\n",
    "    max_state = start_levels[start_levels.user_id == i].level_y.max()\n",
    "    if work_state < max_state:\n",
    "        continued += 1\n",
    "    else:\n",
    "        fail += 1\n",
    "        \n",
    "print('Продолжили игру ' + str(continued) + ' игроков')\n",
    "print('Прервал игру ' + str(fail) + ' игрок')"
   ]
  },
  {
   "cell_type": "code",
   "execution_count": 211,
   "id": "3b0c9c58",
   "metadata": {},
   "outputs": [],
   "source": [
    "# сохранение значения количества игроков, закончивших прохождение 20 уровня, в переменную finish_20\n",
    "finish_20 = start_levels.query('levelLoop == 20').shape[0]"
   ]
  },
  {
   "cell_type": "code",
   "execution_count": 212,
   "id": "1e1f64fd",
   "metadata": {},
   "outputs": [
    {
     "data": {
      "text/plain": [
       "7"
      ]
     },
     "execution_count": 212,
     "metadata": {},
     "output_type": "execute_result"
    }
   ],
   "source": [
    "finish_20"
   ]
  },
  {
   "cell_type": "code",
   "execution_count": 213,
   "id": "926ac3f4",
   "metadata": {},
   "outputs": [
    {
     "data": {
      "text/plain": [
       "14.29"
      ]
     },
     "execution_count": 213,
     "metadata": {},
     "output_type": "execute_result"
    }
   ],
   "source": [
    "# расчёт доли игроков, прервавших игру после прохождения данного уровня\n",
    "round(fail / finish_20 * 100, 2)"
   ]
  },
  {
   "cell_type": "markdown",
   "id": "f3b9dbe0",
   "metadata": {},
   "source": [
    "14.29% игроков прервали игру после прохождения данного уровня."
   ]
  },
  {
   "cell_type": "code",
   "execution_count": 214,
   "id": "82f992dd",
   "metadata": {},
   "outputs": [],
   "source": [
    "# сохранение значения количества игроков, начавших прохождение 20 уровня, в переменную start_29\n",
    "start_20 = start.query('levelLoop == 20').shape[0]"
   ]
  },
  {
   "cell_type": "code",
   "execution_count": 215,
   "id": "c5dce187",
   "metadata": {},
   "outputs": [
    {
     "data": {
      "text/plain": [
       "7"
      ]
     },
     "execution_count": 215,
     "metadata": {},
     "output_type": "execute_result"
    }
   ],
   "source": [
    "start_20"
   ]
  },
  {
   "cell_type": "code",
   "execution_count": 216,
   "id": "557ff004",
   "metadata": {},
   "outputs": [
    {
     "data": {
      "text/plain": [
       "0.0"
      ]
     },
     "execution_count": 216,
     "metadata": {},
     "output_type": "execute_result"
    }
   ],
   "source": [
    "# нахождение доли пользователей, прервавших прохождение уровня\n",
    "round((start_20 - finish_20) / start_20 * 100, 2)"
   ]
  },
  {
   "cell_type": "markdown",
   "id": "1050c7ca",
   "metadata": {},
   "source": [
    "Никто не прервал прохождение уровня."
   ]
  },
  {
   "cell_type": "markdown",
   "id": "0e751726",
   "metadata": {},
   "source": [
    "Уровень 20 нельзя назвать \"плохим\", поскольку собрано слишком мало информации о поведении игроков.  \n",
    "Даже высокий процент прервания игры после прохождения данного уровня (14.29%) не позволяет сделать такой вывод, т.к. игру прервал лишь 1 пользователь (возможно, прерывание игры связно не с непосредственно игрой, а с какими-либо внешними факторами и др.)"
   ]
  },
  {
   "cell_type": "markdown",
   "id": "af43b942",
   "metadata": {},
   "source": [
    "### Уровень 19"
   ]
  },
  {
   "cell_type": "code",
   "execution_count": 217,
   "id": "19159464",
   "metadata": {},
   "outputs": [],
   "source": [
    "# подсчет количества пользователей, (не)прошедших уровень 19\n",
    "win_level_19 = start_levels.query('levelLoop == 19') \\\n",
    "    .groupby(['win', 'stars'], as_index=False) \\\n",
    "    .agg({'user_id':'count'}) \\\n",
    "    .rename(columns={'user_id':'amount_of_users'})"
   ]
  },
  {
   "cell_type": "code",
   "execution_count": 218,
   "id": "db8b01e5",
   "metadata": {},
   "outputs": [
    {
     "data": {
      "text/html": [
       "<div>\n",
       "<style scoped>\n",
       "    .dataframe tbody tr th:only-of-type {\n",
       "        vertical-align: middle;\n",
       "    }\n",
       "\n",
       "    .dataframe tbody tr th {\n",
       "        vertical-align: top;\n",
       "    }\n",
       "\n",
       "    .dataframe thead th {\n",
       "        text-align: right;\n",
       "    }\n",
       "</style>\n",
       "<table border=\"1\" class=\"dataframe\">\n",
       "  <thead>\n",
       "    <tr style=\"text-align: right;\">\n",
       "      <th></th>\n",
       "      <th>win</th>\n",
       "      <th>stars</th>\n",
       "      <th>amount_of_users</th>\n",
       "    </tr>\n",
       "  </thead>\n",
       "  <tbody>\n",
       "    <tr>\n",
       "      <th>0</th>\n",
       "      <td>VICTORY</td>\n",
       "      <td>2</td>\n",
       "      <td>7</td>\n",
       "    </tr>\n",
       "    <tr>\n",
       "      <th>1</th>\n",
       "      <td>VICTORY</td>\n",
       "      <td>3</td>\n",
       "      <td>3</td>\n",
       "    </tr>\n",
       "    <tr>\n",
       "      <th>2</th>\n",
       "      <td>VICTORY_WITH_BOOSTER</td>\n",
       "      <td>2</td>\n",
       "      <td>2</td>\n",
       "    </tr>\n",
       "  </tbody>\n",
       "</table>\n",
       "</div>"
      ],
      "text/plain": [
       "                    win  stars  amount_of_users\n",
       "0               VICTORY      2                7\n",
       "1               VICTORY      3                3\n",
       "2  VICTORY_WITH_BOOSTER      2                2"
      ]
     },
     "execution_count": 218,
     "metadata": {},
     "output_type": "execute_result"
    }
   ],
   "source": [
    "win_level_19"
   ]
  },
  {
   "cell_type": "code",
   "execution_count": 219,
   "id": "d3aa33bc",
   "metadata": {},
   "outputs": [],
   "source": [
    "# сохранение значений количества игроков, воспользовавшихся бустером, количества проигравших игроков \n",
    "# и количества всех игроков\n",
    "level_19_booster = win_level_19.query('win == \"VICTORY_WITH_BOOSTER\"').amount_of_users.sum()\n",
    "level_19_fail = win_level_19.query('(win == \"DEFEAT_WITH_BOOSTER\") | (win == \"DEFEAT\")').amount_of_users.sum()\n",
    "level_19_all = win_level_19.amount_of_users.sum()"
   ]
  },
  {
   "cell_type": "code",
   "execution_count": 220,
   "id": "47939543",
   "metadata": {},
   "outputs": [
    {
     "data": {
      "text/plain": [
       "16.67"
      ]
     },
     "execution_count": 220,
     "metadata": {},
     "output_type": "execute_result"
    }
   ],
   "source": [
    "round(level_19_booster / level_19_all * 100, 2)"
   ]
  },
  {
   "cell_type": "code",
   "execution_count": 221,
   "id": "c7f81df8",
   "metadata": {},
   "outputs": [
    {
     "data": {
      "text/plain": [
       "0.0"
      ]
     },
     "execution_count": 221,
     "metadata": {},
     "output_type": "execute_result"
    }
   ],
   "source": [
    "round(level_19_fail / level_19_all * 100, 2)"
   ]
  },
  {
   "cell_type": "markdown",
   "id": "f72f15a9",
   "metadata": {},
   "source": [
    "16.67% игроков воспользвались бустером для прохождения данного уровня. Все игроки успешно завершили прохождение уровня (результат - победа)."
   ]
  },
  {
   "cell_type": "code",
   "execution_count": 222,
   "id": "71ff0bfb",
   "metadata": {},
   "outputs": [
    {
     "data": {
      "text/plain": [
       "count     0.01\n",
       "mean     89.65\n",
       "std      25.35\n",
       "min      59.45\n",
       "25%      64.27\n",
       "50%      90.94\n",
       "75%     104.72\n",
       "max     130.09\n",
       "Name: time, dtype: float64"
      ]
     },
     "execution_count": 222,
     "metadata": {},
     "output_type": "execute_result"
    }
   ],
   "source": [
    "# просмотр описательных статистик времени прохождения данного уровня\n",
    "# перевод времени в секунды\n",
    "round(start_levels.query('levelLoop == 19') \\\n",
    "    .time.describe() / 1000, 2)"
   ]
  },
  {
   "cell_type": "markdown",
   "id": "e57ff358",
   "metadata": {},
   "source": [
    "Медианное время прохождения уровня - около 91 секунды - значительно превышает ориентировочное значение в 60 секунд."
   ]
  },
  {
   "cell_type": "code",
   "execution_count": 223,
   "id": "c7bf2e43",
   "metadata": {},
   "outputs": [],
   "source": [
    "# отбор всех игроков, (не)прошедших данный уровень\n",
    "users_19 = start_levels.query('levelLoop == 19') \\\n",
    "    .user_id.unique().tolist()"
   ]
  },
  {
   "cell_type": "code",
   "execution_count": 224,
   "id": "ccb563dc",
   "metadata": {},
   "outputs": [
    {
     "name": "stdout",
     "output_type": "stream",
     "text": [
      "Продолжили игру 12 игроков\n",
      "Прервали игру 0 игроков\n"
     ]
    }
   ],
   "source": [
    "# продолжили пользователи игру после прохождения 19-го уровня или нет\n",
    "continued = 0\n",
    "fail = 0\n",
    "for i in users_19:\n",
    "    work_state = start_levels[(start_levels.user_id == i) & (start_levels.levelLoop == 19)].level_y.tolist()\n",
    "    max_state = start_levels[start_levels.user_id == i].level_y.max()\n",
    "    if work_state < max_state:\n",
    "        continued += 1\n",
    "    else:\n",
    "        fail += 1\n",
    "        \n",
    "print('Продолжили игру ' + str(continued) + ' игроков')\n",
    "print('Прервали игру ' + str(fail) + ' игроков')"
   ]
  },
  {
   "cell_type": "code",
   "execution_count": 225,
   "id": "c5473e65",
   "metadata": {},
   "outputs": [],
   "source": [
    "# сохранение значения количества игроков, закончивших прохождение 19 уровня, в переменную finish_19\n",
    "finish_19 = start_levels.query('levelLoop == 19').shape[0]"
   ]
  },
  {
   "cell_type": "code",
   "execution_count": 226,
   "id": "1bff4c7a",
   "metadata": {},
   "outputs": [
    {
     "data": {
      "text/plain": [
       "12"
      ]
     },
     "execution_count": 226,
     "metadata": {},
     "output_type": "execute_result"
    }
   ],
   "source": [
    "finish_19"
   ]
  },
  {
   "cell_type": "code",
   "execution_count": 227,
   "id": "359b39a8",
   "metadata": {},
   "outputs": [
    {
     "data": {
      "text/plain": [
       "0.0"
      ]
     },
     "execution_count": 227,
     "metadata": {},
     "output_type": "execute_result"
    }
   ],
   "source": [
    "# расчёт доли игроков, прервавших игру после прохождения данного уровня\n",
    "round(fail / finish_19 * 100, 2)"
   ]
  },
  {
   "cell_type": "markdown",
   "id": "17074332",
   "metadata": {},
   "source": [
    "После прохождения данного уровня никто из игроков не прервал игру."
   ]
  },
  {
   "cell_type": "code",
   "execution_count": 228,
   "id": "6b37d79c",
   "metadata": {},
   "outputs": [],
   "source": [
    "# сохранение значения количества игроков, начавших прохождение 19 уровня, в переменную start_19\n",
    "start_19 = start.query('levelLoop == 19').shape[0]"
   ]
  },
  {
   "cell_type": "code",
   "execution_count": 229,
   "id": "16857d74",
   "metadata": {},
   "outputs": [
    {
     "data": {
      "text/plain": [
       "12"
      ]
     },
     "execution_count": 229,
     "metadata": {},
     "output_type": "execute_result"
    }
   ],
   "source": [
    "start_19"
   ]
  },
  {
   "cell_type": "code",
   "execution_count": 230,
   "id": "8e8e128d",
   "metadata": {},
   "outputs": [
    {
     "data": {
      "text/plain": [
       "0.0"
      ]
     },
     "execution_count": 230,
     "metadata": {},
     "output_type": "execute_result"
    }
   ],
   "source": [
    "# нахождение доли пользователей, прервавших прохождение уровня\n",
    "round((start_19 - finish_19) / start_19 * 100, 2)"
   ]
  },
  {
   "cell_type": "markdown",
   "id": "8e2e0295",
   "metadata": {},
   "source": [
    "Все игроки закончили прохождение уровня."
   ]
  },
  {
   "cell_type": "markdown",
   "id": "c0a7d536",
   "metadata": {},
   "source": [
    "Уровень 19 не является \"плохим\", т.к.:\n",
    "- все игроки смогли пройти данный уровень, никто из игроков не прервал его прохождение\n",
    "- после прохождения данного уровня никто из игроков не прервал игру"
   ]
  },
  {
   "cell_type": "markdown",
   "id": "8c0185ca",
   "metadata": {},
   "source": [
    "### Уровень 18"
   ]
  },
  {
   "cell_type": "code",
   "execution_count": 231,
   "id": "6f4f515e",
   "metadata": {},
   "outputs": [],
   "source": [
    "# подсчет количества пользователей, (не)прошедших уровень 18\n",
    "win_level_18 = start_levels.query('levelLoop == 18') \\\n",
    "    .groupby(['win', 'stars'], as_index=False) \\\n",
    "    .agg({'user_id':'count'}) \\\n",
    "    .rename(columns={'user_id':'amount_of_users'})"
   ]
  },
  {
   "cell_type": "code",
   "execution_count": 232,
   "id": "0c61b301",
   "metadata": {},
   "outputs": [
    {
     "data": {
      "text/html": [
       "<div>\n",
       "<style scoped>\n",
       "    .dataframe tbody tr th:only-of-type {\n",
       "        vertical-align: middle;\n",
       "    }\n",
       "\n",
       "    .dataframe tbody tr th {\n",
       "        vertical-align: top;\n",
       "    }\n",
       "\n",
       "    .dataframe thead th {\n",
       "        text-align: right;\n",
       "    }\n",
       "</style>\n",
       "<table border=\"1\" class=\"dataframe\">\n",
       "  <thead>\n",
       "    <tr style=\"text-align: right;\">\n",
       "      <th></th>\n",
       "      <th>win</th>\n",
       "      <th>stars</th>\n",
       "      <th>amount_of_users</th>\n",
       "    </tr>\n",
       "  </thead>\n",
       "  <tbody>\n",
       "    <tr>\n",
       "      <th>0</th>\n",
       "      <td>VICTORY</td>\n",
       "      <td>0</td>\n",
       "      <td>1</td>\n",
       "    </tr>\n",
       "    <tr>\n",
       "      <th>1</th>\n",
       "      <td>VICTORY</td>\n",
       "      <td>1</td>\n",
       "      <td>8</td>\n",
       "    </tr>\n",
       "    <tr>\n",
       "      <th>2</th>\n",
       "      <td>VICTORY</td>\n",
       "      <td>2</td>\n",
       "      <td>9</td>\n",
       "    </tr>\n",
       "    <tr>\n",
       "      <th>3</th>\n",
       "      <td>VICTORY_WITH_BOOSTER</td>\n",
       "      <td>0</td>\n",
       "      <td>2</td>\n",
       "    </tr>\n",
       "    <tr>\n",
       "      <th>4</th>\n",
       "      <td>VICTORY_WITH_BOOSTER</td>\n",
       "      <td>1</td>\n",
       "      <td>5</td>\n",
       "    </tr>\n",
       "    <tr>\n",
       "      <th>5</th>\n",
       "      <td>VICTORY_WITH_BOOSTER</td>\n",
       "      <td>2</td>\n",
       "      <td>2</td>\n",
       "    </tr>\n",
       "  </tbody>\n",
       "</table>\n",
       "</div>"
      ],
      "text/plain": [
       "                    win  stars  amount_of_users\n",
       "0               VICTORY      0                1\n",
       "1               VICTORY      1                8\n",
       "2               VICTORY      2                9\n",
       "3  VICTORY_WITH_BOOSTER      0                2\n",
       "4  VICTORY_WITH_BOOSTER      1                5\n",
       "5  VICTORY_WITH_BOOSTER      2                2"
      ]
     },
     "execution_count": 232,
     "metadata": {},
     "output_type": "execute_result"
    }
   ],
   "source": [
    "win_level_18"
   ]
  },
  {
   "cell_type": "code",
   "execution_count": 233,
   "id": "1cf8db36",
   "metadata": {},
   "outputs": [],
   "source": [
    "# сохранение значений количества игроков, воспользовавшихся бустером, количества проигравших игроков \n",
    "# и количества всех игроков\n",
    "level_18_booster = win_level_18.query('win == \"VICTORY_WITH_BOOSTER\"').amount_of_users.sum()\n",
    "level_18_fail = win_level_18.query('(win == \"DEFEAT_WITH_BOOSTER\") | (win == \"DEFEAT\")').amount_of_users.sum()\n",
    "level_18_all = win_level_18.amount_of_users.sum()"
   ]
  },
  {
   "cell_type": "code",
   "execution_count": 234,
   "id": "8108a292",
   "metadata": {},
   "outputs": [
    {
     "data": {
      "text/plain": [
       "33.33"
      ]
     },
     "execution_count": 234,
     "metadata": {},
     "output_type": "execute_result"
    }
   ],
   "source": [
    "round(level_18_booster / level_18_all * 100, 2)"
   ]
  },
  {
   "cell_type": "code",
   "execution_count": 235,
   "id": "20aee5f0",
   "metadata": {},
   "outputs": [
    {
     "data": {
      "text/plain": [
       "0.0"
      ]
     },
     "execution_count": 235,
     "metadata": {},
     "output_type": "execute_result"
    }
   ],
   "source": [
    "round(level_18_fail / level_18_all * 100, 2)"
   ]
  },
  {
   "cell_type": "markdown",
   "id": "6212f045",
   "metadata": {},
   "source": [
    "33.33% игроков воспользвались бустером для прохождения данного уровня. Все игроки успешно завершили прохождение уровня (результат - победа)."
   ]
  },
  {
   "cell_type": "code",
   "execution_count": 236,
   "id": "9fadcc8e",
   "metadata": {},
   "outputs": [
    {
     "data": {
      "text/plain": [
       "count     0.03\n",
       "mean     70.27\n",
       "std      25.99\n",
       "min      36.99\n",
       "25%      50.31\n",
       "50%      64.24\n",
       "75%      84.53\n",
       "max     145.32\n",
       "Name: time, dtype: float64"
      ]
     },
     "execution_count": 236,
     "metadata": {},
     "output_type": "execute_result"
    }
   ],
   "source": [
    "# просмотр описательных статистик времени прохождения данного уровня\n",
    "# перевод времени в секунды\n",
    "round(start_levels.query('levelLoop == 18') \\\n",
    "    .time.describe() / 1000, 2)"
   ]
  },
  {
   "cell_type": "markdown",
   "id": "043bfd43",
   "metadata": {},
   "source": [
    "Медианное время прохождения уровня (64 секунды) - в рамках нормы."
   ]
  },
  {
   "cell_type": "code",
   "execution_count": 237,
   "id": "142f9055",
   "metadata": {},
   "outputs": [],
   "source": [
    "# отбор всех игроков, (не)прошедших данный уровень\n",
    "users_18 = start_levels.query('levelLoop == 18') \\\n",
    "    .user_id.unique().tolist()"
   ]
  },
  {
   "cell_type": "code",
   "execution_count": 238,
   "id": "eb330a70",
   "metadata": {},
   "outputs": [
    {
     "name": "stdout",
     "output_type": "stream",
     "text": [
      "Продолжили игру 27 игроков\n",
      "Прервали игру 0 игроков\n"
     ]
    }
   ],
   "source": [
    "# продолжили пользователи игру после прохождения 18-го уровня или нет\n",
    "continued = 0\n",
    "fail = 0\n",
    "for i in users_18:\n",
    "    work_state = start_levels[(start_levels.user_id == i) & (start_levels.levelLoop == 18)].level_y.tolist()\n",
    "    max_state = start_levels[start_levels.user_id == i].level_y.max()\n",
    "    if work_state < max_state:\n",
    "        continued += 1\n",
    "    else:\n",
    "        fail += 1\n",
    "        \n",
    "print('Продолжили игру ' + str(continued) + ' игроков')\n",
    "print('Прервали игру ' + str(fail) + ' игроков')"
   ]
  },
  {
   "cell_type": "code",
   "execution_count": 239,
   "id": "edd6928e",
   "metadata": {},
   "outputs": [],
   "source": [
    "# сохранение значения количества игроков, закончивших прохождение 18 уровня, в переменную finish_18\n",
    "finish_18 = start_levels.query('levelLoop == 18').shape[0]"
   ]
  },
  {
   "cell_type": "code",
   "execution_count": 240,
   "id": "3531e18d",
   "metadata": {},
   "outputs": [
    {
     "data": {
      "text/plain": [
       "27"
      ]
     },
     "execution_count": 240,
     "metadata": {},
     "output_type": "execute_result"
    }
   ],
   "source": [
    "finish_18"
   ]
  },
  {
   "cell_type": "code",
   "execution_count": 241,
   "id": "52629420",
   "metadata": {},
   "outputs": [
    {
     "data": {
      "text/plain": [
       "0.0"
      ]
     },
     "execution_count": 241,
     "metadata": {},
     "output_type": "execute_result"
    }
   ],
   "source": [
    "# расчёт доли игроков, прервавших игру после прохождения данного уровня\n",
    "round(fail / finish_18 * 100, 2)"
   ]
  },
  {
   "cell_type": "markdown",
   "id": "230da88f",
   "metadata": {},
   "source": [
    "После прохождения данного уровня никто из игроков не прервал игру."
   ]
  },
  {
   "cell_type": "code",
   "execution_count": 242,
   "id": "17a83b38",
   "metadata": {},
   "outputs": [],
   "source": [
    "# сохранение значения количества игроков, начавших прохождение 18 уровня, в переменную start_18\n",
    "start_18 = start.query('levelLoop == 18').shape[0]"
   ]
  },
  {
   "cell_type": "code",
   "execution_count": 243,
   "id": "afa3f128",
   "metadata": {},
   "outputs": [
    {
     "data": {
      "text/plain": [
       "29"
      ]
     },
     "execution_count": 243,
     "metadata": {},
     "output_type": "execute_result"
    }
   ],
   "source": [
    "start_18"
   ]
  },
  {
   "cell_type": "code",
   "execution_count": 244,
   "id": "163d0d26",
   "metadata": {},
   "outputs": [
    {
     "data": {
      "text/plain": [
       "6.9"
      ]
     },
     "execution_count": 244,
     "metadata": {},
     "output_type": "execute_result"
    }
   ],
   "source": [
    "# нахождение доли пользователей, прервавших прохождение уровня\n",
    "round((start_18 - finish_18) / start_18 * 100, 2)"
   ]
  },
  {
   "cell_type": "markdown",
   "id": "f73aa878",
   "metadata": {},
   "source": [
    "6.9% игроков не закончило прохождение данного уровня."
   ]
  },
  {
   "cell_type": "markdown",
   "id": "2b0d886f",
   "metadata": {},
   "source": [
    "Уровень 18 не является \"плохим\", т.к.:\n",
    "- все игроки смогли пройти данный уровень\n",
    "- после прохождения данного уровня никто из игроков не прервал игру"
   ]
  },
  {
   "cell_type": "markdown",
   "id": "1241bbe5",
   "metadata": {},
   "source": [
    "### Уровень 0"
   ]
  },
  {
   "cell_type": "code",
   "execution_count": 245,
   "id": "62387828",
   "metadata": {},
   "outputs": [],
   "source": [
    "# подсчет количества пользователей, (не)прошедших уровень 0\n",
    "win_level_0 = start_levels.query('levelLoop == 0') \\\n",
    "    .groupby(['win', 'stars'], as_index=False) \\\n",
    "    .agg({'user_id':'count'}) \\\n",
    "    .rename(columns={'user_id':'amount_of_users'})"
   ]
  },
  {
   "cell_type": "code",
   "execution_count": 246,
   "id": "60e189c8",
   "metadata": {},
   "outputs": [
    {
     "data": {
      "text/html": [
       "<div>\n",
       "<style scoped>\n",
       "    .dataframe tbody tr th:only-of-type {\n",
       "        vertical-align: middle;\n",
       "    }\n",
       "\n",
       "    .dataframe tbody tr th {\n",
       "        vertical-align: top;\n",
       "    }\n",
       "\n",
       "    .dataframe thead th {\n",
       "        text-align: right;\n",
       "    }\n",
       "</style>\n",
       "<table border=\"1\" class=\"dataframe\">\n",
       "  <thead>\n",
       "    <tr style=\"text-align: right;\">\n",
       "      <th></th>\n",
       "      <th>win</th>\n",
       "      <th>stars</th>\n",
       "      <th>amount_of_users</th>\n",
       "    </tr>\n",
       "  </thead>\n",
       "  <tbody>\n",
       "    <tr>\n",
       "      <th>0</th>\n",
       "      <td>DEFEAT</td>\n",
       "      <td>0</td>\n",
       "      <td>3195</td>\n",
       "    </tr>\n",
       "    <tr>\n",
       "      <th>1</th>\n",
       "      <td>DEFEAT_WITH_BOOSTER</td>\n",
       "      <td>0</td>\n",
       "      <td>301</td>\n",
       "    </tr>\n",
       "    <tr>\n",
       "      <th>2</th>\n",
       "      <td>NONE</td>\n",
       "      <td>0</td>\n",
       "      <td>288</td>\n",
       "    </tr>\n",
       "    <tr>\n",
       "      <th>3</th>\n",
       "      <td>VICTORY</td>\n",
       "      <td>0</td>\n",
       "      <td>2</td>\n",
       "    </tr>\n",
       "    <tr>\n",
       "      <th>4</th>\n",
       "      <td>VICTORY</td>\n",
       "      <td>1</td>\n",
       "      <td>257</td>\n",
       "    </tr>\n",
       "    <tr>\n",
       "      <th>5</th>\n",
       "      <td>VICTORY</td>\n",
       "      <td>2</td>\n",
       "      <td>246</td>\n",
       "    </tr>\n",
       "    <tr>\n",
       "      <th>6</th>\n",
       "      <td>VICTORY</td>\n",
       "      <td>3</td>\n",
       "      <td>1203</td>\n",
       "    </tr>\n",
       "    <tr>\n",
       "      <th>7</th>\n",
       "      <td>VICTORY_WITH_BOOSTER</td>\n",
       "      <td>1</td>\n",
       "      <td>972</td>\n",
       "    </tr>\n",
       "    <tr>\n",
       "      <th>8</th>\n",
       "      <td>VICTORY_WITH_BOOSTER</td>\n",
       "      <td>2</td>\n",
       "      <td>1194</td>\n",
       "    </tr>\n",
       "    <tr>\n",
       "      <th>9</th>\n",
       "      <td>VICTORY_WITH_BOOSTER</td>\n",
       "      <td>3</td>\n",
       "      <td>4933</td>\n",
       "    </tr>\n",
       "  </tbody>\n",
       "</table>\n",
       "</div>"
      ],
      "text/plain": [
       "                    win  stars  amount_of_users\n",
       "0                DEFEAT      0             3195\n",
       "1   DEFEAT_WITH_BOOSTER      0              301\n",
       "2                  NONE      0              288\n",
       "3               VICTORY      0                2\n",
       "4               VICTORY      1              257\n",
       "5               VICTORY      2              246\n",
       "6               VICTORY      3             1203\n",
       "7  VICTORY_WITH_BOOSTER      1              972\n",
       "8  VICTORY_WITH_BOOSTER      2             1194\n",
       "9  VICTORY_WITH_BOOSTER      3             4933"
      ]
     },
     "execution_count": 246,
     "metadata": {},
     "output_type": "execute_result"
    }
   ],
   "source": [
    "win_level_0"
   ]
  },
  {
   "cell_type": "code",
   "execution_count": 247,
   "id": "0e5932ff",
   "metadata": {},
   "outputs": [],
   "source": [
    "# сохранение значений количества игроков, воспользовавшихся бустером, количества проигравших игроков \n",
    "# и количества всех игроков\n",
    "level_0_booster = win_level_0.query('win == \"VICTORY_WITH_BOOSTER\"').amount_of_users.sum()\n",
    "level_0_fail = win_level_0.query('(win == \"DEFEAT_WITH_BOOSTER\") | (win == \"DEFEAT\")').amount_of_users.sum()\n",
    "level_0_all = win_level_0.amount_of_users.sum()"
   ]
  },
  {
   "cell_type": "code",
   "execution_count": 248,
   "id": "b0f00eb4",
   "metadata": {},
   "outputs": [
    {
     "data": {
      "text/plain": [
       "56.38"
      ]
     },
     "execution_count": 248,
     "metadata": {},
     "output_type": "execute_result"
    }
   ],
   "source": [
    "round(level_0_booster / level_0_all * 100, 2)"
   ]
  },
  {
   "cell_type": "code",
   "execution_count": 249,
   "id": "70823554",
   "metadata": {},
   "outputs": [
    {
     "data": {
      "text/plain": [
       "27.77"
      ]
     },
     "execution_count": 249,
     "metadata": {},
     "output_type": "execute_result"
    }
   ],
   "source": [
    "round(level_0_fail / level_0_all * 100, 2)"
   ]
  },
  {
   "cell_type": "markdown",
   "id": "8d43a941",
   "metadata": {},
   "source": [
    "56.38% игроков воспользвались бустером для прохождения данного уровня. 27.77% игроков не смогли пройти данный уровень."
   ]
  },
  {
   "cell_type": "code",
   "execution_count": 250,
   "id": "cf68e9e9",
   "metadata": {},
   "outputs": [
    {
     "data": {
      "text/plain": [
       "count      12.59\n",
       "mean      148.28\n",
       "std      1068.10\n",
       "min        13.75\n",
       "25%        65.88\n",
       "50%        82.51\n",
       "75%       103.85\n",
       "max     73327.66\n",
       "Name: time, dtype: float64"
      ]
     },
     "execution_count": 250,
     "metadata": {},
     "output_type": "execute_result"
    }
   ],
   "source": [
    "# просмотр описательных статистик времени прохождения данного уровня\n",
    "# перевод времени в секунды\n",
    "round(start_levels.query('levelLoop == 0') \\\n",
    "    .time.describe() / 1000, 2)"
   ]
  },
  {
   "cell_type": "markdown",
   "id": "e97f7adf",
   "metadata": {},
   "source": [
    "Медианное время прохождения уровня - 82 секунды - значительно превышает ориентировочное значение в 60 секунд."
   ]
  },
  {
   "cell_type": "code",
   "execution_count": 251,
   "id": "c1fdb55c",
   "metadata": {},
   "outputs": [],
   "source": [
    "# сохранение значения количества игроков, закончивших прохождение 0 уровня, в переменную finish_0\n",
    "finish_0 = start_levels.query('levelLoop == 0').shape[0]"
   ]
  },
  {
   "cell_type": "code",
   "execution_count": 252,
   "id": "e0d3b6f6",
   "metadata": {},
   "outputs": [
    {
     "data": {
      "text/plain": [
       "12591"
      ]
     },
     "execution_count": 252,
     "metadata": {},
     "output_type": "execute_result"
    }
   ],
   "source": [
    "finish_0"
   ]
  },
  {
   "cell_type": "code",
   "execution_count": 253,
   "id": "5b50bdb9",
   "metadata": {},
   "outputs": [],
   "source": [
    "# сохранение значения количества игроков, начавших прохождение 0 уровня, в переменную start_0\n",
    "start_0 = start.query('levelLoop == 0').shape[0]"
   ]
  },
  {
   "cell_type": "code",
   "execution_count": 254,
   "id": "88686a51",
   "metadata": {},
   "outputs": [
    {
     "data": {
      "text/plain": [
       "12693"
      ]
     },
     "execution_count": 254,
     "metadata": {},
     "output_type": "execute_result"
    }
   ],
   "source": [
    "start_0"
   ]
  },
  {
   "cell_type": "code",
   "execution_count": 255,
   "id": "4b77e293",
   "metadata": {},
   "outputs": [
    {
     "data": {
      "text/plain": [
       "0.8"
      ]
     },
     "execution_count": 255,
     "metadata": {},
     "output_type": "execute_result"
    }
   ],
   "source": [
    "# нахождение доли пользователей, прервавших прохождение уровня\n",
    "round((start_0 - finish_0) / start_0 * 100, 2)"
   ]
  },
  {
   "cell_type": "markdown",
   "id": "3d598d6d",
   "metadata": {},
   "source": [
    "0.8% игроков не закончило прохождение данного уровня."
   ]
  },
  {
   "cell_type": "markdown",
   "id": "6289f002",
   "metadata": {},
   "source": [
    "Уровень 0  не является \"плохим\", т.к.:\n",
    "- 0.8% игроков не закончило прохождение данного уровня\n",
    "- данный уровень, вероятно, является вводным, что объясняет высокий процент поражений и использования бустеров"
   ]
  },
  {
   "cell_type": "markdown",
   "id": "7942ce83",
   "metadata": {},
   "source": [
    "## Поиск удачных уровней"
   ]
  },
  {
   "cell_type": "code",
   "execution_count": 256,
   "id": "4591f688",
   "metadata": {},
   "outputs": [],
   "source": [
    "# отбор информации о количестве игроков, завершивших определенный уровень с конкретным результатом\n",
    "levels_status = start_levels.groupby(['levelLoop', 'win'], as_index=False) \\\n",
    "    .agg({'user_id':'count'}) \\\n",
    "    .rename(columns={'user_id':'amount_of_users'})"
   ]
  },
  {
   "cell_type": "code",
   "execution_count": 257,
   "id": "1f2a0124",
   "metadata": {},
   "outputs": [],
   "source": [
    "# отбор информации о количестве игроков, завершивших определенный уровень \n",
    "levels_count = start_levels.groupby('levelLoop') \\\n",
    "    .agg({'user_id':'count'}) \\\n",
    "    .rename(columns={'user_id':'attempt_count'})"
   ]
  },
  {
   "cell_type": "code",
   "execution_count": 258,
   "id": "a44b2596",
   "metadata": {},
   "outputs": [],
   "source": [
    "# объединение датафреймов\n",
    "levels_info = levels_status.merge(levels_count, on='levelLoop')"
   ]
  },
  {
   "cell_type": "code",
   "execution_count": 259,
   "id": "6ef5be72",
   "metadata": {},
   "outputs": [],
   "source": [
    "# создание столбца part_status, содержащего информацию о доле игроков, завершивших определенный уровень с конкретным результатом\n",
    "levels_info['part_status'] = round(levels_info.amount_of_users / levels_info.attempt_count * 100, 2)"
   ]
  },
  {
   "cell_type": "code",
   "execution_count": 260,
   "id": "899a6932",
   "metadata": {},
   "outputs": [
    {
     "data": {
      "text/html": [
       "<div>\n",
       "<style scoped>\n",
       "    .dataframe tbody tr th:only-of-type {\n",
       "        vertical-align: middle;\n",
       "    }\n",
       "\n",
       "    .dataframe tbody tr th {\n",
       "        vertical-align: top;\n",
       "    }\n",
       "\n",
       "    .dataframe thead th {\n",
       "        text-align: right;\n",
       "    }\n",
       "</style>\n",
       "<table border=\"1\" class=\"dataframe\">\n",
       "  <thead>\n",
       "    <tr style=\"text-align: right;\">\n",
       "      <th></th>\n",
       "      <th>levelLoop</th>\n",
       "      <th>win</th>\n",
       "      <th>amount_of_users</th>\n",
       "      <th>attempt_count</th>\n",
       "      <th>part_status</th>\n",
       "    </tr>\n",
       "  </thead>\n",
       "  <tbody>\n",
       "    <tr>\n",
       "      <th>0</th>\n",
       "      <td>0.00</td>\n",
       "      <td>DEFEAT</td>\n",
       "      <td>3195</td>\n",
       "      <td>12591</td>\n",
       "      <td>25.38</td>\n",
       "    </tr>\n",
       "    <tr>\n",
       "      <th>1</th>\n",
       "      <td>0.00</td>\n",
       "      <td>DEFEAT_WITH_BOOSTER</td>\n",
       "      <td>301</td>\n",
       "      <td>12591</td>\n",
       "      <td>2.39</td>\n",
       "    </tr>\n",
       "    <tr>\n",
       "      <th>2</th>\n",
       "      <td>0.00</td>\n",
       "      <td>NONE</td>\n",
       "      <td>288</td>\n",
       "      <td>12591</td>\n",
       "      <td>2.29</td>\n",
       "    </tr>\n",
       "    <tr>\n",
       "      <th>3</th>\n",
       "      <td>0.00</td>\n",
       "      <td>VICTORY</td>\n",
       "      <td>1708</td>\n",
       "      <td>12591</td>\n",
       "      <td>13.57</td>\n",
       "    </tr>\n",
       "    <tr>\n",
       "      <th>4</th>\n",
       "      <td>0.00</td>\n",
       "      <td>VICTORY_WITH_BOOSTER</td>\n",
       "      <td>7099</td>\n",
       "      <td>12591</td>\n",
       "      <td>56.38</td>\n",
       "    </tr>\n",
       "    <tr>\n",
       "      <th>...</th>\n",
       "      <td>...</td>\n",
       "      <td>...</td>\n",
       "      <td>...</td>\n",
       "      <td>...</td>\n",
       "      <td>...</td>\n",
       "    </tr>\n",
       "    <tr>\n",
       "      <th>64</th>\n",
       "      <td>29.00</td>\n",
       "      <td>VICTORY_WITH_BOOSTER</td>\n",
       "      <td>157</td>\n",
       "      <td>282</td>\n",
       "      <td>55.67</td>\n",
       "    </tr>\n",
       "    <tr>\n",
       "      <th>65</th>\n",
       "      <td>30.00</td>\n",
       "      <td>DEFEAT</td>\n",
       "      <td>3</td>\n",
       "      <td>275</td>\n",
       "      <td>1.09</td>\n",
       "    </tr>\n",
       "    <tr>\n",
       "      <th>66</th>\n",
       "      <td>30.00</td>\n",
       "      <td>DEFEAT_WITH_BOOSTER</td>\n",
       "      <td>1</td>\n",
       "      <td>275</td>\n",
       "      <td>0.36</td>\n",
       "    </tr>\n",
       "    <tr>\n",
       "      <th>67</th>\n",
       "      <td>30.00</td>\n",
       "      <td>VICTORY</td>\n",
       "      <td>203</td>\n",
       "      <td>275</td>\n",
       "      <td>73.82</td>\n",
       "    </tr>\n",
       "    <tr>\n",
       "      <th>68</th>\n",
       "      <td>30.00</td>\n",
       "      <td>VICTORY_WITH_BOOSTER</td>\n",
       "      <td>68</td>\n",
       "      <td>275</td>\n",
       "      <td>24.73</td>\n",
       "    </tr>\n",
       "  </tbody>\n",
       "</table>\n",
       "<p>69 rows × 5 columns</p>\n",
       "</div>"
      ],
      "text/plain": [
       "    levelLoop                   win  amount_of_users  attempt_count  \\\n",
       "0        0.00                DEFEAT             3195          12591   \n",
       "1        0.00   DEFEAT_WITH_BOOSTER              301          12591   \n",
       "2        0.00                  NONE              288          12591   \n",
       "3        0.00               VICTORY             1708          12591   \n",
       "4        0.00  VICTORY_WITH_BOOSTER             7099          12591   \n",
       "..        ...                   ...              ...            ...   \n",
       "64      29.00  VICTORY_WITH_BOOSTER              157            282   \n",
       "65      30.00                DEFEAT                3            275   \n",
       "66      30.00   DEFEAT_WITH_BOOSTER                1            275   \n",
       "67      30.00               VICTORY              203            275   \n",
       "68      30.00  VICTORY_WITH_BOOSTER               68            275   \n",
       "\n",
       "    part_status  \n",
       "0         25.38  \n",
       "1          2.39  \n",
       "2          2.29  \n",
       "3         13.57  \n",
       "4         56.38  \n",
       "..          ...  \n",
       "64        55.67  \n",
       "65         1.09  \n",
       "66         0.36  \n",
       "67        73.82  \n",
       "68        24.73  \n",
       "\n",
       "[69 rows x 5 columns]"
      ]
     },
     "execution_count": 260,
     "metadata": {},
     "output_type": "execute_result"
    }
   ],
   "source": [
    "levels_info"
   ]
  },
  {
   "cell_type": "code",
   "execution_count": 261,
   "id": "3f1717d1",
   "metadata": {},
   "outputs": [],
   "source": [
    "# отбор только записей с результатом VICTORY\n",
    "win = levels_info.query('win == \"VICTORY\"') \\\n",
    "    .sort_values(by='part_status', ascending=False)"
   ]
  },
  {
   "cell_type": "code",
   "execution_count": 262,
   "id": "eb2cb374",
   "metadata": {},
   "outputs": [
    {
     "data": {
      "text/html": [
       "<div>\n",
       "<style scoped>\n",
       "    .dataframe tbody tr th:only-of-type {\n",
       "        vertical-align: middle;\n",
       "    }\n",
       "\n",
       "    .dataframe tbody tr th {\n",
       "        vertical-align: top;\n",
       "    }\n",
       "\n",
       "    .dataframe thead th {\n",
       "        text-align: right;\n",
       "    }\n",
       "</style>\n",
       "<table border=\"1\" class=\"dataframe\">\n",
       "  <thead>\n",
       "    <tr style=\"text-align: right;\">\n",
       "      <th></th>\n",
       "      <th>levelLoop</th>\n",
       "      <th>win</th>\n",
       "      <th>amount_of_users</th>\n",
       "      <th>attempt_count</th>\n",
       "      <th>part_status</th>\n",
       "    </tr>\n",
       "  </thead>\n",
       "  <tbody>\n",
       "    <tr>\n",
       "      <th>20</th>\n",
       "      <td>9.00</td>\n",
       "      <td>VICTORY</td>\n",
       "      <td>2</td>\n",
       "      <td>2</td>\n",
       "      <td>100.00</td>\n",
       "    </tr>\n",
       "    <tr>\n",
       "      <th>6</th>\n",
       "      <td>1.00</td>\n",
       "      <td>VICTORY</td>\n",
       "      <td>330</td>\n",
       "      <td>336</td>\n",
       "      <td>98.21</td>\n",
       "    </tr>\n",
       "    <tr>\n",
       "      <th>24</th>\n",
       "      <td>12.00</td>\n",
       "      <td>VICTORY</td>\n",
       "      <td>277</td>\n",
       "      <td>296</td>\n",
       "      <td>93.58</td>\n",
       "    </tr>\n",
       "    <tr>\n",
       "      <th>37</th>\n",
       "      <td>16.00</td>\n",
       "      <td>VICTORY</td>\n",
       "      <td>151</td>\n",
       "      <td>167</td>\n",
       "      <td>90.42</td>\n",
       "    </tr>\n",
       "    <tr>\n",
       "      <th>18</th>\n",
       "      <td>8.00</td>\n",
       "      <td>VICTORY</td>\n",
       "      <td>273</td>\n",
       "      <td>302</td>\n",
       "      <td>90.40</td>\n",
       "    </tr>\n",
       "    <tr>\n",
       "      <th>22</th>\n",
       "      <td>11.00</td>\n",
       "      <td>VICTORY</td>\n",
       "      <td>267</td>\n",
       "      <td>300</td>\n",
       "      <td>89.00</td>\n",
       "    </tr>\n",
       "    <tr>\n",
       "      <th>31</th>\n",
       "      <td>14.00</td>\n",
       "      <td>VICTORY</td>\n",
       "      <td>251</td>\n",
       "      <td>285</td>\n",
       "      <td>88.07</td>\n",
       "    </tr>\n",
       "    <tr>\n",
       "      <th>33</th>\n",
       "      <td>15.00</td>\n",
       "      <td>VICTORY</td>\n",
       "      <td>216</td>\n",
       "      <td>248</td>\n",
       "      <td>87.10</td>\n",
       "    </tr>\n",
       "    <tr>\n",
       "      <th>15</th>\n",
       "      <td>7.00</td>\n",
       "      <td>VICTORY</td>\n",
       "      <td>260</td>\n",
       "      <td>309</td>\n",
       "      <td>84.14</td>\n",
       "    </tr>\n",
       "    <tr>\n",
       "      <th>44</th>\n",
       "      <td>19.00</td>\n",
       "      <td>VICTORY</td>\n",
       "      <td>10</td>\n",
       "      <td>12</td>\n",
       "      <td>83.33</td>\n",
       "    </tr>\n",
       "    <tr>\n",
       "      <th>11</th>\n",
       "      <td>6.00</td>\n",
       "      <td>VICTORY</td>\n",
       "      <td>259</td>\n",
       "      <td>315</td>\n",
       "      <td>82.22</td>\n",
       "    </tr>\n",
       "    <tr>\n",
       "      <th>40</th>\n",
       "      <td>17.00</td>\n",
       "      <td>VICTORY</td>\n",
       "      <td>55</td>\n",
       "      <td>68</td>\n",
       "      <td>80.88</td>\n",
       "    </tr>\n",
       "    <tr>\n",
       "      <th>67</th>\n",
       "      <td>30.00</td>\n",
       "      <td>VICTORY</td>\n",
       "      <td>203</td>\n",
       "      <td>275</td>\n",
       "      <td>73.82</td>\n",
       "    </tr>\n",
       "    <tr>\n",
       "      <th>42</th>\n",
       "      <td>18.00</td>\n",
       "      <td>VICTORY</td>\n",
       "      <td>18</td>\n",
       "      <td>27</td>\n",
       "      <td>66.67</td>\n",
       "    </tr>\n",
       "    <tr>\n",
       "      <th>54</th>\n",
       "      <td>24.00</td>\n",
       "      <td>VICTORY</td>\n",
       "      <td>2</td>\n",
       "      <td>3</td>\n",
       "      <td>66.67</td>\n",
       "    </tr>\n",
       "    <tr>\n",
       "      <th>48</th>\n",
       "      <td>21.00</td>\n",
       "      <td>VICTORY</td>\n",
       "      <td>3</td>\n",
       "      <td>5</td>\n",
       "      <td>60.00</td>\n",
       "    </tr>\n",
       "    <tr>\n",
       "      <th>46</th>\n",
       "      <td>20.00</td>\n",
       "      <td>VICTORY</td>\n",
       "      <td>4</td>\n",
       "      <td>7</td>\n",
       "      <td>57.14</td>\n",
       "    </tr>\n",
       "    <tr>\n",
       "      <th>58</th>\n",
       "      <td>26.00</td>\n",
       "      <td>VICTORY</td>\n",
       "      <td>1</td>\n",
       "      <td>2</td>\n",
       "      <td>50.00</td>\n",
       "    </tr>\n",
       "    <tr>\n",
       "      <th>28</th>\n",
       "      <td>13.00</td>\n",
       "      <td>VICTORY</td>\n",
       "      <td>122</td>\n",
       "      <td>291</td>\n",
       "      <td>41.92</td>\n",
       "    </tr>\n",
       "    <tr>\n",
       "      <th>63</th>\n",
       "      <td>29.00</td>\n",
       "      <td>VICTORY</td>\n",
       "      <td>114</td>\n",
       "      <td>282</td>\n",
       "      <td>40.43</td>\n",
       "    </tr>\n",
       "    <tr>\n",
       "      <th>50</th>\n",
       "      <td>22.00</td>\n",
       "      <td>VICTORY</td>\n",
       "      <td>1</td>\n",
       "      <td>3</td>\n",
       "      <td>33.33</td>\n",
       "    </tr>\n",
       "    <tr>\n",
       "      <th>52</th>\n",
       "      <td>23.00</td>\n",
       "      <td>VICTORY</td>\n",
       "      <td>1</td>\n",
       "      <td>3</td>\n",
       "      <td>33.33</td>\n",
       "    </tr>\n",
       "    <tr>\n",
       "      <th>3</th>\n",
       "      <td>0.00</td>\n",
       "      <td>VICTORY</td>\n",
       "      <td>1708</td>\n",
       "      <td>12591</td>\n",
       "      <td>13.57</td>\n",
       "    </tr>\n",
       "  </tbody>\n",
       "</table>\n",
       "</div>"
      ],
      "text/plain": [
       "    levelLoop      win  amount_of_users  attempt_count  part_status\n",
       "20       9.00  VICTORY                2              2       100.00\n",
       "6        1.00  VICTORY              330            336        98.21\n",
       "24      12.00  VICTORY              277            296        93.58\n",
       "37      16.00  VICTORY              151            167        90.42\n",
       "18       8.00  VICTORY              273            302        90.40\n",
       "22      11.00  VICTORY              267            300        89.00\n",
       "31      14.00  VICTORY              251            285        88.07\n",
       "33      15.00  VICTORY              216            248        87.10\n",
       "15       7.00  VICTORY              260            309        84.14\n",
       "44      19.00  VICTORY               10             12        83.33\n",
       "11       6.00  VICTORY              259            315        82.22\n",
       "40      17.00  VICTORY               55             68        80.88\n",
       "67      30.00  VICTORY              203            275        73.82\n",
       "42      18.00  VICTORY               18             27        66.67\n",
       "54      24.00  VICTORY                2              3        66.67\n",
       "48      21.00  VICTORY                3              5        60.00\n",
       "46      20.00  VICTORY                4              7        57.14\n",
       "58      26.00  VICTORY                1              2        50.00\n",
       "28      13.00  VICTORY              122            291        41.92\n",
       "63      29.00  VICTORY              114            282        40.43\n",
       "50      22.00  VICTORY                1              3        33.33\n",
       "52      23.00  VICTORY                1              3        33.33\n",
       "3        0.00  VICTORY             1708          12591        13.57"
      ]
     },
     "execution_count": 262,
     "metadata": {},
     "output_type": "execute_result"
    }
   ],
   "source": [
    "win"
   ]
  },
  {
   "cell_type": "markdown",
   "id": "9bd46d01",
   "metadata": {},
   "source": [
    "Уровни 9, 1, 12, 16, 8 - потенциально хороши, поскольку доля пользователей, завершивших данные уровни победой, превышает 90%. Однако с уровнем 9 взаимодействовало лишь 2 пользователя => этих данных не хватит для анализа, собрано слишком мало информации для исследования."
   ]
  },
  {
   "cell_type": "markdown",
   "id": "360e0d5e",
   "metadata": {},
   "source": [
    "### Уровень 1"
   ]
  },
  {
   "cell_type": "code",
   "execution_count": 263,
   "id": "3060c663",
   "metadata": {},
   "outputs": [],
   "source": [
    "# подсчет количества пользователей, (не)прошедших уровень 1\n",
    "win_level_1 = start_levels.query('levelLoop == 1') \\\n",
    "    .groupby(['win', 'stars'], as_index=False) \\\n",
    "    .agg({'user_id':'count'}) \\\n",
    "    .rename(columns={'user_id':'amount_of_users'})"
   ]
  },
  {
   "cell_type": "code",
   "execution_count": 264,
   "id": "27542001",
   "metadata": {},
   "outputs": [
    {
     "data": {
      "text/html": [
       "<div>\n",
       "<style scoped>\n",
       "    .dataframe tbody tr th:only-of-type {\n",
       "        vertical-align: middle;\n",
       "    }\n",
       "\n",
       "    .dataframe tbody tr th {\n",
       "        vertical-align: top;\n",
       "    }\n",
       "\n",
       "    .dataframe thead th {\n",
       "        text-align: right;\n",
       "    }\n",
       "</style>\n",
       "<table border=\"1\" class=\"dataframe\">\n",
       "  <thead>\n",
       "    <tr style=\"text-align: right;\">\n",
       "      <th></th>\n",
       "      <th>win</th>\n",
       "      <th>stars</th>\n",
       "      <th>amount_of_users</th>\n",
       "    </tr>\n",
       "  </thead>\n",
       "  <tbody>\n",
       "    <tr>\n",
       "      <th>0</th>\n",
       "      <td>NONE</td>\n",
       "      <td>0</td>\n",
       "      <td>2</td>\n",
       "    </tr>\n",
       "    <tr>\n",
       "      <th>1</th>\n",
       "      <td>VICTORY</td>\n",
       "      <td>4</td>\n",
       "      <td>1</td>\n",
       "    </tr>\n",
       "    <tr>\n",
       "      <th>2</th>\n",
       "      <td>VICTORY</td>\n",
       "      <td>5</td>\n",
       "      <td>329</td>\n",
       "    </tr>\n",
       "    <tr>\n",
       "      <th>3</th>\n",
       "      <td>VICTORY_WITH_BOOSTER</td>\n",
       "      <td>2</td>\n",
       "      <td>1</td>\n",
       "    </tr>\n",
       "    <tr>\n",
       "      <th>4</th>\n",
       "      <td>VICTORY_WITH_BOOSTER</td>\n",
       "      <td>3</td>\n",
       "      <td>1</td>\n",
       "    </tr>\n",
       "    <tr>\n",
       "      <th>5</th>\n",
       "      <td>VICTORY_WITH_BOOSTER</td>\n",
       "      <td>5</td>\n",
       "      <td>2</td>\n",
       "    </tr>\n",
       "  </tbody>\n",
       "</table>\n",
       "</div>"
      ],
      "text/plain": [
       "                    win  stars  amount_of_users\n",
       "0                  NONE      0                2\n",
       "1               VICTORY      4                1\n",
       "2               VICTORY      5              329\n",
       "3  VICTORY_WITH_BOOSTER      2                1\n",
       "4  VICTORY_WITH_BOOSTER      3                1\n",
       "5  VICTORY_WITH_BOOSTER      5                2"
      ]
     },
     "execution_count": 264,
     "metadata": {},
     "output_type": "execute_result"
    }
   ],
   "source": [
    "win_level_1"
   ]
  },
  {
   "cell_type": "code",
   "execution_count": 265,
   "id": "a05d51e8",
   "metadata": {},
   "outputs": [],
   "source": [
    "# сохранение значений количества игроков, воспользовавшихся бустером, количества проигравших игроков \n",
    "# и количества всех игроков\n",
    "level_1_booster = win_level_1.query('win == \"VICTORY_WITH_BOOSTER\"').amount_of_users.sum()\n",
    "level_1_fail = win_level_1.query('(win == \"DEFEAT_WITH_BOOSTER\") | (win == \"DEFEAT\")').amount_of_users.sum()\n",
    "level_1_all = win_level_1.amount_of_users.sum()"
   ]
  },
  {
   "cell_type": "code",
   "execution_count": 266,
   "id": "78675b3d",
   "metadata": {},
   "outputs": [
    {
     "data": {
      "text/plain": [
       "1.19"
      ]
     },
     "execution_count": 266,
     "metadata": {},
     "output_type": "execute_result"
    }
   ],
   "source": [
    "round(level_1_booster / level_1_all * 100, 2)"
   ]
  },
  {
   "cell_type": "code",
   "execution_count": 267,
   "id": "6fec50b6",
   "metadata": {},
   "outputs": [
    {
     "data": {
      "text/plain": [
       "0.0"
      ]
     },
     "execution_count": 267,
     "metadata": {},
     "output_type": "execute_result"
    }
   ],
   "source": [
    "round(level_1_fail / level_1_all * 100, 2)"
   ]
  },
  {
   "cell_type": "markdown",
   "id": "b403dd5d",
   "metadata": {},
   "source": [
    "1.19% игроков воспользовались бустером для прохождения данного уровня. Все игроки успешно завершили прохождение уровня (результат - победа)."
   ]
  },
  {
   "cell_type": "code",
   "execution_count": 268,
   "id": "040aa285",
   "metadata": {},
   "outputs": [
    {
     "data": {
      "text/plain": [
       "count      0.34\n",
       "mean      51.79\n",
       "std       78.04\n",
       "min       27.00\n",
       "25%       31.35\n",
       "50%       36.40\n",
       "75%       44.26\n",
       "max     1054.14\n",
       "Name: time, dtype: float64"
      ]
     },
     "execution_count": 268,
     "metadata": {},
     "output_type": "execute_result"
    }
   ],
   "source": [
    "# просмотр описательных статистик времени прохождения данного уровня\n",
    "# перевод времени в секунды\n",
    "round(start_levels.query('levelLoop == 1') \\\n",
    "    .time.describe() / 1000, 2)"
   ]
  },
  {
   "cell_type": "markdown",
   "id": "fb721c92",
   "metadata": {},
   "source": [
    "Медианное время прохождения уровня - 36 секунд - значительно меньше ориентировочного значения в 60 секунд.\n",
    "Это хорошо, поскольку пользователям нравится, когда получается проходить уровни быстро."
   ]
  },
  {
   "cell_type": "code",
   "execution_count": 269,
   "id": "cd018a78",
   "metadata": {},
   "outputs": [],
   "source": [
    "# отбор всех игроков, (не)прошедших данный уровень\n",
    "users_1 = start_levels.query('levelLoop == 1') \\\n",
    "    .user_id.unique().tolist()"
   ]
  },
  {
   "cell_type": "code",
   "execution_count": 270,
   "id": "58ee76de",
   "metadata": {
    "scrolled": true
   },
   "outputs": [
    {
     "name": "stdout",
     "output_type": "stream",
     "text": [
      "Продолжили игру 317 игроков\n",
      "Прервали игру 18 игроков\n"
     ]
    }
   ],
   "source": [
    "# продолжили пользователи игру после прохождения 1-го уровня или нет\n",
    "continued = 0\n",
    "fail = 0\n",
    "for i in users_1:\n",
    "    work_state = start_levels[(start_levels.user_id == i) & (start_levels.levelLoop == 1)].level_y.unique().tolist()\n",
    "    max_state = start_levels[start_levels.user_id == i].level_y.max()\n",
    "    if work_state < max_state:\n",
    "        continued += 1\n",
    "    else:\n",
    "        fail += 1\n",
    "        \n",
    "print('Продолжили игру ' + str(continued) + ' игроков')\n",
    "print('Прервали игру ' + str(fail) + ' игроков')"
   ]
  },
  {
   "cell_type": "code",
   "execution_count": 271,
   "id": "08de9d78",
   "metadata": {},
   "outputs": [],
   "source": [
    "# сохранение значения количества игроков, закончивших прохождение 1 уровня, в переменную finish_1\n",
    "finish_1 = start_levels.query('levelLoop == 1').shape[0]"
   ]
  },
  {
   "cell_type": "code",
   "execution_count": 272,
   "id": "a925c55f",
   "metadata": {},
   "outputs": [
    {
     "data": {
      "text/plain": [
       "336"
      ]
     },
     "execution_count": 272,
     "metadata": {},
     "output_type": "execute_result"
    }
   ],
   "source": [
    "finish_1"
   ]
  },
  {
   "cell_type": "code",
   "execution_count": 273,
   "id": "27ea1ece",
   "metadata": {},
   "outputs": [
    {
     "data": {
      "text/plain": [
       "5.36"
      ]
     },
     "execution_count": 273,
     "metadata": {},
     "output_type": "execute_result"
    }
   ],
   "source": [
    "# расчёт доли игроков, прервавших игру после прохождения данного уровня\n",
    "round(fail / finish_1 * 100, 2)"
   ]
  },
  {
   "cell_type": "markdown",
   "id": "0ada0232",
   "metadata": {},
   "source": [
    "После прохождения данного уровня 5.36% игроков прервало игру."
   ]
  },
  {
   "cell_type": "code",
   "execution_count": 274,
   "id": "ffd90d67",
   "metadata": {},
   "outputs": [],
   "source": [
    "# сохранение значения количества игроков, начавших прохождение 1 уровня, в переменную start_1\n",
    "start_1 = start.query('levelLoop == 1').shape[0]"
   ]
  },
  {
   "cell_type": "code",
   "execution_count": 275,
   "id": "e4ab6bcc",
   "metadata": {},
   "outputs": [
    {
     "data": {
      "text/plain": [
       "374"
      ]
     },
     "execution_count": 275,
     "metadata": {},
     "output_type": "execute_result"
    }
   ],
   "source": [
    "start_1"
   ]
  },
  {
   "cell_type": "code",
   "execution_count": 276,
   "id": "d641afad",
   "metadata": {},
   "outputs": [
    {
     "data": {
      "text/plain": [
       "10.16"
      ]
     },
     "execution_count": 276,
     "metadata": {},
     "output_type": "execute_result"
    }
   ],
   "source": [
    "# нахождение доли пользователей, прервавших прохождение уровня\n",
    "round((start_1 - finish_1) / start_1 * 100, 2)"
   ]
  },
  {
   "cell_type": "markdown",
   "id": "14fc3b3e",
   "metadata": {},
   "source": [
    "10.16% игроков прервало прохождение уровня."
   ]
  },
  {
   "cell_type": "markdown",
   "id": "9c407956",
   "metadata": {},
   "source": [
    "Уровень 1 является \"плохим\" (несмотря на то, что все игроки успешно его прошли), т.к.:\n",
    "- после прохождения данного уровня 5.36% игроков прервало игру\n",
    "- 10.16% игроков прервало прохождение уровня"
   ]
  },
  {
   "cell_type": "markdown",
   "id": "04b24722",
   "metadata": {},
   "source": [
    "### Уровень 12"
   ]
  },
  {
   "cell_type": "code",
   "execution_count": 277,
   "id": "33f21fc5",
   "metadata": {},
   "outputs": [],
   "source": [
    "# подсчет количества пользователей, (не)прошедших уровень 12\n",
    "win_level_12 = start_levels.query('levelLoop == 12') \\\n",
    "    .groupby(['win', 'stars'], as_index=False) \\\n",
    "    .agg({'user_id':'count'}) \\\n",
    "    .rename(columns={'user_id':'amount_of_users'})"
   ]
  },
  {
   "cell_type": "code",
   "execution_count": 278,
   "id": "e4cb950f",
   "metadata": {},
   "outputs": [
    {
     "data": {
      "text/html": [
       "<div>\n",
       "<style scoped>\n",
       "    .dataframe tbody tr th:only-of-type {\n",
       "        vertical-align: middle;\n",
       "    }\n",
       "\n",
       "    .dataframe tbody tr th {\n",
       "        vertical-align: top;\n",
       "    }\n",
       "\n",
       "    .dataframe thead th {\n",
       "        text-align: right;\n",
       "    }\n",
       "</style>\n",
       "<table border=\"1\" class=\"dataframe\">\n",
       "  <thead>\n",
       "    <tr style=\"text-align: right;\">\n",
       "      <th></th>\n",
       "      <th>win</th>\n",
       "      <th>stars</th>\n",
       "      <th>amount_of_users</th>\n",
       "    </tr>\n",
       "  </thead>\n",
       "  <tbody>\n",
       "    <tr>\n",
       "      <th>0</th>\n",
       "      <td>VICTORY</td>\n",
       "      <td>0</td>\n",
       "      <td>12</td>\n",
       "    </tr>\n",
       "    <tr>\n",
       "      <th>1</th>\n",
       "      <td>VICTORY</td>\n",
       "      <td>1</td>\n",
       "      <td>139</td>\n",
       "    </tr>\n",
       "    <tr>\n",
       "      <th>2</th>\n",
       "      <td>VICTORY</td>\n",
       "      <td>2</td>\n",
       "      <td>119</td>\n",
       "    </tr>\n",
       "    <tr>\n",
       "      <th>3</th>\n",
       "      <td>VICTORY</td>\n",
       "      <td>3</td>\n",
       "      <td>7</td>\n",
       "    </tr>\n",
       "    <tr>\n",
       "      <th>4</th>\n",
       "      <td>VICTORY_WITH_BOOSTER</td>\n",
       "      <td>1</td>\n",
       "      <td>6</td>\n",
       "    </tr>\n",
       "    <tr>\n",
       "      <th>5</th>\n",
       "      <td>VICTORY_WITH_BOOSTER</td>\n",
       "      <td>2</td>\n",
       "      <td>7</td>\n",
       "    </tr>\n",
       "    <tr>\n",
       "      <th>6</th>\n",
       "      <td>VICTORY_WITH_BOOSTER</td>\n",
       "      <td>3</td>\n",
       "      <td>5</td>\n",
       "    </tr>\n",
       "    <tr>\n",
       "      <th>7</th>\n",
       "      <td>VICTORY_WITH_BOOSTER</td>\n",
       "      <td>4</td>\n",
       "      <td>1</td>\n",
       "    </tr>\n",
       "  </tbody>\n",
       "</table>\n",
       "</div>"
      ],
      "text/plain": [
       "                    win  stars  amount_of_users\n",
       "0               VICTORY      0               12\n",
       "1               VICTORY      1              139\n",
       "2               VICTORY      2              119\n",
       "3               VICTORY      3                7\n",
       "4  VICTORY_WITH_BOOSTER      1                6\n",
       "5  VICTORY_WITH_BOOSTER      2                7\n",
       "6  VICTORY_WITH_BOOSTER      3                5\n",
       "7  VICTORY_WITH_BOOSTER      4                1"
      ]
     },
     "execution_count": 278,
     "metadata": {},
     "output_type": "execute_result"
    }
   ],
   "source": [
    "win_level_12"
   ]
  },
  {
   "cell_type": "code",
   "execution_count": 279,
   "id": "45f94b4f",
   "metadata": {},
   "outputs": [],
   "source": [
    "# сохранение значений количества игроков, воспользовавшихся бустером, количества проигравших игроков \n",
    "# и количества всех игроков\n",
    "level_12_booster = win_level_12.query('win == \"VICTORY_WITH_BOOSTER\"').amount_of_users.sum()\n",
    "level_12_fail = win_level_12.query('(win == \"DEFEAT_WITH_BOOSTER\") | (win == \"DEFEAT\")').amount_of_users.sum()\n",
    "level_12_all = win_level_12.amount_of_users.sum()"
   ]
  },
  {
   "cell_type": "code",
   "execution_count": 280,
   "id": "d97e8f70",
   "metadata": {},
   "outputs": [
    {
     "data": {
      "text/plain": [
       "6.42"
      ]
     },
     "execution_count": 280,
     "metadata": {},
     "output_type": "execute_result"
    }
   ],
   "source": [
    "round(level_12_booster / level_12_all * 100, 2)"
   ]
  },
  {
   "cell_type": "code",
   "execution_count": 281,
   "id": "387e39cb",
   "metadata": {},
   "outputs": [
    {
     "data": {
      "text/plain": [
       "0.0"
      ]
     },
     "execution_count": 281,
     "metadata": {},
     "output_type": "execute_result"
    }
   ],
   "source": [
    "round(level_12_fail / level_12_all * 100, 2)"
   ]
  },
  {
   "cell_type": "markdown",
   "id": "f70d07db",
   "metadata": {},
   "source": [
    "6.42% игроков воспользвались бустером для прохождения данного уровня. Все игроки успешно завершили прохождение уровня (результат - победа)."
   ]
  },
  {
   "cell_type": "code",
   "execution_count": 282,
   "id": "e84df68c",
   "metadata": {},
   "outputs": [
    {
     "data": {
      "text/plain": [
       "count     0.30\n",
       "mean     65.58\n",
       "std      37.75\n",
       "min      31.73\n",
       "25%      47.42\n",
       "50%      57.35\n",
       "75%      72.63\n",
       "max     363.11\n",
       "Name: time, dtype: float64"
      ]
     },
     "execution_count": 282,
     "metadata": {},
     "output_type": "execute_result"
    }
   ],
   "source": [
    "# просмотр описательных статистик времени прохождения данного уровня\n",
    "# перевод времени в секунды\n",
    "round(start_levels.query('levelLoop == 12') \\\n",
    "    .time.describe() / 1000, 2)"
   ]
  },
  {
   "cell_type": "markdown",
   "id": "eec31434",
   "metadata": {},
   "source": [
    "Медианное время прохождения уровня - 57 секунд - стандартное."
   ]
  },
  {
   "cell_type": "code",
   "execution_count": 283,
   "id": "bb4eb688",
   "metadata": {},
   "outputs": [],
   "source": [
    "# отбор всех игроков, (не)прошедших данный уровень\n",
    "users_12 = start_levels.query('levelLoop == 12') \\\n",
    "    .user_id.unique().tolist()"
   ]
  },
  {
   "cell_type": "code",
   "execution_count": 284,
   "id": "70638952",
   "metadata": {},
   "outputs": [
    {
     "name": "stdout",
     "output_type": "stream",
     "text": [
      "Продолжили игру 292 игроков\n",
      "Прервали игру 4 игрока\n"
     ]
    }
   ],
   "source": [
    "# продолжили пользователи игру после прохождения 12-го уровня или нет\n",
    "continued = 0\n",
    "fail = 0\n",
    "for i in users_12:\n",
    "    work_state = start_levels[(start_levels.user_id == i) & (start_levels.levelLoop == 12)].level_y.tolist()\n",
    "    max_state = start_levels[start_levels.user_id == i].level_y.max()\n",
    "    if work_state < max_state:\n",
    "        continued += 1\n",
    "    else:\n",
    "        fail += 1\n",
    "        \n",
    "print('Продолжили игру ' + str(continued) + ' игроков')\n",
    "print('Прервали игру ' + str(fail) + ' игрока')"
   ]
  },
  {
   "cell_type": "code",
   "execution_count": 285,
   "id": "2015d630",
   "metadata": {},
   "outputs": [],
   "source": [
    "# сохранение значения количества игроков, закончивших прохождение 12 уровня, в переменную finish_12\n",
    "finish_12 = start_levels.query('levelLoop == 12').shape[0]"
   ]
  },
  {
   "cell_type": "code",
   "execution_count": 286,
   "id": "67380565",
   "metadata": {},
   "outputs": [
    {
     "data": {
      "text/plain": [
       "296"
      ]
     },
     "execution_count": 286,
     "metadata": {},
     "output_type": "execute_result"
    }
   ],
   "source": [
    "finish_12"
   ]
  },
  {
   "cell_type": "code",
   "execution_count": 287,
   "id": "badc0503",
   "metadata": {},
   "outputs": [
    {
     "data": {
      "text/plain": [
       "1.35"
      ]
     },
     "execution_count": 287,
     "metadata": {},
     "output_type": "execute_result"
    }
   ],
   "source": [
    "# расчёт доли игроков, прервавших игру после прохождения данного уровня\n",
    "round(fail / finish_12 * 100, 2)"
   ]
  },
  {
   "cell_type": "markdown",
   "id": "1598041f",
   "metadata": {},
   "source": [
    "После прохождения данного уровня 1.35% игроков прервали игру."
   ]
  },
  {
   "cell_type": "code",
   "execution_count": 288,
   "id": "ca05b581",
   "metadata": {},
   "outputs": [],
   "source": [
    "# сохранение значения количества игроков, начавших прохождение 12 уровня, в переменную start_12\n",
    "start_12 = start.query('levelLoop == 12').shape[0]"
   ]
  },
  {
   "cell_type": "code",
   "execution_count": 289,
   "id": "1f7d28a9",
   "metadata": {},
   "outputs": [
    {
     "data": {
      "text/plain": [
       "302"
      ]
     },
     "execution_count": 289,
     "metadata": {},
     "output_type": "execute_result"
    }
   ],
   "source": [
    "start_12"
   ]
  },
  {
   "cell_type": "code",
   "execution_count": 290,
   "id": "74a7b9a0",
   "metadata": {},
   "outputs": [
    {
     "data": {
      "text/plain": [
       "1.99"
      ]
     },
     "execution_count": 290,
     "metadata": {},
     "output_type": "execute_result"
    }
   ],
   "source": [
    "# нахождение доли пользователей, прервавших прохождение уровня\n",
    "round((start_12 - finish_12) / start_12 * 100, 2)"
   ]
  },
  {
   "cell_type": "markdown",
   "id": "15d5910f",
   "metadata": {},
   "source": [
    "1.99% игроков не закончили прохождение уровня."
   ]
  },
  {
   "cell_type": "markdown",
   "id": "3b53e7e6",
   "metadata": {},
   "source": [
    "Уровень 12 является хорошим, т.к.:\n",
    "- все игроки успешно прошли данный уровень (результат - победа)\n",
    "- доля игроков, не закончивших прохождение уровня или прервавших игру, незначительна"
   ]
  },
  {
   "cell_type": "markdown",
   "id": "882f8f82",
   "metadata": {},
   "source": [
    "### Уровень 16"
   ]
  },
  {
   "cell_type": "code",
   "execution_count": 291,
   "id": "9f812aac",
   "metadata": {},
   "outputs": [],
   "source": [
    "# подсчет количества пользователей, (не)прошедших уровень 16\n",
    "win_level_16 = start_levels.query('levelLoop == 16') \\\n",
    "    .groupby(['win', 'stars'], as_index=False) \\\n",
    "    .agg({'user_id':'count'}) \\\n",
    "    .rename(columns={'user_id':'amount_of_users'})"
   ]
  },
  {
   "cell_type": "code",
   "execution_count": 292,
   "id": "db395edb",
   "metadata": {},
   "outputs": [
    {
     "data": {
      "text/html": [
       "<div>\n",
       "<style scoped>\n",
       "    .dataframe tbody tr th:only-of-type {\n",
       "        vertical-align: middle;\n",
       "    }\n",
       "\n",
       "    .dataframe tbody tr th {\n",
       "        vertical-align: top;\n",
       "    }\n",
       "\n",
       "    .dataframe thead th {\n",
       "        text-align: right;\n",
       "    }\n",
       "</style>\n",
       "<table border=\"1\" class=\"dataframe\">\n",
       "  <thead>\n",
       "    <tr style=\"text-align: right;\">\n",
       "      <th></th>\n",
       "      <th>win</th>\n",
       "      <th>stars</th>\n",
       "      <th>amount_of_users</th>\n",
       "    </tr>\n",
       "  </thead>\n",
       "  <tbody>\n",
       "    <tr>\n",
       "      <th>0</th>\n",
       "      <td>DEFEAT</td>\n",
       "      <td>0</td>\n",
       "      <td>1</td>\n",
       "    </tr>\n",
       "    <tr>\n",
       "      <th>1</th>\n",
       "      <td>DEFEAT_WITH_BOOSTER</td>\n",
       "      <td>0</td>\n",
       "      <td>1</td>\n",
       "    </tr>\n",
       "    <tr>\n",
       "      <th>2</th>\n",
       "      <td>VICTORY</td>\n",
       "      <td>0</td>\n",
       "      <td>2</td>\n",
       "    </tr>\n",
       "    <tr>\n",
       "      <th>3</th>\n",
       "      <td>VICTORY</td>\n",
       "      <td>1</td>\n",
       "      <td>36</td>\n",
       "    </tr>\n",
       "    <tr>\n",
       "      <th>4</th>\n",
       "      <td>VICTORY</td>\n",
       "      <td>2</td>\n",
       "      <td>93</td>\n",
       "    </tr>\n",
       "    <tr>\n",
       "      <th>5</th>\n",
       "      <td>VICTORY</td>\n",
       "      <td>3</td>\n",
       "      <td>18</td>\n",
       "    </tr>\n",
       "    <tr>\n",
       "      <th>6</th>\n",
       "      <td>VICTORY</td>\n",
       "      <td>4</td>\n",
       "      <td>1</td>\n",
       "    </tr>\n",
       "    <tr>\n",
       "      <th>7</th>\n",
       "      <td>VICTORY</td>\n",
       "      <td>6</td>\n",
       "      <td>1</td>\n",
       "    </tr>\n",
       "    <tr>\n",
       "      <th>8</th>\n",
       "      <td>VICTORY_WITH_BOOSTER</td>\n",
       "      <td>1</td>\n",
       "      <td>4</td>\n",
       "    </tr>\n",
       "    <tr>\n",
       "      <th>9</th>\n",
       "      <td>VICTORY_WITH_BOOSTER</td>\n",
       "      <td>2</td>\n",
       "      <td>7</td>\n",
       "    </tr>\n",
       "    <tr>\n",
       "      <th>10</th>\n",
       "      <td>VICTORY_WITH_BOOSTER</td>\n",
       "      <td>3</td>\n",
       "      <td>3</td>\n",
       "    </tr>\n",
       "  </tbody>\n",
       "</table>\n",
       "</div>"
      ],
      "text/plain": [
       "                     win  stars  amount_of_users\n",
       "0                 DEFEAT      0                1\n",
       "1    DEFEAT_WITH_BOOSTER      0                1\n",
       "2                VICTORY      0                2\n",
       "3                VICTORY      1               36\n",
       "4                VICTORY      2               93\n",
       "5                VICTORY      3               18\n",
       "6                VICTORY      4                1\n",
       "7                VICTORY      6                1\n",
       "8   VICTORY_WITH_BOOSTER      1                4\n",
       "9   VICTORY_WITH_BOOSTER      2                7\n",
       "10  VICTORY_WITH_BOOSTER      3                3"
      ]
     },
     "execution_count": 292,
     "metadata": {},
     "output_type": "execute_result"
    }
   ],
   "source": [
    "win_level_16"
   ]
  },
  {
   "cell_type": "code",
   "execution_count": 293,
   "id": "e8464fdc",
   "metadata": {},
   "outputs": [],
   "source": [
    "# сохранение значений количества игроков, воспользовавшихся бустером, количества проигравших игроков \n",
    "# и количества всех игроков\n",
    "level_16_booster = win_level_16.query('win == \"VICTORY_WITH_BOOSTER\"').amount_of_users.sum()\n",
    "level_16_fail = win_level_16.query('(win == \"DEFEAT_WITH_BOOSTER\") | (win == \"DEFEAT\")').amount_of_users.sum()\n",
    "level_16_all = win_level_16.amount_of_users.sum()"
   ]
  },
  {
   "cell_type": "code",
   "execution_count": 294,
   "id": "da1d7dc5",
   "metadata": {},
   "outputs": [
    {
     "data": {
      "text/plain": [
       "8.38"
      ]
     },
     "execution_count": 294,
     "metadata": {},
     "output_type": "execute_result"
    }
   ],
   "source": [
    "round(level_16_booster / level_16_all * 100, 2)"
   ]
  },
  {
   "cell_type": "code",
   "execution_count": 295,
   "id": "637590c9",
   "metadata": {},
   "outputs": [
    {
     "data": {
      "text/plain": [
       "1.2"
      ]
     },
     "execution_count": 295,
     "metadata": {},
     "output_type": "execute_result"
    }
   ],
   "source": [
    "round(level_16_fail / level_16_all * 100, 2)"
   ]
  },
  {
   "cell_type": "markdown",
   "id": "6742a43b",
   "metadata": {},
   "source": [
    "8.38% игроков воспользвались бустером для прохождения данного уровня. 1.2% игроков завершили данный уровень поражением."
   ]
  },
  {
   "cell_type": "code",
   "execution_count": 296,
   "id": "aa79d42a",
   "metadata": {},
   "outputs": [
    {
     "data": {
      "text/plain": [
       "count     0.30\n",
       "mean     65.58\n",
       "std      37.75\n",
       "min      31.73\n",
       "25%      47.42\n",
       "50%      57.35\n",
       "75%      72.63\n",
       "max     363.11\n",
       "Name: time, dtype: float64"
      ]
     },
     "execution_count": 296,
     "metadata": {},
     "output_type": "execute_result"
    }
   ],
   "source": [
    "# просмотр описательных статистик времени прохождения данного уровня\n",
    "# перевод времени в секунды\n",
    "round(start_levels.query('levelLoop == 12') \\\n",
    "    .time.describe() / 1000, 2)"
   ]
  },
  {
   "cell_type": "markdown",
   "id": "7fc3e5ff",
   "metadata": {},
   "source": [
    "Медианное время прохождения уровня - стандартное (около 1 минуты)."
   ]
  },
  {
   "cell_type": "code",
   "execution_count": 297,
   "id": "3a8ccd2a",
   "metadata": {},
   "outputs": [],
   "source": [
    "# отбор всех игроков, (не)прошедших данный уровень\n",
    "users_16 = start_levels.query('levelLoop == 16') \\\n",
    "    .user_id.unique().tolist()"
   ]
  },
  {
   "cell_type": "code",
   "execution_count": 298,
   "id": "9c083e03",
   "metadata": {},
   "outputs": [
    {
     "name": "stdout",
     "output_type": "stream",
     "text": [
      "Продолжили игру 165 игроков\n",
      "Прервал игру 1 игрок\n"
     ]
    }
   ],
   "source": [
    "# продолжили пользователи игру после прохождения 16-го уровня или нет\n",
    "continued = 0\n",
    "fail = 0\n",
    "for i in users_16:\n",
    "    work_state = start_levels[(start_levels.user_id == i) & (start_levels.levelLoop == 16)].level_y.unique().tolist()\n",
    "    max_state = start_levels[start_levels.user_id == i].level_y.max()\n",
    "    if work_state < max_state:\n",
    "        continued += 1\n",
    "    else:\n",
    "        fail += 1\n",
    "        \n",
    "print('Продолжили игру ' + str(continued) + ' игроков')\n",
    "print('Прервал игру ' + str(fail) + ' игрок')"
   ]
  },
  {
   "cell_type": "code",
   "execution_count": 299,
   "id": "d893adde",
   "metadata": {},
   "outputs": [],
   "source": [
    "# сохранение значения количества игроков, закончивших прохождение 16 уровня, в переменную finish_16\n",
    "finish_16 = start_levels.query('levelLoop == 16').shape[0]"
   ]
  },
  {
   "cell_type": "code",
   "execution_count": 300,
   "id": "17ea6060",
   "metadata": {},
   "outputs": [
    {
     "data": {
      "text/plain": [
       "167"
      ]
     },
     "execution_count": 300,
     "metadata": {},
     "output_type": "execute_result"
    }
   ],
   "source": [
    "finish_16"
   ]
  },
  {
   "cell_type": "code",
   "execution_count": 301,
   "id": "ec380c14",
   "metadata": {},
   "outputs": [
    {
     "data": {
      "text/plain": [
       "0.6"
      ]
     },
     "execution_count": 301,
     "metadata": {},
     "output_type": "execute_result"
    }
   ],
   "source": [
    "# расчёт доли игроков, прервавших игру после прохождения данного уровня\n",
    "round(fail / finish_16 * 100, 2)"
   ]
  },
  {
   "cell_type": "markdown",
   "id": "c1fd8c94",
   "metadata": {},
   "source": [
    "После прохождения данного уровня 0.6% игроков прервало игру."
   ]
  },
  {
   "cell_type": "code",
   "execution_count": 302,
   "id": "bb35d316",
   "metadata": {},
   "outputs": [],
   "source": [
    "# сохранение значения количества игроков, начавших прохождение 16 уровня, в переменную start_16\n",
    "start_16 = start.query('levelLoop == 16').shape[0]"
   ]
  },
  {
   "cell_type": "code",
   "execution_count": 303,
   "id": "17f19f7a",
   "metadata": {},
   "outputs": [
    {
     "data": {
      "text/plain": [
       "173"
      ]
     },
     "execution_count": 303,
     "metadata": {},
     "output_type": "execute_result"
    }
   ],
   "source": [
    "start_16"
   ]
  },
  {
   "cell_type": "code",
   "execution_count": 304,
   "id": "95416e52",
   "metadata": {},
   "outputs": [
    {
     "data": {
      "text/plain": [
       "3.47"
      ]
     },
     "execution_count": 304,
     "metadata": {},
     "output_type": "execute_result"
    }
   ],
   "source": [
    "# нахождение доли пользователей, прервавших прохождение уровня\n",
    "round((start_16 - finish_16) / start_16 * 100, 2)"
   ]
  },
  {
   "cell_type": "markdown",
   "id": "c2dc0b9f",
   "metadata": {},
   "source": [
    "3.47% пользователей прервало прохождение уровня."
   ]
  },
  {
   "cell_type": "markdown",
   "id": "6b00ec97",
   "metadata": {},
   "source": [
    "Уровень 16 является хорошим, т.к.:\n",
    "- 98.8% игроков успешно прошли данный уровень\n",
    "- после прохождения данного уровня 0.6% игроков прервало игру"
   ]
  },
  {
   "cell_type": "markdown",
   "id": "9d045891",
   "metadata": {},
   "source": [
    "### Уровень 8"
   ]
  },
  {
   "cell_type": "code",
   "execution_count": 305,
   "id": "bd9e20a5",
   "metadata": {},
   "outputs": [],
   "source": [
    "# подсчет количества пользователей, (не)прошедших уровень 8\n",
    "win_level_8 = start_levels.query('levelLoop == 8') \\\n",
    "    .groupby(['win', 'stars'], as_index=False) \\\n",
    "    .agg({'user_id':'count'}) \\\n",
    "    .rename(columns={'user_id':'amount_of_users'})"
   ]
  },
  {
   "cell_type": "code",
   "execution_count": 306,
   "id": "b2f70816",
   "metadata": {},
   "outputs": [
    {
     "data": {
      "text/html": [
       "<div>\n",
       "<style scoped>\n",
       "    .dataframe tbody tr th:only-of-type {\n",
       "        vertical-align: middle;\n",
       "    }\n",
       "\n",
       "    .dataframe tbody tr th {\n",
       "        vertical-align: top;\n",
       "    }\n",
       "\n",
       "    .dataframe thead th {\n",
       "        text-align: right;\n",
       "    }\n",
       "</style>\n",
       "<table border=\"1\" class=\"dataframe\">\n",
       "  <thead>\n",
       "    <tr style=\"text-align: right;\">\n",
       "      <th></th>\n",
       "      <th>win</th>\n",
       "      <th>stars</th>\n",
       "      <th>amount_of_users</th>\n",
       "    </tr>\n",
       "  </thead>\n",
       "  <tbody>\n",
       "    <tr>\n",
       "      <th>0</th>\n",
       "      <td>DEFEAT</td>\n",
       "      <td>0</td>\n",
       "      <td>1</td>\n",
       "    </tr>\n",
       "    <tr>\n",
       "      <th>1</th>\n",
       "      <td>VICTORY</td>\n",
       "      <td>1</td>\n",
       "      <td>66</td>\n",
       "    </tr>\n",
       "    <tr>\n",
       "      <th>2</th>\n",
       "      <td>VICTORY</td>\n",
       "      <td>2</td>\n",
       "      <td>171</td>\n",
       "    </tr>\n",
       "    <tr>\n",
       "      <th>3</th>\n",
       "      <td>VICTORY</td>\n",
       "      <td>3</td>\n",
       "      <td>34</td>\n",
       "    </tr>\n",
       "    <tr>\n",
       "      <th>4</th>\n",
       "      <td>VICTORY</td>\n",
       "      <td>4</td>\n",
       "      <td>2</td>\n",
       "    </tr>\n",
       "    <tr>\n",
       "      <th>5</th>\n",
       "      <td>VICTORY_WITH_BOOSTER</td>\n",
       "      <td>1</td>\n",
       "      <td>8</td>\n",
       "    </tr>\n",
       "    <tr>\n",
       "      <th>6</th>\n",
       "      <td>VICTORY_WITH_BOOSTER</td>\n",
       "      <td>2</td>\n",
       "      <td>14</td>\n",
       "    </tr>\n",
       "    <tr>\n",
       "      <th>7</th>\n",
       "      <td>VICTORY_WITH_BOOSTER</td>\n",
       "      <td>3</td>\n",
       "      <td>6</td>\n",
       "    </tr>\n",
       "  </tbody>\n",
       "</table>\n",
       "</div>"
      ],
      "text/plain": [
       "                    win  stars  amount_of_users\n",
       "0                DEFEAT      0                1\n",
       "1               VICTORY      1               66\n",
       "2               VICTORY      2              171\n",
       "3               VICTORY      3               34\n",
       "4               VICTORY      4                2\n",
       "5  VICTORY_WITH_BOOSTER      1                8\n",
       "6  VICTORY_WITH_BOOSTER      2               14\n",
       "7  VICTORY_WITH_BOOSTER      3                6"
      ]
     },
     "execution_count": 306,
     "metadata": {},
     "output_type": "execute_result"
    }
   ],
   "source": [
    "win_level_8"
   ]
  },
  {
   "cell_type": "code",
   "execution_count": 307,
   "id": "e6090b17",
   "metadata": {},
   "outputs": [],
   "source": [
    "# сохранение значений количества игроков, воспользовавшихся бустером, количества проигравших игроков \n",
    "# и количества всех игроков\n",
    "level_8_booster = win_level_8.query('win == \"VICTORY_WITH_BOOSTER\"').amount_of_users.sum()\n",
    "level_8_fail = win_level_8.query('(win == \"DEFEAT_WITH_BOOSTER\") | (win == \"DEFEAT\")').amount_of_users.sum()\n",
    "level_8_all = win_level_8.amount_of_users.sum()"
   ]
  },
  {
   "cell_type": "code",
   "execution_count": 308,
   "id": "dc2e20a4",
   "metadata": {},
   "outputs": [
    {
     "data": {
      "text/plain": [
       "9.27"
      ]
     },
     "execution_count": 308,
     "metadata": {},
     "output_type": "execute_result"
    }
   ],
   "source": [
    "round(level_8_booster / level_8_all * 100, 2)"
   ]
  },
  {
   "cell_type": "code",
   "execution_count": 309,
   "id": "86249ceb",
   "metadata": {},
   "outputs": [
    {
     "data": {
      "text/plain": [
       "0.33"
      ]
     },
     "execution_count": 309,
     "metadata": {},
     "output_type": "execute_result"
    }
   ],
   "source": [
    "round(level_8_fail / level_8_all * 100, 2)"
   ]
  },
  {
   "cell_type": "markdown",
   "id": "a4d50fdf",
   "metadata": {},
   "source": [
    "9.27% игроков воспользвались бустером для прохождения данного уровня. 0.33% игроков завершили данный уровень поражением."
   ]
  },
  {
   "cell_type": "code",
   "execution_count": 310,
   "id": "901af771",
   "metadata": {},
   "outputs": [
    {
     "data": {
      "text/plain": [
       "count      0.30\n",
       "mean      98.55\n",
       "std      342.16\n",
       "min       16.60\n",
       "25%       53.31\n",
       "50%       64.21\n",
       "75%       82.38\n",
       "max     5392.29\n",
       "Name: time, dtype: float64"
      ]
     },
     "execution_count": 310,
     "metadata": {},
     "output_type": "execute_result"
    }
   ],
   "source": [
    "# просмотр описательных статистик времени прохождения данного уровня\n",
    "# перевод времени в секунды\n",
    "round(start_levels.query('levelLoop == 8') \\\n",
    "    .time.describe() / 1000, 2)"
   ]
  },
  {
   "cell_type": "markdown",
   "id": "665e73ff",
   "metadata": {},
   "source": [
    "Медианное время прохождения уровня - 64 секунды - соотвествует стандартному (60 секунд)."
   ]
  },
  {
   "cell_type": "code",
   "execution_count": 311,
   "id": "35b95023",
   "metadata": {},
   "outputs": [],
   "source": [
    "# отбор всех игроков, (не)прошедших данный уровень\n",
    "users_8 = start_levels.query('levelLoop == 8') \\\n",
    "    .user_id.unique().tolist()"
   ]
  },
  {
   "cell_type": "code",
   "execution_count": 312,
   "id": "d858c1c7",
   "metadata": {},
   "outputs": [
    {
     "name": "stdout",
     "output_type": "stream",
     "text": [
      "Продолжили игру 298 игроков\n",
      "Прервали игру 4 игрока\n"
     ]
    }
   ],
   "source": [
    "# продолжили пользователи игру после прохождения 8-го уровня или нет\n",
    "continued = 0\n",
    "fail = 0\n",
    "for i in users_8:\n",
    "    work_state = start_levels[(start_levels.user_id == i) & (start_levels.levelLoop == 8)].level_y.tolist()\n",
    "    max_state = start_levels[start_levels.user_id == i].level_y.max()\n",
    "    if work_state < max_state:\n",
    "        continued += 1\n",
    "    else:\n",
    "        fail += 1\n",
    "        \n",
    "print('Продолжили игру ' + str(continued) + ' игроков')\n",
    "print('Прервали игру ' + str(fail) + ' игрока')"
   ]
  },
  {
   "cell_type": "code",
   "execution_count": 313,
   "id": "37fc5223",
   "metadata": {},
   "outputs": [],
   "source": [
    "# сохранение значения количества игроков, закончивших прохождение 8 уровня, в переменную finish_8\n",
    "finish_8 = start_levels.query('levelLoop == 8').shape[0]"
   ]
  },
  {
   "cell_type": "code",
   "execution_count": 314,
   "id": "b09b0169",
   "metadata": {},
   "outputs": [
    {
     "data": {
      "text/plain": [
       "302"
      ]
     },
     "execution_count": 314,
     "metadata": {},
     "output_type": "execute_result"
    }
   ],
   "source": [
    "finish_8"
   ]
  },
  {
   "cell_type": "code",
   "execution_count": 315,
   "id": "6fda7a12",
   "metadata": {},
   "outputs": [
    {
     "data": {
      "text/plain": [
       "1.32"
      ]
     },
     "execution_count": 315,
     "metadata": {},
     "output_type": "execute_result"
    }
   ],
   "source": [
    "# расчёт доли игроков, прервавших игру после прохождения данного уровня\n",
    "round(fail / finish_8 * 100, 2)"
   ]
  },
  {
   "cell_type": "markdown",
   "id": "ae88153c",
   "metadata": {},
   "source": [
    "После прохождения данного уровня 1.32% игроков прервало игру."
   ]
  },
  {
   "cell_type": "code",
   "execution_count": 316,
   "id": "498c736b",
   "metadata": {},
   "outputs": [],
   "source": [
    "# сохранение значения количества игроков, начавших прохождение 8 уровня, в переменную start_8\n",
    "start_8 = start.query('levelLoop == 8').shape[0]"
   ]
  },
  {
   "cell_type": "code",
   "execution_count": 317,
   "id": "7d7ea65d",
   "metadata": {},
   "outputs": [
    {
     "data": {
      "text/plain": [
       "306"
      ]
     },
     "execution_count": 317,
     "metadata": {},
     "output_type": "execute_result"
    }
   ],
   "source": [
    "start_8"
   ]
  },
  {
   "cell_type": "code",
   "execution_count": 318,
   "id": "8a097eb3",
   "metadata": {},
   "outputs": [
    {
     "data": {
      "text/plain": [
       "1.31"
      ]
     },
     "execution_count": 318,
     "metadata": {},
     "output_type": "execute_result"
    }
   ],
   "source": [
    "# нахождение доли пользователей, прервавших прохождение уровня\n",
    "round((start_8 - finish_8) / start_8 * 100, 2)"
   ]
  },
  {
   "cell_type": "markdown",
   "id": "d99796ee",
   "metadata": {},
   "source": [
    "1.31% игроков прервал прохождение уровня"
   ]
  },
  {
   "cell_type": "markdown",
   "id": "25fd616a",
   "metadata": {},
   "source": [
    "Уровень 8 является хорошим, т.к.:\n",
    "- 99.66% игроков успешно прошли данный уровень (результат - победа)\n",
    "- доля игроков, не закончивших прохождение уровня или прервавших игру, незначительна"
   ]
  }
 ],
 "metadata": {
  "kernelspec": {
   "display_name": "Python 3 (ipykernel)",
   "language": "python",
   "name": "python3"
  },
  "language_info": {
   "codemirror_mode": {
    "name": "ipython",
    "version": 3
   },
   "file_extension": ".py",
   "mimetype": "text/x-python",
   "name": "python",
   "nbconvert_exporter": "python",
   "pygments_lexer": "ipython3",
   "version": "3.8.2"
  }
 },
 "nbformat": 4,
 "nbformat_minor": 5
}
